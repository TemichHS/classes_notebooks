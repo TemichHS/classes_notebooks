{
 "cells": [
  {
   "cell_type": "code",
   "execution_count": 8,
   "id": "f95ead70",
   "metadata": {},
   "outputs": [],
   "source": [
    "import numpy as np\n",
    "import pandas as pd\n",
    "import matplotlib.pyplot as plt\n",
    "import seaborn as sns\n",
    "import scipy.stats as stats\n",
    "import random\n",
    "from tqdm import tqdm"
   ]
  },
  {
   "cell_type": "markdown",
   "id": "2e0b1200",
   "metadata": {},
   "source": [
    "На заводе по производству роботов-пылесосов ЧП! От клиентов стали массово поступать жалобы, что пылесосы выходят из-под контроля хозяев и отказываются завершать уборку. В попытках отыскать причину дефекта инженеры обратили внимание на тот факт, что выходят из строя только роботы-пылесосы, произведённые на новом станке. Сравнив несколько пылесосов с нового и старого станка, инженеры обнаружили разницу в среднем количестве шпунтиков внутри пылесосов. А, как известно, количество шпунтиков как раз и определяет послушность роботов. Чем их больше, тем более непослушный пылесос.\n",
    "Вот данные, которые получили инженеры:\n",
    "\n",
    "    среднее количество шпунтиков у пылесосов с нового станка xˉ1=1240,\n",
    "    среднее количество шпунтиков у пылесосов со старого станка xˉ2=1203,\n",
    "    стандартное отклонение количества шпунтиков у пылесосов с нового станка s1=314,\n",
    "    стандартное отклонение количества шпунтиков у пылесосов со старого станка s2=319,\n",
    "    количество пылесосов в каждой выборке n=600.\n",
    "\n",
    "Проверьте, есть ли статистически значимые различия в количестве шпунтиков у пылесосов, произведённых на двух станках. \n",
    "\n",
    "    H0: μ1−μ2=0,\n",
    "    H1: μ1−μ2≠0."
   ]
  },
  {
   "cell_type": "code",
   "execution_count": 3,
   "id": "69b598de",
   "metadata": {},
   "outputs": [],
   "source": [
    "mean1 = 1240\n",
    "mean2 = 1203\n",
    "sd1 = 314\n",
    "sd2 = 319\n",
    "n1 = 600\n",
    "n2 = n1"
   ]
  },
  {
   "cell_type": "markdown",
   "id": "b5076709",
   "metadata": {},
   "source": [
    "**scipy.stats.ttest_ind** принимает в себя два массива данных, а не уже посчитанные выборочные средние и стандартные отклонения, поэтому сгенерирует данные для нашей задачи.\n"
   ]
  },
  {
   "cell_type": "code",
   "execution_count": 53,
   "id": "460dabf4",
   "metadata": {
    "scrolled": true
   },
   "outputs": [
    {
     "data": {
      "text/plain": [
       "(1238.98, 313.61621918091754)"
      ]
     },
     "execution_count": 53,
     "metadata": {},
     "output_type": "execute_result"
    }
   ],
   "source": [
    "# станок номер 1\n",
    "\n",
    "stanok1 = np.random.normal(mean1, sd1, n1).astype(int)\n",
    "stanok1.mean(), np.std(stanok1)"
   ]
  },
  {
   "cell_type": "code",
   "execution_count": 111,
   "id": "1db21461",
   "metadata": {},
   "outputs": [
    {
     "data": {
      "text/plain": [
       "(1206.23, 320.74198940373657)"
      ]
     },
     "execution_count": 111,
     "metadata": {},
     "output_type": "execute_result"
    }
   ],
   "source": [
    "# станок номер 2\n",
    "\n",
    "stanok2 = np.random.normal(mean2, sd2, n2).astype(int)\n",
    "stanok2.mean(), np.std(stanok2)"
   ]
  },
  {
   "cell_type": "code",
   "execution_count": 171,
   "id": "ef22662e",
   "metadata": {},
   "outputs": [
    {
     "data": {
      "text/plain": [
       "Ttest_indResult(statistic=2.8692347721505573, pvalue=0.004186894165039855)"
      ]
     },
     "execution_count": 171,
     "metadata": {},
     "output_type": "execute_result"
    }
   ],
   "source": [
    "stats.ttest_ind(np.random.normal(mean1, sd1, n1), \\\n",
    "                np.random.normal(mean2, sd2, n2))"
   ]
  },
  {
   "cell_type": "code",
   "execution_count": 130,
   "id": "e56355bd",
   "metadata": {},
   "outputs": [
    {
     "data": {
      "text/plain": [
       "Ttest_indResult(statistic=1.7868074360906638, pvalue=0.07422152137175585)"
      ]
     },
     "execution_count": 130,
     "metadata": {},
     "output_type": "execute_result"
    }
   ],
   "source": [
    "stats.ttest_ind(stanok1, stanok2, equal_var=False)\n",
    "\n",
    "# этот вариант скорее всего правильней, тк у двух станков может быть разная дисперсия"
   ]
  },
  {
   "cell_type": "markdown",
   "id": "b37e44bd",
   "metadata": {},
   "source": [
    "Принимаем нулевую гипотезу об отсутствии разницы в количестве шпунтиков в роботах с двух разных станков."
   ]
  },
  {
   "cell_type": "code",
   "execution_count": null,
   "id": "df7a7d59",
   "metadata": {},
   "outputs": [],
   "source": []
  },
  {
   "cell_type": "markdown",
   "id": "72ad6e64",
   "metadata": {},
   "source": [
    "Решение неверное из-за того, что после генерации выборок почему-то менялось среднее и стандартное отклонение. Если посчитать т-статистику вручную (посчитано ниже), то p-value окажется меньше уровня значимости, и вывод будет таков, что действительно имеются статистически значимые различия в количестве шпунтиков у роботов с разных станков."
   ]
  },
  {
   "cell_type": "code",
   "execution_count": 172,
   "id": "ed6bb074",
   "metadata": {},
   "outputs": [
    {
     "data": {
      "text/plain": [
       "2.024767163776985"
      ]
     },
     "execution_count": 172,
     "metadata": {},
     "output_type": "execute_result"
    }
   ],
   "source": [
    "t = (mean1 - mean2) / ((sd1**2 / n1) + (sd2**2 / n2))**0.5\n",
    "t\n",
    "\n",
    "# df будет равно 1198, а p-value = 0.042"
   ]
  },
  {
   "cell_type": "code",
   "execution_count": null,
   "id": "9ef1446c",
   "metadata": {},
   "outputs": [],
   "source": []
  },
  {
   "cell_type": "code",
   "execution_count": null,
   "id": "b465ac80",
   "metadata": {},
   "outputs": [],
   "source": []
  },
  {
   "cell_type": "code",
   "execution_count": null,
   "id": "cdfb403b",
   "metadata": {},
   "outputs": [],
   "source": []
  },
  {
   "cell_type": "code",
   "execution_count": null,
   "id": "38704182",
   "metadata": {},
   "outputs": [],
   "source": []
  }
 ],
 "metadata": {
  "kernelspec": {
   "display_name": "Python 3 (ipykernel)",
   "language": "python",
   "name": "python3"
  },
  "language_info": {
   "codemirror_mode": {
    "name": "ipython",
    "version": 3
   },
   "file_extension": ".py",
   "mimetype": "text/x-python",
   "name": "python",
   "nbconvert_exporter": "python",
   "pygments_lexer": "ipython3",
   "version": "3.11.2"
  }
 },
 "nbformat": 4,
 "nbformat_minor": 5
}
