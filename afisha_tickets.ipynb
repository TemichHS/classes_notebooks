{
 "cells": [
  {
   "cell_type": "code",
   "execution_count": 282,
   "id": "d7009512",
   "metadata": {},
   "outputs": [],
   "source": [
    "import numpy as np\n",
    "import pandas as pd\n",
    "import matplotlib.pyplot as plt\n",
    "import seaborn as sns\n",
    "import math\n",
    "import plotly.express as px\n",
    "\n",
    "%matplotlib inline"
   ]
  },
  {
   "cell_type": "code",
   "execution_count": 76,
   "id": "e4ea04db",
   "metadata": {},
   "outputs": [],
   "source": [
    "df = pd.read_csv('cinema_successful_orders.csv', sep=';')"
   ]
  },
  {
   "cell_type": "code",
   "execution_count": 3,
   "id": "b2f7c594",
   "metadata": {},
   "outputs": [],
   "source": [
    "pd.set_option('display.max_columns', None)"
   ]
  },
  {
   "cell_type": "code",
   "execution_count": 4,
   "id": "41f238e4",
   "metadata": {},
   "outputs": [
    {
     "data": {
      "text/html": [
       "<div>\n",
       "<style scoped>\n",
       "    .dataframe tbody tr th:only-of-type {\n",
       "        vertical-align: middle;\n",
       "    }\n",
       "\n",
       "    .dataframe tbody tr th {\n",
       "        vertical-align: top;\n",
       "    }\n",
       "\n",
       "    .dataframe thead th {\n",
       "        text-align: right;\n",
       "    }\n",
       "</style>\n",
       "<table border=\"1\" class=\"dataframe\">\n",
       "  <thead>\n",
       "    <tr style=\"text-align: right;\">\n",
       "      <th></th>\n",
       "      <th>order_id</th>\n",
       "      <th>creation_date</th>\n",
       "      <th>session_date</th>\n",
       "      <th>movie_id</th>\n",
       "      <th>movie_name</th>\n",
       "      <th>movie_duration</th>\n",
       "      <th>movie_age_restriction</th>\n",
       "      <th>movie_rating</th>\n",
       "      <th>genre_is_triller</th>\n",
       "      <th>genre_is_military</th>\n",
       "      <th>genre_is_action</th>\n",
       "      <th>genre_is_biographical</th>\n",
       "      <th>genre_is_fairy_tale</th>\n",
       "      <th>genre_is_science</th>\n",
       "      <th>genre_is_fantasy</th>\n",
       "      <th>genre_is_historical</th>\n",
       "      <th>genre_is_drama</th>\n",
       "      <th>genre_is_animation</th>\n",
       "      <th>genre_is_cartoon</th>\n",
       "      <th>genre_is_documentary</th>\n",
       "      <th>genre_is_adventure</th>\n",
       "      <th>genre_is_fiction</th>\n",
       "      <th>genre_is_childish</th>\n",
       "      <th>genre_is_horror</th>\n",
       "      <th>genre_is_humor</th>\n",
       "      <th>genre_is_western</th>\n",
       "      <th>genre_is_noir</th>\n",
       "      <th>genre_is_detective</th>\n",
       "      <th>genre_is_biography</th>\n",
       "      <th>genre_is_criminal</th>\n",
       "      <th>genre_is_tragicomedy</th>\n",
       "      <th>genre_is_biopic</th>\n",
       "      <th>genre_is_mystic</th>\n",
       "      <th>genre_is_family</th>\n",
       "      <th>genre_is_comedy</th>\n",
       "      <th>genre_is_arthouse</th>\n",
       "      <th>number_of_tickets</th>\n",
       "      <th>places</th>\n",
       "      <th>sales_in_cu</th>\n",
       "      <th>ticket_price_in_cu</th>\n",
       "      <th>cinema_name</th>\n",
       "      <th>cinema_address</th>\n",
       "      <th>cinema_latitude</th>\n",
       "      <th>cinema_longitude</th>\n",
       "      <th>cinema_city</th>\n",
       "      <th>client_id</th>\n",
       "    </tr>\n",
       "  </thead>\n",
       "  <tbody>\n",
       "    <tr>\n",
       "      <th>0</th>\n",
       "      <td>2441412</td>\n",
       "      <td>2020-03-07</td>\n",
       "      <td>2020-03-07</td>\n",
       "      <td>32452</td>\n",
       "      <td>Маленькие женщины</td>\n",
       "      <td>135</td>\n",
       "      <td>12+</td>\n",
       "      <td>7,7</td>\n",
       "      <td>0,0</td>\n",
       "      <td>0,0</td>\n",
       "      <td>0,0</td>\n",
       "      <td>0,0</td>\n",
       "      <td>0,0</td>\n",
       "      <td>0,0</td>\n",
       "      <td>0,0</td>\n",
       "      <td>0,0</td>\n",
       "      <td>1,0</td>\n",
       "      <td>0,0</td>\n",
       "      <td>0,0</td>\n",
       "      <td>0,0</td>\n",
       "      <td>0,0</td>\n",
       "      <td>0,0</td>\n",
       "      <td>0,0</td>\n",
       "      <td>0,0</td>\n",
       "      <td>0,0</td>\n",
       "      <td>0,0</td>\n",
       "      <td>0,0</td>\n",
       "      <td>0,0</td>\n",
       "      <td>0,0</td>\n",
       "      <td>0,0</td>\n",
       "      <td>0,0</td>\n",
       "      <td>0,0</td>\n",
       "      <td>0,0</td>\n",
       "      <td>1,0</td>\n",
       "      <td>0,0</td>\n",
       "      <td>0,0</td>\n",
       "      <td>2</td>\n",
       "      <td>ряд 5, место 6, ряд 5, место 5</td>\n",
       "      <td>63,29113924050633</td>\n",
       "      <td>31,645569620253166</td>\n",
       "      <td>Каро 10 Щука</td>\n",
       "      <td>ул. Щукинская, д. 42</td>\n",
       "      <td>55.809469</td>\n",
       "      <td>37.464571</td>\n",
       "      <td>Москва</td>\n",
       "      <td>12419121665619114461</td>\n",
       "    </tr>\n",
       "    <tr>\n",
       "      <th>1</th>\n",
       "      <td>2169133</td>\n",
       "      <td>2020-02-03</td>\n",
       "      <td>2020-02-04</td>\n",
       "      <td>32452</td>\n",
       "      <td>Маленькие женщины</td>\n",
       "      <td>135</td>\n",
       "      <td>12+</td>\n",
       "      <td>7,7</td>\n",
       "      <td>0,0</td>\n",
       "      <td>0,0</td>\n",
       "      <td>0,0</td>\n",
       "      <td>0,0</td>\n",
       "      <td>0,0</td>\n",
       "      <td>0,0</td>\n",
       "      <td>0,0</td>\n",
       "      <td>0,0</td>\n",
       "      <td>1,0</td>\n",
       "      <td>0,0</td>\n",
       "      <td>0,0</td>\n",
       "      <td>0,0</td>\n",
       "      <td>0,0</td>\n",
       "      <td>0,0</td>\n",
       "      <td>0,0</td>\n",
       "      <td>0,0</td>\n",
       "      <td>0,0</td>\n",
       "      <td>0,0</td>\n",
       "      <td>0,0</td>\n",
       "      <td>0,0</td>\n",
       "      <td>0,0</td>\n",
       "      <td>0,0</td>\n",
       "      <td>0,0</td>\n",
       "      <td>0,0</td>\n",
       "      <td>0,0</td>\n",
       "      <td>1,0</td>\n",
       "      <td>0,0</td>\n",
       "      <td>0,0</td>\n",
       "      <td>4</td>\n",
       "      <td>ряд 15, место 31, ряд 15, место 32, ряд 15, ме...</td>\n",
       "      <td>189,873417721519</td>\n",
       "      <td>47,46835443037975</td>\n",
       "      <td>Каро 11 Октябрь</td>\n",
       "      <td>ул. Новый Арбат, д. 24</td>\n",
       "      <td>55.753338</td>\n",
       "      <td>37.587615</td>\n",
       "      <td>Москва</td>\n",
       "      <td>8470824369879098013</td>\n",
       "    </tr>\n",
       "    <tr>\n",
       "      <th>2</th>\n",
       "      <td>2187694</td>\n",
       "      <td>2020-02-06</td>\n",
       "      <td>2020-02-06</td>\n",
       "      <td>32452</td>\n",
       "      <td>Маленькие женщины</td>\n",
       "      <td>135</td>\n",
       "      <td>12+</td>\n",
       "      <td>7,7</td>\n",
       "      <td>0,0</td>\n",
       "      <td>0,0</td>\n",
       "      <td>0,0</td>\n",
       "      <td>0,0</td>\n",
       "      <td>0,0</td>\n",
       "      <td>0,0</td>\n",
       "      <td>0,0</td>\n",
       "      <td>0,0</td>\n",
       "      <td>1,0</td>\n",
       "      <td>0,0</td>\n",
       "      <td>0,0</td>\n",
       "      <td>0,0</td>\n",
       "      <td>0,0</td>\n",
       "      <td>0,0</td>\n",
       "      <td>0,0</td>\n",
       "      <td>0,0</td>\n",
       "      <td>0,0</td>\n",
       "      <td>0,0</td>\n",
       "      <td>0,0</td>\n",
       "      <td>0,0</td>\n",
       "      <td>0,0</td>\n",
       "      <td>0,0</td>\n",
       "      <td>0,0</td>\n",
       "      <td>0,0</td>\n",
       "      <td>0,0</td>\n",
       "      <td>1,0</td>\n",
       "      <td>0,0</td>\n",
       "      <td>0,0</td>\n",
       "      <td>2</td>\n",
       "      <td>ряд 8, место 8, ряд 8, место 9</td>\n",
       "      <td>47,46835443037975</td>\n",
       "      <td>23,734177215189874</td>\n",
       "      <td>Ретро</td>\n",
       "      <td>ул. Ленина, д. 41</td>\n",
       "      <td>58.634768</td>\n",
       "      <td>59.783538</td>\n",
       "      <td>Лесной</td>\n",
       "      <td>8691480233029300973</td>\n",
       "    </tr>\n",
       "    <tr>\n",
       "      <th>3</th>\n",
       "      <td>2182225</td>\n",
       "      <td>2020-02-05</td>\n",
       "      <td>2020-02-05</td>\n",
       "      <td>32452</td>\n",
       "      <td>Маленькие женщины</td>\n",
       "      <td>135</td>\n",
       "      <td>12+</td>\n",
       "      <td>7,7</td>\n",
       "      <td>0,0</td>\n",
       "      <td>0,0</td>\n",
       "      <td>0,0</td>\n",
       "      <td>0,0</td>\n",
       "      <td>0,0</td>\n",
       "      <td>0,0</td>\n",
       "      <td>0,0</td>\n",
       "      <td>0,0</td>\n",
       "      <td>1,0</td>\n",
       "      <td>0,0</td>\n",
       "      <td>0,0</td>\n",
       "      <td>0,0</td>\n",
       "      <td>0,0</td>\n",
       "      <td>0,0</td>\n",
       "      <td>0,0</td>\n",
       "      <td>0,0</td>\n",
       "      <td>0,0</td>\n",
       "      <td>0,0</td>\n",
       "      <td>0,0</td>\n",
       "      <td>0,0</td>\n",
       "      <td>0,0</td>\n",
       "      <td>0,0</td>\n",
       "      <td>0,0</td>\n",
       "      <td>0,0</td>\n",
       "      <td>0,0</td>\n",
       "      <td>1,0</td>\n",
       "      <td>0,0</td>\n",
       "      <td>0,0</td>\n",
       "      <td>2</td>\n",
       "      <td>ряд 8, место 6, ряд 8, место 5</td>\n",
       "      <td>47,46835443037975</td>\n",
       "      <td>23,734177215189874</td>\n",
       "      <td>Каро 9 Континент на Звездной</td>\n",
       "      <td>ул. Ленсовета, 97</td>\n",
       "      <td>59.832425</td>\n",
       "      <td>30.348585</td>\n",
       "      <td>Санкт-Петербург</td>\n",
       "      <td>16386655971521120416</td>\n",
       "    </tr>\n",
       "    <tr>\n",
       "      <th>4</th>\n",
       "      <td>2209967</td>\n",
       "      <td>2020-02-08</td>\n",
       "      <td>2020-02-12</td>\n",
       "      <td>32452</td>\n",
       "      <td>Маленькие женщины</td>\n",
       "      <td>135</td>\n",
       "      <td>12+</td>\n",
       "      <td>7,7</td>\n",
       "      <td>0,0</td>\n",
       "      <td>0,0</td>\n",
       "      <td>0,0</td>\n",
       "      <td>0,0</td>\n",
       "      <td>0,0</td>\n",
       "      <td>0,0</td>\n",
       "      <td>0,0</td>\n",
       "      <td>0,0</td>\n",
       "      <td>1,0</td>\n",
       "      <td>0,0</td>\n",
       "      <td>0,0</td>\n",
       "      <td>0,0</td>\n",
       "      <td>0,0</td>\n",
       "      <td>0,0</td>\n",
       "      <td>0,0</td>\n",
       "      <td>0,0</td>\n",
       "      <td>0,0</td>\n",
       "      <td>0,0</td>\n",
       "      <td>0,0</td>\n",
       "      <td>0,0</td>\n",
       "      <td>0,0</td>\n",
       "      <td>0,0</td>\n",
       "      <td>0,0</td>\n",
       "      <td>0,0</td>\n",
       "      <td>0,0</td>\n",
       "      <td>1,0</td>\n",
       "      <td>0,0</td>\n",
       "      <td>0,0</td>\n",
       "      <td>3</td>\n",
       "      <td>ряд 5, место 13, ряд 5, место 12, ряд 5, место 11</td>\n",
       "      <td>132,91139240506328</td>\n",
       "      <td>44,30379746835443</td>\n",
       "      <td>Каро 7 Атриум</td>\n",
       "      <td>ул. Земляной вал, 33</td>\n",
       "      <td>55.757214</td>\n",
       "      <td>37.658941</td>\n",
       "      <td>Москва</td>\n",
       "      <td>9606322045446303245</td>\n",
       "    </tr>\n",
       "  </tbody>\n",
       "</table>\n",
       "</div>"
      ],
      "text/plain": [
       "   order_id creation_date session_date  movie_id         movie_name  \\\n",
       "0   2441412    2020-03-07   2020-03-07     32452  Маленькие женщины   \n",
       "1   2169133    2020-02-03   2020-02-04     32452  Маленькие женщины   \n",
       "2   2187694    2020-02-06   2020-02-06     32452  Маленькие женщины   \n",
       "3   2182225    2020-02-05   2020-02-05     32452  Маленькие женщины   \n",
       "4   2209967    2020-02-08   2020-02-12     32452  Маленькие женщины   \n",
       "\n",
       "  movie_duration movie_age_restriction movie_rating genre_is_triller  \\\n",
       "0            135                   12+          7,7              0,0   \n",
       "1            135                   12+          7,7              0,0   \n",
       "2            135                   12+          7,7              0,0   \n",
       "3            135                   12+          7,7              0,0   \n",
       "4            135                   12+          7,7              0,0   \n",
       "\n",
       "  genre_is_military genre_is_action genre_is_biographical genre_is_fairy_tale  \\\n",
       "0               0,0             0,0                   0,0                 0,0   \n",
       "1               0,0             0,0                   0,0                 0,0   \n",
       "2               0,0             0,0                   0,0                 0,0   \n",
       "3               0,0             0,0                   0,0                 0,0   \n",
       "4               0,0             0,0                   0,0                 0,0   \n",
       "\n",
       "  genre_is_science genre_is_fantasy genre_is_historical genre_is_drama  \\\n",
       "0              0,0              0,0                 0,0            1,0   \n",
       "1              0,0              0,0                 0,0            1,0   \n",
       "2              0,0              0,0                 0,0            1,0   \n",
       "3              0,0              0,0                 0,0            1,0   \n",
       "4              0,0              0,0                 0,0            1,0   \n",
       "\n",
       "  genre_is_animation genre_is_cartoon genre_is_documentary genre_is_adventure  \\\n",
       "0                0,0              0,0                  0,0                0,0   \n",
       "1                0,0              0,0                  0,0                0,0   \n",
       "2                0,0              0,0                  0,0                0,0   \n",
       "3                0,0              0,0                  0,0                0,0   \n",
       "4                0,0              0,0                  0,0                0,0   \n",
       "\n",
       "  genre_is_fiction genre_is_childish genre_is_horror genre_is_humor  \\\n",
       "0              0,0               0,0             0,0            0,0   \n",
       "1              0,0               0,0             0,0            0,0   \n",
       "2              0,0               0,0             0,0            0,0   \n",
       "3              0,0               0,0             0,0            0,0   \n",
       "4              0,0               0,0             0,0            0,0   \n",
       "\n",
       "  genre_is_western genre_is_noir genre_is_detective genre_is_biography  \\\n",
       "0              0,0           0,0                0,0                0,0   \n",
       "1              0,0           0,0                0,0                0,0   \n",
       "2              0,0           0,0                0,0                0,0   \n",
       "3              0,0           0,0                0,0                0,0   \n",
       "4              0,0           0,0                0,0                0,0   \n",
       "\n",
       "  genre_is_criminal genre_is_tragicomedy genre_is_biopic genre_is_mystic  \\\n",
       "0               0,0                  0,0             0,0             0,0   \n",
       "1               0,0                  0,0             0,0             0,0   \n",
       "2               0,0                  0,0             0,0             0,0   \n",
       "3               0,0                  0,0             0,0             0,0   \n",
       "4               0,0                  0,0             0,0             0,0   \n",
       "\n",
       "  genre_is_family genre_is_comedy genre_is_arthouse  number_of_tickets  \\\n",
       "0             1,0             0,0               0,0                  2   \n",
       "1             1,0             0,0               0,0                  4   \n",
       "2             1,0             0,0               0,0                  2   \n",
       "3             1,0             0,0               0,0                  2   \n",
       "4             1,0             0,0               0,0                  3   \n",
       "\n",
       "                                              places         sales_in_cu  \\\n",
       "0                     ряд 5, место 6, ряд 5, место 5   63,29113924050633   \n",
       "1  ряд 15, место 31, ряд 15, место 32, ряд 15, ме...    189,873417721519   \n",
       "2                     ряд 8, место 8, ряд 8, место 9   47,46835443037975   \n",
       "3                     ряд 8, место 6, ряд 8, место 5   47,46835443037975   \n",
       "4  ряд 5, место 13, ряд 5, место 12, ряд 5, место 11  132,91139240506328   \n",
       "\n",
       "   ticket_price_in_cu                   cinema_name          cinema_address  \\\n",
       "0  31,645569620253166                  Каро 10 Щука    ул. Щукинская, д. 42   \n",
       "1   47,46835443037975               Каро 11 Октябрь  ул. Новый Арбат, д. 24   \n",
       "2  23,734177215189874                         Ретро       ул. Ленина, д. 41   \n",
       "3  23,734177215189874  Каро 9 Континент на Звездной       ул. Ленсовета, 97   \n",
       "4   44,30379746835443                 Каро 7 Атриум    ул. Земляной вал, 33   \n",
       "\n",
       "   cinema_latitude  cinema_longitude      cinema_city             client_id  \n",
       "0        55.809469         37.464571           Москва  12419121665619114461  \n",
       "1        55.753338         37.587615           Москва   8470824369879098013  \n",
       "2        58.634768         59.783538           Лесной   8691480233029300973  \n",
       "3        59.832425         30.348585  Санкт-Петербург  16386655971521120416  \n",
       "4        55.757214         37.658941           Москва   9606322045446303245  "
      ]
     },
     "execution_count": 4,
     "metadata": {},
     "output_type": "execute_result"
    }
   ],
   "source": [
    "df.head()"
   ]
  },
  {
   "cell_type": "code",
   "execution_count": 5,
   "id": "9812817a",
   "metadata": {},
   "outputs": [
    {
     "name": "stdout",
     "output_type": "stream",
     "text": [
      "<class 'pandas.core.frame.DataFrame'>\n",
      "RangeIndex: 525271 entries, 0 to 525270\n",
      "Data columns (total 46 columns):\n",
      " #   Column                 Non-Null Count   Dtype  \n",
      "---  ------                 --------------   -----  \n",
      " 0   order_id               525271 non-null  int64  \n",
      " 1   creation_date          525271 non-null  object \n",
      " 2   session_date           525271 non-null  object \n",
      " 3   movie_id               525271 non-null  int64  \n",
      " 4   movie_name             525271 non-null  object \n",
      " 5   movie_duration         521989 non-null  object \n",
      " 6   movie_age_restriction  523648 non-null  object \n",
      " 7   movie_rating           525271 non-null  object \n",
      " 8   genre_is_triller       525188 non-null  object \n",
      " 9   genre_is_military      525188 non-null  object \n",
      " 10  genre_is_action        525188 non-null  object \n",
      " 11  genre_is_biographical  525188 non-null  object \n",
      " 12  genre_is_fairy_tale    525188 non-null  object \n",
      " 13  genre_is_science       525188 non-null  object \n",
      " 14  genre_is_fantasy       525188 non-null  object \n",
      " 15  genre_is_historical    525188 non-null  object \n",
      " 16  genre_is_drama         525188 non-null  object \n",
      " 17  genre_is_animation     525188 non-null  object \n",
      " 18  genre_is_cartoon       525188 non-null  object \n",
      " 19  genre_is_documentary   525188 non-null  object \n",
      " 20  genre_is_adventure     525188 non-null  object \n",
      " 21  genre_is_fiction       525188 non-null  object \n",
      " 22  genre_is_childish      525188 non-null  object \n",
      " 23  genre_is_horror        525188 non-null  object \n",
      " 24  genre_is_humor         525188 non-null  object \n",
      " 25  genre_is_western       525188 non-null  object \n",
      " 26  genre_is_noir          525188 non-null  object \n",
      " 27  genre_is_detective     525188 non-null  object \n",
      " 28  genre_is_biography     525188 non-null  object \n",
      " 29  genre_is_criminal      525188 non-null  object \n",
      " 30  genre_is_tragicomedy   525188 non-null  object \n",
      " 31  genre_is_biopic        525188 non-null  object \n",
      " 32  genre_is_mystic        525188 non-null  object \n",
      " 33  genre_is_family        525188 non-null  object \n",
      " 34  genre_is_comedy        525188 non-null  object \n",
      " 35  genre_is_arthouse      525188 non-null  object \n",
      " 36  number_of_tickets      525271 non-null  int64  \n",
      " 37  places                 525271 non-null  object \n",
      " 38  sales_in_cu            525271 non-null  object \n",
      " 39  ticket_price_in_cu     525271 non-null  object \n",
      " 40  cinema_name            525271 non-null  object \n",
      " 41  cinema_address         525271 non-null  object \n",
      " 42  cinema_latitude        525271 non-null  float64\n",
      " 43  cinema_longitude       525271 non-null  float64\n",
      " 44  cinema_city            525271 non-null  object \n",
      " 45  client_id              525271 non-null  uint64 \n",
      "dtypes: float64(2), int64(3), object(40), uint64(1)\n",
      "memory usage: 184.3+ MB\n"
     ]
    }
   ],
   "source": [
    "df.info()"
   ]
  },
  {
   "cell_type": "code",
   "execution_count": 6,
   "id": "ecaa8dd3",
   "metadata": {},
   "outputs": [],
   "source": [
    "ticket_number = df \\\n",
    "    .groupby('movie_name', as_index=False) \\\n",
    "    .agg({'number_of_tickets': 'sum'}) \\\n",
    "    .sort_values('number_of_tickets', ascending=False)"
   ]
  },
  {
   "cell_type": "code",
   "execution_count": 7,
   "id": "86f244db",
   "metadata": {},
   "outputs": [
    {
     "data": {
      "text/html": [
       "<div>\n",
       "<style scoped>\n",
       "    .dataframe tbody tr th:only-of-type {\n",
       "        vertical-align: middle;\n",
       "    }\n",
       "\n",
       "    .dataframe tbody tr th {\n",
       "        vertical-align: top;\n",
       "    }\n",
       "\n",
       "    .dataframe thead th {\n",
       "        text-align: right;\n",
       "    }\n",
       "</style>\n",
       "<table border=\"1\" class=\"dataframe\">\n",
       "  <thead>\n",
       "    <tr style=\"text-align: right;\">\n",
       "      <th></th>\n",
       "      <th>movie_name</th>\n",
       "      <th>number_of_tickets</th>\n",
       "    </tr>\n",
       "  </thead>\n",
       "  <tbody>\n",
       "    <tr>\n",
       "      <th>413</th>\n",
       "      <td>Джентльмены</td>\n",
       "      <td>162159</td>\n",
       "    </tr>\n",
       "    <tr>\n",
       "      <th>423</th>\n",
       "      <td>Довод</td>\n",
       "      <td>115946</td>\n",
       "    </tr>\n",
       "    <tr>\n",
       "      <th>1134</th>\n",
       "      <td>Холоп</td>\n",
       "      <td>92766</td>\n",
       "    </tr>\n",
       "    <tr>\n",
       "      <th>578</th>\n",
       "      <td>Лёд 2</td>\n",
       "      <td>48773</td>\n",
       "    </tr>\n",
       "    <tr>\n",
       "      <th>19</th>\n",
       "      <td>1917</td>\n",
       "      <td>43243</td>\n",
       "    </tr>\n",
       "    <tr>\n",
       "      <th>...</th>\n",
       "      <td>...</td>\n",
       "      <td>...</td>\n",
       "    </tr>\n",
       "    <tr>\n",
       "      <th>136</th>\n",
       "      <td>RSC: Тимон Афинский</td>\n",
       "      <td>6</td>\n",
       "    </tr>\n",
       "    <tr>\n",
       "      <th>137</th>\n",
       "      <td>Riverdance</td>\n",
       "      <td>6</td>\n",
       "    </tr>\n",
       "    <tr>\n",
       "      <th>777</th>\n",
       "      <td>Новый баухаус: Жизнь и наследие Ласло Мохой-Надя</td>\n",
       "      <td>6</td>\n",
       "    </tr>\n",
       "    <tr>\n",
       "      <th>1108</th>\n",
       "      <td>Феллини. Столетие: Амаркорд</td>\n",
       "      <td>6</td>\n",
       "    </tr>\n",
       "    <tr>\n",
       "      <th>123</th>\n",
       "      <td>ONP балет: Жизель</td>\n",
       "      <td>6</td>\n",
       "    </tr>\n",
       "  </tbody>\n",
       "</table>\n",
       "<p>707 rows × 2 columns</p>\n",
       "</div>"
      ],
      "text/plain": [
       "                                            movie_name  number_of_tickets\n",
       "413                                        Джентльмены             162159\n",
       "423                                              Довод             115946\n",
       "1134                                             Холоп              92766\n",
       "578                                              Лёд 2              48773\n",
       "19                                                1917              43243\n",
       "...                                                ...                ...\n",
       "136                                RSC: Тимон Афинский                  6\n",
       "137                                         Riverdance                  6\n",
       "777   Новый баухаус: Жизнь и наследие Ласло Мохой-Надя                  6\n",
       "1108                       Феллини. Столетие: Амаркорд                  6\n",
       "123                                  ONP балет: Жизель                  6\n",
       "\n",
       "[707 rows x 2 columns]"
      ]
     },
     "execution_count": 7,
     "metadata": {},
     "output_type": "execute_result"
    }
   ],
   "source": [
    "ticket_number[ticket_number['number_of_tickets'] > 5]"
   ]
  },
  {
   "cell_type": "code",
   "execution_count": 9,
   "id": "54b8993d",
   "metadata": {},
   "outputs": [
    {
     "data": {
      "image/png": "[encoded data removed]",
      "text/plain": [
       "<Figure size 600x800 with 1 Axes>"
      ]
     },
     "metadata": {},
     "output_type": "display_data"
    }
   ],
   "source": [
    "plt.figure(figsize=(6, 8))\n",
    "sns.barplot(data=ticket_number[ticket_number['number_of_tickets'] > 5000], y='movie_name', x='number_of_tickets');"
   ]
  },
  {
   "cell_type": "code",
   "execution_count": 576,
   "id": "e4e8e8a9",
   "metadata": {},
   "outputs": [
    {
     "data": {
      "text/plain": [
       "'Джентльмены'"
      ]
     },
     "execution_count": 576,
     "metadata": {},
     "output_type": "execute_result"
    }
   ],
   "source": [
    "df.movie_name.mode()[0]"
   ]
  },
  {
   "cell_type": "code",
   "execution_count": 103,
   "id": "89da3971",
   "metadata": {
    "collapsed": true
   },
   "outputs": [
    {
     "data": {
      "text/html": [
       "<div>\n",
       "<style scoped>\n",
       "    .dataframe tbody tr th:only-of-type {\n",
       "        vertical-align: middle;\n",
       "    }\n",
       "\n",
       "    .dataframe tbody tr th {\n",
       "        vertical-align: top;\n",
       "    }\n",
       "\n",
       "    .dataframe thead th {\n",
       "        text-align: right;\n",
       "    }\n",
       "</style>\n",
       "<table border=\"1\" class=\"dataframe\">\n",
       "  <thead>\n",
       "    <tr style=\"text-align: right;\">\n",
       "      <th></th>\n",
       "      <th>genre_is_triller</th>\n",
       "      <th>genre_is_military</th>\n",
       "      <th>genre_is_action</th>\n",
       "      <th>genre_is_biographical</th>\n",
       "      <th>genre_is_fairy_tale</th>\n",
       "      <th>genre_is_science</th>\n",
       "      <th>genre_is_fantasy</th>\n",
       "      <th>genre_is_historical</th>\n",
       "      <th>genre_is_drama</th>\n",
       "      <th>genre_is_animation</th>\n",
       "      <th>genre_is_cartoon</th>\n",
       "      <th>genre_is_documentary</th>\n",
       "      <th>genre_is_adventure</th>\n",
       "      <th>genre_is_fiction</th>\n",
       "      <th>genre_is_childish</th>\n",
       "      <th>genre_is_horror</th>\n",
       "      <th>genre_is_humor</th>\n",
       "      <th>genre_is_western</th>\n",
       "      <th>genre_is_noir</th>\n",
       "      <th>genre_is_detective</th>\n",
       "      <th>genre_is_biography</th>\n",
       "      <th>genre_is_criminal</th>\n",
       "      <th>genre_is_tragicomedy</th>\n",
       "      <th>genre_is_biopic</th>\n",
       "      <th>genre_is_mystic</th>\n",
       "      <th>genre_is_family</th>\n",
       "      <th>genre_is_comedy</th>\n",
       "      <th>genre_is_arthouse</th>\n",
       "    </tr>\n",
       "  </thead>\n",
       "  <tbody>\n",
       "    <tr>\n",
       "      <th>0</th>\n",
       "      <td>0</td>\n",
       "      <td>0</td>\n",
       "      <td>0</td>\n",
       "      <td>0</td>\n",
       "      <td>0</td>\n",
       "      <td>0</td>\n",
       "      <td>0</td>\n",
       "      <td>0</td>\n",
       "      <td>1</td>\n",
       "      <td>0</td>\n",
       "      <td>0</td>\n",
       "      <td>0</td>\n",
       "      <td>0</td>\n",
       "      <td>0</td>\n",
       "      <td>0</td>\n",
       "      <td>0</td>\n",
       "      <td>0</td>\n",
       "      <td>0</td>\n",
       "      <td>0</td>\n",
       "      <td>0</td>\n",
       "      <td>0</td>\n",
       "      <td>0</td>\n",
       "      <td>0</td>\n",
       "      <td>0</td>\n",
       "      <td>0</td>\n",
       "      <td>1</td>\n",
       "      <td>0</td>\n",
       "      <td>0</td>\n",
       "    </tr>\n",
       "    <tr>\n",
       "      <th>1</th>\n",
       "      <td>0</td>\n",
       "      <td>0</td>\n",
       "      <td>0</td>\n",
       "      <td>0</td>\n",
       "      <td>0</td>\n",
       "      <td>0</td>\n",
       "      <td>0</td>\n",
       "      <td>0</td>\n",
       "      <td>1</td>\n",
       "      <td>0</td>\n",
       "      <td>0</td>\n",
       "      <td>0</td>\n",
       "      <td>0</td>\n",
       "      <td>0</td>\n",
       "      <td>0</td>\n",
       "      <td>0</td>\n",
       "      <td>0</td>\n",
       "      <td>0</td>\n",
       "      <td>0</td>\n",
       "      <td>0</td>\n",
       "      <td>0</td>\n",
       "      <td>0</td>\n",
       "      <td>0</td>\n",
       "      <td>0</td>\n",
       "      <td>0</td>\n",
       "      <td>1</td>\n",
       "      <td>0</td>\n",
       "      <td>0</td>\n",
       "    </tr>\n",
       "    <tr>\n",
       "      <th>2</th>\n",
       "      <td>0</td>\n",
       "      <td>0</td>\n",
       "      <td>0</td>\n",
       "      <td>0</td>\n",
       "      <td>0</td>\n",
       "      <td>0</td>\n",
       "      <td>0</td>\n",
       "      <td>0</td>\n",
       "      <td>1</td>\n",
       "      <td>0</td>\n",
       "      <td>0</td>\n",
       "      <td>0</td>\n",
       "      <td>0</td>\n",
       "      <td>0</td>\n",
       "      <td>0</td>\n",
       "      <td>0</td>\n",
       "      <td>0</td>\n",
       "      <td>0</td>\n",
       "      <td>0</td>\n",
       "      <td>0</td>\n",
       "      <td>0</td>\n",
       "      <td>0</td>\n",
       "      <td>0</td>\n",
       "      <td>0</td>\n",
       "      <td>0</td>\n",
       "      <td>1</td>\n",
       "      <td>0</td>\n",
       "      <td>0</td>\n",
       "    </tr>\n",
       "    <tr>\n",
       "      <th>3</th>\n",
       "      <td>0</td>\n",
       "      <td>0</td>\n",
       "      <td>0</td>\n",
       "      <td>0</td>\n",
       "      <td>0</td>\n",
       "      <td>0</td>\n",
       "      <td>0</td>\n",
       "      <td>0</td>\n",
       "      <td>1</td>\n",
       "      <td>0</td>\n",
       "      <td>0</td>\n",
       "      <td>0</td>\n",
       "      <td>0</td>\n",
       "      <td>0</td>\n",
       "      <td>0</td>\n",
       "      <td>0</td>\n",
       "      <td>0</td>\n",
       "      <td>0</td>\n",
       "      <td>0</td>\n",
       "      <td>0</td>\n",
       "      <td>0</td>\n",
       "      <td>0</td>\n",
       "      <td>0</td>\n",
       "      <td>0</td>\n",
       "      <td>0</td>\n",
       "      <td>1</td>\n",
       "      <td>0</td>\n",
       "      <td>0</td>\n",
       "    </tr>\n",
       "    <tr>\n",
       "      <th>4</th>\n",
       "      <td>0</td>\n",
       "      <td>0</td>\n",
       "      <td>0</td>\n",
       "      <td>0</td>\n",
       "      <td>0</td>\n",
       "      <td>0</td>\n",
       "      <td>0</td>\n",
       "      <td>0</td>\n",
       "      <td>1</td>\n",
       "      <td>0</td>\n",
       "      <td>0</td>\n",
       "      <td>0</td>\n",
       "      <td>0</td>\n",
       "      <td>0</td>\n",
       "      <td>0</td>\n",
       "      <td>0</td>\n",
       "      <td>0</td>\n",
       "      <td>0</td>\n",
       "      <td>0</td>\n",
       "      <td>0</td>\n",
       "      <td>0</td>\n",
       "      <td>0</td>\n",
       "      <td>0</td>\n",
       "      <td>0</td>\n",
       "      <td>0</td>\n",
       "      <td>1</td>\n",
       "      <td>0</td>\n",
       "      <td>0</td>\n",
       "    </tr>\n",
       "    <tr>\n",
       "      <th>...</th>\n",
       "      <td>...</td>\n",
       "      <td>...</td>\n",
       "      <td>...</td>\n",
       "      <td>...</td>\n",
       "      <td>...</td>\n",
       "      <td>...</td>\n",
       "      <td>...</td>\n",
       "      <td>...</td>\n",
       "      <td>...</td>\n",
       "      <td>...</td>\n",
       "      <td>...</td>\n",
       "      <td>...</td>\n",
       "      <td>...</td>\n",
       "      <td>...</td>\n",
       "      <td>...</td>\n",
       "      <td>...</td>\n",
       "      <td>...</td>\n",
       "      <td>...</td>\n",
       "      <td>...</td>\n",
       "      <td>...</td>\n",
       "      <td>...</td>\n",
       "      <td>...</td>\n",
       "      <td>...</td>\n",
       "      <td>...</td>\n",
       "      <td>...</td>\n",
       "      <td>...</td>\n",
       "      <td>...</td>\n",
       "      <td>...</td>\n",
       "    </tr>\n",
       "    <tr>\n",
       "      <th>525266</th>\n",
       "      <td>0</td>\n",
       "      <td>0</td>\n",
       "      <td>1</td>\n",
       "      <td>0</td>\n",
       "      <td>0</td>\n",
       "      <td>0</td>\n",
       "      <td>0</td>\n",
       "      <td>0</td>\n",
       "      <td>0</td>\n",
       "      <td>0</td>\n",
       "      <td>0</td>\n",
       "      <td>0</td>\n",
       "      <td>0</td>\n",
       "      <td>0</td>\n",
       "      <td>0</td>\n",
       "      <td>0</td>\n",
       "      <td>0</td>\n",
       "      <td>0</td>\n",
       "      <td>0</td>\n",
       "      <td>0</td>\n",
       "      <td>0</td>\n",
       "      <td>1</td>\n",
       "      <td>0</td>\n",
       "      <td>0</td>\n",
       "      <td>0</td>\n",
       "      <td>0</td>\n",
       "      <td>0</td>\n",
       "      <td>0</td>\n",
       "    </tr>\n",
       "    <tr>\n",
       "      <th>525267</th>\n",
       "      <td>0</td>\n",
       "      <td>0</td>\n",
       "      <td>1</td>\n",
       "      <td>0</td>\n",
       "      <td>0</td>\n",
       "      <td>0</td>\n",
       "      <td>0</td>\n",
       "      <td>0</td>\n",
       "      <td>0</td>\n",
       "      <td>0</td>\n",
       "      <td>0</td>\n",
       "      <td>0</td>\n",
       "      <td>0</td>\n",
       "      <td>0</td>\n",
       "      <td>0</td>\n",
       "      <td>0</td>\n",
       "      <td>0</td>\n",
       "      <td>0</td>\n",
       "      <td>0</td>\n",
       "      <td>0</td>\n",
       "      <td>0</td>\n",
       "      <td>1</td>\n",
       "      <td>0</td>\n",
       "      <td>0</td>\n",
       "      <td>0</td>\n",
       "      <td>0</td>\n",
       "      <td>0</td>\n",
       "      <td>0</td>\n",
       "    </tr>\n",
       "    <tr>\n",
       "      <th>525268</th>\n",
       "      <td>0</td>\n",
       "      <td>0</td>\n",
       "      <td>1</td>\n",
       "      <td>0</td>\n",
       "      <td>0</td>\n",
       "      <td>0</td>\n",
       "      <td>0</td>\n",
       "      <td>0</td>\n",
       "      <td>0</td>\n",
       "      <td>0</td>\n",
       "      <td>0</td>\n",
       "      <td>0</td>\n",
       "      <td>0</td>\n",
       "      <td>0</td>\n",
       "      <td>0</td>\n",
       "      <td>0</td>\n",
       "      <td>0</td>\n",
       "      <td>0</td>\n",
       "      <td>0</td>\n",
       "      <td>0</td>\n",
       "      <td>0</td>\n",
       "      <td>1</td>\n",
       "      <td>0</td>\n",
       "      <td>0</td>\n",
       "      <td>0</td>\n",
       "      <td>0</td>\n",
       "      <td>0</td>\n",
       "      <td>0</td>\n",
       "    </tr>\n",
       "    <tr>\n",
       "      <th>525269</th>\n",
       "      <td>0</td>\n",
       "      <td>0</td>\n",
       "      <td>1</td>\n",
       "      <td>0</td>\n",
       "      <td>0</td>\n",
       "      <td>0</td>\n",
       "      <td>0</td>\n",
       "      <td>0</td>\n",
       "      <td>0</td>\n",
       "      <td>0</td>\n",
       "      <td>0</td>\n",
       "      <td>0</td>\n",
       "      <td>0</td>\n",
       "      <td>0</td>\n",
       "      <td>0</td>\n",
       "      <td>0</td>\n",
       "      <td>0</td>\n",
       "      <td>0</td>\n",
       "      <td>0</td>\n",
       "      <td>0</td>\n",
       "      <td>0</td>\n",
       "      <td>1</td>\n",
       "      <td>0</td>\n",
       "      <td>0</td>\n",
       "      <td>0</td>\n",
       "      <td>0</td>\n",
       "      <td>0</td>\n",
       "      <td>0</td>\n",
       "    </tr>\n",
       "    <tr>\n",
       "      <th>525270</th>\n",
       "      <td>0</td>\n",
       "      <td>0</td>\n",
       "      <td>1</td>\n",
       "      <td>0</td>\n",
       "      <td>0</td>\n",
       "      <td>0</td>\n",
       "      <td>0</td>\n",
       "      <td>0</td>\n",
       "      <td>0</td>\n",
       "      <td>0</td>\n",
       "      <td>0</td>\n",
       "      <td>0</td>\n",
       "      <td>0</td>\n",
       "      <td>0</td>\n",
       "      <td>0</td>\n",
       "      <td>0</td>\n",
       "      <td>0</td>\n",
       "      <td>0</td>\n",
       "      <td>0</td>\n",
       "      <td>0</td>\n",
       "      <td>0</td>\n",
       "      <td>1</td>\n",
       "      <td>0</td>\n",
       "      <td>0</td>\n",
       "      <td>0</td>\n",
       "      <td>0</td>\n",
       "      <td>0</td>\n",
       "      <td>0</td>\n",
       "    </tr>\n",
       "  </tbody>\n",
       "</table>\n",
       "<p>525271 rows × 28 columns</p>\n",
       "</div>"
      ],
      "text/plain": [
       "        genre_is_triller  genre_is_military  genre_is_action  \\\n",
       "0                      0                  0                0   \n",
       "1                      0                  0                0   \n",
       "2                      0                  0                0   \n",
       "3                      0                  0                0   \n",
       "4                      0                  0                0   \n",
       "...                  ...                ...              ...   \n",
       "525266                 0                  0                1   \n",
       "525267                 0                  0                1   \n",
       "525268                 0                  0                1   \n",
       "525269                 0                  0                1   \n",
       "525270                 0                  0                1   \n",
       "\n",
       "        genre_is_biographical  genre_is_fairy_tale  genre_is_science  \\\n",
       "0                           0                    0                 0   \n",
       "1                           0                    0                 0   \n",
       "2                           0                    0                 0   \n",
       "3                           0                    0                 0   \n",
       "4                           0                    0                 0   \n",
       "...                       ...                  ...               ...   \n",
       "525266                      0                    0                 0   \n",
       "525267                      0                    0                 0   \n",
       "525268                      0                    0                 0   \n",
       "525269                      0                    0                 0   \n",
       "525270                      0                    0                 0   \n",
       "\n",
       "        genre_is_fantasy  genre_is_historical  genre_is_drama  \\\n",
       "0                      0                    0               1   \n",
       "1                      0                    0               1   \n",
       "2                      0                    0               1   \n",
       "3                      0                    0               1   \n",
       "4                      0                    0               1   \n",
       "...                  ...                  ...             ...   \n",
       "525266                 0                    0               0   \n",
       "525267                 0                    0               0   \n",
       "525268                 0                    0               0   \n",
       "525269                 0                    0               0   \n",
       "525270                 0                    0               0   \n",
       "\n",
       "        genre_is_animation  genre_is_cartoon  genre_is_documentary  \\\n",
       "0                        0                 0                     0   \n",
       "1                        0                 0                     0   \n",
       "2                        0                 0                     0   \n",
       "3                        0                 0                     0   \n",
       "4                        0                 0                     0   \n",
       "...                    ...               ...                   ...   \n",
       "525266                   0                 0                     0   \n",
       "525267                   0                 0                     0   \n",
       "525268                   0                 0                     0   \n",
       "525269                   0                 0                     0   \n",
       "525270                   0                 0                     0   \n",
       "\n",
       "        genre_is_adventure  genre_is_fiction  genre_is_childish  \\\n",
       "0                        0                 0                  0   \n",
       "1                        0                 0                  0   \n",
       "2                        0                 0                  0   \n",
       "3                        0                 0                  0   \n",
       "4                        0                 0                  0   \n",
       "...                    ...               ...                ...   \n",
       "525266                   0                 0                  0   \n",
       "525267                   0                 0                  0   \n",
       "525268                   0                 0                  0   \n",
       "525269                   0                 0                  0   \n",
       "525270                   0                 0                  0   \n",
       "\n",
       "        genre_is_horror  genre_is_humor  genre_is_western  genre_is_noir  \\\n",
       "0                     0               0                 0              0   \n",
       "1                     0               0                 0              0   \n",
       "2                     0               0                 0              0   \n",
       "3                     0               0                 0              0   \n",
       "4                     0               0                 0              0   \n",
       "...                 ...             ...               ...            ...   \n",
       "525266                0               0                 0              0   \n",
       "525267                0               0                 0              0   \n",
       "525268                0               0                 0              0   \n",
       "525269                0               0                 0              0   \n",
       "525270                0               0                 0              0   \n",
       "\n",
       "        genre_is_detective  genre_is_biography  genre_is_criminal  \\\n",
       "0                        0                   0                  0   \n",
       "1                        0                   0                  0   \n",
       "2                        0                   0                  0   \n",
       "3                        0                   0                  0   \n",
       "4                        0                   0                  0   \n",
       "...                    ...                 ...                ...   \n",
       "525266                   0                   0                  1   \n",
       "525267                   0                   0                  1   \n",
       "525268                   0                   0                  1   \n",
       "525269                   0                   0                  1   \n",
       "525270                   0                   0                  1   \n",
       "\n",
       "        genre_is_tragicomedy  genre_is_biopic  genre_is_mystic  \\\n",
       "0                          0                0                0   \n",
       "1                          0                0                0   \n",
       "2                          0                0                0   \n",
       "3                          0                0                0   \n",
       "4                          0                0                0   \n",
       "...                      ...              ...              ...   \n",
       "525266                     0                0                0   \n",
       "525267                     0                0                0   \n",
       "525268                     0                0                0   \n",
       "525269                     0                0                0   \n",
       "525270                     0                0                0   \n",
       "\n",
       "        genre_is_family  genre_is_comedy  genre_is_arthouse  \n",
       "0                     1                0                  0  \n",
       "1                     1                0                  0  \n",
       "2                     1                0                  0  \n",
       "3                     1                0                  0  \n",
       "4                     1                0                  0  \n",
       "...                 ...              ...                ...  \n",
       "525266                0                0                  0  \n",
       "525267                0                0                  0  \n",
       "525268                0                0                  0  \n",
       "525269                0                0                  0  \n",
       "525270                0                0                  0  \n",
       "\n",
       "[525271 rows x 28 columns]"
      ]
     },
     "execution_count": 103,
     "metadata": {},
     "output_type": "execute_result"
    }
   ],
   "source": [
    "# приводим жанры к булевым (0, 1)\n",
    "# это сработало, причем БЫСТРО!!!\n",
    "\n",
    "for i in df.iloc[:, 8:36]:\n",
    "    df[i] = df[i].str.replace(',', '.')\n",
    "    df[i] = df[i].astype(float).fillna(0).astype(np.int64)\n",
    "df.iloc[:, 8:36]"
   ]
  },
  {
   "cell_type": "code",
   "execution_count": 115,
   "id": "91915439",
   "metadata": {},
   "outputs": [],
   "source": [
    "# приводит столбцы с датами в тип datetime\n",
    "\n",
    "for col in df.iloc[:,1:3]:\n",
    "    df[col] = pd.to_datetime(df[col])"
   ]
  },
  {
   "cell_type": "code",
   "execution_count": 231,
   "id": "21f79c85",
   "metadata": {},
   "outputs": [],
   "source": [
    "df2 = df.copy()"
   ]
  },
  {
   "cell_type": "code",
   "execution_count": 232,
   "id": "ece3f75c",
   "metadata": {
    "scrolled": true
   },
   "outputs": [
    {
     "name": "stderr",
     "output_type": "stream",
     "text": [
      "C:\\Users\\Temich\\AppData\\Local\\Temp\\ipykernel_8656\\3015300127.py:2: FutureWarning: The default value of regex will change from True to False in a future version.\n",
      "  df2['places'] = df2['places'].str.replace('ряд |место ', '')\n"
     ]
    },
    {
     "name": "stdout",
     "output_type": "stream",
     "text": [
      "\n"
     ]
    },
    {
     "data": {
      "text/html": [
       "<div>\n",
       "<style scoped>\n",
       "    .dataframe tbody tr th:only-of-type {\n",
       "        vertical-align: middle;\n",
       "    }\n",
       "\n",
       "    .dataframe tbody tr th {\n",
       "        vertical-align: top;\n",
       "    }\n",
       "\n",
       "    .dataframe thead th {\n",
       "        text-align: right;\n",
       "    }\n",
       "</style>\n",
       "<table border=\"1\" class=\"dataframe\">\n",
       "  <thead>\n",
       "    <tr style=\"text-align: right;\">\n",
       "      <th></th>\n",
       "      <th>order_id</th>\n",
       "      <th>creation_date</th>\n",
       "      <th>session_date</th>\n",
       "      <th>movie_id</th>\n",
       "      <th>movie_name</th>\n",
       "      <th>movie_duration</th>\n",
       "      <th>movie_age_restriction</th>\n",
       "      <th>movie_rating</th>\n",
       "      <th>genre_is_triller</th>\n",
       "      <th>genre_is_military</th>\n",
       "      <th>genre_is_action</th>\n",
       "      <th>genre_is_biographical</th>\n",
       "      <th>genre_is_fairy_tale</th>\n",
       "      <th>genre_is_science</th>\n",
       "      <th>genre_is_fantasy</th>\n",
       "      <th>genre_is_historical</th>\n",
       "      <th>genre_is_drama</th>\n",
       "      <th>genre_is_animation</th>\n",
       "      <th>genre_is_cartoon</th>\n",
       "      <th>genre_is_documentary</th>\n",
       "      <th>genre_is_adventure</th>\n",
       "      <th>genre_is_fiction</th>\n",
       "      <th>genre_is_childish</th>\n",
       "      <th>genre_is_horror</th>\n",
       "      <th>genre_is_humor</th>\n",
       "      <th>genre_is_western</th>\n",
       "      <th>genre_is_noir</th>\n",
       "      <th>genre_is_detective</th>\n",
       "      <th>genre_is_biography</th>\n",
       "      <th>genre_is_criminal</th>\n",
       "      <th>genre_is_tragicomedy</th>\n",
       "      <th>genre_is_biopic</th>\n",
       "      <th>genre_is_mystic</th>\n",
       "      <th>genre_is_family</th>\n",
       "      <th>genre_is_comedy</th>\n",
       "      <th>genre_is_arthouse</th>\n",
       "      <th>number_of_tickets</th>\n",
       "      <th>places</th>\n",
       "      <th>sales_in_cu</th>\n",
       "      <th>ticket_price_in_cu</th>\n",
       "      <th>cinema_name</th>\n",
       "      <th>cinema_address</th>\n",
       "      <th>cinema_latitude</th>\n",
       "      <th>cinema_longitude</th>\n",
       "      <th>cinema_city</th>\n",
       "      <th>client_id</th>\n",
       "      <th>place_row_0</th>\n",
       "      <th>place_seat_0</th>\n",
       "      <th>place_row_1</th>\n",
       "      <th>place_seat_1</th>\n",
       "      <th>place_row_2</th>\n",
       "      <th>place_seat_2</th>\n",
       "      <th>place_row_3</th>\n",
       "      <th>place_seat_3</th>\n",
       "      <th>place_row_4</th>\n",
       "      <th>place_seat_4</th>\n",
       "      <th>place_row_5</th>\n",
       "      <th>place_seat_5</th>\n",
       "    </tr>\n",
       "  </thead>\n",
       "  <tbody>\n",
       "    <tr>\n",
       "      <th>0</th>\n",
       "      <td>2441412</td>\n",
       "      <td>2020-03-07</td>\n",
       "      <td>2020-03-07</td>\n",
       "      <td>32452</td>\n",
       "      <td>Маленькие женщины</td>\n",
       "      <td>135</td>\n",
       "      <td>12+</td>\n",
       "      <td>7,7</td>\n",
       "      <td>0</td>\n",
       "      <td>0</td>\n",
       "      <td>0</td>\n",
       "      <td>0</td>\n",
       "      <td>0</td>\n",
       "      <td>0</td>\n",
       "      <td>0</td>\n",
       "      <td>0</td>\n",
       "      <td>1</td>\n",
       "      <td>0</td>\n",
       "      <td>0</td>\n",
       "      <td>0</td>\n",
       "      <td>0</td>\n",
       "      <td>0</td>\n",
       "      <td>0</td>\n",
       "      <td>0</td>\n",
       "      <td>0</td>\n",
       "      <td>0</td>\n",
       "      <td>0</td>\n",
       "      <td>0</td>\n",
       "      <td>0</td>\n",
       "      <td>0</td>\n",
       "      <td>0</td>\n",
       "      <td>0</td>\n",
       "      <td>0</td>\n",
       "      <td>1</td>\n",
       "      <td>0</td>\n",
       "      <td>0</td>\n",
       "      <td>2</td>\n",
       "      <td>5, 6, 5, 5</td>\n",
       "      <td>63,29113924050633</td>\n",
       "      <td>31,645569620253166</td>\n",
       "      <td>Каро 10 Щука</td>\n",
       "      <td>ул. Щукинская, д. 42</td>\n",
       "      <td>55.809469</td>\n",
       "      <td>37.464571</td>\n",
       "      <td>Москва</td>\n",
       "      <td>12419121665619114461</td>\n",
       "      <td>5</td>\n",
       "      <td>6</td>\n",
       "      <td>5</td>\n",
       "      <td>5</td>\n",
       "      <td>0</td>\n",
       "      <td>0</td>\n",
       "      <td>0</td>\n",
       "      <td>0</td>\n",
       "      <td>0</td>\n",
       "      <td>0</td>\n",
       "      <td>0</td>\n",
       "      <td>0</td>\n",
       "    </tr>\n",
       "    <tr>\n",
       "      <th>1</th>\n",
       "      <td>2169133</td>\n",
       "      <td>2020-02-03</td>\n",
       "      <td>2020-02-04</td>\n",
       "      <td>32452</td>\n",
       "      <td>Маленькие женщины</td>\n",
       "      <td>135</td>\n",
       "      <td>12+</td>\n",
       "      <td>7,7</td>\n",
       "      <td>0</td>\n",
       "      <td>0</td>\n",
       "      <td>0</td>\n",
       "      <td>0</td>\n",
       "      <td>0</td>\n",
       "      <td>0</td>\n",
       "      <td>0</td>\n",
       "      <td>0</td>\n",
       "      <td>1</td>\n",
       "      <td>0</td>\n",
       "      <td>0</td>\n",
       "      <td>0</td>\n",
       "      <td>0</td>\n",
       "      <td>0</td>\n",
       "      <td>0</td>\n",
       "      <td>0</td>\n",
       "      <td>0</td>\n",
       "      <td>0</td>\n",
       "      <td>0</td>\n",
       "      <td>0</td>\n",
       "      <td>0</td>\n",
       "      <td>0</td>\n",
       "      <td>0</td>\n",
       "      <td>0</td>\n",
       "      <td>0</td>\n",
       "      <td>1</td>\n",
       "      <td>0</td>\n",
       "      <td>0</td>\n",
       "      <td>4</td>\n",
       "      <td>15, 31, 15, 32, 15, 33, 15, 34</td>\n",
       "      <td>189,873417721519</td>\n",
       "      <td>47,46835443037975</td>\n",
       "      <td>Каро 11 Октябрь</td>\n",
       "      <td>ул. Новый Арбат, д. 24</td>\n",
       "      <td>55.753338</td>\n",
       "      <td>37.587615</td>\n",
       "      <td>Москва</td>\n",
       "      <td>8470824369879098013</td>\n",
       "      <td>15</td>\n",
       "      <td>31</td>\n",
       "      <td>15</td>\n",
       "      <td>32</td>\n",
       "      <td>15</td>\n",
       "      <td>33</td>\n",
       "      <td>15</td>\n",
       "      <td>34</td>\n",
       "      <td>0</td>\n",
       "      <td>0</td>\n",
       "      <td>0</td>\n",
       "      <td>0</td>\n",
       "    </tr>\n",
       "    <tr>\n",
       "      <th>2</th>\n",
       "      <td>2187694</td>\n",
       "      <td>2020-02-06</td>\n",
       "      <td>2020-02-06</td>\n",
       "      <td>32452</td>\n",
       "      <td>Маленькие женщины</td>\n",
       "      <td>135</td>\n",
       "      <td>12+</td>\n",
       "      <td>7,7</td>\n",
       "      <td>0</td>\n",
       "      <td>0</td>\n",
       "      <td>0</td>\n",
       "      <td>0</td>\n",
       "      <td>0</td>\n",
       "      <td>0</td>\n",
       "      <td>0</td>\n",
       "      <td>0</td>\n",
       "      <td>1</td>\n",
       "      <td>0</td>\n",
       "      <td>0</td>\n",
       "      <td>0</td>\n",
       "      <td>0</td>\n",
       "      <td>0</td>\n",
       "      <td>0</td>\n",
       "      <td>0</td>\n",
       "      <td>0</td>\n",
       "      <td>0</td>\n",
       "      <td>0</td>\n",
       "      <td>0</td>\n",
       "      <td>0</td>\n",
       "      <td>0</td>\n",
       "      <td>0</td>\n",
       "      <td>0</td>\n",
       "      <td>0</td>\n",
       "      <td>1</td>\n",
       "      <td>0</td>\n",
       "      <td>0</td>\n",
       "      <td>2</td>\n",
       "      <td>8, 8, 8, 9</td>\n",
       "      <td>47,46835443037975</td>\n",
       "      <td>23,734177215189874</td>\n",
       "      <td>Ретро</td>\n",
       "      <td>ул. Ленина, д. 41</td>\n",
       "      <td>58.634768</td>\n",
       "      <td>59.783538</td>\n",
       "      <td>Лесной</td>\n",
       "      <td>8691480233029300973</td>\n",
       "      <td>8</td>\n",
       "      <td>8</td>\n",
       "      <td>8</td>\n",
       "      <td>9</td>\n",
       "      <td>0</td>\n",
       "      <td>0</td>\n",
       "      <td>0</td>\n",
       "      <td>0</td>\n",
       "      <td>0</td>\n",
       "      <td>0</td>\n",
       "      <td>0</td>\n",
       "      <td>0</td>\n",
       "    </tr>\n",
       "    <tr>\n",
       "      <th>3</th>\n",
       "      <td>2182225</td>\n",
       "      <td>2020-02-05</td>\n",
       "      <td>2020-02-05</td>\n",
       "      <td>32452</td>\n",
       "      <td>Маленькие женщины</td>\n",
       "      <td>135</td>\n",
       "      <td>12+</td>\n",
       "      <td>7,7</td>\n",
       "      <td>0</td>\n",
       "      <td>0</td>\n",
       "      <td>0</td>\n",
       "      <td>0</td>\n",
       "      <td>0</td>\n",
       "      <td>0</td>\n",
       "      <td>0</td>\n",
       "      <td>0</td>\n",
       "      <td>1</td>\n",
       "      <td>0</td>\n",
       "      <td>0</td>\n",
       "      <td>0</td>\n",
       "      <td>0</td>\n",
       "      <td>0</td>\n",
       "      <td>0</td>\n",
       "      <td>0</td>\n",
       "      <td>0</td>\n",
       "      <td>0</td>\n",
       "      <td>0</td>\n",
       "      <td>0</td>\n",
       "      <td>0</td>\n",
       "      <td>0</td>\n",
       "      <td>0</td>\n",
       "      <td>0</td>\n",
       "      <td>0</td>\n",
       "      <td>1</td>\n",
       "      <td>0</td>\n",
       "      <td>0</td>\n",
       "      <td>2</td>\n",
       "      <td>8, 6, 8, 5</td>\n",
       "      <td>47,46835443037975</td>\n",
       "      <td>23,734177215189874</td>\n",
       "      <td>Каро 9 Континент на Звездной</td>\n",
       "      <td>ул. Ленсовета, 97</td>\n",
       "      <td>59.832425</td>\n",
       "      <td>30.348585</td>\n",
       "      <td>Санкт-Петербург</td>\n",
       "      <td>16386655971521120416</td>\n",
       "      <td>8</td>\n",
       "      <td>6</td>\n",
       "      <td>8</td>\n",
       "      <td>5</td>\n",
       "      <td>0</td>\n",
       "      <td>0</td>\n",
       "      <td>0</td>\n",
       "      <td>0</td>\n",
       "      <td>0</td>\n",
       "      <td>0</td>\n",
       "      <td>0</td>\n",
       "      <td>0</td>\n",
       "    </tr>\n",
       "    <tr>\n",
       "      <th>4</th>\n",
       "      <td>2209967</td>\n",
       "      <td>2020-02-08</td>\n",
       "      <td>2020-02-12</td>\n",
       "      <td>32452</td>\n",
       "      <td>Маленькие женщины</td>\n",
       "      <td>135</td>\n",
       "      <td>12+</td>\n",
       "      <td>7,7</td>\n",
       "      <td>0</td>\n",
       "      <td>0</td>\n",
       "      <td>0</td>\n",
       "      <td>0</td>\n",
       "      <td>0</td>\n",
       "      <td>0</td>\n",
       "      <td>0</td>\n",
       "      <td>0</td>\n",
       "      <td>1</td>\n",
       "      <td>0</td>\n",
       "      <td>0</td>\n",
       "      <td>0</td>\n",
       "      <td>0</td>\n",
       "      <td>0</td>\n",
       "      <td>0</td>\n",
       "      <td>0</td>\n",
       "      <td>0</td>\n",
       "      <td>0</td>\n",
       "      <td>0</td>\n",
       "      <td>0</td>\n",
       "      <td>0</td>\n",
       "      <td>0</td>\n",
       "      <td>0</td>\n",
       "      <td>0</td>\n",
       "      <td>0</td>\n",
       "      <td>1</td>\n",
       "      <td>0</td>\n",
       "      <td>0</td>\n",
       "      <td>3</td>\n",
       "      <td>5, 13, 5, 12, 5, 11</td>\n",
       "      <td>132,91139240506328</td>\n",
       "      <td>44,30379746835443</td>\n",
       "      <td>Каро 7 Атриум</td>\n",
       "      <td>ул. Земляной вал, 33</td>\n",
       "      <td>55.757214</td>\n",
       "      <td>37.658941</td>\n",
       "      <td>Москва</td>\n",
       "      <td>9606322045446303245</td>\n",
       "      <td>5</td>\n",
       "      <td>13</td>\n",
       "      <td>5</td>\n",
       "      <td>12</td>\n",
       "      <td>5</td>\n",
       "      <td>11</td>\n",
       "      <td>0</td>\n",
       "      <td>0</td>\n",
       "      <td>0</td>\n",
       "      <td>0</td>\n",
       "      <td>0</td>\n",
       "      <td>0</td>\n",
       "    </tr>\n",
       "    <tr>\n",
       "      <th>...</th>\n",
       "      <td>...</td>\n",
       "      <td>...</td>\n",
       "      <td>...</td>\n",
       "      <td>...</td>\n",
       "      <td>...</td>\n",
       "      <td>...</td>\n",
       "      <td>...</td>\n",
       "      <td>...</td>\n",
       "      <td>...</td>\n",
       "      <td>...</td>\n",
       "      <td>...</td>\n",
       "      <td>...</td>\n",
       "      <td>...</td>\n",
       "      <td>...</td>\n",
       "      <td>...</td>\n",
       "      <td>...</td>\n",
       "      <td>...</td>\n",
       "      <td>...</td>\n",
       "      <td>...</td>\n",
       "      <td>...</td>\n",
       "      <td>...</td>\n",
       "      <td>...</td>\n",
       "      <td>...</td>\n",
       "      <td>...</td>\n",
       "      <td>...</td>\n",
       "      <td>...</td>\n",
       "      <td>...</td>\n",
       "      <td>...</td>\n",
       "      <td>...</td>\n",
       "      <td>...</td>\n",
       "      <td>...</td>\n",
       "      <td>...</td>\n",
       "      <td>...</td>\n",
       "      <td>...</td>\n",
       "      <td>...</td>\n",
       "      <td>...</td>\n",
       "      <td>...</td>\n",
       "      <td>...</td>\n",
       "      <td>...</td>\n",
       "      <td>...</td>\n",
       "      <td>...</td>\n",
       "      <td>...</td>\n",
       "      <td>...</td>\n",
       "      <td>...</td>\n",
       "      <td>...</td>\n",
       "      <td>...</td>\n",
       "      <td>...</td>\n",
       "      <td>...</td>\n",
       "      <td>...</td>\n",
       "      <td>...</td>\n",
       "      <td>...</td>\n",
       "      <td>...</td>\n",
       "      <td>...</td>\n",
       "      <td>...</td>\n",
       "      <td>...</td>\n",
       "      <td>...</td>\n",
       "      <td>...</td>\n",
       "      <td>...</td>\n",
       "    </tr>\n",
       "    <tr>\n",
       "      <th>525266</th>\n",
       "      <td>2289826</td>\n",
       "      <td>2020-02-17</td>\n",
       "      <td>2020-02-17</td>\n",
       "      <td>36247</td>\n",
       "      <td>Джентльмены</td>\n",
       "      <td>113</td>\n",
       "      <td>18+</td>\n",
       "      <td>0,0</td>\n",
       "      <td>0</td>\n",
       "      <td>0</td>\n",
       "      <td>1</td>\n",
       "      <td>0</td>\n",
       "      <td>0</td>\n",
       "      <td>0</td>\n",
       "      <td>0</td>\n",
       "      <td>0</td>\n",
       "      <td>0</td>\n",
       "      <td>0</td>\n",
       "      <td>0</td>\n",
       "      <td>0</td>\n",
       "      <td>0</td>\n",
       "      <td>0</td>\n",
       "      <td>0</td>\n",
       "      <td>0</td>\n",
       "      <td>0</td>\n",
       "      <td>0</td>\n",
       "      <td>0</td>\n",
       "      <td>0</td>\n",
       "      <td>0</td>\n",
       "      <td>1</td>\n",
       "      <td>0</td>\n",
       "      <td>0</td>\n",
       "      <td>0</td>\n",
       "      <td>0</td>\n",
       "      <td>0</td>\n",
       "      <td>0</td>\n",
       "      <td>2</td>\n",
       "      <td>6, 5, 6, 6</td>\n",
       "      <td>75,9493670886076</td>\n",
       "      <td>37,9746835443038</td>\n",
       "      <td>Формула Кино Лефортово</td>\n",
       "      <td>ш. Энтузиастов, 12, корп. 2, ТК «Город Лефортово»</td>\n",
       "      <td>55.747385</td>\n",
       "      <td>37.707076</td>\n",
       "      <td>Москва</td>\n",
       "      <td>15376387967092078428</td>\n",
       "      <td>6</td>\n",
       "      <td>5</td>\n",
       "      <td>6</td>\n",
       "      <td>6</td>\n",
       "      <td>0</td>\n",
       "      <td>0</td>\n",
       "      <td>0</td>\n",
       "      <td>0</td>\n",
       "      <td>0</td>\n",
       "      <td>0</td>\n",
       "      <td>0</td>\n",
       "      <td>0</td>\n",
       "    </tr>\n",
       "    <tr>\n",
       "      <th>525267</th>\n",
       "      <td>2284126</td>\n",
       "      <td>2020-02-16</td>\n",
       "      <td>2020-02-16</td>\n",
       "      <td>36247</td>\n",
       "      <td>Джентльмены</td>\n",
       "      <td>113</td>\n",
       "      <td>18+</td>\n",
       "      <td>0,0</td>\n",
       "      <td>0</td>\n",
       "      <td>0</td>\n",
       "      <td>1</td>\n",
       "      <td>0</td>\n",
       "      <td>0</td>\n",
       "      <td>0</td>\n",
       "      <td>0</td>\n",
       "      <td>0</td>\n",
       "      <td>0</td>\n",
       "      <td>0</td>\n",
       "      <td>0</td>\n",
       "      <td>0</td>\n",
       "      <td>0</td>\n",
       "      <td>0</td>\n",
       "      <td>0</td>\n",
       "      <td>0</td>\n",
       "      <td>0</td>\n",
       "      <td>0</td>\n",
       "      <td>0</td>\n",
       "      <td>0</td>\n",
       "      <td>0</td>\n",
       "      <td>1</td>\n",
       "      <td>0</td>\n",
       "      <td>0</td>\n",
       "      <td>0</td>\n",
       "      <td>0</td>\n",
       "      <td>0</td>\n",
       "      <td>0</td>\n",
       "      <td>1</td>\n",
       "      <td>11, 16</td>\n",
       "      <td>77,53164556962025</td>\n",
       "      <td>77,53164556962025</td>\n",
       "      <td>Киномакс-Мозаика</td>\n",
       "      <td>7-я Кожуховская, 9, ТРК «Мозаика»</td>\n",
       "      <td>55.710639</td>\n",
       "      <td>37.674466</td>\n",
       "      <td>Москва</td>\n",
       "      <td>18201133101467231081</td>\n",
       "      <td>11</td>\n",
       "      <td>16</td>\n",
       "      <td>0</td>\n",
       "      <td>0</td>\n",
       "      <td>0</td>\n",
       "      <td>0</td>\n",
       "      <td>0</td>\n",
       "      <td>0</td>\n",
       "      <td>0</td>\n",
       "      <td>0</td>\n",
       "      <td>0</td>\n",
       "      <td>0</td>\n",
       "    </tr>\n",
       "    <tr>\n",
       "      <th>525268</th>\n",
       "      <td>2371205</td>\n",
       "      <td>2020-02-25</td>\n",
       "      <td>2020-02-25</td>\n",
       "      <td>36247</td>\n",
       "      <td>Джентльмены</td>\n",
       "      <td>113</td>\n",
       "      <td>18+</td>\n",
       "      <td>0,0</td>\n",
       "      <td>0</td>\n",
       "      <td>0</td>\n",
       "      <td>1</td>\n",
       "      <td>0</td>\n",
       "      <td>0</td>\n",
       "      <td>0</td>\n",
       "      <td>0</td>\n",
       "      <td>0</td>\n",
       "      <td>0</td>\n",
       "      <td>0</td>\n",
       "      <td>0</td>\n",
       "      <td>0</td>\n",
       "      <td>0</td>\n",
       "      <td>0</td>\n",
       "      <td>0</td>\n",
       "      <td>0</td>\n",
       "      <td>0</td>\n",
       "      <td>0</td>\n",
       "      <td>0</td>\n",
       "      <td>0</td>\n",
       "      <td>0</td>\n",
       "      <td>1</td>\n",
       "      <td>0</td>\n",
       "      <td>0</td>\n",
       "      <td>0</td>\n",
       "      <td>0</td>\n",
       "      <td>0</td>\n",
       "      <td>0</td>\n",
       "      <td>2</td>\n",
       "      <td>9, 15, 9, 16</td>\n",
       "      <td>56,962025316455694</td>\n",
       "      <td>28,481012658227847</td>\n",
       "      <td>Балтика</td>\n",
       "      <td>Сходненская, 56, ТРЦ «Калейдоскоп»</td>\n",
       "      <td>55.850661</td>\n",
       "      <td>37.444295</td>\n",
       "      <td>Москва</td>\n",
       "      <td>10753400401096512686</td>\n",
       "      <td>9</td>\n",
       "      <td>15</td>\n",
       "      <td>9</td>\n",
       "      <td>16</td>\n",
       "      <td>0</td>\n",
       "      <td>0</td>\n",
       "      <td>0</td>\n",
       "      <td>0</td>\n",
       "      <td>0</td>\n",
       "      <td>0</td>\n",
       "      <td>0</td>\n",
       "      <td>0</td>\n",
       "    </tr>\n",
       "    <tr>\n",
       "      <th>525269</th>\n",
       "      <td>2371601</td>\n",
       "      <td>2020-02-25</td>\n",
       "      <td>2020-02-25</td>\n",
       "      <td>36247</td>\n",
       "      <td>Джентльмены</td>\n",
       "      <td>113</td>\n",
       "      <td>18+</td>\n",
       "      <td>0,0</td>\n",
       "      <td>0</td>\n",
       "      <td>0</td>\n",
       "      <td>1</td>\n",
       "      <td>0</td>\n",
       "      <td>0</td>\n",
       "      <td>0</td>\n",
       "      <td>0</td>\n",
       "      <td>0</td>\n",
       "      <td>0</td>\n",
       "      <td>0</td>\n",
       "      <td>0</td>\n",
       "      <td>0</td>\n",
       "      <td>0</td>\n",
       "      <td>0</td>\n",
       "      <td>0</td>\n",
       "      <td>0</td>\n",
       "      <td>0</td>\n",
       "      <td>0</td>\n",
       "      <td>0</td>\n",
       "      <td>0</td>\n",
       "      <td>0</td>\n",
       "      <td>1</td>\n",
       "      <td>0</td>\n",
       "      <td>0</td>\n",
       "      <td>0</td>\n",
       "      <td>0</td>\n",
       "      <td>0</td>\n",
       "      <td>0</td>\n",
       "      <td>2</td>\n",
       "      <td>3, 9, 3, 8</td>\n",
       "      <td>47,46835443037975</td>\n",
       "      <td>23,734177215189874</td>\n",
       "      <td>Синема Парк Гранд Каньон</td>\n",
       "      <td>просп. Энгельса, 154, «Гранд Каньон»</td>\n",
       "      <td>60.058087</td>\n",
       "      <td>30.334233</td>\n",
       "      <td>Санкт-Петербург</td>\n",
       "      <td>7148845257742510639</td>\n",
       "      <td>3</td>\n",
       "      <td>9</td>\n",
       "      <td>3</td>\n",
       "      <td>8</td>\n",
       "      <td>0</td>\n",
       "      <td>0</td>\n",
       "      <td>0</td>\n",
       "      <td>0</td>\n",
       "      <td>0</td>\n",
       "      <td>0</td>\n",
       "      <td>0</td>\n",
       "      <td>0</td>\n",
       "    </tr>\n",
       "    <tr>\n",
       "      <th>525270</th>\n",
       "      <td>2368146</td>\n",
       "      <td>2020-02-24</td>\n",
       "      <td>2020-02-24</td>\n",
       "      <td>36247</td>\n",
       "      <td>Джентльмены</td>\n",
       "      <td>113</td>\n",
       "      <td>18+</td>\n",
       "      <td>0,0</td>\n",
       "      <td>0</td>\n",
       "      <td>0</td>\n",
       "      <td>1</td>\n",
       "      <td>0</td>\n",
       "      <td>0</td>\n",
       "      <td>0</td>\n",
       "      <td>0</td>\n",
       "      <td>0</td>\n",
       "      <td>0</td>\n",
       "      <td>0</td>\n",
       "      <td>0</td>\n",
       "      <td>0</td>\n",
       "      <td>0</td>\n",
       "      <td>0</td>\n",
       "      <td>0</td>\n",
       "      <td>0</td>\n",
       "      <td>0</td>\n",
       "      <td>0</td>\n",
       "      <td>0</td>\n",
       "      <td>0</td>\n",
       "      <td>0</td>\n",
       "      <td>1</td>\n",
       "      <td>0</td>\n",
       "      <td>0</td>\n",
       "      <td>0</td>\n",
       "      <td>0</td>\n",
       "      <td>0</td>\n",
       "      <td>0</td>\n",
       "      <td>2</td>\n",
       "      <td>4, 8, 4, 7</td>\n",
       "      <td>88,60759493670886</td>\n",
       "      <td>44,30379746835443</td>\n",
       "      <td>Москино Полет</td>\n",
       "      <td>Нелидовская, 10, корп. 1</td>\n",
       "      <td>55.846035</td>\n",
       "      <td>37.442906</td>\n",
       "      <td>Москва</td>\n",
       "      <td>10117603616920962087</td>\n",
       "      <td>4</td>\n",
       "      <td>8</td>\n",
       "      <td>4</td>\n",
       "      <td>7</td>\n",
       "      <td>0</td>\n",
       "      <td>0</td>\n",
       "      <td>0</td>\n",
       "      <td>0</td>\n",
       "      <td>0</td>\n",
       "      <td>0</td>\n",
       "      <td>0</td>\n",
       "      <td>0</td>\n",
       "    </tr>\n",
       "  </tbody>\n",
       "</table>\n",
       "<p>525271 rows × 58 columns</p>\n",
       "</div>"
      ],
      "text/plain": [
       "        order_id creation_date session_date  movie_id         movie_name  \\\n",
       "0        2441412    2020-03-07   2020-03-07     32452  Маленькие женщины   \n",
       "1        2169133    2020-02-03   2020-02-04     32452  Маленькие женщины   \n",
       "2        2187694    2020-02-06   2020-02-06     32452  Маленькие женщины   \n",
       "3        2182225    2020-02-05   2020-02-05     32452  Маленькие женщины   \n",
       "4        2209967    2020-02-08   2020-02-12     32452  Маленькие женщины   \n",
       "...          ...           ...          ...       ...                ...   \n",
       "525266   2289826    2020-02-17   2020-02-17     36247        Джентльмены   \n",
       "525267   2284126    2020-02-16   2020-02-16     36247        Джентльмены   \n",
       "525268   2371205    2020-02-25   2020-02-25     36247        Джентльмены   \n",
       "525269   2371601    2020-02-25   2020-02-25     36247        Джентльмены   \n",
       "525270   2368146    2020-02-24   2020-02-24     36247        Джентльмены   \n",
       "\n",
       "       movie_duration movie_age_restriction movie_rating  genre_is_triller  \\\n",
       "0                 135                   12+          7,7                 0   \n",
       "1                 135                   12+          7,7                 0   \n",
       "2                 135                   12+          7,7                 0   \n",
       "3                 135                   12+          7,7                 0   \n",
       "4                 135                   12+          7,7                 0   \n",
       "...               ...                   ...          ...               ...   \n",
       "525266            113                   18+          0,0                 0   \n",
       "525267            113                   18+          0,0                 0   \n",
       "525268            113                   18+          0,0                 0   \n",
       "525269            113                   18+          0,0                 0   \n",
       "525270            113                   18+          0,0                 0   \n",
       "\n",
       "        genre_is_military  genre_is_action  genre_is_biographical  \\\n",
       "0                       0                0                      0   \n",
       "1                       0                0                      0   \n",
       "2                       0                0                      0   \n",
       "3                       0                0                      0   \n",
       "4                       0                0                      0   \n",
       "...                   ...              ...                    ...   \n",
       "525266                  0                1                      0   \n",
       "525267                  0                1                      0   \n",
       "525268                  0                1                      0   \n",
       "525269                  0                1                      0   \n",
       "525270                  0                1                      0   \n",
       "\n",
       "        genre_is_fairy_tale  genre_is_science  genre_is_fantasy  \\\n",
       "0                         0                 0                 0   \n",
       "1                         0                 0                 0   \n",
       "2                         0                 0                 0   \n",
       "3                         0                 0                 0   \n",
       "4                         0                 0                 0   \n",
       "...                     ...               ...               ...   \n",
       "525266                    0                 0                 0   \n",
       "525267                    0                 0                 0   \n",
       "525268                    0                 0                 0   \n",
       "525269                    0                 0                 0   \n",
       "525270                    0                 0                 0   \n",
       "\n",
       "        genre_is_historical  genre_is_drama  genre_is_animation  \\\n",
       "0                         0               1                   0   \n",
       "1                         0               1                   0   \n",
       "2                         0               1                   0   \n",
       "3                         0               1                   0   \n",
       "4                         0               1                   0   \n",
       "...                     ...             ...                 ...   \n",
       "525266                    0               0                   0   \n",
       "525267                    0               0                   0   \n",
       "525268                    0               0                   0   \n",
       "525269                    0               0                   0   \n",
       "525270                    0               0                   0   \n",
       "\n",
       "        genre_is_cartoon  genre_is_documentary  genre_is_adventure  \\\n",
       "0                      0                     0                   0   \n",
       "1                      0                     0                   0   \n",
       "2                      0                     0                   0   \n",
       "3                      0                     0                   0   \n",
       "4                      0                     0                   0   \n",
       "...                  ...                   ...                 ...   \n",
       "525266                 0                     0                   0   \n",
       "525267                 0                     0                   0   \n",
       "525268                 0                     0                   0   \n",
       "525269                 0                     0                   0   \n",
       "525270                 0                     0                   0   \n",
       "\n",
       "        genre_is_fiction  genre_is_childish  genre_is_horror  genre_is_humor  \\\n",
       "0                      0                  0                0               0   \n",
       "1                      0                  0                0               0   \n",
       "2                      0                  0                0               0   \n",
       "3                      0                  0                0               0   \n",
       "4                      0                  0                0               0   \n",
       "...                  ...                ...              ...             ...   \n",
       "525266                 0                  0                0               0   \n",
       "525267                 0                  0                0               0   \n",
       "525268                 0                  0                0               0   \n",
       "525269                 0                  0                0               0   \n",
       "525270                 0                  0                0               0   \n",
       "\n",
       "        genre_is_western  genre_is_noir  genre_is_detective  \\\n",
       "0                      0              0                   0   \n",
       "1                      0              0                   0   \n",
       "2                      0              0                   0   \n",
       "3                      0              0                   0   \n",
       "4                      0              0                   0   \n",
       "...                  ...            ...                 ...   \n",
       "525266                 0              0                   0   \n",
       "525267                 0              0                   0   \n",
       "525268                 0              0                   0   \n",
       "525269                 0              0                   0   \n",
       "525270                 0              0                   0   \n",
       "\n",
       "        genre_is_biography  genre_is_criminal  genre_is_tragicomedy  \\\n",
       "0                        0                  0                     0   \n",
       "1                        0                  0                     0   \n",
       "2                        0                  0                     0   \n",
       "3                        0                  0                     0   \n",
       "4                        0                  0                     0   \n",
       "...                    ...                ...                   ...   \n",
       "525266                   0                  1                     0   \n",
       "525267                   0                  1                     0   \n",
       "525268                   0                  1                     0   \n",
       "525269                   0                  1                     0   \n",
       "525270                   0                  1                     0   \n",
       "\n",
       "        genre_is_biopic  genre_is_mystic  genre_is_family  genre_is_comedy  \\\n",
       "0                     0                0                1                0   \n",
       "1                     0                0                1                0   \n",
       "2                     0                0                1                0   \n",
       "3                     0                0                1                0   \n",
       "4                     0                0                1                0   \n",
       "...                 ...              ...              ...              ...   \n",
       "525266                0                0                0                0   \n",
       "525267                0                0                0                0   \n",
       "525268                0                0                0                0   \n",
       "525269                0                0                0                0   \n",
       "525270                0                0                0                0   \n",
       "\n",
       "        genre_is_arthouse  number_of_tickets                          places  \\\n",
       "0                       0                  2                      5, 6, 5, 5   \n",
       "1                       0                  4  15, 31, 15, 32, 15, 33, 15, 34   \n",
       "2                       0                  2                      8, 8, 8, 9   \n",
       "3                       0                  2                      8, 6, 8, 5   \n",
       "4                       0                  3             5, 13, 5, 12, 5, 11   \n",
       "...                   ...                ...                             ...   \n",
       "525266                  0                  2                      6, 5, 6, 6   \n",
       "525267                  0                  1                          11, 16   \n",
       "525268                  0                  2                    9, 15, 9, 16   \n",
       "525269                  0                  2                      3, 9, 3, 8   \n",
       "525270                  0                  2                      4, 8, 4, 7   \n",
       "\n",
       "               sales_in_cu  ticket_price_in_cu                   cinema_name  \\\n",
       "0        63,29113924050633  31,645569620253166                  Каро 10 Щука   \n",
       "1         189,873417721519   47,46835443037975               Каро 11 Октябрь   \n",
       "2        47,46835443037975  23,734177215189874                         Ретро   \n",
       "3        47,46835443037975  23,734177215189874  Каро 9 Континент на Звездной   \n",
       "4       132,91139240506328   44,30379746835443                 Каро 7 Атриум   \n",
       "...                    ...                 ...                           ...   \n",
       "525266    75,9493670886076    37,9746835443038        Формула Кино Лефортово   \n",
       "525267   77,53164556962025   77,53164556962025              Киномакс-Мозаика   \n",
       "525268  56,962025316455694  28,481012658227847                       Балтика   \n",
       "525269   47,46835443037975  23,734177215189874      Синема Парк Гранд Каньон   \n",
       "525270   88,60759493670886   44,30379746835443                 Москино Полет   \n",
       "\n",
       "                                           cinema_address  cinema_latitude  \\\n",
       "0                                    ул. Щукинская, д. 42        55.809469   \n",
       "1                                  ул. Новый Арбат, д. 24        55.753338   \n",
       "2                                       ул. Ленина, д. 41        58.634768   \n",
       "3                                       ул. Ленсовета, 97        59.832425   \n",
       "4                                    ул. Земляной вал, 33        55.757214   \n",
       "...                                                   ...              ...   \n",
       "525266  ш. Энтузиастов, 12, корп. 2, ТК «Город Лефортово»        55.747385   \n",
       "525267                  7-я Кожуховская, 9, ТРК «Мозаика»        55.710639   \n",
       "525268                 Сходненская, 56, ТРЦ «Калейдоскоп»        55.850661   \n",
       "525269               просп. Энгельса, 154, «Гранд Каньон»        60.058087   \n",
       "525270                           Нелидовская, 10, корп. 1        55.846035   \n",
       "\n",
       "        cinema_longitude      cinema_city             client_id  place_row_0  \\\n",
       "0              37.464571           Москва  12419121665619114461            5   \n",
       "1              37.587615           Москва   8470824369879098013           15   \n",
       "2              59.783538           Лесной   8691480233029300973            8   \n",
       "3              30.348585  Санкт-Петербург  16386655971521120416            8   \n",
       "4              37.658941           Москва   9606322045446303245            5   \n",
       "...                  ...              ...                   ...          ...   \n",
       "525266         37.707076           Москва  15376387967092078428            6   \n",
       "525267         37.674466           Москва  18201133101467231081           11   \n",
       "525268         37.444295           Москва  10753400401096512686            9   \n",
       "525269         30.334233  Санкт-Петербург   7148845257742510639            3   \n",
       "525270         37.442906           Москва  10117603616920962087            4   \n",
       "\n",
       "        place_seat_0  place_row_1  place_seat_1  place_row_2  place_seat_2  \\\n",
       "0                  6            5             5            0             0   \n",
       "1                 31           15            32           15            33   \n",
       "2                  8            8             9            0             0   \n",
       "3                  6            8             5            0             0   \n",
       "4                 13            5            12            5            11   \n",
       "...              ...          ...           ...          ...           ...   \n",
       "525266             5            6             6            0             0   \n",
       "525267            16            0             0            0             0   \n",
       "525268            15            9            16            0             0   \n",
       "525269             9            3             8            0             0   \n",
       "525270             8            4             7            0             0   \n",
       "\n",
       "        place_row_3  place_seat_3  place_row_4  place_seat_4  place_row_5  \\\n",
       "0                 0             0            0             0            0   \n",
       "1                15            34            0             0            0   \n",
       "2                 0             0            0             0            0   \n",
       "3                 0             0            0             0            0   \n",
       "4                 0             0            0             0            0   \n",
       "...             ...           ...          ...           ...          ...   \n",
       "525266            0             0            0             0            0   \n",
       "525267            0             0            0             0            0   \n",
       "525268            0             0            0             0            0   \n",
       "525269            0             0            0             0            0   \n",
       "525270            0             0            0             0            0   \n",
       "\n",
       "        place_seat_5  \n",
       "0                  0  \n",
       "1                  0  \n",
       "2                  0  \n",
       "3                  0  \n",
       "4                  0  \n",
       "...              ...  \n",
       "525266             0  \n",
       "525267             0  \n",
       "525268             0  \n",
       "525269             0  \n",
       "525270             0  \n",
       "\n",
       "[525271 rows x 58 columns]"
      ]
     },
     "execution_count": 232,
     "metadata": {},
     "output_type": "execute_result"
    }
   ],
   "source": [
    "# Места разбиваем\n",
    "\n",
    "df2['places'] = df2['places'].str.replace('ряд |место ', '')\n",
    "\n",
    "table = df2['places'].str.split(',', expand=True)\n",
    "table = table.apply(pd.to_numeric, errors='coerce').fillna(0).astype(int)\n",
    "\n",
    "for index in range(table.shape[1]):\n",
    "    if index == 10:\n",
    "        print()\n",
    "    if index%2 == 0:\n",
    "        df2['place_row_' + str(int(math.floor(index/2)))] = table[index]\n",
    "    else:\n",
    "        df2['place_seat_' + str(int(math.floor(index/2)))] = table[index]\n",
    "df2"
   ]
  },
  {
   "cell_type": "code",
   "execution_count": 217,
   "id": "10e425c0",
   "metadata": {},
   "outputs": [
    {
     "data": {
      "text/plain": [
       "array([2, 4, 3, 1, 5, 6], dtype=int64)"
      ]
     },
     "execution_count": 217,
     "metadata": {},
     "output_type": "execute_result"
    }
   ],
   "source": [
    "df2['number_of_tickets'].unique()"
   ]
  },
  {
   "cell_type": "code",
   "execution_count": 252,
   "id": "ac786f64",
   "metadata": {},
   "outputs": [
    {
     "data": {
      "text/plain": [
       "6"
      ]
     },
     "execution_count": 252,
     "metadata": {},
     "output_type": "execute_result"
    }
   ],
   "source": [
    "max_number_of_tickets = df2['number_of_tickets'].max()\n",
    "max_number_of_tickets"
   ]
  },
  {
   "cell_type": "code",
   "execution_count": 273,
   "id": "350fcad2",
   "metadata": {
    "collapsed": true
   },
   "outputs": [
    {
     "name": "stdout",
     "output_type": "stream",
     "text": [
      "Unexpected exception formatting exception. Falling back to standard exception\n"
     ]
    },
    {
     "name": "stderr",
     "output_type": "stream",
     "text": [
      "Traceback (most recent call last):\n",
      "  File \"C:\\Users\\Temich\\AppData\\Local\\Programs\\Python\\Python311\\Lib\\site-packages\\IPython\\core\\interactiveshell.py\", line 3460, in run_code\n",
      "    exec(code_obj, self.user_global_ns, self.user_ns)\n",
      "  File \"C:\\Users\\Temich\\AppData\\Local\\Temp\\ipykernel_8656\\891406709.py\", line -1, in <module>\n",
      "KeyboardInterrupt\n",
      "\n",
      "During handling of the above exception, another exception occurred:\n",
      "\n",
      "Traceback (most recent call last):\n",
      "  File \"C:\\Users\\Temich\\AppData\\Local\\Programs\\Python\\Python311\\Lib\\site-packages\\IPython\\core\\interactiveshell.py\", line 2057, in showtraceback\n",
      "    stb = self.InteractiveTB.structured_traceback(\n",
      "          ^^^^^^^^^^^^^^^^^^^^^^^^^^^^^^^^^^^^^^^^\n",
      "  File \"C:\\Users\\Temich\\AppData\\Local\\Programs\\Python\\Python311\\Lib\\site-packages\\IPython\\core\\ultratb.py\", line 1288, in structured_traceback\n",
      "    return FormattedTB.structured_traceback(\n",
      "           ^^^^^^^^^^^^^^^^^^^^^^^^^^^^^^^^^\n",
      "  File \"C:\\Users\\Temich\\AppData\\Local\\Programs\\Python\\Python311\\Lib\\site-packages\\IPython\\core\\ultratb.py\", line 1177, in structured_traceback\n",
      "    return VerboseTB.structured_traceback(\n",
      "           ^^^^^^^^^^^^^^^^^^^^^^^^^^^^^^^\n",
      "  File \"C:\\Users\\Temich\\AppData\\Local\\Programs\\Python\\Python311\\Lib\\site-packages\\IPython\\core\\ultratb.py\", line 1030, in structured_traceback\n",
      "    formatted_exception = self.format_exception_as_a_whole(etype, evalue, etb, number_of_lines_of_context,\n",
      "                          ^^^^^^^^^^^^^^^^^^^^^^^^^^^^^^^^^^^^^^^^^^^^^^^^^^^^^^^^^^^^^^^^^^^^^^^^^^^^^^^^\n",
      "  File \"C:\\Users\\Temich\\AppData\\Local\\Programs\\Python\\Python311\\Lib\\site-packages\\IPython\\core\\ultratb.py\", line 960, in format_exception_as_a_whole\n",
      "    frames.append(self.format_record(record))\n",
      "                  ^^^^^^^^^^^^^^^^^^^^^^^^^^\n",
      "  File \"C:\\Users\\Temich\\AppData\\Local\\Programs\\Python\\Python311\\Lib\\site-packages\\IPython\\core\\ultratb.py\", line 870, in format_record\n",
      "    frame_info.lines, Colors, self.has_colors, lvals\n",
      "    ^^^^^^^^^^^^^^^^\n",
      "  File \"C:\\Users\\Temich\\AppData\\Local\\Programs\\Python\\Python311\\Lib\\site-packages\\IPython\\core\\ultratb.py\", line 704, in lines\n",
      "    return self._sd.lines\n",
      "           ^^^^^^^^^^^^^^\n",
      "  File \"C:\\Users\\Temich\\AppData\\Local\\Programs\\Python\\Python311\\Lib\\site-packages\\stack_data\\utils.py\", line 144, in cached_property_wrapper\n",
      "    value = obj.__dict__[self.func.__name__] = self.func(obj)\n",
      "                                               ^^^^^^^^^^^^^^\n",
      "  File \"C:\\Users\\Temich\\AppData\\Local\\Programs\\Python\\Python311\\Lib\\site-packages\\stack_data\\core.py\", line 734, in lines\n",
      "    pieces = self.included_pieces\n",
      "             ^^^^^^^^^^^^^^^^^^^^\n",
      "  File \"C:\\Users\\Temich\\AppData\\Local\\Programs\\Python\\Python311\\Lib\\site-packages\\stack_data\\utils.py\", line 144, in cached_property_wrapper\n",
      "    value = obj.__dict__[self.func.__name__] = self.func(obj)\n",
      "                                               ^^^^^^^^^^^^^^\n",
      "  File \"C:\\Users\\Temich\\AppData\\Local\\Programs\\Python\\Python311\\Lib\\site-packages\\stack_data\\core.py\", line 681, in included_pieces\n",
      "    pos = scope_pieces.index(self.executing_piece)\n",
      "                             ^^^^^^^^^^^^^^^^^^^^\n",
      "  File \"C:\\Users\\Temich\\AppData\\Local\\Programs\\Python\\Python311\\Lib\\site-packages\\stack_data\\utils.py\", line 144, in cached_property_wrapper\n",
      "    value = obj.__dict__[self.func.__name__] = self.func(obj)\n",
      "                                               ^^^^^^^^^^^^^^\n",
      "  File \"C:\\Users\\Temich\\AppData\\Local\\Programs\\Python\\Python311\\Lib\\site-packages\\stack_data\\core.py\", line 660, in executing_piece\n",
      "    return only(\n",
      "           ^^^^^\n",
      "  File \"C:\\Users\\Temich\\AppData\\Local\\Programs\\Python\\Python311\\Lib\\site-packages\\executing\\executing.py\", line 190, in only\n",
      "    raise NotOneValueFound('Expected one value, found 0')\n",
      "executing.executing.NotOneValueFound: Expected one value, found 0\n"
     ]
    }
   ],
   "source": [
    "####### тестовая дичь\n",
    "\n",
    "# hall_size = df2 \\\n",
    "#     .groupby('cinema_name')\n",
    "# max_seat = 0\n",
    "# max_row = 0\n",
    "# list_2 = []\n",
    "# for name, group in hall_size:\n",
    "#     max_seat = 0\n",
    "#     max_row = 0\n",
    "#     list_1 = []\n",
    "#     for group_rows in range(group.shape[0]):\n",
    "#         list_1.append(0)\n",
    "        \n",
    "#         for number_of_ticket in range(max_number_of_tickets):\n",
    "    \n",
    "#             for place_seat in group['place_seat_'+str(number_of_ticket)]:\n",
    "#                 if place_seat > list_1[group_rows]:\n",
    "#                     list_1[group_rows] = place_seat\n",
    "# #         if group['place_row_'+str(index)] > max_row:\n",
    "# #             max_row = group['place_row_'+str(index)]  \n",
    "# #     hall_size['max_row'] = max_row\n",
    "#     list_2.append(list_1)\n",
    "# hall_size['max_seat'] = pd.Series(list_2)\n",
    "# hall_size"
   ]
  },
  {
   "cell_type": "code",
   "execution_count": 249,
   "id": "c37e6d38",
   "metadata": {},
   "outputs": [],
   "source": [
    "hall_size.columns = [' '.join(col).strip() for col in hall_size.columns.values]"
   ]
  },
  {
   "cell_type": "code",
   "execution_count": 251,
   "id": "885d7d2f",
   "metadata": {},
   "outputs": [
    {
     "data": {
      "text/html": [
       "<div>\n",
       "<style scoped>\n",
       "    .dataframe tbody tr th:only-of-type {\n",
       "        vertical-align: middle;\n",
       "    }\n",
       "\n",
       "    .dataframe tbody tr th {\n",
       "        vertical-align: top;\n",
       "    }\n",
       "\n",
       "    .dataframe thead th {\n",
       "        text-align: right;\n",
       "    }\n",
       "</style>\n",
       "<table border=\"1\" class=\"dataframe\">\n",
       "  <thead>\n",
       "    <tr style=\"text-align: right;\">\n",
       "      <th></th>\n",
       "      <th>cinema_name</th>\n",
       "      <th>number_of_tickets max</th>\n",
       "      <th>place_row_0 min</th>\n",
       "      <th>place_row_0 max</th>\n",
       "      <th>place_seat_0 min</th>\n",
       "      <th>place_seat_0 max</th>\n",
       "    </tr>\n",
       "  </thead>\n",
       "  <tbody>\n",
       "    <tr>\n",
       "      <th>226</th>\n",
       "      <td>Каро 5 на Байконурской</td>\n",
       "      <td>6</td>\n",
       "      <td>1</td>\n",
       "      <td>12</td>\n",
       "      <td>1</td>\n",
       "      <td>32</td>\n",
       "    </tr>\n",
       "    <tr>\n",
       "      <th>271</th>\n",
       "      <td>Кинозал МБУК Жуковский районный Дом культуры</td>\n",
       "      <td>6</td>\n",
       "      <td>2</td>\n",
       "      <td>6</td>\n",
       "      <td>5</td>\n",
       "      <td>10</td>\n",
       "    </tr>\n",
       "    <tr>\n",
       "      <th>585</th>\n",
       "      <td>Премьер Зал Знамя</td>\n",
       "      <td>6</td>\n",
       "      <td>1</td>\n",
       "      <td>13</td>\n",
       "      <td>1</td>\n",
       "      <td>10</td>\n",
       "    </tr>\n",
       "    <tr>\n",
       "      <th>586</th>\n",
       "      <td>Премьер Зал Омега</td>\n",
       "      <td>6</td>\n",
       "      <td>1</td>\n",
       "      <td>7</td>\n",
       "      <td>1</td>\n",
       "      <td>16</td>\n",
       "    </tr>\n",
       "    <tr>\n",
       "      <th>279</th>\n",
       "      <td>Кинокомплекс CinemaV</td>\n",
       "      <td>6</td>\n",
       "      <td>1</td>\n",
       "      <td>10</td>\n",
       "      <td>1</td>\n",
       "      <td>20</td>\n",
       "    </tr>\n",
       "    <tr>\n",
       "      <th>...</th>\n",
       "      <td>...</td>\n",
       "      <td>...</td>\n",
       "      <td>...</td>\n",
       "      <td>...</td>\n",
       "      <td>...</td>\n",
       "      <td>...</td>\n",
       "    </tr>\n",
       "    <tr>\n",
       "      <th>588</th>\n",
       "      <td>Премьер Зал Сан Сити (Троицк)</td>\n",
       "      <td>1</td>\n",
       "      <td>6</td>\n",
       "      <td>6</td>\n",
       "      <td>5</td>\n",
       "      <td>5</td>\n",
       "    </tr>\n",
       "    <tr>\n",
       "      <th>432</th>\n",
       "      <td>Люксор в ТРК Лето</td>\n",
       "      <td>1</td>\n",
       "      <td>4</td>\n",
       "      <td>4</td>\n",
       "      <td>7</td>\n",
       "      <td>7</td>\n",
       "    </tr>\n",
       "    <tr>\n",
       "      <th>95</th>\n",
       "      <td>АвтоКАРО под звездами: МЕГА Екатеринбург</td>\n",
       "      <td>1</td>\n",
       "      <td>0</td>\n",
       "      <td>0</td>\n",
       "      <td>0</td>\n",
       "      <td>0</td>\n",
       "    </tr>\n",
       "    <tr>\n",
       "      <th>98</th>\n",
       "      <td>Автокинотеатр «ДКЖ-кино»</td>\n",
       "      <td>1</td>\n",
       "      <td>2</td>\n",
       "      <td>3</td>\n",
       "      <td>4</td>\n",
       "      <td>4</td>\n",
       "    </tr>\n",
       "    <tr>\n",
       "      <th>99</th>\n",
       "      <td>Автокинотеатр Синема Парк Зеленопарк (Зеленоград)</td>\n",
       "      <td>1</td>\n",
       "      <td>1</td>\n",
       "      <td>4</td>\n",
       "      <td>14</td>\n",
       "      <td>40</td>\n",
       "    </tr>\n",
       "  </tbody>\n",
       "</table>\n",
       "<p>782 rows × 6 columns</p>\n",
       "</div>"
      ],
      "text/plain": [
       "                                           cinema_name  number_of_tickets max  \\\n",
       "226                             Каро 5 на Байконурской                      6   \n",
       "271       Кинозал МБУК Жуковский районный Дом культуры                      6   \n",
       "585                                  Премьер Зал Знамя                      6   \n",
       "586                                  Премьер Зал Омега                      6   \n",
       "279                               Кинокомплекс CinemaV                      6   \n",
       "..                                                 ...                    ...   \n",
       "588                      Премьер Зал Сан Сити (Троицк)                      1   \n",
       "432                                  Люксор в ТРК Лето                      1   \n",
       "95            АвтоКАРО под звездами: МЕГА Екатеринбург                      1   \n",
       "98                            Автокинотеатр «ДКЖ-кино»                      1   \n",
       "99   Автокинотеатр Синема Парк Зеленопарк (Зеленоград)                      1   \n",
       "\n",
       "     place_row_0 min  place_row_0 max  place_seat_0 min  place_seat_0 max  \n",
       "226                1               12                 1                32  \n",
       "271                2                6                 5                10  \n",
       "585                1               13                 1                10  \n",
       "586                1                7                 1                16  \n",
       "279                1               10                 1                20  \n",
       "..               ...              ...               ...               ...  \n",
       "588                6                6                 5                 5  \n",
       "432                4                4                 7                 7  \n",
       "95                 0                0                 0                 0  \n",
       "98                 2                3                 4                 4  \n",
       "99                 1                4                14                40  \n",
       "\n",
       "[782 rows x 6 columns]"
      ]
     },
     "execution_count": 251,
     "metadata": {},
     "output_type": "execute_result"
    }
   ],
   "source": [
    "hall_size.sort_values('number_of_tickets max', ascending=False)"
   ]
  },
  {
   "cell_type": "code",
   "execution_count": 384,
   "id": "e78a5ae4",
   "metadata": {
    "scrolled": true
   },
   "outputs": [
    {
     "name": "stdout",
     "output_type": "stream",
     "text": [
      "<class 'pandas.core.frame.DataFrame'>\n",
      "RangeIndex: 525271 entries, 0 to 525270\n",
      "Data columns (total 58 columns):\n",
      " #   Column                 Non-Null Count   Dtype         \n",
      "---  ------                 --------------   -----         \n",
      " 0   order_id               525271 non-null  int64         \n",
      " 1   creation_date          525271 non-null  datetime64[ns]\n",
      " 2   session_date           525271 non-null  datetime64[ns]\n",
      " 3   movie_id               525271 non-null  int64         \n",
      " 4   movie_name             525271 non-null  object        \n",
      " 5   movie_duration         521989 non-null  object        \n",
      " 6   movie_age_restriction  523648 non-null  object        \n",
      " 7   movie_rating           525271 non-null  float64       \n",
      " 8   genre_is_triller       525271 non-null  int64         \n",
      " 9   genre_is_military      525271 non-null  int64         \n",
      " 10  genre_is_action        525271 non-null  int64         \n",
      " 11  genre_is_biographical  525271 non-null  int64         \n",
      " 12  genre_is_fairy_tale    525271 non-null  int64         \n",
      " 13  genre_is_science       525271 non-null  int64         \n",
      " 14  genre_is_fantasy       525271 non-null  int64         \n",
      " 15  genre_is_historical    525271 non-null  int64         \n",
      " 16  genre_is_drama         525271 non-null  int64         \n",
      " 17  genre_is_animation     525271 non-null  int64         \n",
      " 18  genre_is_cartoon       525271 non-null  int64         \n",
      " 19  genre_is_documentary   525271 non-null  int64         \n",
      " 20  genre_is_adventure     525271 non-null  int64         \n",
      " 21  genre_is_fiction       525271 non-null  int64         \n",
      " 22  genre_is_childish      525271 non-null  int64         \n",
      " 23  genre_is_horror        525271 non-null  int64         \n",
      " 24  genre_is_humor         525271 non-null  int64         \n",
      " 25  genre_is_western       525271 non-null  int64         \n",
      " 26  genre_is_noir          525271 non-null  int64         \n",
      " 27  genre_is_detective     525271 non-null  int64         \n",
      " 28  genre_is_biography     525271 non-null  int64         \n",
      " 29  genre_is_criminal      525271 non-null  int64         \n",
      " 30  genre_is_tragicomedy   525271 non-null  int64         \n",
      " 31  genre_is_biopic        525271 non-null  int64         \n",
      " 32  genre_is_mystic        525271 non-null  int64         \n",
      " 33  genre_is_family        525271 non-null  int64         \n",
      " 34  genre_is_comedy        525271 non-null  int64         \n",
      " 35  genre_is_arthouse      525271 non-null  int64         \n",
      " 36  number_of_tickets      525271 non-null  int64         \n",
      " 37  places                 525271 non-null  object        \n",
      " 38  sales_in_cu            525271 non-null  float64       \n",
      " 39  ticket_price_in_cu     525271 non-null  float64       \n",
      " 40  cinema_name            525271 non-null  object        \n",
      " 41  cinema_address         525271 non-null  object        \n",
      " 42  cinema_latitude        525271 non-null  float64       \n",
      " 43  cinema_longitude       525271 non-null  float64       \n",
      " 44  cinema_city            525271 non-null  object        \n",
      " 45  client_id              525271 non-null  uint64        \n",
      " 46  place_row_0            525271 non-null  int32         \n",
      " 47  place_seat_0           525271 non-null  int32         \n",
      " 48  place_row_1            525271 non-null  int32         \n",
      " 49  place_seat_1           525271 non-null  int32         \n",
      " 50  place_row_2            525271 non-null  int32         \n",
      " 51  place_seat_2           525271 non-null  int32         \n",
      " 52  place_row_3            525271 non-null  int32         \n",
      " 53  place_seat_3           525271 non-null  int32         \n",
      " 54  place_row_4            525271 non-null  int32         \n",
      " 55  place_seat_4           525271 non-null  int32         \n",
      " 56  place_row_5            525271 non-null  int32         \n",
      " 57  place_seat_5           525271 non-null  int32         \n",
      "dtypes: datetime64[ns](2), float64(5), int32(12), int64(31), object(7), uint64(1)\n",
      "memory usage: 208.4+ MB\n"
     ]
    }
   ],
   "source": [
    "df2.info()"
   ]
  },
  {
   "cell_type": "code",
   "execution_count": 322,
   "id": "b5cec07c",
   "metadata": {},
   "outputs": [],
   "source": [
    "# сделали movie_rating типом float\n",
    "\n",
    "df2.movie_rating = df2.movie_rating.str.replace(',', '.').astype(float)"
   ]
  },
  {
   "cell_type": "code",
   "execution_count": null,
   "id": "b49d7fba",
   "metadata": {},
   "outputs": [],
   "source": []
  },
  {
   "cell_type": "code",
   "execution_count": 376,
   "id": "f4797a75",
   "metadata": {
    "collapsed": true
   },
   "outputs": [
    {
     "ename": "TypeError",
     "evalue": "unsupported operand type(s) for |: 'str' and 'str'",
     "output_type": "error",
     "traceback": [
      "\u001b[1;31m---------------------------------------------------------------------------\u001b[0m",
      "\u001b[1;31mTypeError\u001b[0m                                 Traceback (most recent call last)",
      "Cell \u001b[1;32mIn[376], line 1\u001b[0m\n\u001b[1;32m----> 1\u001b[0m df2\u001b[38;5;241m.\u001b[39mmovie_duration \u001b[38;5;241m=\u001b[39m  df2\u001b[38;5;241m.\u001b[39mmovie_duration\u001b[38;5;241m.\u001b[39mstr\u001b[38;5;241m.\u001b[39mreplace(\u001b[38;5;124;43m'\u001b[39;49m\u001b[38;5;124;43m мин.\u001b[39;49m\u001b[38;5;124;43m'\u001b[39;49m\u001b[38;5;241;43m|\u001b[39;49m\u001b[38;5;124;43m'\u001b[39;49m\u001b[38;5;124;43m \u001b[39;49m\u001b[38;5;124;43m'\u001b[39;49m, \u001b[38;5;124m'\u001b[39m\u001b[38;5;124m'\u001b[39m)\u001b[38;5;241m.\u001b[39mastype(\u001b[38;5;28mint\u001b[39m, errors\u001b[38;5;241m=\u001b[39m\u001b[38;5;124m'\u001b[39m\u001b[38;5;124mignore\u001b[39m\u001b[38;5;124m'\u001b[39m)\n",
      "\u001b[1;31mTypeError\u001b[0m: unsupported operand type(s) for |: 'str' and 'str'"
     ]
    }
   ],
   "source": [
    "df2.movie_duration =  df2.movie_duration.str.replace(' мин.', '').astype(int, errors='ignore')"
   ]
  },
  {
   "cell_type": "code",
   "execution_count": 313,
   "id": "a65c1b7e",
   "metadata": {},
   "outputs": [],
   "source": [
    "def duration_to_int(series):\n",
    "    for element in series:\n",
    "        if element.isdigit():\n",
    "            element = int(element)\n",
    "        else:\n",
    "            element = None\n",
    "    return series"
   ]
  },
  {
   "cell_type": "code",
   "execution_count": 315,
   "id": "7cef8d98",
   "metadata": {
    "collapsed": true
   },
   "outputs": [
    {
     "ename": "TypeError",
     "evalue": "'float' object is not iterable",
     "output_type": "error",
     "traceback": [
      "\u001b[1;31m---------------------------------------------------------------------------\u001b[0m",
      "\u001b[1;31mTypeError\u001b[0m                                 Traceback (most recent call last)",
      "Cell \u001b[1;32mIn[315], line 1\u001b[0m\n\u001b[1;32m----> 1\u001b[0m \u001b[43mdf2\u001b[49m\u001b[43m[\u001b[49m\u001b[38;5;124;43m'\u001b[39;49m\u001b[38;5;124;43mmovie_duration\u001b[39;49m\u001b[38;5;124;43m'\u001b[39;49m\u001b[43m]\u001b[49m\u001b[38;5;241;43m.\u001b[39;49m\u001b[43mapply\u001b[49m\u001b[43m(\u001b[49m\u001b[43mduration_to_int\u001b[49m\u001b[43m)\u001b[49m\n",
      "File \u001b[1;32m~\\AppData\\Local\\Programs\\Python\\Python311\\Lib\\site-packages\\pandas\\core\\series.py:4771\u001b[0m, in \u001b[0;36mSeries.apply\u001b[1;34m(self, func, convert_dtype, args, **kwargs)\u001b[0m\n\u001b[0;32m   4661\u001b[0m \u001b[38;5;28;01mdef\u001b[39;00m \u001b[38;5;21mapply\u001b[39m(\n\u001b[0;32m   4662\u001b[0m     \u001b[38;5;28mself\u001b[39m,\n\u001b[0;32m   4663\u001b[0m     func: AggFuncType,\n\u001b[1;32m   (...)\u001b[0m\n\u001b[0;32m   4666\u001b[0m     \u001b[38;5;241m*\u001b[39m\u001b[38;5;241m*\u001b[39mkwargs,\n\u001b[0;32m   4667\u001b[0m ) \u001b[38;5;241m-\u001b[39m\u001b[38;5;241m>\u001b[39m DataFrame \u001b[38;5;241m|\u001b[39m Series:\n\u001b[0;32m   4668\u001b[0m \u001b[38;5;250m    \u001b[39m\u001b[38;5;124;03m\"\"\"\u001b[39;00m\n\u001b[0;32m   4669\u001b[0m \u001b[38;5;124;03m    Invoke function on values of Series.\u001b[39;00m\n\u001b[0;32m   4670\u001b[0m \n\u001b[1;32m   (...)\u001b[0m\n\u001b[0;32m   4769\u001b[0m \u001b[38;5;124;03m    dtype: float64\u001b[39;00m\n\u001b[0;32m   4770\u001b[0m \u001b[38;5;124;03m    \"\"\"\u001b[39;00m\n\u001b[1;32m-> 4771\u001b[0m     \u001b[38;5;28;01mreturn\u001b[39;00m \u001b[43mSeriesApply\u001b[49m\u001b[43m(\u001b[49m\u001b[38;5;28;43mself\u001b[39;49m\u001b[43m,\u001b[49m\u001b[43m \u001b[49m\u001b[43mfunc\u001b[49m\u001b[43m,\u001b[49m\u001b[43m \u001b[49m\u001b[43mconvert_dtype\u001b[49m\u001b[43m,\u001b[49m\u001b[43m \u001b[49m\u001b[43margs\u001b[49m\u001b[43m,\u001b[49m\u001b[43m \u001b[49m\u001b[43mkwargs\u001b[49m\u001b[43m)\u001b[49m\u001b[38;5;241;43m.\u001b[39;49m\u001b[43mapply\u001b[49m\u001b[43m(\u001b[49m\u001b[43m)\u001b[49m\n",
      "File \u001b[1;32m~\\AppData\\Local\\Programs\\Python\\Python311\\Lib\\site-packages\\pandas\\core\\apply.py:1123\u001b[0m, in \u001b[0;36mSeriesApply.apply\u001b[1;34m(self)\u001b[0m\n\u001b[0;32m   1120\u001b[0m     \u001b[38;5;28;01mreturn\u001b[39;00m \u001b[38;5;28mself\u001b[39m\u001b[38;5;241m.\u001b[39mapply_str()\n\u001b[0;32m   1122\u001b[0m \u001b[38;5;66;03m# self.f is Callable\u001b[39;00m\n\u001b[1;32m-> 1123\u001b[0m \u001b[38;5;28;01mreturn\u001b[39;00m \u001b[38;5;28;43mself\u001b[39;49m\u001b[38;5;241;43m.\u001b[39;49m\u001b[43mapply_standard\u001b[49m\u001b[43m(\u001b[49m\u001b[43m)\u001b[49m\n",
      "File \u001b[1;32m~\\AppData\\Local\\Programs\\Python\\Python311\\Lib\\site-packages\\pandas\\core\\apply.py:1174\u001b[0m, in \u001b[0;36mSeriesApply.apply_standard\u001b[1;34m(self)\u001b[0m\n\u001b[0;32m   1172\u001b[0m     \u001b[38;5;28;01melse\u001b[39;00m:\n\u001b[0;32m   1173\u001b[0m         values \u001b[38;5;241m=\u001b[39m obj\u001b[38;5;241m.\u001b[39mastype(\u001b[38;5;28mobject\u001b[39m)\u001b[38;5;241m.\u001b[39m_values\n\u001b[1;32m-> 1174\u001b[0m         mapped \u001b[38;5;241m=\u001b[39m \u001b[43mlib\u001b[49m\u001b[38;5;241;43m.\u001b[39;49m\u001b[43mmap_infer\u001b[49m\u001b[43m(\u001b[49m\n\u001b[0;32m   1175\u001b[0m \u001b[43m            \u001b[49m\u001b[43mvalues\u001b[49m\u001b[43m,\u001b[49m\n\u001b[0;32m   1176\u001b[0m \u001b[43m            \u001b[49m\u001b[43mf\u001b[49m\u001b[43m,\u001b[49m\n\u001b[0;32m   1177\u001b[0m \u001b[43m            \u001b[49m\u001b[43mconvert\u001b[49m\u001b[38;5;241;43m=\u001b[39;49m\u001b[38;5;28;43mself\u001b[39;49m\u001b[38;5;241;43m.\u001b[39;49m\u001b[43mconvert_dtype\u001b[49m\u001b[43m,\u001b[49m\n\u001b[0;32m   1178\u001b[0m \u001b[43m        \u001b[49m\u001b[43m)\u001b[49m\n\u001b[0;32m   1180\u001b[0m \u001b[38;5;28;01mif\u001b[39;00m \u001b[38;5;28mlen\u001b[39m(mapped) \u001b[38;5;129;01mand\u001b[39;00m \u001b[38;5;28misinstance\u001b[39m(mapped[\u001b[38;5;241m0\u001b[39m], ABCSeries):\n\u001b[0;32m   1181\u001b[0m     \u001b[38;5;66;03m# GH#43986 Need to do list(mapped) in order to get treated as nested\u001b[39;00m\n\u001b[0;32m   1182\u001b[0m     \u001b[38;5;66;03m#  See also GH#25959 regarding EA support\u001b[39;00m\n\u001b[0;32m   1183\u001b[0m     \u001b[38;5;28;01mreturn\u001b[39;00m obj\u001b[38;5;241m.\u001b[39m_constructor_expanddim(\u001b[38;5;28mlist\u001b[39m(mapped), index\u001b[38;5;241m=\u001b[39mobj\u001b[38;5;241m.\u001b[39mindex)\n",
      "File \u001b[1;32m~\\AppData\\Local\\Programs\\Python\\Python311\\Lib\\site-packages\\pandas\\_libs\\lib.pyx:2924\u001b[0m, in \u001b[0;36mpandas._libs.lib.map_infer\u001b[1;34m()\u001b[0m\n",
      "Cell \u001b[1;32mIn[313], line 2\u001b[0m, in \u001b[0;36mduration_to_int\u001b[1;34m(series)\u001b[0m\n\u001b[0;32m      1\u001b[0m \u001b[38;5;28;01mdef\u001b[39;00m \u001b[38;5;21mduration_to_int\u001b[39m(series):\n\u001b[1;32m----> 2\u001b[0m     \u001b[38;5;28;01mfor\u001b[39;00m element \u001b[38;5;129;01min\u001b[39;00m series:\n\u001b[0;32m      3\u001b[0m         \u001b[38;5;28;01mif\u001b[39;00m element\u001b[38;5;241m.\u001b[39misdigit():\n\u001b[0;32m      4\u001b[0m             element \u001b[38;5;241m=\u001b[39m \u001b[38;5;28mint\u001b[39m(element)\n",
      "\u001b[1;31mTypeError\u001b[0m: 'float' object is not iterable"
     ]
    }
   ],
   "source": [
    "df2['movie_duration'].apply(duration_to_int)"
   ]
  },
  {
   "cell_type": "code",
   "execution_count": 278,
   "id": "219925dd",
   "metadata": {},
   "outputs": [],
   "source": [
    "# приводим sales_in_cu в вид рубли, копейки\n",
    "\n",
    "df2.sales_in_cu = df2.sales_in_cu.str.replace(',', '.').astype(float).round(2)"
   ]
  },
  {
   "cell_type": "code",
   "execution_count": 280,
   "id": "6120faf8",
   "metadata": {},
   "outputs": [],
   "source": [
    "# приводим ticket_price_in_cu в вид рубли, копейки\n",
    "\n",
    "df2.ticket_price_in_cu = df2.ticket_price_in_cu.str.replace(',', '.').astype(float).round(2)"
   ]
  },
  {
   "cell_type": "markdown",
   "id": "72dd66d9",
   "metadata": {},
   "source": [
    "# Нормальная аналитика"
   ]
  },
  {
   "cell_type": "code",
   "execution_count": 340,
   "id": "b77dd74c",
   "metadata": {},
   "outputs": [
    {
     "data": {
      "text/html": [
       "<div>\n",
       "<style scoped>\n",
       "    .dataframe tbody tr th:only-of-type {\n",
       "        vertical-align: middle;\n",
       "    }\n",
       "\n",
       "    .dataframe tbody tr th {\n",
       "        vertical-align: top;\n",
       "    }\n",
       "\n",
       "    .dataframe thead th {\n",
       "        text-align: right;\n",
       "    }\n",
       "</style>\n",
       "<table border=\"1\" class=\"dataframe\">\n",
       "  <thead>\n",
       "    <tr style=\"text-align: right;\">\n",
       "      <th></th>\n",
       "      <th>order_id</th>\n",
       "      <th>creation_date</th>\n",
       "      <th>session_date</th>\n",
       "      <th>movie_id</th>\n",
       "      <th>movie_name</th>\n",
       "      <th>movie_duration</th>\n",
       "      <th>movie_age_restriction</th>\n",
       "      <th>movie_rating</th>\n",
       "      <th>genre_is_triller</th>\n",
       "      <th>genre_is_military</th>\n",
       "      <th>genre_is_action</th>\n",
       "      <th>genre_is_biographical</th>\n",
       "      <th>genre_is_fairy_tale</th>\n",
       "      <th>genre_is_science</th>\n",
       "      <th>genre_is_fantasy</th>\n",
       "      <th>genre_is_historical</th>\n",
       "      <th>genre_is_drama</th>\n",
       "      <th>genre_is_animation</th>\n",
       "      <th>genre_is_cartoon</th>\n",
       "      <th>genre_is_documentary</th>\n",
       "      <th>genre_is_adventure</th>\n",
       "      <th>genre_is_fiction</th>\n",
       "      <th>genre_is_childish</th>\n",
       "      <th>genre_is_horror</th>\n",
       "      <th>genre_is_humor</th>\n",
       "      <th>genre_is_western</th>\n",
       "      <th>genre_is_noir</th>\n",
       "      <th>genre_is_detective</th>\n",
       "      <th>genre_is_biography</th>\n",
       "      <th>genre_is_criminal</th>\n",
       "      <th>genre_is_tragicomedy</th>\n",
       "      <th>genre_is_biopic</th>\n",
       "      <th>genre_is_mystic</th>\n",
       "      <th>genre_is_family</th>\n",
       "      <th>genre_is_comedy</th>\n",
       "      <th>genre_is_arthouse</th>\n",
       "      <th>number_of_tickets</th>\n",
       "      <th>places</th>\n",
       "      <th>sales_in_cu</th>\n",
       "      <th>ticket_price_in_cu</th>\n",
       "      <th>cinema_name</th>\n",
       "      <th>cinema_address</th>\n",
       "      <th>cinema_latitude</th>\n",
       "      <th>cinema_longitude</th>\n",
       "      <th>cinema_city</th>\n",
       "      <th>client_id</th>\n",
       "      <th>place_row_0</th>\n",
       "      <th>place_seat_0</th>\n",
       "      <th>place_row_1</th>\n",
       "      <th>place_seat_1</th>\n",
       "      <th>place_row_2</th>\n",
       "      <th>place_seat_2</th>\n",
       "      <th>place_row_3</th>\n",
       "      <th>place_seat_3</th>\n",
       "      <th>place_row_4</th>\n",
       "      <th>place_seat_4</th>\n",
       "      <th>place_row_5</th>\n",
       "      <th>place_seat_5</th>\n",
       "    </tr>\n",
       "  </thead>\n",
       "  <tbody>\n",
       "    <tr>\n",
       "      <th>0</th>\n",
       "      <td>2441412</td>\n",
       "      <td>2020-03-07</td>\n",
       "      <td>2020-03-07</td>\n",
       "      <td>32452</td>\n",
       "      <td>Маленькие женщины</td>\n",
       "      <td>135</td>\n",
       "      <td>12+</td>\n",
       "      <td>7.7</td>\n",
       "      <td>0</td>\n",
       "      <td>0</td>\n",
       "      <td>0</td>\n",
       "      <td>0</td>\n",
       "      <td>0</td>\n",
       "      <td>0</td>\n",
       "      <td>0</td>\n",
       "      <td>0</td>\n",
       "      <td>1</td>\n",
       "      <td>0</td>\n",
       "      <td>0</td>\n",
       "      <td>0</td>\n",
       "      <td>0</td>\n",
       "      <td>0</td>\n",
       "      <td>0</td>\n",
       "      <td>0</td>\n",
       "      <td>0</td>\n",
       "      <td>0</td>\n",
       "      <td>0</td>\n",
       "      <td>0</td>\n",
       "      <td>0</td>\n",
       "      <td>0</td>\n",
       "      <td>0</td>\n",
       "      <td>0</td>\n",
       "      <td>0</td>\n",
       "      <td>1</td>\n",
       "      <td>0</td>\n",
       "      <td>0</td>\n",
       "      <td>2</td>\n",
       "      <td>5, 6, 5, 5</td>\n",
       "      <td>63.29</td>\n",
       "      <td>31.65</td>\n",
       "      <td>Каро 10 Щука</td>\n",
       "      <td>ул. Щукинская, д. 42</td>\n",
       "      <td>55.809469</td>\n",
       "      <td>37.464571</td>\n",
       "      <td>Москва</td>\n",
       "      <td>12419121665619114461</td>\n",
       "      <td>5</td>\n",
       "      <td>6</td>\n",
       "      <td>5</td>\n",
       "      <td>5</td>\n",
       "      <td>0</td>\n",
       "      <td>0</td>\n",
       "      <td>0</td>\n",
       "      <td>0</td>\n",
       "      <td>0</td>\n",
       "      <td>0</td>\n",
       "      <td>0</td>\n",
       "      <td>0</td>\n",
       "    </tr>\n",
       "  </tbody>\n",
       "</table>\n",
       "</div>"
      ],
      "text/plain": [
       "   order_id creation_date session_date  movie_id         movie_name  \\\n",
       "0   2441412    2020-03-07   2020-03-07     32452  Маленькие женщины   \n",
       "\n",
       "  movie_duration movie_age_restriction  movie_rating  genre_is_triller  \\\n",
       "0            135                   12+           7.7                 0   \n",
       "\n",
       "   genre_is_military  genre_is_action  genre_is_biographical  \\\n",
       "0                  0                0                      0   \n",
       "\n",
       "   genre_is_fairy_tale  genre_is_science  genre_is_fantasy  \\\n",
       "0                    0                 0                 0   \n",
       "\n",
       "   genre_is_historical  genre_is_drama  genre_is_animation  genre_is_cartoon  \\\n",
       "0                    0               1                   0                 0   \n",
       "\n",
       "   genre_is_documentary  genre_is_adventure  genre_is_fiction  \\\n",
       "0                     0                   0                 0   \n",
       "\n",
       "   genre_is_childish  genre_is_horror  genre_is_humor  genre_is_western  \\\n",
       "0                  0                0               0                 0   \n",
       "\n",
       "   genre_is_noir  genre_is_detective  genre_is_biography  genre_is_criminal  \\\n",
       "0              0                   0                   0                  0   \n",
       "\n",
       "   genre_is_tragicomedy  genre_is_biopic  genre_is_mystic  genre_is_family  \\\n",
       "0                     0                0                0                1   \n",
       "\n",
       "   genre_is_comedy  genre_is_arthouse  number_of_tickets      places  \\\n",
       "0                0                  0                  2  5, 6, 5, 5   \n",
       "\n",
       "   sales_in_cu  ticket_price_in_cu   cinema_name        cinema_address  \\\n",
       "0        63.29               31.65  Каро 10 Щука  ул. Щукинская, д. 42   \n",
       "\n",
       "   cinema_latitude  cinema_longitude cinema_city             client_id  \\\n",
       "0        55.809469         37.464571      Москва  12419121665619114461   \n",
       "\n",
       "   place_row_0  place_seat_0  place_row_1  place_seat_1  place_row_2  \\\n",
       "0            5             6            5             5            0   \n",
       "\n",
       "   place_seat_2  place_row_3  place_seat_3  place_row_4  place_seat_4  \\\n",
       "0             0            0             0            0             0   \n",
       "\n",
       "   place_row_5  place_seat_5  \n",
       "0            0             0  "
      ]
     },
     "execution_count": 340,
     "metadata": {},
     "output_type": "execute_result"
    }
   ],
   "source": [
    "df2.head(1)"
   ]
  },
  {
   "cell_type": "code",
   "execution_count": 358,
   "id": "2c8ecbf6",
   "metadata": {},
   "outputs": [],
   "source": [
    "ratings = df2 \\\n",
    "    .groupby('movie_rating', as_index=False) \\\n",
    "    .agg({'movie_id': 'nunique'}) \\\n",
    "    .rename(columns={'movie_id': 'rating_count'})"
   ]
  },
  {
   "cell_type": "code",
   "execution_count": 383,
   "id": "3bc47bdd",
   "metadata": {},
   "outputs": [
    {
     "data": {
      "text/html": [
       "<div>\n",
       "<style scoped>\n",
       "    .dataframe tbody tr th:only-of-type {\n",
       "        vertical-align: middle;\n",
       "    }\n",
       "\n",
       "    .dataframe tbody tr th {\n",
       "        vertical-align: top;\n",
       "    }\n",
       "\n",
       "    .dataframe thead th {\n",
       "        text-align: right;\n",
       "    }\n",
       "</style>\n",
       "<table border=\"1\" class=\"dataframe\">\n",
       "  <thead>\n",
       "    <tr style=\"text-align: right;\">\n",
       "      <th></th>\n",
       "      <th>movie_rating</th>\n",
       "      <th>rating_count</th>\n",
       "    </tr>\n",
       "  </thead>\n",
       "  <tbody>\n",
       "    <tr>\n",
       "      <th>6</th>\n",
       "      <td>4.20</td>\n",
       "      <td>4</td>\n",
       "    </tr>\n",
       "    <tr>\n",
       "      <th>8</th>\n",
       "      <td>4.45</td>\n",
       "      <td>3</td>\n",
       "    </tr>\n",
       "    <tr>\n",
       "      <th>10</th>\n",
       "      <td>4.55</td>\n",
       "      <td>3</td>\n",
       "    </tr>\n",
       "    <tr>\n",
       "      <th>13</th>\n",
       "      <td>4.80</td>\n",
       "      <td>3</td>\n",
       "    </tr>\n",
       "    <tr>\n",
       "      <th>15</th>\n",
       "      <td>4.90</td>\n",
       "      <td>5</td>\n",
       "    </tr>\n",
       "    <tr>\n",
       "      <th>...</th>\n",
       "      <td>...</td>\n",
       "      <td>...</td>\n",
       "    </tr>\n",
       "    <tr>\n",
       "      <th>83</th>\n",
       "      <td>8.30</td>\n",
       "      <td>9</td>\n",
       "    </tr>\n",
       "    <tr>\n",
       "      <th>85</th>\n",
       "      <td>8.40</td>\n",
       "      <td>8</td>\n",
       "    </tr>\n",
       "    <tr>\n",
       "      <th>86</th>\n",
       "      <td>8.50</td>\n",
       "      <td>3</td>\n",
       "    </tr>\n",
       "    <tr>\n",
       "      <th>89</th>\n",
       "      <td>8.70</td>\n",
       "      <td>5</td>\n",
       "    </tr>\n",
       "    <tr>\n",
       "      <th>96</th>\n",
       "      <td>10.00</td>\n",
       "      <td>3</td>\n",
       "    </tr>\n",
       "  </tbody>\n",
       "</table>\n",
       "<p>74 rows × 2 columns</p>\n",
       "</div>"
      ],
      "text/plain": [
       "    movie_rating  rating_count\n",
       "6           4.20             4\n",
       "8           4.45             3\n",
       "10          4.55             3\n",
       "13          4.80             3\n",
       "15          4.90             5\n",
       "..           ...           ...\n",
       "83          8.30             9\n",
       "85          8.40             8\n",
       "86          8.50             3\n",
       "89          8.70             5\n",
       "96         10.00             3\n",
       "\n",
       "[74 rows x 2 columns]"
      ]
     },
     "execution_count": 383,
     "metadata": {},
     "output_type": "execute_result"
    }
   ],
   "source": [
    "# убрали рейтинги, которые встречются меньше 3 раз и рейтинг 0\n",
    "# чтобы выбросы не влияли на среднее и медиану\n",
    "\n",
    "filtered_ratings = ratings.query('rating_count > 2 and movie_rating != 0')\n",
    "filtered_ratings"
   ]
  },
  {
   "cell_type": "code",
   "execution_count": 423,
   "id": "67cbd9df",
   "metadata": {},
   "outputs": [],
   "source": [
    "# посмотрим на то, как распределена наша прибыль с каждого билета по кинотеатрам\n",
    "\n",
    "revenue_per_ticket_by_cinema = df2 \\\n",
    "    .groupby(['cinema_city', 'cinema_name'], as_index=False) \\\n",
    "    .agg({'order_id': 'nunique', 'number_of_tickets': 'sum', 'ticket_price_in_cu': ['mean', 'min', 'max'], 'sales_in_cu': ['mean', 'min', 'max']}) \\\n",
    "    .round(2)"
   ]
  },
  {
   "cell_type": "code",
   "execution_count": 425,
   "id": "3e1998f1",
   "metadata": {},
   "outputs": [],
   "source": [
    "revenue_per_ticket_by_cinema.columns = ['_'.join(col).strip() for col in revenue_per_ticket_by_cinema.columns.values]"
   ]
  },
  {
   "cell_type": "code",
   "execution_count": 426,
   "id": "3d7a77f6",
   "metadata": {},
   "outputs": [
    {
     "data": {
      "text/html": [
       "<div>\n",
       "<style scoped>\n",
       "    .dataframe tbody tr th:only-of-type {\n",
       "        vertical-align: middle;\n",
       "    }\n",
       "\n",
       "    .dataframe tbody tr th {\n",
       "        vertical-align: top;\n",
       "    }\n",
       "\n",
       "    .dataframe thead th {\n",
       "        text-align: right;\n",
       "    }\n",
       "</style>\n",
       "<table border=\"1\" class=\"dataframe\">\n",
       "  <thead>\n",
       "    <tr style=\"text-align: right;\">\n",
       "      <th></th>\n",
       "      <th>cinema_city_</th>\n",
       "      <th>cinema_name_</th>\n",
       "      <th>order_id_nunique</th>\n",
       "      <th>number_of_tickets_sum</th>\n",
       "      <th>ticket_price_in_cu_mean</th>\n",
       "      <th>ticket_price_in_cu_min</th>\n",
       "      <th>ticket_price_in_cu_max</th>\n",
       "      <th>sales_in_cu_mean</th>\n",
       "      <th>sales_in_cu_min</th>\n",
       "      <th>sales_in_cu_max</th>\n",
       "    </tr>\n",
       "  </thead>\n",
       "  <tbody>\n",
       "    <tr>\n",
       "      <th>0</th>\n",
       "      <td>Абдулино</td>\n",
       "      <td>Юность (Абдулино)</td>\n",
       "      <td>11</td>\n",
       "      <td>30</td>\n",
       "      <td>30.21</td>\n",
       "      <td>22.15</td>\n",
       "      <td>31.65</td>\n",
       "      <td>82.57</td>\n",
       "      <td>31.65</td>\n",
       "      <td>126.58</td>\n",
       "    </tr>\n",
       "    <tr>\n",
       "      <th>1</th>\n",
       "      <td>Адлер</td>\n",
       "      <td>City Stars (Адлер)</td>\n",
       "      <td>863</td>\n",
       "      <td>1816</td>\n",
       "      <td>48.73</td>\n",
       "      <td>23.73</td>\n",
       "      <td>71.20</td>\n",
       "      <td>103.58</td>\n",
       "      <td>23.73</td>\n",
       "      <td>332.28</td>\n",
       "    </tr>\n",
       "    <tr>\n",
       "      <th>2</th>\n",
       "      <td>Алексеевка</td>\n",
       "      <td>Спутник Алексеевка</td>\n",
       "      <td>3</td>\n",
       "      <td>9</td>\n",
       "      <td>36.92</td>\n",
       "      <td>34.81</td>\n",
       "      <td>41.14</td>\n",
       "      <td>112.87</td>\n",
       "      <td>69.62</td>\n",
       "      <td>164.56</td>\n",
       "    </tr>\n",
       "    <tr>\n",
       "      <th>3</th>\n",
       "      <td>Анапа</td>\n",
       "      <td>Мир кино 3D</td>\n",
       "      <td>24</td>\n",
       "      <td>55</td>\n",
       "      <td>39.99</td>\n",
       "      <td>31.65</td>\n",
       "      <td>51.42</td>\n",
       "      <td>93.88</td>\n",
       "      <td>39.56</td>\n",
       "      <td>237.34</td>\n",
       "    </tr>\n",
       "    <tr>\n",
       "      <th>4</th>\n",
       "      <td>Арзамас</td>\n",
       "      <td>Люмен Фильм  (Арзамас)</td>\n",
       "      <td>174</td>\n",
       "      <td>395</td>\n",
       "      <td>39.97</td>\n",
       "      <td>12.66</td>\n",
       "      <td>55.38</td>\n",
       "      <td>90.33</td>\n",
       "      <td>25.32</td>\n",
       "      <td>276.90</td>\n",
       "    </tr>\n",
       "    <tr>\n",
       "      <th>...</th>\n",
       "      <td>...</td>\n",
       "      <td>...</td>\n",
       "      <td>...</td>\n",
       "      <td>...</td>\n",
       "      <td>...</td>\n",
       "      <td>...</td>\n",
       "      <td>...</td>\n",
       "      <td>...</td>\n",
       "      <td>...</td>\n",
       "      <td>...</td>\n",
       "    </tr>\n",
       "    <tr>\n",
       "      <th>855</th>\n",
       "      <td>Ярославль</td>\n",
       "      <td>Киномакс-Аура</td>\n",
       "      <td>481</td>\n",
       "      <td>964</td>\n",
       "      <td>40.53</td>\n",
       "      <td>18.99</td>\n",
       "      <td>94.94</td>\n",
       "      <td>81.51</td>\n",
       "      <td>23.73</td>\n",
       "      <td>341.77</td>\n",
       "    </tr>\n",
       "    <tr>\n",
       "      <th>856</th>\n",
       "      <td>Ярославль</td>\n",
       "      <td>Киномакс–Альтаир</td>\n",
       "      <td>354</td>\n",
       "      <td>763</td>\n",
       "      <td>36.33</td>\n",
       "      <td>18.99</td>\n",
       "      <td>52.22</td>\n",
       "      <td>79.02</td>\n",
       "      <td>18.99</td>\n",
       "      <td>237.34</td>\n",
       "    </tr>\n",
       "    <tr>\n",
       "      <th>857</th>\n",
       "      <td>Ярославль</td>\n",
       "      <td>Киномакс–Аура</td>\n",
       "      <td>945</td>\n",
       "      <td>2040</td>\n",
       "      <td>40.61</td>\n",
       "      <td>15.82</td>\n",
       "      <td>80.70</td>\n",
       "      <td>88.25</td>\n",
       "      <td>15.82</td>\n",
       "      <td>276.90</td>\n",
       "    </tr>\n",
       "    <tr>\n",
       "      <th>858</th>\n",
       "      <td>Ярославль</td>\n",
       "      <td>Синема Стар (Тутаевское)</td>\n",
       "      <td>259</td>\n",
       "      <td>562</td>\n",
       "      <td>28.53</td>\n",
       "      <td>15.82</td>\n",
       "      <td>47.47</td>\n",
       "      <td>63.55</td>\n",
       "      <td>15.82</td>\n",
       "      <td>197.78</td>\n",
       "    </tr>\n",
       "    <tr>\n",
       "      <th>859</th>\n",
       "      <td>Ярославль</td>\n",
       "      <td>Синема Стар Шоколад</td>\n",
       "      <td>357</td>\n",
       "      <td>729</td>\n",
       "      <td>34.26</td>\n",
       "      <td>18.99</td>\n",
       "      <td>42.72</td>\n",
       "      <td>70.30</td>\n",
       "      <td>18.99</td>\n",
       "      <td>256.33</td>\n",
       "    </tr>\n",
       "  </tbody>\n",
       "</table>\n",
       "<p>860 rows × 10 columns</p>\n",
       "</div>"
      ],
      "text/plain": [
       "    cinema_city_              cinema_name_  order_id_nunique  \\\n",
       "0       Абдулино         Юность (Абдулино)                11   \n",
       "1          Адлер        City Stars (Адлер)               863   \n",
       "2     Алексеевка        Спутник Алексеевка                 3   \n",
       "3          Анапа               Мир кино 3D                24   \n",
       "4        Арзамас    Люмен Фильм  (Арзамас)               174   \n",
       "..           ...                       ...               ...   \n",
       "855    Ярославль             Киномакс-Аура               481   \n",
       "856    Ярославль          Киномакс–Альтаир               354   \n",
       "857    Ярославль             Киномакс–Аура               945   \n",
       "858    Ярославль  Синема Стар (Тутаевское)               259   \n",
       "859    Ярославль       Синема Стар Шоколад               357   \n",
       "\n",
       "     number_of_tickets_sum  ticket_price_in_cu_mean  ticket_price_in_cu_min  \\\n",
       "0                       30                    30.21                   22.15   \n",
       "1                     1816                    48.73                   23.73   \n",
       "2                        9                    36.92                   34.81   \n",
       "3                       55                    39.99                   31.65   \n",
       "4                      395                    39.97                   12.66   \n",
       "..                     ...                      ...                     ...   \n",
       "855                    964                    40.53                   18.99   \n",
       "856                    763                    36.33                   18.99   \n",
       "857                   2040                    40.61                   15.82   \n",
       "858                    562                    28.53                   15.82   \n",
       "859                    729                    34.26                   18.99   \n",
       "\n",
       "     ticket_price_in_cu_max  sales_in_cu_mean  sales_in_cu_min  \\\n",
       "0                     31.65             82.57            31.65   \n",
       "1                     71.20            103.58            23.73   \n",
       "2                     41.14            112.87            69.62   \n",
       "3                     51.42             93.88            39.56   \n",
       "4                     55.38             90.33            25.32   \n",
       "..                      ...               ...              ...   \n",
       "855                   94.94             81.51            23.73   \n",
       "856                   52.22             79.02            18.99   \n",
       "857                   80.70             88.25            15.82   \n",
       "858                   47.47             63.55            15.82   \n",
       "859                   42.72             70.30            18.99   \n",
       "\n",
       "     sales_in_cu_max  \n",
       "0             126.58  \n",
       "1             332.28  \n",
       "2             164.56  \n",
       "3             237.34  \n",
       "4             276.90  \n",
       "..               ...  \n",
       "855           341.77  \n",
       "856           237.34  \n",
       "857           276.90  \n",
       "858           197.78  \n",
       "859           256.33  \n",
       "\n",
       "[860 rows x 10 columns]"
      ]
     },
     "execution_count": 426,
     "metadata": {},
     "output_type": "execute_result"
    }
   ],
   "source": [
    "revenue_per_ticket_by_cinema"
   ]
  },
  {
   "cell_type": "code",
   "execution_count": 429,
   "id": "145a2c38",
   "metadata": {},
   "outputs": [],
   "source": [
    "# выкинем кинотеатры, в которых было 1 и 2 заказа, слишком сильно портят картину\n",
    "\n",
    "revenue_per_ticket_by_cinema = revenue_per_ticket_by_cinema[revenue_per_ticket_by_cinema['order_id_nunique'] > 2].sort_values('order_id_nunique', ascending=False)"
   ]
  },
  {
   "cell_type": "code",
   "execution_count": 430,
   "id": "b25e3a97",
   "metadata": {},
   "outputs": [
    {
     "data": {
      "text/html": [
       "<div>\n",
       "<style scoped>\n",
       "    .dataframe tbody tr th:only-of-type {\n",
       "        vertical-align: middle;\n",
       "    }\n",
       "\n",
       "    .dataframe tbody tr th {\n",
       "        vertical-align: top;\n",
       "    }\n",
       "\n",
       "    .dataframe thead th {\n",
       "        text-align: right;\n",
       "    }\n",
       "</style>\n",
       "<table border=\"1\" class=\"dataframe\">\n",
       "  <thead>\n",
       "    <tr style=\"text-align: right;\">\n",
       "      <th></th>\n",
       "      <th>order_id_nunique</th>\n",
       "      <th>number_of_tickets_sum</th>\n",
       "      <th>ticket_price_in_cu_mean</th>\n",
       "      <th>ticket_price_in_cu_min</th>\n",
       "      <th>ticket_price_in_cu_max</th>\n",
       "      <th>sales_in_cu_mean</th>\n",
       "      <th>sales_in_cu_min</th>\n",
       "      <th>sales_in_cu_max</th>\n",
       "    </tr>\n",
       "  </thead>\n",
       "  <tbody>\n",
       "    <tr>\n",
       "      <th>count</th>\n",
       "      <td>139.000000</td>\n",
       "      <td>139.000000</td>\n",
       "      <td>139.000000</td>\n",
       "      <td>139.000000</td>\n",
       "      <td>139.000000</td>\n",
       "      <td>139.000000</td>\n",
       "      <td>139.000000</td>\n",
       "      <td>139.000000</td>\n",
       "    </tr>\n",
       "    <tr>\n",
       "      <th>mean</th>\n",
       "      <td>1362.733813</td>\n",
       "      <td>2780.251799</td>\n",
       "      <td>60.201295</td>\n",
       "      <td>27.878489</td>\n",
       "      <td>129.658058</td>\n",
       "      <td>119.913957</td>\n",
       "      <td>30.739209</td>\n",
       "      <td>459.833597</td>\n",
       "    </tr>\n",
       "    <tr>\n",
       "      <th>std</th>\n",
       "      <td>1608.134050</td>\n",
       "      <td>3242.106318</td>\n",
       "      <td>61.657634</td>\n",
       "      <td>48.047280</td>\n",
       "      <td>143.308306</td>\n",
       "      <td>114.726602</td>\n",
       "      <td>48.385248</td>\n",
       "      <td>336.303401</td>\n",
       "    </tr>\n",
       "    <tr>\n",
       "      <th>min</th>\n",
       "      <td>3.000000</td>\n",
       "      <td>4.000000</td>\n",
       "      <td>26.370000</td>\n",
       "      <td>7.750000</td>\n",
       "      <td>31.650000</td>\n",
       "      <td>36.920000</td>\n",
       "      <td>7.750000</td>\n",
       "      <td>63.290000</td>\n",
       "    </tr>\n",
       "    <tr>\n",
       "      <th>25%</th>\n",
       "      <td>403.000000</td>\n",
       "      <td>771.500000</td>\n",
       "      <td>44.050000</td>\n",
       "      <td>15.820000</td>\n",
       "      <td>69.620000</td>\n",
       "      <td>88.010000</td>\n",
       "      <td>15.820000</td>\n",
       "      <td>284.810000</td>\n",
       "    </tr>\n",
       "    <tr>\n",
       "      <th>50%</th>\n",
       "      <td>781.000000</td>\n",
       "      <td>1669.000000</td>\n",
       "      <td>52.060000</td>\n",
       "      <td>18.990000</td>\n",
       "      <td>94.940000</td>\n",
       "      <td>106.190000</td>\n",
       "      <td>23.730000</td>\n",
       "      <td>360.760000</td>\n",
       "    </tr>\n",
       "    <tr>\n",
       "      <th>75%</th>\n",
       "      <td>1655.500000</td>\n",
       "      <td>3358.000000</td>\n",
       "      <td>63.225000</td>\n",
       "      <td>23.730000</td>\n",
       "      <td>158.230000</td>\n",
       "      <td>126.440000</td>\n",
       "      <td>28.480000</td>\n",
       "      <td>514.240000</td>\n",
       "    </tr>\n",
       "    <tr>\n",
       "      <th>max</th>\n",
       "      <td>9278.000000</td>\n",
       "      <td>19302.000000</td>\n",
       "      <td>751.590000</td>\n",
       "      <td>553.800000</td>\n",
       "      <td>1582.280000</td>\n",
       "      <td>1416.140000</td>\n",
       "      <td>553.800000</td>\n",
       "      <td>2848.100000</td>\n",
       "    </tr>\n",
       "  </tbody>\n",
       "</table>\n",
       "</div>"
      ],
      "text/plain": [
       "       order_id_nunique  number_of_tickets_sum  ticket_price_in_cu_mean  \\\n",
       "count        139.000000             139.000000               139.000000   \n",
       "mean        1362.733813            2780.251799                60.201295   \n",
       "std         1608.134050            3242.106318                61.657634   \n",
       "min            3.000000               4.000000                26.370000   \n",
       "25%          403.000000             771.500000                44.050000   \n",
       "50%          781.000000            1669.000000                52.060000   \n",
       "75%         1655.500000            3358.000000                63.225000   \n",
       "max         9278.000000           19302.000000               751.590000   \n",
       "\n",
       "       ticket_price_in_cu_min  ticket_price_in_cu_max  sales_in_cu_mean  \\\n",
       "count              139.000000              139.000000        139.000000   \n",
       "mean                27.878489              129.658058        119.913957   \n",
       "std                 48.047280              143.308306        114.726602   \n",
       "min                  7.750000               31.650000         36.920000   \n",
       "25%                 15.820000               69.620000         88.010000   \n",
       "50%                 18.990000               94.940000        106.190000   \n",
       "75%                 23.730000              158.230000        126.440000   \n",
       "max                553.800000             1582.280000       1416.140000   \n",
       "\n",
       "       sales_in_cu_min  sales_in_cu_max  \n",
       "count       139.000000       139.000000  \n",
       "mean         30.739209       459.833597  \n",
       "std          48.385248       336.303401  \n",
       "min           7.750000        63.290000  \n",
       "25%          15.820000       284.810000  \n",
       "50%          23.730000       360.760000  \n",
       "75%          28.480000       514.240000  \n",
       "max         553.800000      2848.100000  "
      ]
     },
     "execution_count": 430,
     "metadata": {},
     "output_type": "execute_result"
    }
   ],
   "source": [
    "revenue_per_ticket_by_cinema[revenue_per_ticket_by_cinema['cinema_city_'] == 'Москва'].describe()"
   ]
  },
  {
   "cell_type": "code",
   "execution_count": 434,
   "id": "ff58c748",
   "metadata": {},
   "outputs": [
    {
     "data": {
      "text/plain": [
       "51"
      ]
     },
     "execution_count": 434,
     "metadata": {},
     "output_type": "execute_result"
    }
   ],
   "source": [
    "# получается, выкинули 51 запись\n",
    "\n",
    "df2.shape[0] - revenue_per_ticket_by_cinema.order_id_nunique.sum()"
   ]
  },
  {
   "cell_type": "markdown",
   "id": "94b909b9",
   "metadata": {},
   "source": [
    "Выкидывать процентили будет не очень корректно, т.к. в верхнем процентиле находится практически одна Москва."
   ]
  },
  {
   "cell_type": "markdown",
   "id": "3bcbae76",
   "metadata": {},
   "source": [
    "# Посчитаем метрики "
   ]
  },
  {
   "cell_type": "markdown",
   "id": "918ecc1c",
   "metadata": {},
   "source": [
    "Revenue = 52564278.06\n",
    "\n",
    "Interval (days) = 303"
   ]
  },
  {
   "cell_type": "code",
   "execution_count": 506,
   "id": "de0bbac6",
   "metadata": {},
   "outputs": [
    {
     "data": {
      "text/plain": [
       "52564278.06"
      ]
     },
     "execution_count": 506,
     "metadata": {},
     "output_type": "execute_result"
    }
   ],
   "source": [
    "revenue = df2.sales_in_cu.sum().round(2)\n",
    "revenue"
   ]
  },
  {
   "cell_type": "markdown",
   "id": "74d1c5d4",
   "metadata": {},
   "source": [
    "Мы заработали 24,98 млн рублей за 303 дня."
   ]
  },
  {
   "cell_type": "code",
   "execution_count": 447,
   "id": "f1086d02",
   "metadata": {},
   "outputs": [
    {
     "data": {
      "text/plain": [
       "Timedelta('303 days 00:00:00')"
      ]
     },
     "execution_count": 447,
     "metadata": {},
     "output_type": "execute_result"
    }
   ],
   "source": [
    "df2.creation_date.max() - df2.creation_date.min()"
   ]
  },
  {
   "cell_type": "code",
   "execution_count": 493,
   "id": "0765ff51",
   "metadata": {},
   "outputs": [],
   "source": [
    "dau = df2 \\\n",
    "    .groupby('creation_date', as_index=False) \\\n",
    "    .client_id \\\n",
    "    .nunique() \\\n",
    "    .rename(columns={'client_id': 'active_payers'})"
   ]
  },
  {
   "cell_type": "code",
   "execution_count": 500,
   "id": "f513d2d8",
   "metadata": {},
   "outputs": [
    {
     "data": {
      "image/png": "[encoded data removed]",
      "text/plain": [
       "<Figure size 640x480 with 1 Axes>"
      ]
     },
     "metadata": {},
     "output_type": "display_data"
    }
   ],
   "source": [
    "sns.lineplot(data=dau, x='creation_date', y='active_payers')\n",
    "plt.title('DAU')\n",
    "plt.xticks(rotation=90);"
   ]
  },
  {
   "cell_type": "markdown",
   "id": "9653d573",
   "metadata": {},
   "source": [
    "Интересная просадка с середины весны по конец лета."
   ]
  },
  {
   "cell_type": "code",
   "execution_count": 486,
   "id": "c48f770a",
   "metadata": {},
   "outputs": [],
   "source": [
    "# будет столбец с месяцем оформления заказа\n",
    "\n",
    "df2['creation_month'] = df2['creation_date'].dt.strftime('%m-%Y')"
   ]
  },
  {
   "cell_type": "code",
   "execution_count": 497,
   "id": "b2004407",
   "metadata": {},
   "outputs": [
    {
     "data": {
      "text/html": [
       "<div>\n",
       "<style scoped>\n",
       "    .dataframe tbody tr th:only-of-type {\n",
       "        vertical-align: middle;\n",
       "    }\n",
       "\n",
       "    .dataframe tbody tr th {\n",
       "        vertical-align: top;\n",
       "    }\n",
       "\n",
       "    .dataframe thead th {\n",
       "        text-align: right;\n",
       "    }\n",
       "</style>\n",
       "<table border=\"1\" class=\"dataframe\">\n",
       "  <thead>\n",
       "    <tr style=\"text-align: right;\">\n",
       "      <th></th>\n",
       "      <th>creation_month</th>\n",
       "      <th>active_payers</th>\n",
       "    </tr>\n",
       "  </thead>\n",
       "  <tbody>\n",
       "    <tr>\n",
       "      <th>0</th>\n",
       "      <td>01-2020</td>\n",
       "      <td>101483</td>\n",
       "    </tr>\n",
       "    <tr>\n",
       "      <th>1</th>\n",
       "      <td>02-2020</td>\n",
       "      <td>122145</td>\n",
       "    </tr>\n",
       "    <tr>\n",
       "      <th>2</th>\n",
       "      <td>03-2020</td>\n",
       "      <td>58669</td>\n",
       "    </tr>\n",
       "    <tr>\n",
       "      <th>3</th>\n",
       "      <td>04-2020</td>\n",
       "      <td>1</td>\n",
       "    </tr>\n",
       "    <tr>\n",
       "      <th>4</th>\n",
       "      <td>05-2020</td>\n",
       "      <td>1</td>\n",
       "    </tr>\n",
       "    <tr>\n",
       "      <th>5</th>\n",
       "      <td>06-2020</td>\n",
       "      <td>37</td>\n",
       "    </tr>\n",
       "    <tr>\n",
       "      <th>6</th>\n",
       "      <td>07-2020</td>\n",
       "      <td>564</td>\n",
       "    </tr>\n",
       "    <tr>\n",
       "      <th>7</th>\n",
       "      <td>08-2020</td>\n",
       "      <td>11023</td>\n",
       "    </tr>\n",
       "    <tr>\n",
       "      <th>8</th>\n",
       "      <td>09-2020</td>\n",
       "      <td>59741</td>\n",
       "    </tr>\n",
       "    <tr>\n",
       "      <th>9</th>\n",
       "      <td>10-2020</td>\n",
       "      <td>33666</td>\n",
       "    </tr>\n",
       "  </tbody>\n",
       "</table>\n",
       "</div>"
      ],
      "text/plain": [
       "  creation_month  active_payers\n",
       "0        01-2020         101483\n",
       "1        02-2020         122145\n",
       "2        03-2020          58669\n",
       "3        04-2020              1\n",
       "4        05-2020              1\n",
       "5        06-2020             37\n",
       "6        07-2020            564\n",
       "7        08-2020          11023\n",
       "8        09-2020          59741\n",
       "9        10-2020          33666"
      ]
     },
     "execution_count": 497,
     "metadata": {},
     "output_type": "execute_result"
    }
   ],
   "source": [
    "mau = df2 \\\n",
    "    .groupby('creation_month', as_index=False) \\\n",
    "    .client_id \\\n",
    "    .nunique() \\\n",
    "    .rename(columns={'client_id': 'active_payers'})\n",
    "mau"
   ]
  },
  {
   "cell_type": "code",
   "execution_count": 499,
   "id": "e78df30c",
   "metadata": {},
   "outputs": [
    {
     "data": {
      "image/png": "[encoded data removed]",
      "text/plain": [
       "<Figure size 640x480 with 1 Axes>"
      ]
     },
     "metadata": {},
     "output_type": "display_data"
    }
   ],
   "source": [
    "sns.barplot(data=mau, x='creation_month', y='active_payers')\n",
    "plt.title('MAU')\n",
    "plt.xticks(rotation=90);"
   ]
  },
  {
   "cell_type": "markdown",
   "id": "70e502d5",
   "metadata": {},
   "source": [
    "Очень странно, почему так. Возможно, приложение было закрыто с апреля по июль, а возможно мы получили недостоверный датасет."
   ]
  },
  {
   "cell_type": "code",
   "execution_count": 507,
   "id": "e25a1dc3",
   "metadata": {},
   "outputs": [
    {
     "data": {
      "text/plain": [
       "8760713.01"
      ]
     },
     "execution_count": 507,
     "metadata": {},
     "output_type": "execute_result"
    }
   ],
   "source": [
    "(revenue / 6).round(2)"
   ]
  },
  {
   "cell_type": "markdown",
   "id": "01fd47ef",
   "metadata": {},
   "source": [
    "Если выкинуть эти 4 месяца простоя, то получится что в среднем мы получаем за месяц 8,76 млн рублей.\n",
    "\n",
    "Но эту метрику мы сейчас посчитаем чуть детальнее."
   ]
  },
  {
   "cell_type": "code",
   "execution_count": null,
   "id": "e0e71a10",
   "metadata": {},
   "outputs": [],
   "source": []
  },
  {
   "cell_type": "code",
   "execution_count": null,
   "id": "f1b511ce",
   "metadata": {},
   "outputs": [],
   "source": []
  },
  {
   "cell_type": "code",
   "execution_count": null,
   "id": "3a08bb9f",
   "metadata": {},
   "outputs": [],
   "source": []
  },
  {
   "cell_type": "code",
   "execution_count": null,
   "id": "11b3880d",
   "metadata": {},
   "outputs": [],
   "source": []
  },
  {
   "cell_type": "code",
   "execution_count": null,
   "id": "f87c6703",
   "metadata": {},
   "outputs": [],
   "source": []
  },
  {
   "cell_type": "code",
   "execution_count": null,
   "id": "93da1447",
   "metadata": {},
   "outputs": [],
   "source": []
  },
  {
   "cell_type": "code",
   "execution_count": null,
   "id": "2c90987b",
   "metadata": {},
   "outputs": [],
   "source": []
  },
  {
   "cell_type": "code",
   "execution_count": 518,
   "id": "f2fe78a5",
   "metadata": {},
   "outputs": [
    {
     "data": {
      "text/html": [
       "<div>\n",
       "<style scoped>\n",
       "    .dataframe tbody tr th:only-of-type {\n",
       "        vertical-align: middle;\n",
       "    }\n",
       "\n",
       "    .dataframe tbody tr th {\n",
       "        vertical-align: top;\n",
       "    }\n",
       "\n",
       "    .dataframe thead th {\n",
       "        text-align: right;\n",
       "    }\n",
       "</style>\n",
       "<table border=\"1\" class=\"dataframe\">\n",
       "  <thead>\n",
       "    <tr style=\"text-align: right;\">\n",
       "      <th></th>\n",
       "      <th>creation_month</th>\n",
       "      <th>revenue</th>\n",
       "      <th>tickets_sold</th>\n",
       "      <th>total_orders</th>\n",
       "      <th>total_clients</th>\n",
       "      <th>avg_ticket_revenue</th>\n",
       "      <th>AOV</th>\n",
       "      <th>ARPPU</th>\n",
       "    </tr>\n",
       "  </thead>\n",
       "  <tbody>\n",
       "    <tr>\n",
       "      <th>0</th>\n",
       "      <td>01-2020</td>\n",
       "      <td>15410803.18</td>\n",
       "      <td>324144</td>\n",
       "      <td>146240</td>\n",
       "      <td>101483</td>\n",
       "      <td>47.54</td>\n",
       "      <td>105.38</td>\n",
       "      <td>151.86</td>\n",
       "    </tr>\n",
       "    <tr>\n",
       "      <th>1</th>\n",
       "      <td>02-2020</td>\n",
       "      <td>17493036.42</td>\n",
       "      <td>367874</td>\n",
       "      <td>176089</td>\n",
       "      <td>122145</td>\n",
       "      <td>47.55</td>\n",
       "      <td>99.34</td>\n",
       "      <td>143.22</td>\n",
       "    </tr>\n",
       "    <tr>\n",
       "      <th>2</th>\n",
       "      <td>03-2020</td>\n",
       "      <td>6795416.49</td>\n",
       "      <td>151807</td>\n",
       "      <td>72787</td>\n",
       "      <td>58669</td>\n",
       "      <td>44.76</td>\n",
       "      <td>93.36</td>\n",
       "      <td>115.83</td>\n",
       "    </tr>\n",
       "    <tr>\n",
       "      <th>3</th>\n",
       "      <td>04-2020</td>\n",
       "      <td>31.65</td>\n",
       "      <td>2</td>\n",
       "      <td>1</td>\n",
       "      <td>1</td>\n",
       "      <td>15.82</td>\n",
       "      <td>31.65</td>\n",
       "      <td>31.65</td>\n",
       "    </tr>\n",
       "    <tr>\n",
       "      <th>4</th>\n",
       "      <td>05-2020</td>\n",
       "      <td>47.47</td>\n",
       "      <td>1</td>\n",
       "      <td>1</td>\n",
       "      <td>1</td>\n",
       "      <td>47.47</td>\n",
       "      <td>47.47</td>\n",
       "      <td>47.47</td>\n",
       "    </tr>\n",
       "    <tr>\n",
       "      <th>5</th>\n",
       "      <td>06-2020</td>\n",
       "      <td>5601.25</td>\n",
       "      <td>39</td>\n",
       "      <td>38</td>\n",
       "      <td>37</td>\n",
       "      <td>143.62</td>\n",
       "      <td>147.40</td>\n",
       "      <td>151.39</td>\n",
       "    </tr>\n",
       "    <tr>\n",
       "      <th>6</th>\n",
       "      <td>07-2020</td>\n",
       "      <td>74267.50</td>\n",
       "      <td>1218</td>\n",
       "      <td>677</td>\n",
       "      <td>564</td>\n",
       "      <td>60.97</td>\n",
       "      <td>109.70</td>\n",
       "      <td>131.68</td>\n",
       "    </tr>\n",
       "    <tr>\n",
       "      <th>7</th>\n",
       "      <td>08-2020</td>\n",
       "      <td>1387638.00</td>\n",
       "      <td>28088</td>\n",
       "      <td>14225</td>\n",
       "      <td>11023</td>\n",
       "      <td>49.40</td>\n",
       "      <td>97.55</td>\n",
       "      <td>125.89</td>\n",
       "    </tr>\n",
       "    <tr>\n",
       "      <th>8</th>\n",
       "      <td>09-2020</td>\n",
       "      <td>7547420.87</td>\n",
       "      <td>147936</td>\n",
       "      <td>71895</td>\n",
       "      <td>59741</td>\n",
       "      <td>51.02</td>\n",
       "      <td>104.98</td>\n",
       "      <td>126.34</td>\n",
       "    </tr>\n",
       "    <tr>\n",
       "      <th>9</th>\n",
       "      <td>10-2020</td>\n",
       "      <td>3850015.23</td>\n",
       "      <td>86684</td>\n",
       "      <td>43318</td>\n",
       "      <td>33666</td>\n",
       "      <td>44.41</td>\n",
       "      <td>88.88</td>\n",
       "      <td>114.36</td>\n",
       "    </tr>\n",
       "  </tbody>\n",
       "</table>\n",
       "</div>"
      ],
      "text/plain": [
       "  creation_month      revenue  tickets_sold  total_orders  total_clients  \\\n",
       "0        01-2020  15410803.18        324144        146240         101483   \n",
       "1        02-2020  17493036.42        367874        176089         122145   \n",
       "2        03-2020   6795416.49        151807         72787          58669   \n",
       "3        04-2020        31.65             2             1              1   \n",
       "4        05-2020        47.47             1             1              1   \n",
       "5        06-2020      5601.25            39            38             37   \n",
       "6        07-2020     74267.50          1218           677            564   \n",
       "7        08-2020   1387638.00         28088         14225          11023   \n",
       "8        09-2020   7547420.87        147936         71895          59741   \n",
       "9        10-2020   3850015.23         86684         43318          33666   \n",
       "\n",
       "   avg_ticket_revenue     AOV   ARPPU  \n",
       "0               47.54  105.38  151.86  \n",
       "1               47.55   99.34  143.22  \n",
       "2               44.76   93.36  115.83  \n",
       "3               15.82   31.65   31.65  \n",
       "4               47.47   47.47   47.47  \n",
       "5              143.62  147.40  151.39  \n",
       "6               60.97  109.70  131.68  \n",
       "7               49.40   97.55  125.89  \n",
       "8               51.02  104.98  126.34  \n",
       "9               44.41   88.88  114.36  "
      ]
     },
     "execution_count": 518,
     "metadata": {},
     "output_type": "execute_result"
    }
   ],
   "source": [
    "# основные метрики по месяцам\n",
    "\n",
    "pivot_by_month = df2 \\\n",
    "    .groupby('creation_month', as_index=False) \\\n",
    "    .agg({'sales_in_cu': 'sum', 'number_of_tickets': 'sum', 'order_id': 'count', 'client_id': 'nunique'}) \\\n",
    "    .rename(columns={'sales_in_cu': 'revenue', 'number_of_tickets': 'tickets_sold',\n",
    "                     'order_id': 'total_orders', 'client_id': 'total_clients'}) \\\n",
    "    .sort_values('creation_month')\n",
    "pivot_by_month['avg_ticket_revenue'] = (pivot_by_month['revenue'] / pivot_by_month['tickets_sold']).round(2)\n",
    "pivot_by_month['AOV'] = (pivot_by_month['revenue'] / pivot_by_month['total_orders']).round(2)\n",
    "pivot_by_month['ARPPU'] = (pivot_by_month['revenue'] / pivot_by_month['total_clients']).round(2)\n",
    "pivot_by_month"
   ]
  },
  {
   "cell_type": "code",
   "execution_count": 543,
   "id": "81d0e68d",
   "metadata": {},
   "outputs": [
    {
     "data": {
      "text/html": [
       "<div>\n",
       "<style scoped>\n",
       "    .dataframe tbody tr th:only-of-type {\n",
       "        vertical-align: middle;\n",
       "    }\n",
       "\n",
       "    .dataframe tbody tr th {\n",
       "        vertical-align: top;\n",
       "    }\n",
       "\n",
       "    .dataframe thead th {\n",
       "        text-align: right;\n",
       "    }\n",
       "</style>\n",
       "<table border=\"1\" class=\"dataframe\">\n",
       "  <thead>\n",
       "    <tr style=\"text-align: right;\">\n",
       "      <th></th>\n",
       "      <th>cinema_city</th>\n",
       "      <th>cinema_name</th>\n",
       "      <th>cinema_latitude</th>\n",
       "      <th>cinema_longitude</th>\n",
       "      <th>revenue</th>\n",
       "      <th>tickets_sold</th>\n",
       "      <th>total_orders</th>\n",
       "      <th>total_clients</th>\n",
       "      <th>avg_ticket_revenue</th>\n",
       "      <th>AOV</th>\n",
       "      <th>ARPPU</th>\n",
       "    </tr>\n",
       "  </thead>\n",
       "  <tbody>\n",
       "    <tr>\n",
       "      <th>0</th>\n",
       "      <td>Абдулино</td>\n",
       "      <td>Юность (Абдулино)</td>\n",
       "      <td>53.690402</td>\n",
       "      <td>53.650894</td>\n",
       "      <td>908.23</td>\n",
       "      <td>30</td>\n",
       "      <td>11</td>\n",
       "      <td>3</td>\n",
       "      <td>30.27</td>\n",
       "      <td>82.57</td>\n",
       "      <td>302.74</td>\n",
       "    </tr>\n",
       "    <tr>\n",
       "      <th>1</th>\n",
       "      <td>Адлер</td>\n",
       "      <td>City Stars (Адлер)</td>\n",
       "      <td>43.427552</td>\n",
       "      <td>39.926596</td>\n",
       "      <td>89392.15</td>\n",
       "      <td>1816</td>\n",
       "      <td>863</td>\n",
       "      <td>544</td>\n",
       "      <td>49.22</td>\n",
       "      <td>103.58</td>\n",
       "      <td>164.32</td>\n",
       "    </tr>\n",
       "    <tr>\n",
       "      <th>2</th>\n",
       "      <td>Алексеевка</td>\n",
       "      <td>Спутник Алексеевка</td>\n",
       "      <td>50.629368</td>\n",
       "      <td>38.695991</td>\n",
       "      <td>338.61</td>\n",
       "      <td>9</td>\n",
       "      <td>3</td>\n",
       "      <td>3</td>\n",
       "      <td>37.62</td>\n",
       "      <td>112.87</td>\n",
       "      <td>112.87</td>\n",
       "    </tr>\n",
       "    <tr>\n",
       "      <th>3</th>\n",
       "      <td>Анапа</td>\n",
       "      <td>Мир кино 3D</td>\n",
       "      <td>44.898968</td>\n",
       "      <td>37.325503</td>\n",
       "      <td>2253.17</td>\n",
       "      <td>55</td>\n",
       "      <td>24</td>\n",
       "      <td>20</td>\n",
       "      <td>40.97</td>\n",
       "      <td>93.88</td>\n",
       "      <td>112.66</td>\n",
       "    </tr>\n",
       "    <tr>\n",
       "      <th>4</th>\n",
       "      <td>Арзамас</td>\n",
       "      <td>Люмен Фильм  (Арзамас)</td>\n",
       "      <td>55.394897</td>\n",
       "      <td>43.839725</td>\n",
       "      <td>15716.85</td>\n",
       "      <td>395</td>\n",
       "      <td>174</td>\n",
       "      <td>103</td>\n",
       "      <td>39.79</td>\n",
       "      <td>90.33</td>\n",
       "      <td>152.59</td>\n",
       "    </tr>\n",
       "    <tr>\n",
       "      <th>...</th>\n",
       "      <td>...</td>\n",
       "      <td>...</td>\n",
       "      <td>...</td>\n",
       "      <td>...</td>\n",
       "      <td>...</td>\n",
       "      <td>...</td>\n",
       "      <td>...</td>\n",
       "      <td>...</td>\n",
       "      <td>...</td>\n",
       "      <td>...</td>\n",
       "      <td>...</td>\n",
       "    </tr>\n",
       "    <tr>\n",
       "      <th>941</th>\n",
       "      <td>Ярославль</td>\n",
       "      <td>Киномакс-Аура</td>\n",
       "      <td>57.626766</td>\n",
       "      <td>39.869322</td>\n",
       "      <td>39208.66</td>\n",
       "      <td>964</td>\n",
       "      <td>481</td>\n",
       "      <td>360</td>\n",
       "      <td>40.67</td>\n",
       "      <td>81.51</td>\n",
       "      <td>108.91</td>\n",
       "    </tr>\n",
       "    <tr>\n",
       "      <th>942</th>\n",
       "      <td>Ярославль</td>\n",
       "      <td>Киномакс–Альтаир</td>\n",
       "      <td>57.697846</td>\n",
       "      <td>39.758132</td>\n",
       "      <td>27973.09</td>\n",
       "      <td>763</td>\n",
       "      <td>354</td>\n",
       "      <td>236</td>\n",
       "      <td>36.66</td>\n",
       "      <td>79.02</td>\n",
       "      <td>118.53</td>\n",
       "    </tr>\n",
       "    <tr>\n",
       "      <th>943</th>\n",
       "      <td>Ярославль</td>\n",
       "      <td>Киномакс–Аура</td>\n",
       "      <td>57.627228</td>\n",
       "      <td>39.871766</td>\n",
       "      <td>83393.69</td>\n",
       "      <td>2040</td>\n",
       "      <td>945</td>\n",
       "      <td>611</td>\n",
       "      <td>40.88</td>\n",
       "      <td>88.25</td>\n",
       "      <td>136.49</td>\n",
       "    </tr>\n",
       "    <tr>\n",
       "      <th>944</th>\n",
       "      <td>Ярославль</td>\n",
       "      <td>Синема Стар (Тутаевское)</td>\n",
       "      <td>57.670278</td>\n",
       "      <td>39.838080</td>\n",
       "      <td>16460.40</td>\n",
       "      <td>562</td>\n",
       "      <td>259</td>\n",
       "      <td>192</td>\n",
       "      <td>29.29</td>\n",
       "      <td>63.55</td>\n",
       "      <td>85.73</td>\n",
       "    </tr>\n",
       "    <tr>\n",
       "      <th>945</th>\n",
       "      <td>Ярославль</td>\n",
       "      <td>Синема Стар Шоколад</td>\n",
       "      <td>57.576755</td>\n",
       "      <td>39.843101</td>\n",
       "      <td>25095.69</td>\n",
       "      <td>729</td>\n",
       "      <td>357</td>\n",
       "      <td>232</td>\n",
       "      <td>34.42</td>\n",
       "      <td>70.30</td>\n",
       "      <td>108.17</td>\n",
       "    </tr>\n",
       "  </tbody>\n",
       "</table>\n",
       "<p>946 rows × 11 columns</p>\n",
       "</div>"
      ],
      "text/plain": [
       "    cinema_city               cinema_name  cinema_latitude  cinema_longitude  \\\n",
       "0      Абдулино         Юность (Абдулино)        53.690402         53.650894   \n",
       "1         Адлер        City Stars (Адлер)        43.427552         39.926596   \n",
       "2    Алексеевка        Спутник Алексеевка        50.629368         38.695991   \n",
       "3         Анапа               Мир кино 3D        44.898968         37.325503   \n",
       "4       Арзамас    Люмен Фильм  (Арзамас)        55.394897         43.839725   \n",
       "..          ...                       ...              ...               ...   \n",
       "941   Ярославль             Киномакс-Аура        57.626766         39.869322   \n",
       "942   Ярославль          Киномакс–Альтаир        57.697846         39.758132   \n",
       "943   Ярославль             Киномакс–Аура        57.627228         39.871766   \n",
       "944   Ярославль  Синема Стар (Тутаевское)        57.670278         39.838080   \n",
       "945   Ярославль       Синема Стар Шоколад        57.576755         39.843101   \n",
       "\n",
       "      revenue  tickets_sold  total_orders  total_clients  avg_ticket_revenue  \\\n",
       "0      908.23            30            11              3               30.27   \n",
       "1    89392.15          1816           863            544               49.22   \n",
       "2      338.61             9             3              3               37.62   \n",
       "3     2253.17            55            24             20               40.97   \n",
       "4    15716.85           395           174            103               39.79   \n",
       "..        ...           ...           ...            ...                 ...   \n",
       "941  39208.66           964           481            360               40.67   \n",
       "942  27973.09           763           354            236               36.66   \n",
       "943  83393.69          2040           945            611               40.88   \n",
       "944  16460.40           562           259            192               29.29   \n",
       "945  25095.69           729           357            232               34.42   \n",
       "\n",
       "        AOV   ARPPU  \n",
       "0     82.57  302.74  \n",
       "1    103.58  164.32  \n",
       "2    112.87  112.87  \n",
       "3     93.88  112.66  \n",
       "4     90.33  152.59  \n",
       "..      ...     ...  \n",
       "941   81.51  108.91  \n",
       "942   79.02  118.53  \n",
       "943   88.25  136.49  \n",
       "944   63.55   85.73  \n",
       "945   70.30  108.17  \n",
       "\n",
       "[946 rows x 11 columns]"
      ]
     },
     "execution_count": 543,
     "metadata": {},
     "output_type": "execute_result"
    }
   ],
   "source": [
    "# основные метрики по кинотеатрам\n",
    "\n",
    "pivot_by_cinema = df2 \\\n",
    "    .groupby(['cinema_city', 'cinema_name','cinema_latitude', 'cinema_longitude'], as_index=False) \\\n",
    "    .agg({'sales_in_cu': 'sum', 'number_of_tickets': 'sum', 'order_id': 'count', 'client_id': 'nunique'}) \\\n",
    "    .rename(columns={'sales_in_cu': 'revenue', 'number_of_tickets': 'tickets_sold',\n",
    "                     'order_id': 'total_orders', 'client_id': 'total_clients'})\n",
    "pivot_by_cinema['avg_ticket_revenue'] = (pivot_by_cinema['revenue'] / pivot_by_cinema['tickets_sold']).round(2)\n",
    "pivot_by_cinema['AOV'] = (pivot_by_cinema['revenue'] / pivot_by_cinema['total_orders']).round(2)\n",
    "pivot_by_cinema['ARPPU'] = (pivot_by_cinema['revenue'] / pivot_by_cinema['total_clients']).round(2)\n",
    "pivot_by_cinema"
   ]
  },
  {
   "cell_type": "code",
   "execution_count": 574,
   "id": "d1ebb807",
   "metadata": {
    "collapsed": true
   },
   "outputs": [
    {
     "data": {
      "application/vnd.plotly.v1+json": {
       "config": {
        "plotlyServerURL": "https://plot.ly"
       },
       "data": [
        {
         "customdata": [
          [
           "Абдулино"
          ],
          [
           "Адлер"
          ],
          [
           "Алексеевка"
          ],
          [
           "Анапа"
          ],
          [
           "Арзамас"
          ],
          [
           "Армавир"
          ],
          [
           "Армавир"
          ],
          [
           "Архангельск"
          ],
          [
           "Архангельск"
          ],
          [
           "Архангельск"
          ],
          [
           "Архангельск"
          ],
          [
           "Архангельск"
          ],
          [
           "Архангельск"
          ],
          [
           "Архангельск"
          ],
          [
           "Астрахань"
          ],
          [
           "Астрахань"
          ],
          [
           "Астрахань"
          ],
          [
           "Астрахань"
          ],
          [
           "Астрахань"
          ],
          [
           "Астрахань"
          ],
          [
           "Балахна"
          ],
          [
           "Балашиха"
          ],
          [
           "Балашиха"
          ],
          [
           "Балашов"
          ],
          [
           "Барнаул"
          ],
          [
           "Барнаул"
          ],
          [
           "Барнаул"
          ],
          [
           "Барнаул"
          ],
          [
           "Барнаул"
          ],
          [
           "Белгород"
          ],
          [
           "Белгород"
          ],
          [
           "Белгород"
          ],
          [
           "Белгород"
          ],
          [
           "Белгород"
          ],
          [
           "Белгород"
          ],
          [
           "Белгород"
          ],
          [
           "Белгород"
          ],
          [
           "Белгород"
          ],
          [
           "Белорецк"
          ],
          [
           "Белоярский"
          ],
          [
           "Бийск"
          ],
          [
           "Благовещенск"
          ],
          [
           "Благовещенск РБ"
          ],
          [
           "Боровичи"
          ],
          [
           "Братск"
          ],
          [
           "Брюховецкая"
          ],
          [
           "Брянск"
          ],
          [
           "Брянск"
          ],
          [
           "Брянск"
          ],
          [
           "Брянск"
          ],
          [
           "Брянск"
          ],
          [
           "Брянск"
          ],
          [
           "Брянск"
          ],
          [
           "Брянск"
          ],
          [
           "Бугульма"
          ],
          [
           "Бузулук"
          ],
          [
           "Великий Новгород"
          ],
          [
           "Великий Новгород"
          ],
          [
           "Венев"
          ],
          [
           "Верхняя Пышма"
          ],
          [
           "Верхняя Пышма"
          ],
          [
           "Владивосток"
          ],
          [
           "Владивосток"
          ],
          [
           "Владивосток"
          ],
          [
           "Владивосток"
          ],
          [
           "Владивосток"
          ],
          [
           "Владивосток"
          ],
          [
           "Владикавказ"
          ],
          [
           "Владимир"
          ],
          [
           "Владимир"
          ],
          [
           "Владимир"
          ],
          [
           "Волгоград"
          ],
          [
           "Волгоград"
          ],
          [
           "Волгоград"
          ],
          [
           "Волгоград"
          ],
          [
           "Волгоград"
          ],
          [
           "Волгоград"
          ],
          [
           "Волгоград"
          ],
          [
           "Волгоград"
          ],
          [
           "Волгоград"
          ],
          [
           "Волгодонск"
          ],
          [
           "Волжск"
          ],
          [
           "Волжский"
          ],
          [
           "Вологда"
          ],
          [
           "Вологда"
          ],
          [
           "Вологда"
          ],
          [
           "Вологда"
          ],
          [
           "Вологда"
          ],
          [
           "Вологда"
          ],
          [
           "Воркута"
          ],
          [
           "Воркута"
          ],
          [
           "Воронеж"
          ],
          [
           "Воронеж"
          ],
          [
           "Воронеж"
          ],
          [
           "Воронеж"
          ],
          [
           "Воронеж"
          ],
          [
           "Воронеж"
          ],
          [
           "Воронеж"
          ],
          [
           "Воронеж"
          ],
          [
           "Воронеж"
          ],
          [
           "Воронеж"
          ],
          [
           "Воронеж"
          ],
          [
           "Воронеж"
          ],
          [
           "Воронеж"
          ],
          [
           "Воскресенск"
          ],
          [
           "Всеволожск"
          ],
          [
           "Выборг"
          ],
          [
           "Вязники"
          ],
          [
           "Вязьма"
          ],
          [
           "Гатчина"
          ],
          [
           "Гатчина"
          ],
          [
           "Геленджик"
          ],
          [
           "Горно-Алтайск"
          ],
          [
           "Горно-Алтайск"
          ],
          [
           "Городец"
          ],
          [
           "Грозный"
          ],
          [
           "Грозный"
          ],
          [
           "Губкин"
          ],
          [
           "Губкин"
          ],
          [
           "Губкинский"
          ],
          [
           "Гудермес"
          ],
          [
           "Гусев"
          ],
          [
           "Данилов"
          ],
          [
           "Джанкой"
          ],
          [
           "Димитровград"
          ],
          [
           "Димитровград"
          ],
          [
           "Долгопрудный"
          ],
          [
           "Евпатория"
          ],
          [
           "Екатеринбург"
          ],
          [
           "Екатеринбург"
          ],
          [
           "Екатеринбург"
          ],
          [
           "Екатеринбург"
          ],
          [
           "Екатеринбург"
          ],
          [
           "Екатеринбург"
          ],
          [
           "Екатеринбург"
          ],
          [
           "Екатеринбург"
          ],
          [
           "Екатеринбург"
          ],
          [
           "Екатеринбург"
          ],
          [
           "Екатеринбург"
          ],
          [
           "Екатеринбург"
          ],
          [
           "Екатеринбург"
          ],
          [
           "Екатеринбург"
          ],
          [
           "Екатеринбург"
          ],
          [
           "Екатеринбург"
          ],
          [
           "Екатеринбург"
          ],
          [
           "Екатеринбург"
          ],
          [
           "Екатеринбург"
          ],
          [
           "Екатеринбург"
          ],
          [
           "Екатеринбург"
          ],
          [
           "Екатеринбург"
          ],
          [
           "Екатеринбург"
          ],
          [
           "Екатеринбург"
          ],
          [
           "Екатеринбург"
          ],
          [
           "Екатеринбург"
          ],
          [
           "Екатеринбург"
          ],
          [
           "Екатеринбург"
          ],
          [
           "Екатеринбург"
          ],
          [
           "Екатеринбург"
          ],
          [
           "Екатеринбург"
          ],
          [
           "Елец"
          ],
          [
           "Елизово"
          ],
          [
           "Ессентуки"
          ],
          [
           "Ессентуки"
          ],
          [
           "Железногорск (Курская обл.)"
          ],
          [
           "Жуковка (Брянская обл.)"
          ],
          [
           "Жуковский"
          ],
          [
           "Заинск"
          ],
          [
           "Заречный"
          ],
          [
           "Заречный"
          ],
          [
           "Зеленоград"
          ],
          [
           "Зеленоград"
          ],
          [
           "Зеленоградск"
          ],
          [
           "Златоуст"
          ],
          [
           "Златоуст"
          ],
          [
           "Иваново"
          ],
          [
           "Иваново"
          ],
          [
           "Иваново"
          ],
          [
           "Иваново"
          ],
          [
           "Ижевск"
          ],
          [
           "Ижевск"
          ],
          [
           "Ижевск"
          ],
          [
           "Ижевск"
          ],
          [
           "Ижевск"
          ],
          [
           "Ижевск"
          ],
          [
           "Ирбит"
          ],
          [
           "Иркутск"
          ],
          [
           "Иркутск"
          ],
          [
           "Иркутск"
          ],
          [
           "Иркутск"
          ],
          [
           "Иркутск"
          ],
          [
           "Иркутск"
          ],
          [
           "Иркутск"
          ],
          [
           "Иркутск"
          ],
          [
           "Иркутск"
          ],
          [
           "Иркутск"
          ],
          [
           "Иркутск"
          ],
          [
           "Иркутск"
          ],
          [
           "Искитим"
          ],
          [
           "Йошкар-Ола"
          ],
          [
           "Казань"
          ],
          [
           "Казань"
          ],
          [
           "Казань"
          ],
          [
           "Казань"
          ],
          [
           "Казань"
          ],
          [
           "Казань"
          ],
          [
           "Казань"
          ],
          [
           "Казань"
          ],
          [
           "Казань"
          ],
          [
           "Казань"
          ],
          [
           "Казань"
          ],
          [
           "Казань"
          ],
          [
           "Казань"
          ],
          [
           "Казань"
          ],
          [
           "Казань"
          ],
          [
           "Казань"
          ],
          [
           "Калининград"
          ],
          [
           "Калининград"
          ],
          [
           "Калининград"
          ],
          [
           "Калининград"
          ],
          [
           "Калининград"
          ],
          [
           "Калининград"
          ],
          [
           "Калининец"
          ],
          [
           "Калуга"
          ],
          [
           "Калуга"
          ],
          [
           "Калуга"
          ],
          [
           "Калуга"
          ],
          [
           "Калуга"
          ],
          [
           "Калуга"
          ],
          [
           "Калуга"
          ],
          [
           "Калуга"
          ],
          [
           "Калуга"
          ],
          [
           "Каменск-Уральский"
          ],
          [
           "Каменск-Уральский"
          ],
          [
           "Каменск-Уральский"
          ],
          [
           "Касимов"
          ],
          [
           "Кемерово"
          ],
          [
           "Кемерово"
          ],
          [
           "Кемерово"
          ],
          [
           "Кемерово"
          ],
          [
           "Кемерово"
          ],
          [
           "Кемерово"
          ],
          [
           "Кингисепп"
          ],
          [
           "Кингисепп"
          ],
          [
           "Кингисепп"
          ],
          [
           "Кириши"
          ],
          [
           "Кириши"
          ],
          [
           "Киров"
          ],
          [
           "Клин"
          ],
          [
           "Клинцы"
          ],
          [
           "Козьмодемьянск"
          ],
          [
           "Коломна"
          ],
          [
           "Коломна"
          ],
          [
           "Коломна"
          ],
          [
           "Коломна"
          ],
          [
           "Коломна"
          ],
          [
           "Конаково"
          ],
          [
           "Копейск"
          ],
          [
           "Коряжма"
          ],
          [
           "Кострома"
          ],
          [
           "Кострома"
          ],
          [
           "Кострома"
          ],
          [
           "Кострома"
          ],
          [
           "Котлас"
          ],
          [
           "Котовск"
          ],
          [
           "Кохма"
          ],
          [
           "Красногорск"
          ],
          [
           "Красногорск"
          ],
          [
           "Краснодар"
          ],
          [
           "Краснодар"
          ],
          [
           "Краснодар"
          ],
          [
           "Краснодар"
          ],
          [
           "Краснодар"
          ],
          [
           "Краснодар"
          ],
          [
           "Краснодар"
          ],
          [
           "Краснодар"
          ],
          [
           "Краснодар"
          ],
          [
           "Краснодар"
          ],
          [
           "Краснодар"
          ],
          [
           "Краснодар"
          ],
          [
           "Красноярск"
          ],
          [
           "Красноярск"
          ],
          [
           "Красноярск"
          ],
          [
           "Красноярск"
          ],
          [
           "Красноярск"
          ],
          [
           "Красноярск"
          ],
          [
           "Красноярск"
          ],
          [
           "Кузнецк"
          ],
          [
           "Кулебаки"
          ],
          [
           "Курган"
          ],
          [
           "Курган"
          ],
          [
           "Курганинск"
          ],
          [
           "Курск"
          ],
          [
           "Курск"
          ],
          [
           "Курск"
          ],
          [
           "Курск"
          ],
          [
           "Курск"
          ],
          [
           "Курск"
          ],
          [
           "Курск"
          ],
          [
           "Лесной"
          ],
          [
           "Липецк"
          ],
          [
           "Липецк"
          ],
          [
           "Липецк"
          ],
          [
           "Липецк"
          ],
          [
           "Липецк"
          ],
          [
           "Липецк"
          ],
          [
           "Ломоносов"
          ],
          [
           "Луховицы"
          ],
          [
           "Люберцы"
          ],
          [
           "Лянтор"
          ],
          [
           "Магадан"
          ],
          [
           "Магадан"
          ],
          [
           "Магадан"
          ],
          [
           "Магадан"
          ],
          [
           "Майкоп"
          ],
          [
           "Майкоп"
          ],
          [
           "Мегион"
          ],
          [
           "Медногорск"
          ],
          [
           "Миасс"
          ],
          [
           "Можайск"
          ],
          [
           "Москва"
          ],
          [
           "Москва"
          ],
          [
           "Москва"
          ],
          [
           "Москва"
          ],
          [
           "Москва"
          ],
          [
           "Москва"
          ],
          [
           "Москва"
          ],
          [
           "Москва"
          ],
          [
           "Москва"
          ],
          [
           "Москва"
          ],
          [
           "Москва"
          ],
          [
           "Москва"
          ],
          [
           "Москва"
          ],
          [
           "Москва"
          ],
          [
           "Москва"
          ],
          [
           "Москва"
          ],
          [
           "Москва"
          ],
          [
           "Москва"
          ],
          [
           "Москва"
          ],
          [
           "Москва"
          ],
          [
           "Москва"
          ],
          [
           "Москва"
          ],
          [
           "Москва"
          ],
          [
           "Москва"
          ],
          [
           "Москва"
          ],
          [
           "Москва"
          ],
          [
           "Москва"
          ],
          [
           "Москва"
          ],
          [
           "Москва"
          ],
          [
           "Москва"
          ],
          [
           "Москва"
          ],
          [
           "Москва"
          ],
          [
           "Москва"
          ],
          [
           "Москва"
          ],
          [
           "Москва"
          ],
          [
           "Москва"
          ],
          [
           "Москва"
          ],
          [
           "Москва"
          ],
          [
           "Москва"
          ],
          [
           "Москва"
          ],
          [
           "Москва"
          ],
          [
           "Москва"
          ],
          [
           "Москва"
          ],
          [
           "Москва"
          ],
          [
           "Москва"
          ],
          [
           "Москва"
          ],
          [
           "Москва"
          ],
          [
           "Москва"
          ],
          [
           "Москва"
          ],
          [
           "Москва"
          ],
          [
           "Москва"
          ],
          [
           "Москва"
          ],
          [
           "Москва"
          ],
          [
           "Москва"
          ],
          [
           "Москва"
          ],
          [
           "Москва"
          ],
          [
           "Москва"
          ],
          [
           "Москва"
          ],
          [
           "Москва"
          ],
          [
           "Москва"
          ],
          [
           "Москва"
          ],
          [
           "Москва"
          ],
          [
           "Москва"
          ],
          [
           "Москва"
          ],
          [
           "Москва"
          ],
          [
           "Москва"
          ],
          [
           "Москва"
          ],
          [
           "Москва"
          ],
          [
           "Москва"
          ],
          [
           "Москва"
          ],
          [
           "Москва"
          ],
          [
           "Москва"
          ],
          [
           "Москва"
          ],
          [
           "Москва"
          ],
          [
           "Москва"
          ],
          [
           "Москва"
          ],
          [
           "Москва"
          ],
          [
           "Москва"
          ],
          [
           "Москва"
          ],
          [
           "Москва"
          ],
          [
           "Москва"
          ],
          [
           "Москва"
          ],
          [
           "Москва"
          ],
          [
           "Москва"
          ],
          [
           "Москва"
          ],
          [
           "Москва"
          ],
          [
           "Москва"
          ],
          [
           "Москва"
          ],
          [
           "Москва"
          ],
          [
           "Москва"
          ],
          [
           "Москва"
          ],
          [
           "Москва"
          ],
          [
           "Москва"
          ],
          [
           "Москва"
          ],
          [
           "Москва"
          ],
          [
           "Москва"
          ],
          [
           "Москва"
          ],
          [
           "Москва"
          ],
          [
           "Москва"
          ],
          [
           "Москва"
          ],
          [
           "Москва"
          ],
          [
           "Москва"
          ],
          [
           "Москва"
          ],
          [
           "Москва"
          ],
          [
           "Москва"
          ],
          [
           "Москва"
          ],
          [
           "Москва"
          ],
          [
           "Москва"
          ],
          [
           "Москва"
          ],
          [
           "Москва"
          ],
          [
           "Москва"
          ],
          [
           "Москва"
          ],
          [
           "Москва"
          ],
          [
           "Москва"
          ],
          [
           "Москва"
          ],
          [
           "Москва"
          ],
          [
           "Москва"
          ],
          [
           "Москва"
          ],
          [
           "Москва"
          ],
          [
           "Москва"
          ],
          [
           "Москва"
          ],
          [
           "Москва"
          ],
          [
           "Москва"
          ],
          [
           "Москва"
          ],
          [
           "Москва"
          ],
          [
           "Москва"
          ],
          [
           "Москва"
          ],
          [
           "Москва"
          ],
          [
           "Москва"
          ],
          [
           "Москва"
          ],
          [
           "Москва"
          ],
          [
           "Москва"
          ],
          [
           "Москва"
          ],
          [
           "Москва"
          ],
          [
           "Москва"
          ],
          [
           "Москва"
          ],
          [
           "Москва"
          ],
          [
           "Москва"
          ],
          [
           "Москва"
          ],
          [
           "Москва"
          ],
          [
           "Москва"
          ],
          [
           "Москва"
          ],
          [
           "Москва"
          ],
          [
           "Москва"
          ],
          [
           "Москва"
          ],
          [
           "Москва"
          ],
          [
           "Москва"
          ],
          [
           "Москва"
          ],
          [
           "Москва"
          ],
          [
           "Москва"
          ],
          [
           "Москва"
          ],
          [
           "Москва"
          ],
          [
           "Москва"
          ],
          [
           "Москва"
          ],
          [
           "Москва"
          ],
          [
           "Москва"
          ],
          [
           "Москва"
          ],
          [
           "Москва"
          ],
          [
           "Москва"
          ],
          [
           "Москва"
          ],
          [
           "Москва"
          ],
          [
           "Москва"
          ],
          [
           "Москва"
          ],
          [
           "Москва"
          ],
          [
           "Москва"
          ],
          [
           "Москва"
          ],
          [
           "Москва"
          ],
          [
           "Москва"
          ],
          [
           "Москва"
          ],
          [
           "Москва"
          ],
          [
           "Москва"
          ],
          [
           "Москва"
          ],
          [
           "Москва"
          ],
          [
           "Москва"
          ],
          [
           "Мурманск"
          ],
          [
           "Мурманск"
          ],
          [
           "Мурманск"
          ],
          [
           "Мыски"
          ],
          [
           "Мытищи"
          ],
          [
           "Мытищи"
          ],
          [
           "Мытищи"
          ],
          [
           "Мытищи"
          ],
          [
           "Мытищи"
          ],
          [
           "Набережные Челны"
          ],
          [
           "Набережные Челны"
          ],
          [
           "Набережные Челны"
          ],
          [
           "Набережные Челны"
          ],
          [
           "Набережные Челны"
          ],
          [
           "Набережные Челны"
          ],
          [
           "Набережные Челны"
          ],
          [
           "Нальчик"
          ],
          [
           "Находка"
          ],
          [
           "Находка"
          ],
          [
           "Невельск"
          ],
          [
           "Невинномысск"
          ],
          [
           "Нефтекамск"
          ],
          [
           "Нефтекамск"
          ],
          [
           "Нефтекамск"
          ],
          [
           "Нефтеюганск"
          ],
          [
           "Нижневартовск"
          ],
          [
           "Нижневартовск"
          ],
          [
           "Нижневартовск"
          ],
          [
           "Нижневартовск"
          ],
          [
           "Нижневартовск"
          ],
          [
           "Нижнекамск"
          ],
          [
           "Нижнекамск"
          ],
          [
           "Нижнекамск"
          ],
          [
           "Нижнекамск"
          ],
          [
           "Нижний Новгород"
          ],
          [
           "Нижний Новгород"
          ],
          [
           "Нижний Новгород"
          ],
          [
           "Нижний Новгород"
          ],
          [
           "Нижний Новгород"
          ],
          [
           "Нижний Новгород"
          ],
          [
           "Нижний Новгород"
          ],
          [
           "Нижний Новгород"
          ],
          [
           "Нижний Новгород"
          ],
          [
           "Нижний Новгород"
          ],
          [
           "Нижний Новгород"
          ],
          [
           "Нижний Новгород"
          ],
          [
           "Нижний Новгород"
          ],
          [
           "Нижний Новгород"
          ],
          [
           "Нижний Новгород"
          ],
          [
           "Нижний Новгород"
          ],
          [
           "Нижний Новгород"
          ],
          [
           "Нижний Тагил"
          ],
          [
           "Нововоронеж"
          ],
          [
           "Новокузнецк"
          ],
          [
           "Новокузнецк"
          ],
          [
           "Новокузнецк"
          ],
          [
           "Новокузнецк"
          ],
          [
           "Новокузнецк"
          ],
          [
           "Новокузнецк"
          ],
          [
           "Новокузнецк"
          ],
          [
           "Новокузнецк"
          ],
          [
           "Новокузнецк"
          ],
          [
           "Новокузнецк"
          ],
          [
           "Новомосковск"
          ],
          [
           "Новороссийск"
          ],
          [
           "Новороссийск"
          ],
          [
           "Новороссийск"
          ],
          [
           "Новороссийск"
          ],
          [
           "Новороссийск"
          ],
          [
           "Новосибирск"
          ],
          [
           "Новосибирск"
          ],
          [
           "Новосибирск"
          ],
          [
           "Новосибирск"
          ],
          [
           "Новосибирск"
          ],
          [
           "Новосибирск"
          ],
          [
           "Новосибирск"
          ],
          [
           "Новосибирск"
          ],
          [
           "Новосибирск"
          ],
          [
           "Новосибирск"
          ],
          [
           "Новосибирск"
          ],
          [
           "Новосибирск"
          ],
          [
           "Новосибирск"
          ],
          [
           "Новосибирск"
          ],
          [
           "Новосибирск"
          ],
          [
           "Новосибирск"
          ],
          [
           "Новосибирск"
          ],
          [
           "Новосибирск"
          ],
          [
           "Новосибирск"
          ],
          [
           "Новосибирск"
          ],
          [
           "Новосибирск"
          ],
          [
           "Новочеркасск"
          ],
          [
           "Новошахтинск"
          ],
          [
           "Нягань"
          ],
          [
           "Обнинск"
          ],
          [
           "Октябрьский"
          ],
          [
           "Омск"
          ],
          [
           "Омск"
          ],
          [
           "Омск"
          ],
          [
           "Омск"
          ],
          [
           "Омск"
          ],
          [
           "Омск"
          ],
          [
           "Омск"
          ],
          [
           "Омск"
          ],
          [
           "Омск"
          ],
          [
           "Омск"
          ],
          [
           "Омск"
          ],
          [
           "Омск"
          ],
          [
           "Омск"
          ],
          [
           "Омутнинск"
          ],
          [
           "Орел"
          ],
          [
           "Орел"
          ],
          [
           "Орел"
          ],
          [
           "Орел"
          ],
          [
           "Оренбург"
          ],
          [
           "Оренбург"
          ],
          [
           "Оренбург"
          ],
          [
           "Оренбург"
          ],
          [
           "Оренбург"
          ],
          [
           "Оренбург"
          ],
          [
           "Оренбург"
          ],
          [
           "Оренбург"
          ],
          [
           "Оренбург"
          ],
          [
           "Оренбург"
          ],
          [
           "Орехово-Зуево"
          ],
          [
           "Орск"
          ],
          [
           "Осиново"
          ],
          [
           "Осташков"
          ],
          [
           "Осташков"
          ],
          [
           "Пенза"
          ],
          [
           "Пенза"
          ],
          [
           "Пенза"
          ],
          [
           "Пенза"
          ],
          [
           "Пенза"
          ],
          [
           "Пенза"
          ],
          [
           "Пенза"
          ],
          [
           "Первоуральск"
          ],
          [
           "Пермь"
          ],
          [
           "Пермь"
          ],
          [
           "Пермь"
          ],
          [
           "Пермь"
          ],
          [
           "Пермь"
          ],
          [
           "Петрозаводск"
          ],
          [
           "Петрозаводск"
          ],
          [
           "Петрозаводск"
          ],
          [
           "Петропавловск-Камчатский"
          ],
          [
           "Пионерский"
          ],
          [
           "Подольск"
          ],
          [
           "Прокопьевск"
          ],
          [
           "Псков"
          ],
          [
           "Псков"
          ],
          [
           "Псков"
          ],
          [
           "Пушкино"
          ],
          [
           "Пушкино"
          ],
          [
           "Пушкино"
          ],
          [
           "Пятигорск"
          ],
          [
           "Ревда"
          ],
          [
           "Реутов"
          ],
          [
           "Реутов"
          ],
          [
           "Реутов"
          ],
          [
           "Рославль"
          ],
          [
           "Ростов"
          ],
          [
           "Ростов-на-Дону"
          ],
          [
           "Ростов-на-Дону"
          ],
          [
           "Ростов-на-Дону"
          ],
          [
           "Ростов-на-Дону"
          ],
          [
           "Ростов-на-Дону"
          ],
          [
           "Ростов-на-Дону"
          ],
          [
           "Ростов-на-Дону"
          ],
          [
           "Ростов-на-Дону"
          ],
          [
           "Ростов-на-Дону"
          ],
          [
           "Ростов-на-Дону"
          ],
          [
           "Ростов-на-Дону"
          ],
          [
           "Ростов-на-Дону"
          ],
          [
           "Ростов-на-Дону"
          ],
          [
           "Ростов-на-Дону"
          ],
          [
           "Ростов-на-Дону"
          ],
          [
           "Ростов-на-Дону"
          ],
          [
           "Ростов-на-Дону"
          ],
          [
           "Ростов-на-Дону"
          ],
          [
           "Ростов-на-Дону"
          ],
          [
           "Ростов-на-Дону"
          ],
          [
           "Ростов-на-Дону"
          ],
          [
           "Ростов-на-Дону"
          ],
          [
           "Ростов-на-Дону"
          ],
          [
           "Рошаль"
          ],
          [
           "Руза"
          ],
          [
           "Рузаевка"
          ],
          [
           "Рыбинск"
          ],
          [
           "Рязань"
          ],
          [
           "Рязань"
          ],
          [
           "Рязань"
          ],
          [
           "Рязань"
          ],
          [
           "Рязань"
          ],
          [
           "Рязань"
          ],
          [
           "Рязань"
          ],
          [
           "Рязань"
          ],
          [
           "Салехард"
          ],
          [
           "Самара"
          ],
          [
           "Самара"
          ],
          [
           "Самара"
          ],
          [
           "Самара"
          ],
          [
           "Самара"
          ],
          [
           "Самара"
          ],
          [
           "Самара"
          ],
          [
           "Самара"
          ],
          [
           "Самара"
          ],
          [
           "Самара"
          ],
          [
           "Самара"
          ],
          [
           "Санкт-Петербург"
          ],
          [
           "Санкт-Петербург"
          ],
          [
           "Санкт-Петербург"
          ],
          [
           "Санкт-Петербург"
          ],
          [
           "Санкт-Петербург"
          ],
          [
           "Санкт-Петербург"
          ],
          [
           "Санкт-Петербург"
          ],
          [
           "Санкт-Петербург"
          ],
          [
           "Санкт-Петербург"
          ],
          [
           "Санкт-Петербург"
          ],
          [
           "Санкт-Петербург"
          ],
          [
           "Санкт-Петербург"
          ],
          [
           "Санкт-Петербург"
          ],
          [
           "Санкт-Петербург"
          ],
          [
           "Санкт-Петербург"
          ],
          [
           "Санкт-Петербург"
          ],
          [
           "Санкт-Петербург"
          ],
          [
           "Санкт-Петербург"
          ],
          [
           "Санкт-Петербург"
          ],
          [
           "Санкт-Петербург"
          ],
          [
           "Санкт-Петербург"
          ],
          [
           "Санкт-Петербург"
          ],
          [
           "Санкт-Петербург"
          ],
          [
           "Санкт-Петербург"
          ],
          [
           "Санкт-Петербург"
          ],
          [
           "Санкт-Петербург"
          ],
          [
           "Санкт-Петербург"
          ],
          [
           "Санкт-Петербург"
          ],
          [
           "Санкт-Петербург"
          ],
          [
           "Санкт-Петербург"
          ],
          [
           "Санкт-Петербург"
          ],
          [
           "Санкт-Петербург"
          ],
          [
           "Санкт-Петербург"
          ],
          [
           "Санкт-Петербург"
          ],
          [
           "Санкт-Петербург"
          ],
          [
           "Санкт-Петербург"
          ],
          [
           "Санкт-Петербург"
          ],
          [
           "Санкт-Петербург"
          ],
          [
           "Санкт-Петербург"
          ],
          [
           "Санкт-Петербург"
          ],
          [
           "Санкт-Петербург"
          ],
          [
           "Санкт-Петербург"
          ],
          [
           "Санкт-Петербург"
          ],
          [
           "Санкт-Петербург"
          ],
          [
           "Санкт-Петербург"
          ],
          [
           "Санкт-Петербург"
          ],
          [
           "Санкт-Петербург"
          ],
          [
           "Санкт-Петербург"
          ],
          [
           "Санкт-Петербург"
          ],
          [
           "Санкт-Петербург"
          ],
          [
           "Санкт-Петербург"
          ],
          [
           "Санкт-Петербург"
          ],
          [
           "Санкт-Петербург"
          ],
          [
           "Санкт-Петербург"
          ],
          [
           "Санкт-Петербург"
          ],
          [
           "Санкт-Петербург"
          ],
          [
           "Санкт-Петербург"
          ],
          [
           "Санкт-Петербург"
          ],
          [
           "Санкт-Петербург"
          ],
          [
           "Санкт-Петербург"
          ],
          [
           "Санкт-Петербург"
          ],
          [
           "Санкт-Петербург"
          ],
          [
           "Санкт-Петербург"
          ],
          [
           "Санкт-Петербург"
          ],
          [
           "Санкт-Петербург"
          ],
          [
           "Санкт-Петербург"
          ],
          [
           "Санкт-Петербург"
          ],
          [
           "Санкт-Петербург"
          ],
          [
           "Саранск"
          ],
          [
           "Саранск"
          ],
          [
           "Саранск"
          ],
          [
           "Саранск"
          ],
          [
           "Саратов"
          ],
          [
           "Саратов"
          ],
          [
           "Саратов"
          ],
          [
           "Саратов"
          ],
          [
           "Саратов"
          ],
          [
           "Саратов"
          ],
          [
           "Саратов"
          ],
          [
           "Саратов"
          ],
          [
           "Саров"
          ],
          [
           "Саров"
          ],
          [
           "Сасово"
          ],
          [
           "Светлогорск"
          ],
          [
           "Севастополь"
          ],
          [
           "Севастополь"
          ],
          [
           "Северодвинск"
          ],
          [
           "Сергиев Посад"
          ],
          [
           "Серпухов"
          ],
          [
           "Симферополь"
          ],
          [
           "Симферополь"
          ],
          [
           "Симферополь"
          ],
          [
           "Симферополь"
          ],
          [
           "Симферополь"
          ],
          [
           "Славгород"
          ],
          [
           "Славянск-на-Кубани"
          ],
          [
           "Смоленск"
          ],
          [
           "Смоленск"
          ],
          [
           "Смоленск"
          ],
          [
           "Смоленск"
          ],
          [
           "Советск"
          ],
          [
           "Солнечногорск"
          ],
          [
           "Солнечногорск"
          ],
          [
           "Сочи"
          ],
          [
           "Сочи"
          ],
          [
           "Спасск-Дальний"
          ],
          [
           "Ставрополь"
          ],
          [
           "Ставрополь"
          ],
          [
           "Ставрополь"
          ],
          [
           "Ставрополь"
          ],
          [
           "Ставрополь"
          ],
          [
           "Старая Русса"
          ],
          [
           "Старый Оскол"
          ],
          [
           "Старый Оскол"
          ],
          [
           "Старый Оскол"
          ],
          [
           "Старый Оскол"
          ],
          [
           "Стерлитамак"
          ],
          [
           "Стерлитамак"
          ],
          [
           "Строитель"
          ],
          [
           "Ступино"
          ],
          [
           "Ступино"
          ],
          [
           "Сургут"
          ],
          [
           "Сургут"
          ],
          [
           "Сургут"
          ],
          [
           "Сургут"
          ],
          [
           "Сургут"
          ],
          [
           "Сызрань"
          ],
          [
           "Сызрань"
          ],
          [
           "Сыктывкар"
          ],
          [
           "Сыктывкар"
          ],
          [
           "Сыктывкар"
          ],
          [
           "Сыктывкар"
          ],
          [
           "Сыктывкар"
          ],
          [
           "Сыктывкар"
          ],
          [
           "Таганрог"
          ],
          [
           "Тамбов"
          ],
          [
           "Тамбов"
          ],
          [
           "Тамбов"
          ],
          [
           "Тамбов"
          ],
          [
           "Тамбов"
          ],
          [
           "Тамбов"
          ],
          [
           "Тамбов"
          ],
          [
           "Тверь"
          ],
          [
           "Тверь"
          ],
          [
           "Тверь"
          ],
          [
           "Тверь"
          ],
          [
           "Тихвин"
          ],
          [
           "Тольятти"
          ],
          [
           "Тольятти"
          ],
          [
           "Тольятти"
          ],
          [
           "Томск"
          ],
          [
           "Томск"
          ],
          [
           "Томск"
          ],
          [
           "Томск"
          ],
          [
           "Томск"
          ],
          [
           "Троицк (Челябинск)"
          ],
          [
           "Туапсе"
          ],
          [
           "Тула"
          ],
          [
           "Тула"
          ],
          [
           "Тула"
          ],
          [
           "Тула"
          ],
          [
           "Тула"
          ],
          [
           "Тула"
          ],
          [
           "Тула"
          ],
          [
           "Тула"
          ],
          [
           "Тюмень"
          ],
          [
           "Тюмень"
          ],
          [
           "Тюмень"
          ],
          [
           "Тюмень"
          ],
          [
           "Тюмень"
          ],
          [
           "Тюмень"
          ],
          [
           "Тюмень"
          ],
          [
           "Тюмень"
          ],
          [
           "Улан-Удэ"
          ],
          [
           "Улан-Удэ"
          ],
          [
           "Улан-Удэ"
          ],
          [
           "Улан-Удэ"
          ],
          [
           "Ульяновск"
          ],
          [
           "Ульяновск"
          ],
          [
           "Ульяновск"
          ],
          [
           "Усть-Илимск"
          ],
          [
           "Уфа"
          ],
          [
           "Уфа"
          ],
          [
           "Уфа"
          ],
          [
           "Уфа"
          ],
          [
           "Уфа"
          ],
          [
           "Уфа"
          ],
          [
           "Уфа"
          ],
          [
           "Уфа"
          ],
          [
           "Уфа"
          ],
          [
           "Уфа"
          ],
          [
           "Уфа"
          ],
          [
           "Хабаровск"
          ],
          [
           "Хабаровск"
          ],
          [
           "Хабаровск"
          ],
          [
           "Хабаровск"
          ],
          [
           "Ханты-Мансийск"
          ],
          [
           "Ханты-Мансийск"
          ],
          [
           "Химки"
          ],
          [
           "Хотьково"
          ],
          [
           "Чайковский"
          ],
          [
           "Чебоксары"
          ],
          [
           "Чебоксары"
          ],
          [
           "Чебоксары"
          ],
          [
           "Чебоксары"
          ],
          [
           "Челябинск"
          ],
          [
           "Челябинск"
          ],
          [
           "Челябинск"
          ],
          [
           "Челябинск"
          ],
          [
           "Челябинск"
          ],
          [
           "Челябинск"
          ],
          [
           "Челябинск"
          ],
          [
           "Череповец"
          ],
          [
           "Череповец"
          ],
          [
           "Череповец"
          ],
          [
           "Черкесск"
          ],
          [
           "Черкесск"
          ],
          [
           "Черняховск"
          ],
          [
           "Чита"
          ],
          [
           "Чита"
          ],
          [
           "Чита"
          ],
          [
           "Чита"
          ],
          [
           "Чита"
          ],
          [
           "Чита"
          ],
          [
           "Чита"
          ],
          [
           "Шахты"
          ],
          [
           "Шебекино"
          ],
          [
           "Шебекино"
          ],
          [
           "Щекино"
          ],
          [
           "Электросталь"
          ],
          [
           "Электросталь"
          ],
          [
           "Электросталь"
          ],
          [
           "Электросталь"
          ],
          [
           "Элиста"
          ],
          [
           "Энгельс"
          ],
          [
           "Югорск"
          ],
          [
           "Южно-Сахалинск"
          ],
          [
           "Южно-Сахалинск"
          ],
          [
           "Ялуторовск"
          ],
          [
           "Ярославль"
          ],
          [
           "Ярославль"
          ],
          [
           "Ярославль"
          ],
          [
           "Ярославль"
          ],
          [
           "Ярославль"
          ],
          [
           "Ярославль"
          ]
         ],
         "geo": "geo",
         "hovertemplate": "<b>%{hovertext}</b><br><br>cinema_latitude=%{lat}<br>cinema_longitude=%{lon}<br>cinema_city=%{customdata[0]}<br>revenue=%{marker.color}<extra></extra>",
         "hovertext": [
          "Юность (Абдулино)",
          "City Stars (Адлер)",
          "Спутник Алексеевка",
          "Мир кино 3D",
          "Люмен Фильм  (Арзамас)",
          "МОНИТОР Красная Площадь (Армавир)",
          "Монитор на Красной площади (Армавир)",
          "Кинозалы ЦУМа (Северодвинск)",
          "Мираж Синема Европарк",
          "Мираж Синема Макси",
          "Мираж Синема Титан-арена",
          "Россия",
          "Синема Стар Рио",
          "Синема Стар Рио Архангельск",
          "Большое Кино",
          "Киномакс–Астрахань",
          "Киноостров на Воробьева",
          "Киноостров на Магистральной",
          "Континент Синема",
          "Континент Синема",
          "Люмен Фильм (Балахна)",
          "DREAM",
          "Prada 3D Балашиха",
          "Люмен Фильм (Балашов)",
          "Pioneer Cinema",
          "Матрица",
          "Радуга",
          "Формула",
          "Формула ",
          "ГРИННФИЛЬМ (Белгород)",
          "Гриннфильм",
          "КИНО Спутник",
          "Победа",
          "Радуга",
          "Русич",
          "Синема Парк Сити Молл Белгородский",
          "Синема Стар Рио",
          "Синема Стар Рио Белгород",
          "Металлург (Белорецк)",
          "Cinema de Lux",
          "Планета кино в ТРЦ Ривьера",
          "Премиум",
          "Салют (Благовещенск РБ)",
          "КиноПарк",
          "Голливуд (Братск)",
          "Москва (Брюховецкая)",
          "Кино-развлекательный комплекс Панорама",
          "Муниципальное бюджетное учреждение культуры Межпоселенческий Дом культуры",
          "Панорама Аэропарк",
          "Панорама Бум",
          "Панорама в ТРЦ Аэро Парк",
          "Рай Парк",
          "Салют",
          "Салют",
          "Мадагаскар",
          "Cinema 5 Бузулук",
          "Мираж Синема Мармелад",
          "Россия",
          "МУК МКДЦ",
          "Киноград",
          "Киноград Mix",
          "Иллюзион",
          "Иллюзион Парк Черемушки",
          "Киномакс Сапфир",
          "Киномакс-Сапфир",
          "Океан",
          "Уссури",
          "Алания Синема",
          "Киномакс-Буревестник",
          "Киномакс–Буревестник",
          "Синема Парк Ковров Молл",
          "5 звезд Волгоград",
          "Cinema 5 Волгоград",
          "Cinema 5 Волгоград",
          "Mori Cinema (Волгоград)",
          "Киномакс",
          "Киномакс (Волжский)",
          "Мори Синема Волгоград",
          "Пирамида",
          "Синема Парк Европа Сити Молл ",
          "Кинотеатр ТРЦ (Волгодонск)",
          "Синема Эл",
          "Киномакс-Волжский",
          "Ленком",
          "Мори Синема Череповец",
          "Салют",
          "Синема Парк Мармелад",
          "Синема Стар Рио",
          "Синема Стар Рио Вологда",
          "Каскад",
          "Каскад (Воркута)",
          "Star & Mlad. Град",
          "Star&Mlad. ГРАД",
          "Star&Mlad. Московский проспект",
          "КИНО ОККО ТРК Арена",
          "Левый берег",
          "Левый берег",
          "МаксиМир",
          "Максимир",
          "Пролетарий",
          "Пролетарий",
          "Синема Парк Центр Галереи Чижова",
          "Юность",
          "Юность",
          "Silver Cinema",
          "Кинополис — Юбилейный",
          "Кинополис Север",
          "Добро-дар (Вязники)",
          "Московский",
          "Кинополис Кубус",
          "Скай Синема",
          "Радуга (Геленджик)",
          "Планета кино",
          "Планета кино",
          "Северный (Городец)",
          "Киностар",
          "Черная Жемчужина",
          "Россия",
          "Спутник Губкин",
          "Олимп",
          "Киностар (Гудермес)",
          "Люмен Фильм (Гусев)",
          "Макарыч",
          "Терминал (Джанкой)",
          "Прага Cinema",
          "Прага Cinema Арсенал",
          "Галакс",
          "Ракета (Евпатория)",
          "Prada 3D Академический",
          "АвтоКАРО под звездами: МЕГА Екатеринбург",
          "Гринвич Синема",
          "Гринвич Синема",
          "Дом Кино",
          "Дом кино",
          "Ельцин-центр",
          "Каро 10 Радуга Парк",
          "Кинодом",
          "Киноконцертный театр Космос",
          "Киномакс 3D-Мегаполис",
          "Киномакс 3D–Мегаполис",
          "Киноплекс в ТЦ Карнавал",
          "Киноцентр Prada 3D Академический",
          "Киноцентр Континент синема КомсоМолл",
          "Континент Синема",
          "Пассаж Синема",
          "Пассаж Синема",
          "Премьер Зал Гранат",
          "Премьер Зал Заря",
          "Премьер Зал Заря",
          "Премьер Зал Знамя",
          "Премьер Зал Омега",
          "Премьер Зал Парк Хаус",
          "Премьер Зал Парк Хаус",
          "Премьер Зал Фан Фан",
          "Премьер Зал Фан Фан",
          "Премьер Зал Юго-Западный",
          "Салют",
          "Салют",
          "Синема Парк Алатырь",
          "Прожектор",
          "Дружба",
          "Дружба",
          "Искра",
          "Русь (Железногорск)",
          "Кинозал МБУК Жуковский районный Дом культуры",
          "Prada 3D Жуковский",
          "Муниципальное бюджетное киноучреждение Космос",
          "Люмен Заречный",
          "Люмен Фильм (Заречный)",
          "Каро 5 Иридиум",
          "Синема Парк Зеленопарк",
          "Курортный",
          "Космос",
          "Солярис",
          "Европа Cinema",
          "Европа Cinema",
          "Май (Кохма)",
          "Формула А113",
          "Алмаз Синема Роликс",
          "Империя грез Сигма",
          "Киномакс",
          "Киномакс-Ижевск",
          "Россия",
          "Синема Парк Петровский",
          "Глобал Синема Ирбит",
          "New Cinema",
          "New Cinema",
          "Баргузин",
          "Дон Отелло",
          "Звездный",
          "Карамель",
          "Кино Jam",
          "Киноквартал",
          "Киномакс-Сильвер Молл",
          "Киномакс–Сильвер",
          "Киномолл",
          "Родина (Ангарск)",
          "ДК Россия",
          "Синема Эл",
          "Cinema 5",
          "Cinema 5 Парк Хаус",
          "Алмаз Синема XL",
          "Алмаз Синема Гранд",
          "Алмаз Синема Порт",
          "Алмаз Синема Порт",
          "Алмаз Синема Родина",
          "Алмаз Синема Сувар",
          "Каро 6 Кольцо",
          "Киномакс-Club",
          "Киномакс-Тандем",
          "Киномакс–Club",
          "Киномакс–Тандем",
          "Корстон",
          "Ленина",
          "Мир",
          "Заря",
          "Каро 7 Калининград Плаза",
          "Киноленд",
          "Киносфера ",
          "Синема Парк Европа",
          "Эпицентр",
          "МАУК ДКиС Тамань",
          "Арлекино",
          "Арлекино",
          "Инновационный культурный центр",
          "Инновационный культурный центр",
          "Кинозал ДК им. Гогиберидзе (Людиново)",
          "Синема Стар XXI век",
          "Синема Стар Калуга XXI век",
          "Синема Стар Рио",
          "Синема Стар Рио Калуга",
          "КиноFox",
          "КиноFox на ул. Ленина",
          "КиноFox на ул. Суворова",
          "Марс",
          "Гринвич",
          "Киноцентр Рио Синема",
          "Планета кино Променад-3",
          "Планета кино в ТРК Променад-2",
          "Планета кино в ТРК Променад-3",
          "Рио Синема",
          "Кинополис Кингисепп",
          "Кинополис Кубус (Кингисепп)",
          "Люмен Фильм (Кингисепп)",
          "Олимп",
          "Олимп (Кириши)",
          "Киномакс",
          "Silver Cinema",
          "Кинопарк (Клинцы)",
          "Синема Эл Козьмодемьянск",
          "Silver Cinema",
          "Горизонт",
          "Горизонт (Коломна)",
          "Синема Стар Рио (Коломна)",
          "Синема Стар Рио Коломна",
          "Глобал Синема Конаково",
          "American Cinema",
          "Cinema V (Коряжма)",
          "5 звезд Кострома",
          "Синема Стар Кострома",
          "Центральный",
          "Центральный Костромского областного Дома народного творчества",
          "Рублион Синема ТРЦ Столица",
          "Дворец Культуры",
          "Май",
          "Mori Cinema (Красногорск)",
          "Киномакс-Рига Молл",
          "Белая река (Белореченск)",
          "Киномакс (Краснодар)",
          "МОНИТОР Болгария (Краснодар)",
          "МОНИТОР Европа (Краснодар)",
          "МОНИТОР Красная Площадь (Краснодар)",
          "МОНИТОР СБС (Краснодар)",
          "МОНИТОР Сити de Luxe (Краснодар)",
          "Монитор Болгария",
          "Монитор Европа",
          "Монитор СБС",
          "Монитор на Красной площади (Анапа)",
          "Формула Кино OZ",
          "Mori Cinema (Красноярск)",
          "Дом кино",
          "Киномакс-Планета",
          "Киномакс–Планета",
          "Мечта",
          "Синема Парк Галерея Енисей",
          "Эпицентр",
          "Глобал-кино (Кузнецк)",
          "Кинокафе (Кулебаки)",
          "Pushka",
          "Pushka",
          "Победа (Курганинск)",
          "5 звезд Курск",
          "Cinema 5",
          "Cinema 5 Курск",
          "ГРИННФИЛЬМ (Курск)",
          "Люксор Европа",
          "Люксор Курск",
          "Родина",
          "Ретро",
          "Киномакс-Ривьера Липецк",
          "Киномакс–Ривьера",
          "Малибу",
          "Малина-Водопьянова",
          "Малина-Москва",
          "Флинт",
          "Кинопарк",
          "Silver Cinema",
          "Вики Синема (Люберцы)",
          "Глобал Синема Лянтор",
          "Горняк",
          "Нагаевский",
          "Радуга кино",
          "Радуга кино",
          "Joy Land",
          "Joy Land (Майкоп)",
          "КДК Калейдоскоп",
          "Урал (Медногорск)",
          "Гавайи",
          "Спектр 3D",
          "5 звезд (Щелково)",
          "5 звезд на Новокузнецкой",
          "5 звезд на Павелецкой",
          "Gagarin Cinema (Ивантеевка)",
          "Garage Screen",
          "Garage Screen",
          "Magic Cinema",
          "Mori Cinema Кунцево",
          "Prada 3D (Балашиха)",
          "Pushka",
          "Pushka Mitino",
          "Pushka Бабушкинская",
          "Pushka Братеево",
          "Pushka Митино",
          "Pushka в ТРК Ключевой",
          "Silver Cinema",
          "АвтоКАРО под звездами: Черёмушки",
          "Автокино «Ленинский»",
          "Автокинотеатр Синема Парк Зеленопарк (Зеленоград)",
          "Алмаз Синема Азовский",
          "Алмаз Синема Алтуфьевский",
          "Алмаз Синема Алтуфьевский",
          "Балтика",
          "Большой планетарий Москвы",
          "Бульвар",
          "Бульвар",
          "Времена года",
          "Времена года",
          "ГУМ Кинозал",
          "Галерея Кино",
          "Глобал Синема XL ",
          "Зиг Заг",
          "Иллюзион",
          "КАРО 9 Вегас Каширский",
          "КИНО ОККО Афимолл Сити",
          "Каро 10 Щука",
          "Каро 11 Октябрь",
          "Каро 13 Кунцево",
          "Каро 3 Алтуфьево",
          "Каро 4 Ангара",
          "Каро 4 на Шереметьевской",
          "Каро 6 Севастопольский",
          "Каро 6 Теплый Стан",
          "Каро 7 Атриум",
          "Каро 8 Капитолий Вернадского",
          "Каро 8 Саларис",
          "Каро 8 Южное Бутово",
          "Каро Sky 17 Авиапарк",
          "Каро Vegas 22",
          "Кино Окко Щелковский",
          "Кинозал ГУМа",
          "Кинозал Домжур",
          "Киноквартал в Ясенево",
          "Киноквартал на Варшавке",
          "Киномакс Рига-молл",
          "Киномакс-XL",
          "Киномакс-Водный",
          "Киномакс-Жулебино",
          "Киномакс-Мозаика",
          "Киномакс-Мозаика",
          "Киномакс-Пражская",
          "Киномакс-Пражская",
          "Киномакс-Солярис",
          "Киномакс-Титан",
          "Киномакс–XL",
          "Киномакс–Водный",
          "Киномакс–Жулебино",
          "Киномакс–Солярис",
          "Киномакс–Титан",
          "Киносфера IMAX",
          "Киносфера IMAX",
          "Киноцентр «Домжур»",
          "Космик Аннино",
          "Космик Аннино",
          "Космик Капитолий",
          "Космик Счастливая семья (Сергиев Посад)",
          "Космик Ясенево",
          "Космик Ясенево",
          "Кронверк Синема Вэйпарк",
          "Кронверк Синема Облака",
          "Кронверк Синема Семеновский",
          "Лекторий Музея Гараж",
          "Летний КАРО Эрмитаж",
          "Летний КАРО парк Садовники",
          "Лорд",
          "Лорд",
          "Люксор Весна",
          "Люксор Весна",
          "Люксор Гудзон",
          "Мираж Синема Mari",
          "Мираж Синема Европолис",
          "Мираж Синема Отрадное",
          "Молодежный центр (Истра)",
          "Мори Синема Кунцево",
          "Мори Синема Мытищи",
          "Москино Березка",
          "Москино Березка",
          "Москино Вымпел",
          "Москино Вымпел",
          "Москино Звезда",
          "Москино Звезда",
          "Москино Искра",
          "Москино Искра",
          "Москино Космос",
          "Москино Космос",
          "Москино Молодежный",
          "Москино Музеон",
          "Москино Музеон",
          "Москино Полет",
          "Москино Полет",
          "Москино Салют",
          "Москино Салют",
          "Москино Сатурн",
          "Москино Сатурн",
          "Москино Спутник",
          "Москино Спутник",
          "Москино Тула",
          "Москино Тула",
          "Москино Факел",
          "Москино Факел",
          "Москино Юность",
          "Москино Юность",
          "Облака (Пушкино)",
          "Олимпик Синема",
          "Отрада",
          "Пионер",
          "Пионер",
          "Победа",
          "Поклонка",
          "Родина",
          "Родина",
          "Синема Парк Бутово Молл",
          "Синема Парк Глобал Сити на Южной",
          "Синема Парк Европейский",
          "Синема Парк Мега Белая Дача",
          "Синема Парк Мега Теплый Стан",
          "Синема Парк Метрополис на Войковской",
          "Синема Парк Пятая Авеню на Октябрьском Поле",
          "Синема Парк Ривьера на Автозаводской",
          "Синема Парк Филион на Багратионовской",
          "Синема Парк на Калужской",
          "Синема Сити (Ногинск)",
          "Синема Стар Kvartal",
          "Синема Стар Дмитровка",
          "Синема Стар Дмитровка",
          "Синема Стар Европарк",
          "Синема Стар Ереван Плаза",
          "Синема Стар Марьина Роща",
          "Синема Стар Марьина Роща",
          "Синема Стар Москва Румянцево",
          "Синема Стар Москва Юго-Западная",
          "Синема Стар Принц Плаза",
          "Синема Стар Принц Плаза",
          "Синема Стар Рио на Академической",
          "Синема Стар Юго-Западная",
          "Синема Стар в МТК ЕвроПарк",
          "Синема Стар в ТРЦ Ереван Плаза",
          "Синема Стар на Академической",
          "Синема Стар на Ленинском",
          "Синема Стар на Ленинском",
          "Формула Кино Горизонт",
          "Формула Кино Ладога",
          "Формула Кино Лефортово",
          "Формула Кино ЦДМ",
          "Формула Кино Чертаново",
          "Формула Кино на Кутузовском",
          "Формула Кино на Мичуринском",
          "Формула Кино на Можайке",
          "Формула Кино на Полежаевской",
          "Центр документального кино",
          "Центр документального кино",
          "ЦентрФильм на Щелковской",
          "Час Кино (Бибирево)",
          "Час Кино (Свиблово)",
          "Кронверк Синема Форум",
          "Мираж Синема Северное Нагорное",
          "Планета 51 (Североморск)",
          "Звезда",
          "Mori Cinema (Мытищи)",
          "Алмаз Синема Мытищи",
          "Алмаз Синема Мытищи",
          "Алмаз Синема Перловка",
          "Глобал Синема Мытищи XL",
          "Cinema 5 Набережные Челны",
          "Cinema 5 Набережные Челны",
          "Madagascar HOT",
          "Иллюзиум",
          "Кинокомплекс Иллюзиум",
          "Мадагаскар",
          "Синема Парк Торговый Квартал",
          "Дея",
          "Буревестник (Находка)",
          "Каскад (Находка)",
          "МБУК РДК им. Г. И. Невельского",
          "Мир (Невинномысск)",
          "Park Cinema (Нефтекамск)",
          "КРК Арсенал",
          "ПаркСинема",
          "Юган (Нефтеюганск)",
          "Galaxy Star",
          "Stars Cinema",
          "Мир",
          "Надежда",
          "Югра Cinema",
          "Cinema 5 Нижнекамск",
          "Sun City",
          "Джалиль",
          "Синема 5",
          "Арлекино",
          "Арлекино",
          "Империя грез Восторг (Кстово)",
          "Империя грез Индиго",
          "Империя грез Мир",
          "Империя грез Небо",
          "Империя грез Сормовский",
          "Империя грез Электрон",
          "Люмен Арзамас",
          "Орленок",
          "Романов Синема",
          "Россия",
          "Синема Парк Седьмое небо",
          "Синема Парк Фантастика",
          "Синема Рио",
          "Синема Рио",
          "Спартак (Павлово)",
          "Родина",
          "Уран (Нововоронеж)",
          "Кино им. Кино",
          "Кино им. Кино",
          "Октябрь",
          "Октябрь",
          "Планета Кино Глобус",
          "Планета Кино Парус",
          "Планета Кино Полет",
          "Планета кино Парус",
          "Планета кино Сити-молл",
          "Формула Кино IMAX",
          "Иллизиум",
          "Детско-юношеский Нептун",
          "МОНИТОР Goodzone (Новороссийск)",
          "МОНИТОР Красная Площадь (Новороссийск)",
          "Монитор Goodzone",
          "Нептун",
          "Cinema Public",
          "Cinema Public",
          "Аврора",
          "Аврора",
          "Голден Синема",
          "Горизонт",
          "Горизонт",
          "КиноСити Новосибирск",
          "Киноатлас",
          "Киноатлас",
          "Киносити Новосибирск",
          "Орион (Бердск)",
          "Победа",
          "Победа",
          "Рассвет",
          "Седьмое небо",
          "Седьмое небо",
          "Синема Парк Континент",
          "Синема Парк Ройял Парк",
          "Синема Парк Сан Сити",
          "Формула Кино Аура",
          "Патэ (Новочеркасск)",
          "Калейдоскоп",
          "Cinema de Lux",
          "Киноплекс Синема Де Люкс",
          "Verba Cinema (Октябрьский)",
          "Атмосфера",
          "Вавилон",
          "ДК Рубин",
          "Киноцентр Вавилон",
          "Киноцентр Галактика",
          "Киноцентр Континент",
          "Кристалл",
          "Культурный центр Атриум-Кино",
          "Маяковский",
          "Первомайский",
          "Первомайский",
          "Слава",
          "Слава",
          "Фрегат",
          "Гриннфильм",
          "Синема Стар Рио Орел",
          "Современник",
          "ЦУМ-кино",
          "Cinema 5 (Бузулук)",
          "Cinema 5 Гулливер",
          "Cinema 5 Север",
          "Cinema 5 в ТРК Гулливер",
          "Cinema 5 в ТРЦ Север",
          "Алмаз Синема Кинофрэш",
          "Космос",
          "Мир (Орск)",
          "Родина",
          "Сокол",
          "Космик Капитолий Орехово-Зуево",
          "Орск",
          "Киноград",
          "Global Cinema (Осташков)",
          "Глобал Синема Осташков",
          "Zoom Cinema",
          "Zoom Cinema",
          "Берлин Синема",
          "Высшая лига",
          "Гулливер",
          "КИНО Суворовский",
          "Современник",
          "Кинозал-ИКЦ",
          "Киномакс",
          "Киномакс-Пермь",
          "Синема Парк Колизей",
          "Синема Парк Кристалл",
          "Синема Парк Семья.",
          "Мираж Синема Лотос",
          "Мираж Синема Макси",
          "Мираж Синема Тетрис",
          "Лимонад",
          "Киноконцертный зал Маяк",
          "Каро 4 Подольск",
          "Планета Кино Чайка",
          "Silver Cinema",
          "Silver Cinema Fjord",
          "Мираж Синема Акваполис",
          "Киномакс-Релакс",
          "Киномакс–Релакс (Пушкино)",
          "Облака (Пушкино)",
          "Галерея Синема",
          "Кристалл Синема",
          "Каро 10 Реутов",
          "Синема Стар (Реутов)",
          "Синема Стар в Реутове",
          "Фабрика",
          "Киномир",
          "Большой",
          "Горизонт Cinema & Emotion",
          "Горизонт Cinema & Emotion",
          "Иллюзион (Батайск)",
          "Киномакс IMAX",
          "Киномакс-IMAX",
          "Киномакс-Плаза",
          "Киномакс–Плаза",
          "Кинополис Орбита",
          "Кинополис Парк",
          "Кинополис Парк",
          "Кинополис — Орбита",
          "Киноцентр Большой",
          "Монитор Максимум (Шахты)",
          "Синема Стар Рио",
          "Синема Стар Рио Ростов-на-Дону",
          "Феникс",
          "Феникс",
          "Чарли Вавилон",
          "Чарли Вавилон",
          "Чарли Мармелад (Таганрог)",
          "Чарли Сокол",
          "Чарли Сокол",
          "Рошаль",
          "Октябрь (Руза)",
          "Искра",
          "Кинокомплекс CinemaV",
          "5 звезд Рязань",
          "Кинолюкс Барс",
          "Кинолюкс Малина",
          "Кинолюкс ТЦ Малина",
          "Киномакс IMAX",
          "Киномакс IMAX",
          "Люксор Круиз",
          "Формула Кино Виктория Плаза",
          "ОЦНК",
          "#ёкино",
          "5 звезд Самара",
          "Ambar Cinema",
          "Zoom Cinema",
          "Zoom Cinema",
          "Каро 8 Московский",
          "Киномакс",
          "Киномакс-Самара",
          "Самара",
          "Синема Парк Парк-хаус",
          "Художественный",
          "Angleterre Cinema Lounge",
          "Cinema 5 Шкиперский молл",
          "Cinema 5 в ТРК Шкиперский Молл",
          "Cinema Grand Palace",
          "Mori Cinema (Санкт-Петербург)",
          "SkyFilm",
          "Аврора Большой Зал",
          "Аврора Малый Зал",
          "Великан Парк",
          "Дом кино",
          "Дом кино",
          "Каро 11 Охта",
          "Каро 5 Невский-2",
          "Каро 5 на Байконурской",
          "Каро 7 Атмосфера",
          "Каро 7 Лиговъ",
          "Каро 7 на Стачек",
          "Каро 9 Варшавский экспресс",
          "Каро 9 Континент на Звездной",
          "Кино&Театр в Англетере",
          "Киноград (ТРК Порт Находка)",
          "Киноград (ТРК Южный полюс)",
          "Киноград Порт Находка",
          "Кинолофт Москва",
          "Кинополис Румба",
          "Кинополис — Румба",
          "Ленинград Центр",
          "Ленфильм",
          "Люксор Континент",
          "Люксор Лето",
          "Люксор в ТРК Континент",
          "Люксор в ТРК Лето",
          "Мираж Синема Атлантик Сити",
          "Мираж Синема Балкания Nova",
          "Мираж Синема Гулливер",
          "Мираж Синема Европолис",
          "Мираж Синема Международный",
          "Мираж Синема Монпансье",
          "Мираж Синема Озерки",
          "Мираж Синема Ока (Колпино)",
          "Мираж Синема в Ульянке",
          "Мираж Синема на Большом",
          "Мори Синема Санкт-Петербург",
          "Нева",
          "Невский Cinema",
          "Невский Cinema",
          "Открытая киностудия Лендок",
          "Пик",
          "Пик",
          "Победа (Гатчина)",
          "Синема Парк Гранд Каньон",
          "Синема Парк Мега Дыбенко",
          "Синема Парк Радуга на Парке Победы",
          "Синема Стар Рио",
          "Синема Стар Рио Санкт-Петербург",
          "Формула Кино Академ Парк",
          "Формула Кино Балканский",
          "Формула Кино Галерея",
          "Формула Кино Жемчужина",
          "Формула Кино Заневский Каскад",
          "Формула Кино Лондон Молл",
          "Формула Кино Меркурий",
          "Формула Кино Нео",
          "Формула Кино Норд",
          "Формула Кино Питерлэнд",
          "Формула Кино Родео Драйв",
          "Формула Кино Сити Молл",
          "Чайка",
          "Мадагаскар",
          "Мадагаскар Саранск",
          "Россия",
          "Синема Стар Рио Саранск",
          "Cinema 5 (Энгельс)",
          "Cinema 5 Саратов",
          "Cinema 5 Саратов",
          "Атриум (Вольск)",
          "Дом Кино",
          "Дом кино",
          "Синема Парк Тау-галерея",
          "Синема Парк Триумф Молл",
          "Люмен Саров",
          "Люмен Фильм (Саров)",
          "Гермес",
          "Киноленд-Марио",
          "Апельсин",
          "Муссон",
          "Кинозалы ЦУМа",
          "Космик Сергиев Посад",
          "Корстон (Серпухов)",
          "Kino Box",
          "Кинотеатр им. Шевченко",
          "Крым (Феодосия)",
          "Люмен Симферополь",
          "Спартак",
          "Премьера",
          "Galaxy, Парк-Отель Уют",
          "Silver Cinema",
          "Мираж Синема Макси",
          "Смена",
          "Современник",
          "Люмен Фильм (Советск)",
          "Киноцентр Сенеж",
          "Сенеж (Солнечногорск)",
          "City Stars Олимп",
          "Кино Море Молл",
          "Аврора (Спасск-Дальний)",
          "Салют Центр",
          "Салют Юг",
          "Синема Парк Космос",
          "Этажи",
          "Этажи",
          "Киноцентр",
          "Cinema 5 (Старый Оскол)",
          "Cinema 5 Старый Оскол",
          "Быль",
          "Чарли Боше",
          "Кинопорт (Стерлитамак)",
          "Мираж Синема Арбат (Стерлитамак)",
          "Юность",
          "Sky",
          "Юность (Ступино)",
          "Вершина",
          "Галактика",
          "Каро 8 Аура",
          "Мир",
          "Синема Парк Сургут Сити-молл",
          "Кинокомплекс Улица (Сызрань)",
          "Киноплекс",
          "Mori Cinema (Сыктывкар)",
          "Кронверк Синема Макси",
          "Радуга",
          "РубЛион Синема РубликЪ",
          "РублионСинема в ТРЦ Парма",
          "Томлун (Усинск)",
          "Чарли Мармелад",
          "Киномакс-Акварель",
          "Киномакс–Акварель+",
          "Мон Синема",
          "Синема Стар Рио",
          "Синема Стар Рио Тамбов",
          "Студенец Синема",
          "Студенец Синема",
          "Silver Cinema",
          "Silver Cinema",
          "Киноконцертный зал Панорама",
          "Синема Стар Тверь",
          "Кино ",
          "Mori Cinema (Тольятти)",
          "Космос ",
          "Мори Синема Тольятти",
          "Fакел",
          "Goodwin",
          "Kinopolis",
          "Киномакс",
          "Киномания (Колпашево)",
          "Премьер Зал Сан Сити (Троицк)",
          "МОНИТОР Красная Площадь (Туапсе)",
          "Автокинотеатр «ДКЖ-кино»",
          "Алмаз Синема Тула",
          "ДКЖ-кино",
          "КиноСити Тула",
          "Киносити Тула",
          "Октябрь",
          "Синема Парк Макси",
          "Синема Стар Рио Тула",
          "Азбука кино Солнечный",
          "Азбука кино Фаворит",
          "Атмос Синема",
          "Каро 6 Колумб",
          "Киномакс",
          "Киномакс-Тюмень",
          "Премьер",
          "Синема Парк Гудвин",
          "Capital Cinema",
          "People's Cinema IMAX",
          "Еврозона",
          "Еврозона",
          "Луна",
          "Руслан",
          "Синема Парк Аквамолл",
          "ДК им. Наймушина (Усть-Илимск)",
          "Cinema 5",
          "Cinema 5 Акварин",
          "Cinema 5 Уфа",
          "Silver Cinema",
          "Silver Cinema",
          "Ultra Cinema",
          "Кинокомплекс Ultra Cinema",
          "Киномакс",
          "Родина",
          "Синема Парк Галерея Арт",
          "Синема Парк Семья",
          "Cinema 9 IMAX",
          "Гигант",
          "Голливуд",
          "Оскар",
          "Kinostar",
          "Лангал",
          "Синема Парк МЕГА Химки",
          "МБУК Центр Елизаветы Мамонтовой",
          "Киноцентр Кама",
          "Cinema 5",
          "Cinema 5 МТВ",
          "Три пингвина",
          "Три пингвина",
          "Знамя",
          "Импульс",
          "Киномакс-Родник",
          "Киномакс-Урал",
          "Киномакс–Родник",
          "Киномакс–Урал",
          "Синема Парк Горки",
          "Mori Cinema (Череповец)",
          "Дом музыки и кино Комсомолец",
          "Комсомолец (Череповец)",
          "Чарли Россия",
          "Чарли Россия",
          "Люмен Фильм (Черняховск)",
          "Бригантина",
          "Комета",
          "Ликерка Синема",
          "Ликерка Синема",
          "Россия",
          "Удокан",
          "Центавр",
          "МОНИТОР Максимум (Шахты)",
          "Космос",
          "Спутник Шебекино",
          "В Щекино",
          "Вики Синема (Электросталь)",
          "Галерея кино",
          "Современник",
          "Современник",
          "Октябрь",
          "Cinema 5",
          "Синема Де Люкс (Югорск)",
          "Комсомолец",
          "Октябрь",
          "Премьера",
          "Киномакс-Альтаир",
          "Киномакс-Аура",
          "Киномакс–Альтаир",
          "Киномакс–Аура",
          "Синема Стар (Тутаевское)",
          "Синема Стар Шоколад"
         ],
         "lat": [
          53.690401674604914,
          43.427552,
          50.629368,
          44.898968,
          55.394897,
          44.982139,
          44.983259407610205,
          64.55038465535344,
          64.5324156,
          64.52431710213688,
          64.5419321,
          64.5596729394627,
          64.558618,
          64.558618,
          46.338313,
          46.35967097860274,
          46.330977,
          46.413024,
          46.37430342531229,
          46.374413,
          56.491561,
          55.790661,
          55.79766,
          51.548647,
          53.36226060441032,
          53.36897698986835,
          51.5332209,
          53.3975536,
          53.335214,
          50.632777,
          50.63286274924337,
          50.573218,
          50.598719,
          50.615954,
          50.57443733483095,
          50.5524051919696,
          50.6420901,
          50.642078,
          53.96822978775947,
          63.721567,
          52.536834,
          50.280435,
          55.0270916,
          58.384685,
          56.30434125646747,
          45.8053328,
          53.307905,
          52.37916,
          53.2755354,
          53.3079592,
          53.275467,
          53.2400572,
          53.270383,
          53.27038411205265,
          54.530844,
          52.788492,
          58.53150554211609,
          58.524354886825,
          54.349296,
          56.9791639718074,
          56.97259,
          43.162267,
          43.100369,
          43.1027245315351,
          43.102622,
          43.116437,
          43.115832,
          43.033599,
          56.11905,
          56.119229238381934,
          56.3649940393162,
          48.69695347781085,
          48.748983,
          48.74917067646652,
          48.743892,
          48.69778097641402,
          48.77185187994527,
          48.744126124261925,
          48.704325,
          48.7257222739197,
          47.5139074,
          55.863485,
          48.771798,
          59.2176,
          59.09391179205568,
          59.220819,
          59.1970426719488,
          59.202972234838256,
          59.202815,
          67.501853,
          67.501853,
          51.7888161,
          51.788555,
          51.717747,
          51.710867,
          51.633206,
          51.633460042393466,
          51.697198,
          51.697302,
          51.664936,
          51.66503383384162,
          51.66593651418,
          51.670339,
          51.670364326931,
          55.321748,
          60.019837,
          60.707348,
          56.2483206,
          55.187121,
          59.582031,
          59.563533,
          44.55936786682783,
          51.958285,
          51.95832129999999,
          56.672952,
          43.308934,
          43.317297,
          51.281109,
          51.277841,
          64.429958,
          43.339791,
          54.589764,
          58.187849,
          45.71111374351818,
          54.215988,
          54.238199,
          55.931223,
          45.18994644421324,
          56.7933331818829,
          56.823631,
          56.828678,
          56.82903099033377,
          56.837435,
          56.837046588695415,
          56.844964,
          56.818261,
          56.792163,
          56.845377,
          56.806966,
          56.8069089,
          56.852729,
          56.793449,
          56.829374,
          56.82946270935844,
          56.8363993338852,
          56.83649,
          56.797272,
          56.88698772366666,
          56.88718,
          56.891757,
          56.899699,
          56.863244,
          56.86350770000001,
          56.816341,
          56.816418,
          56.803801,
          56.83823599999999,
          56.838236,
          56.8323239146968,
          52.615956,
          53.184611,
          44.048575,
          44.050476,
          52.338196,
          53.528175,
          55.604565,
          55.286409,
          53.19633392532358,
          53.196385,
          55.982618,
          55.9986809879617,
          54.960902,
          55.148719,
          55.124657,
          56.982754653751925,
          56.983736,
          56.942834,
          57.005529,
          56.874778,
          56.85756538658492,
          56.87680645400033,
          56.875973,
          56.85186834004455,
          56.871944364994,
          57.661693,
          52.2758454,
          52.276271,
          52.26673418637365,
          52.28205470917973,
          52.280287779959686,
          52.279213,
          52.26514056613739,
          52.2731886494951,
          52.265608,
          52.26574775723108,
          52.26779133504152,
          52.511660003645375,
          54.619286,
          56.641832,
          55.829578,
          55.82952662964525,
          55.825153,
          55.778498,
          55.8153372158467,
          55.815946,
          55.79178843599846,
          55.74441,
          55.7867,
          55.768293,
          55.821176,
          55.76944245945875,
          55.82124883676215,
          55.79385660000003,
          55.85391,
          55.788096,
          54.720595,
          54.714061,
          54.68141021549926,
          54.737639,
          54.718657,
          54.72166320714468,
          55.566705,
          54.53144985803596,
          54.53145,
          54.515492,
          54.515607,
          53.86577493826624,
          54.51618008272685,
          54.516184,
          54.51556416372517,
          54.515136,
          56.390788,
          56.415903,
          56.390739,
          54.938643,
          55.32857771494807,
          55.402292,
          55.343641454448544,
          55.343907,
          55.343526,
          55.4019601,
          59.369678,
          59.369668,
          59.387811,
          59.444631,
          59.444464228157024,
          58.599179745798914,
          56.333973,
          52.746763850870906,
          56.33547,
          55.084126,
          55.09269,
          55.09270550780705,
          55.08418628157534,
          55.084003,
          56.718493,
          55.113365,
          61.314364,
          57.74436906732569,
          57.742625,
          57.765174714632224,
          57.765187,
          61.236826,
          52.586787,
          56.942794,
          55.818981,
          55.799219,
          44.77691,
          45.0394950853986,
          45.017632,
          45.063024,
          45.1018,
          45.033406,
          45.001278,
          45.017034,
          45.06281542188959,
          45.03453509431012,
          44.87953975427223,
          45.0105989854218,
          56.037212,
          56.0119732,
          56.050851,
          56.0506909,
          55.9949404,
          56.009325,
          55.99132451370314,
          53.12116100000347,
          55.42519,
          55.4321359951596,
          55.432214,
          44.883381,
          51.73791379739188,
          51.74895,
          51.74891988470426,
          51.761661,
          51.74145522563213,
          51.741679,
          51.66987718232969,
          58.634768,
          52.592357,
          52.59236183204479,
          52.611325,
          52.591285,
          52.61749945406906,
          52.62612587458378,
          59.903088,
          54.966065,
          55.685929,
          61.620697,
          59.563438,
          59.55946553858419,
          59.556923,
          59.55696717774335,
          44.6149655,
          44.614993,
          61.031282,
          51.40117040999907,
          55.046522,
          55.504308,
          55.921257,
          55.74456719660905,
          55.7330384054911,
          55.97519732351029,
          55.72728573240573,
          55.727775,
          55.995632006046606,
          55.738591,
          55.79780599999999,
          55.875804,
          55.846113,
          55.87579740383949,
          55.6399594,
          55.84627392055067,
          55.639959,
          55.714648,
          55.68347,
          55.70634,
          55.998678,
          55.649884,
          55.852797,
          55.8529850301203,
          55.850661,
          55.761473,
          55.574790548031466,
          55.574814,
          55.731713,
          55.73181031026812,
          55.754722,
          55.813093,
          55.891698,
          55.889881,
          55.74795848025167,
          55.585281,
          55.7492601878281,
          55.809469,
          55.753338,
          55.719828,
          55.888542,
          55.651379,
          55.803484,
          55.687051,
          55.61991,
          55.757214,
          55.692467,
          55.623788,
          55.548599,
          55.790232,
          55.820606,
          55.81100700000019,
          55.754697098266014,
          55.753966,
          55.607489,
          55.653644,
          55.799492657870736,
          55.863858,
          55.839474,
          55.686098,
          55.710639,
          55.710687,
          55.611079,
          55.612146,
          55.659796,
          55.621404,
          55.86369830000277,
          55.84025099999999,
          55.6857669,
          55.65964338228474,
          55.6211864,
          55.880975,
          55.881176,
          55.75394300000039,
          55.582986,
          55.5830121280226,
          56.339816,
          56.303856,
          55.6066124133516,
          55.606856,
          55.85883344761388,
          55.612025999997655,
          55.7827070829488,
          55.727775,
          55.770796,
          55.663314,
          55.697463,
          55.697490726724055,
          55.91311067705894,
          55.913178,
          55.66584,
          55.64983600776148,
          55.846051,
          55.8632268609835,
          55.908452,
          55.73860551177134,
          55.9199092952377,
          55.749841,
          55.749862,
          55.8618488,
          55.861969,
          55.75979075291515,
          55.759957,
          55.81446,
          55.814477,
          55.818714,
          55.818756,
          55.710923,
          55.737226,
          55.737252,
          55.8460347915779,
          55.846052,
          55.682813,
          55.682829,
          55.852025,
          55.852027,
          55.7643799930778,
          55.764408,
          55.6858620512187,
          55.685927,
          55.751817,
          55.751843,
          55.795361,
          55.7953679084301,
          56.01164545080232,
          55.737569,
          55.87606599999435,
          55.744977,
          55.7451258529324,
          55.734497121927646,
          55.730973,
          55.781607,
          55.78162421676892,
          55.5244942,
          55.6226598024446,
          55.7446,
          55.6542748798214,
          55.606482441909,
          55.8232147685953,
          55.799847586129,
          55.705072,
          55.743996,
          55.65596684085,
          55.85275087112515,
          55.707294,
          55.909290781419024,
          55.909895,
          55.7663236608865,
          55.70876155381475,
          55.795433,
          55.79578699283469,
          55.629965,
          55.663019,
          55.618062,
          55.61854815801913,
          55.68979848459416,
          55.6634943872094,
          55.766212,
          55.708658,
          55.689564,
          55.66354,
          55.66367143248922,
          55.7282789,
          55.8867579907734,
          55.74738484542116,
          55.7601567,
          55.63714362850061,
          55.72789839669912,
          55.67796891373151,
          55.7058041577479,
          55.7775434837405,
          55.73631217631481,
          55.73648,
          55.811776,
          55.898644,
          55.856335,
          68.92127599999999,
          68.91417799432988,
          69.066955,
          53.710441,
          55.919972,
          55.916026839807365,
          55.916603,
          55.892042,
          55.891698,
          55.745173889934485,
          55.74524,
          55.751827,
          55.74192238726212,
          55.741977,
          55.75174981775038,
          55.7247580427722,
          43.50248010647266,
          42.825346,
          42.77351553197356,
          46.672644,
          44.63800332309536,
          56.0879978,
          56.086878,
          56.088157,
          61.09081059328204,
          60.939525,
          60.94398671625257,
          60.9361432132645,
          60.9510679455172,
          60.94051000801957,
          55.620512,
          55.655605,
          55.637257,
          55.620526,
          56.29619816717371,
          56.296299,
          56.14618366354899,
          56.2902682,
          56.241198167468085,
          56.3091188,
          56.34751101967848,
          56.2744743,
          55.39436486959211,
          56.318696,
          56.32254019999891,
          56.286198,
          56.3380909672388,
          56.3079349241295,
          56.317942,
          56.31796530597819,
          55.96538200972587,
          57.908027,
          51.308133047730905,
          53.760128,
          53.760266165380926,
          53.762996187454895,
          53.763007,
          53.760214,
          53.892697,
          53.780831,
          53.8928313,
          53.75869848060472,
          53.780361555345294,
          54.007448,
          44.715154,
          44.685284,
          44.725392,
          44.6853177,
          44.70091180791289,
          55.043933,
          55.0439634,
          54.991182,
          54.991233,
          55.104311,
          55.04239488516063,
          55.042409,
          55.0392,
          55.107041,
          55.10705365558204,
          55.03858591648163,
          54.75677064910644,
          55.02896699999999,
          55.029054,
          54.935035596535386,
          55.060616,
          55.06062941051066,
          54.966407,
          55.0556016761838,
          54.9804050336873,
          55.02874863876471,
          47.411443,
          47.756024,
          62.14833,
          55.117332,
          54.48383409931043,
          54.995963,
          54.9805116,
          54.949434,
          54.981054,
          54.948947,
          54.977251,
          55.028379,
          54.983675,
          54.991821,
          55.044155,
          55.0441675,
          54.99339649162869,
          54.99358,
          58.669611,
          52.921737656242726,
          53.016575,
          52.94003,
          52.967420845888505,
          52.7885738899445,
          51.81097850089778,
          51.83333796510188,
          51.81129,
          51.834056,
          51.845977,
          51.770479,
          51.238695,
          53.626768879,
          51.7946702532692,
          55.804602,
          51.22436,
          55.872718,
          57.155904,
          57.155904,
          53.220248,
          53.22053000000474,
          53.22113421174143,
          53.18965342663708,
          53.1176693,
          53.202492,
          53.19477017080442,
          56.915942,
          57.97643951755028,
          57.977312,
          58.0103259988329,
          57.9997919988306,
          58.0072468077479,
          61.77544772761669,
          61.79127339999999,
          61.7762469400226,
          53.0718208571808,
          54.95338,
          55.420132,
          53.872518,
          57.806611,
          57.80620399999879,
          57.82346923683073,
          56.017004,
          56.01749162281007,
          56.011701,
          44.035445,
          56.806035,
          55.752183,
          55.7638557,
          55.764406,
          53.942884,
          57.193962,
          47.23145854355268,
          47.25978233628889,
          47.260324,
          47.13689097371083,
          47.20370392288254,
          47.203997,
          47.208707,
          47.208703,
          47.29439549999999,
          47.28942298448664,
          47.289428,
          47.294305,
          47.231251,
          47.70694404917725,
          47.24750539999999,
          47.247532,
          47.23047850000455,
          47.230505,
          47.28042,
          47.281250113783216,
          47.217627,
          47.210476,
          47.210632,
          55.662819,
          55.7029214,
          54.071859,
          58.057203,
          54.65069378479757,
          54.63185600000001,
          54.63019616770441,
          54.630159,
          54.63419,
          54.634422826927135,
          54.6328415,
          54.6302849524325,
          66.52900767405998,
          53.20309389397457,
          53.22052335251229,
          53.14034286289714,
          53.25816067118589,
          53.25822,
          53.275919,
          53.191178,
          53.191265,
          53.24794618639501,
          53.23345999018245,
          53.18886,
          59.933941244326775,
          59.93841523707752,
          59.938473,
          59.936072196702185,
          59.946078,
          59.805824,
          59.934452,
          59.934452,
          59.955895437630886,
          59.936258900000034,
          59.936304,
          59.940416,
          59.90844,
          60.002412,
          60.007979,
          59.914488,
          59.858688,
          59.907182,
          59.832425,
          59.933746,
          59.830843,
          59.863328,
          59.83134399531582,
          59.924311,
          59.879881,
          59.879886,
          59.945841,
          59.95818482354186,
          59.88357509999999,
          59.8197860432194,
          59.883218,
          59.819693,
          59.98638640297627,
          59.82749999670526,
          59.99014947333476,
          59.987536,
          59.87014029999999,
          60.02233519751792,
          60.03917213174139,
          59.7388041,
          59.834165,
          59.959519507635854,
          59.9461541,
          59.93175,
          59.880811,
          59.880861,
          59.924064,
          59.926305,
          59.92634519999999,
          59.56496117406775,
          60.0580871652568,
          59.89301,
          59.869875904474,
          59.87713699999999,
          59.876944,
          60.0126633,
          59.83069453846585,
          59.92755481871647,
          59.84928189999999,
          59.93299570606581,
          59.912895,
          59.990889975171285,
          59.93199763632183,
          60.05250276915092,
          59.9813054,
          60.03373509999999,
          60.0049454035678,
          59.845067788668445,
          54.18558625255022,
          54.185631,
          54.1736240051832,
          54.182118,
          51.48788699108948,
          51.494286,
          51.494380606005336,
          52.03960601527811,
          51.532108,
          51.53221215867211,
          51.5753303,
          51.5422649933967,
          54.940344,
          54.940344,
          54.353984,
          54.94450228030494,
          44.58459132990777,
          44.5890289739937,
          64.550532,
          56.339816,
          54.91750070906081,
          44.980769,
          44.949857359573,
          45.028303321235136,
          44.93769967444794,
          44.950876121173,
          52.999727,
          45.259763,
          54.79429,
          54.76899781935876,
          54.778497,
          54.77249376494687,
          55.075622,
          56.184718,
          56.18485099999999,
          43.60540899999999,
          43.60595999999501,
          44.59794596877615,
          45.05025079585721,
          45.01992,
          44.997445,
          45.039706,
          45.03970909915273,
          57.992871,
          51.31756113070239,
          51.317427,
          51.309356,
          51.309219,
          53.62827038702244,
          53.622380471036735,
          50.787023,
          54.8982725489887,
          54.89107267562842,
          61.25665362354764,
          61.25403,
          61.277479,
          61.25483808188513,
          61.2547086439669,
          53.153563,
          53.128289,
          61.690334,
          61.69848990000001,
          61.67331050000001,
          61.662277,
          61.662081,
          65.986738,
          47.217405,
          52.728219,
          52.72822677613732,
          52.760795288456144,
          52.72418551028363,
          52.724124,
          52.729433,
          52.729512,
          56.8536419956899,
          56.85372,
          56.855634,
          56.846711,
          59.6418699991453,
          53.54179,
          53.510155,
          53.541857,
          56.462355278847,
          56.488315111455705,
          56.51410959787125,
          56.501523,
          58.31799043500783,
          54.08326002381887,
          44.100951,
          54.202498,
          54.155815,
          54.191281,
          54.192098,
          54.19183117969801,
          54.19777900000432,
          54.193544,
          54.199476,
          57.11875619383633,
          57.12332240650713,
          57.17544248716328,
          57.135043,
          57.11741876062473,
          57.117237,
          57.1336215,
          57.1489170047585,
          51.83437049999751,
          51.81203186851769,
          51.825581,
          51.82577,
          54.278834,
          54.369862,
          54.307077,
          57.98909437812097,
          54.778492,
          54.778492,
          54.822007,
          54.7412282042783,
          54.741768,
          54.71699020346859,
          54.717324,
          54.75770782065252,
          54.72805602275522,
          54.7293237413855,
          54.7496648504845,
          48.461925885551466,
          48.47700031137461,
          48.46884550817899,
          48.476645,
          60.965873,
          61.0055029,
          55.9106932139238,
          56.253798,
          56.776384,
          56.102067,
          56.10196826408092,
          56.107584,
          56.107734,
          55.161461,
          55.24249,
          55.170998,
          55.157372,
          55.1713134,
          55.15755169999849,
          55.1633884707768,
          59.094156,
          59.128008,
          59.128018,
          44.224208,
          44.22421710965111,
          54.635845,
          52.03045208115083,
          52.03421759999512,
          52.04009987523429,
          52.040411,
          52.045767,
          52.030753,
          52.027409,
          47.706913,
          50.412253,
          50.395594,
          54.001574,
          55.784597,
          55.812908,
          55.777591623549,
          55.777927,
          46.304568,
          51.487884,
          61.315783,
          46.96465713519403,
          46.957922,
          56.6543461,
          57.69782,
          57.626766,
          57.697846,
          57.627228023314586,
          57.670278,
          57.576755
         ],
         "legendgroup": "",
         "lon": [
          53.650893620048464,
          39.926596,
          38.695991,
          37.325503,
          43.839725,
          41.097973,
          41.09681188590275,
          39.78554430490385,
          40.52848940000001,
          40.6026751866209,
          40.53506809999999,
          39.7956240177155,
          40.559537,
          40.559537,
          48.023172,
          48.055449182803386,
          48.048279,
          47.98493,
          48.05060585628598,
          48.050379,
          43.614313,
          37.886447,
          37.939124,
          43.215173,
          83.76405959008412,
          83.69122199999993,
          81.204706,
          83.9299774,
          83.6840095,
          36.570936,
          36.571097090213016,
          36.538543,
          36.586306,
          36.583585,
          36.58209683073278,
          36.5688730336516,
          36.57188539999993,
          36.572086,
          58.40898929240928,
          66.671954,
          85.218794,
          127.510357,
          55.9752539,
          33.92449,
          101.75965384722394,
          39.00189369999998,
          34.301873,
          32.195835,
          34.3159267,
          34.3019961,
          34.315904,
          34.34686680000004,
          34.406832,
          34.40680427124323,
          52.802721,
          52.263705,
          31.242905373664826,
          31.26279613693714,
          38.268391,
          60.5683331790286,
          60.576068,
          131.911624,
          131.903334,
          131.91743198531265,
          131.917501,
          131.878127,
          131.886733,
          44.642721,
          40.365826,
          40.36632309814763,
          41.3034117221832,
          44.50167241719669,
          44.496736,
          44.49669082243338,
          44.519383,
          44.49982945767215,
          44.79979375015182,
          44.51935040748765,
          44.50969599999996,
          44.5412760079922,
          42.185735199999954,
          48.3679,
          44.79976,
          39.89225,
          37.92345634373112,
          39.896275,
          39.8593389153442,
          39.81282453491144,
          39.81259,
          64.061845,
          64.061845,
          39.20539869999993,
          39.204687,
          39.177533,
          39.159638,
          39.230383,
          39.23057155090817,
          39.272664,
          39.273149800000056,
          39.204573,
          39.20450732889572,
          39.1916165650343,
          39.204913,
          39.20483634722132,
          38.673102,
          30.646628,
          28.77356,
          42.1495128,
          34.340006,
          30.148045,
          30.093059,
          38.079483735582016,
          85.959304,
          85.9594323,
          43.450657,
          45.701032,
          45.718014,
          37.538098,
          37.499965,
          76.492615,
          46.100301,
          22.214511,
          40.176434,
          34.389033375160125,
          49.625982,
          49.563753,
          37.494164,
          33.36665868759155,
          60.51929884841002,
          60.505406,
          60.600198,
          60.59902828570557,
          60.622088,
          60.62210622870339,
          60.589785000000006,
          60.53701,
          60.645957,
          60.604605,
          60.612099,
          60.61236269999995,
          60.549759,
          60.519644,
          60.672699,
          60.67211743503435,
          60.59572284100784,
          60.595741,
          60.581847,
          60.6151846522871,
          60.615072,
          60.592811,
          60.613213,
          60.631081,
          60.630819900000006,
          60.585913,
          60.585801,
          60.566168,
          60.61032709999995,
          60.610261,
          60.5824630561192,
          38.503329,
          158.390056,
          42.857122,
          42.895716,
          35.349722,
          33.728909,
          38.082064,
          52.003741,
          45.15948953677059,
          45.159549,
          37.17571,
          37.2589516639709,
          20.479127,
          59.673036,
          59.699906,
          40.98188791789971,
          40.982887,
          41.066304,
          40.985302,
          53.27714,
          53.21137410186134,
          53.204510217242046,
          53.209197,
          53.20496686758168,
          53.2932805160503,
          63.083849,
          104.30510090000008,
          104.306253,
          104.31010729199602,
          104.28536968220897,
          104.31180059265978,
          104.30254609999996,
          104.22315101719664,
          104.29085933737622,
          104.226761,
          104.22664048092132,
          104.28905278443358,
          103.86258618746284,
          83.287499,
          47.833142,
          49.118586,
          49.11799334603268,
          49.152417,
          49.129186,
          49.1273422883605,
          49.127023,
          49.11227912037418,
          49.192818,
          49.123832,
          49.217227,
          49.093351,
          49.21700146809393,
          49.09339145767217,
          49.14930424418026,
          49.086795,
          49.147312,
          20.482981,
          20.505141,
          20.48254404166414,
          20.485334,
          20.498988,
          20.50907334166413,
          36.9946,
          36.27171875459464,
          36.271707,
          36.228858,
          36.228884,
          34.44766538376348,
          36.24683300000004,
          36.246757,
          36.25217543677525,
          36.252108,
          61.942132,
          61.912303,
          61.929371,
          41.393429,
          86.12453620343103,
          86.117758,
          86.09539462563885,
          86.181413,
          86.094785,
          86.11753759999999,
          28.613067,
          28.613004,
          28.64025,
          32.042385,
          32.0387077331543,
          49.64752616745909,
          36.734088,
          32.23763220022738,
          46.552962,
          38.804948,
          38.766634,
          38.76653141349175,
          38.800541173541205,
          38.800242,
          36.76782,
          61.610839,
          47.17244,
          41.01345794973759,
          40.918766,
          40.93446998445711,
          40.934449,
          46.641913,
          41.497028,
          41.066444,
          37.347114,
          37.273402,
          39.86654499999997,
          38.9742868245077,
          39.036285,
          38.91838,
          38.98366,
          39.050201,
          38.961988,
          39.03655421593862,
          38.918395737434366,
          39.05251378453886,
          37.33875831452326,
          39.121925,
          92.935181,
          92.8648402,
          92.904357,
          92.9035569,
          92.97275539999998,
          92.888962,
          92.89545541104508,
          46.547499999994216,
          42.51834,
          65.318985,
          65.319109,
          40.592891,
          36.19228200859834,
          36.191721,
          36.19166754655237,
          36.184283,
          36.14601561904908,
          36.14574,
          36.08137578650815,
          59.783538,
          39.504331,
          39.50433946562134,
          39.574256,
          39.544009,
          39.55685994603277,
          39.64288940638608,
          29.768237,
          39.027631,
          37.876377,
          72.169401,
          150.803033,
          150.79187468775126,
          150.82468,
          150.82455687969286,
          40.10679219999997,
          40.106815,
          76.121512,
          57.5872722558197,
          60.110318,
          36.029953,
          37.99176030000001,
          37.62992663117871,
          37.637394994526176,
          37.90684611314202,
          37.60247525877492,
          37.601591,
          37.53694104943543,
          37.411005,
          37.93847800000003,
          37.665542,
          37.358211,
          37.66548408661652,
          37.7583009,
          37.358160144562135,
          37.758204,
          37.883572,
          37.550266,
          37.596246,
          37.25807689999999,
          37.596263,
          37.585774,
          37.5856299698636,
          37.444295,
          37.58374,
          37.58001208305359,
          37.580066,
          37.487353,
          37.487754821777344,
          37.621389,
          38.430482,
          37.748619,
          37.537676,
          37.64495862158651,
          37.722897,
          37.5399999682618,
          37.464571,
          37.587615,
          37.378191,
          37.588474,
          37.612389,
          37.618767,
          37.603918,
          37.509873,
          37.658941,
          37.527663,
          37.422027,
          37.542392,
          37.530826,
          37.388137,
          37.80090099999688,
          37.621521400000006,
          37.601627,
          37.532367,
          37.620698,
          37.273697867736814,
          37.545752,
          37.493276,
          37.85378,
          37.674466,
          37.6751,
          37.606815,
          37.606918,
          37.749704,
          37.713953,
          37.54592979999563,
          37.49128199999996,
          37.854277000000025,
          37.74961602960343,
          37.71377150000001,
          37.450368,
          37.450124,
          37.60158699999624,
          37.59524,
          37.5953712042298,
          38.124635,
          38.133214,
          37.53624485136743,
          37.536292,
          37.39507957136891,
          37.73258489998853,
          37.72038772209021,
          37.601591,
          37.609272,
          37.65602,
          37.500207,
          37.50029079574836,
          37.58443188115223,
          37.585763,
          37.627885,
          37.77007254337764,
          37.661055,
          37.60212927187979,
          36.86108009999998,
          37.41065654237116,
          37.7084542380982,
          37.802562,
          37.802572000000055,
          37.6765311,
          37.676825,
          37.65707114341777,
          37.656901,
          37.57113490000006,
          37.571157,
          37.63678099999993,
          37.636753,
          37.731341,
          37.609844,
          37.60957,
          37.4429064095288,
          37.44284,
          37.5713,
          37.571329,
          37.647645,
          37.647636000000034,
          37.705563411033495,
          37.705591,
          37.718590289384,
          37.718601,
          37.715999,
          37.71612200000004,
          37.495424,
          37.4954219162737,
          37.84754594104447,
          37.716596,
          37.3320360000107,
          37.549866,
          37.5499906428528,
          37.67086862698363,
          37.504834,
          37.717951,
          37.71788245767209,
          37.51751360000003,
          37.6060147583769,
          37.566102,
          37.8448880017114,
          37.4898321926866,
          37.4976663887774,
          37.4830365479264,
          37.639383,
          37.508179,
          37.5414486229698,
          38.44493108998813,
          37.456828,
          37.540605150787314,
          37.540001,
          37.38083208465582,
          37.62206527116393,
          37.617141,
          37.61686033558203,
          37.423851,
          37.480993,
          37.507526,
          37.50704511719664,
          37.60269286640937,
          37.48149100859837,
          37.380875,
          37.622141,
          37.602507,
          37.510919,
          37.51138249206542,
          37.58448680000004,
          37.65942913128288,
          37.70707635581971,
          37.62461189999999,
          37.59914796857231,
          37.4764491815348,
          37.46705064418029,
          37.38887436511232,
          37.52310639259031,
          37.594152981091725,
          37.593102,
          37.830817,
          37.629193,
          37.653345,
          33.115774999999985,
          33.09538047354124,
          33.419547,
          87.8013,
          37.708527,
          37.75694396162408,
          37.759058,
          37.727941,
          37.748619,
          52.37961340244669,
          52.379659,
          52.40942,
          52.41407450942848,
          52.414054,
          52.40958103128639,
          52.381209661262,
          43.620990566220485,
          132.89326,
          133.05602779629524,
          141.856762,
          41.93958378769685,
          54.23689880000006,
          54.245777,
          54.236917,
          72.61001453372955,
          76.59823789999996,
          76.63441480480799,
          76.60414231419395,
          76.61383507907408,
          76.54623235586826,
          51.790345,
          51.82468,
          51.817992,
          51.790441,
          44.04197040098893,
          44.042485,
          44.1783829552254,
          44.07333140000003,
          43.85952734173361,
          43.98731459999999,
          43.87130394797509,
          43.97884099999999,
          43.83986329844265,
          43.996031000000016,
          44.00598410000271,
          43.931013,
          43.9549043477535,
          44.073509484626,
          43.925443,
          43.92534815769409,
          43.06602774603266,
          59.973917,
          39.213096847943234,
          87.14885,
          87.14869864404841,
          87.11973631779097,
          87.119457,
          87.145925,
          87.114331,
          87.288209,
          87.11442590000001,
          87.13811863126591,
          87.12633493809813,
          38.284302,
          37.784769,
          37.78146,
          37.762824,
          37.78130090000002,
          37.78743056076735,
          82.953488,
          82.9533593,
          82.908154,
          82.90830000000005,
          82.960692,
          82.98625758340904,
          82.985873,
          82.960778,
          82.938558,
          82.93843036745909,
          82.9610034920654,
          83.10325500389786,
          82.915077,
          82.914752,
          82.9138145170798,
          82.914114,
          82.91420997420505,
          82.85295099999996,
          82.9118659799384,
          82.8978863065527,
          82.93664433396475,
          40.101711,
          39.933912,
          65.43514,
          36.593277,
          53.50532238157996,
          73.251055,
          73.37148769999999,
          73.412407,
          73.371511,
          73.388559,
          73.324218,
          73.284829,
          73.389308,
          73.363884,
          73.315562,
          73.31557629999998,
          73.35612672154207,
          73.356474,
          52.190133,
          36.01082487323015,
          36.16028,
          36.0456461,
          36.07486977546307,
          52.26359030227002,
          55.09168344603268,
          55.12893323267974,
          55.091413,
          55.129756,
          55.12026,
          55.092329,
          58.471548,
          52.4220329,
          55.12910862004719,
          38.974316,
          58.49438989999999,
          48.88239,
          33.098597,
          33.098597,
          44.951206,
          44.951669999983096,
          44.88832105496215,
          45.016014810309,
          46.5880106,
          44.997797,
          45.00941700010412,
          59.931365,
          56.18685567414968,
          56.189571,
          56.236224,
          56.248272,
          56.2609114947183,
          34.30680758881931,
          34.36429181349183,
          34.3704558447746,
          158.58735421237657,
          20.226521,
          37.547755,
          86.636769,
          28.259638,
          28.259032000015168,
          28.289850218167885,
          37.885284,
          37.88541875883891,
          37.847469,
          43.065061,
          59.935971,
          37.887611,
          37.84487969999998,
          37.844883,
          32.837322,
          39.443991,
          39.72590593439327,
          39.71990617777101,
          39.718927,
          39.74357520000001,
          39.722206011912135,
          39.723735,
          39.631112,
          39.63149899999996,
          39.7049901711639,
          39.7135109106639,
          39.713513,
          39.704943,
          39.726143,
          40.21639475317636,
          39.71113509999998,
          39.710983,
          39.610650999983136,
          39.610682,
          39.718135,
          39.71776744047543,
          38.8988531,
          39.672429,
          39.67236290000005,
          39.861678,
          36.204480500000045,
          44.947142,
          38.766024,
          39.63559075706144,
          39.69820909999999,
          39.73986311904241,
          39.739734,
          39.689186,
          39.688758483467154,
          39.77316859999996,
          39.7105303042297,
          66.62507698714398,
          50.156383346105486,
          50.26290868097931,
          50.17385041613079,
          50.236381699510616,
          50.235816,
          50.271936,
          50.18892299999993,
          50.18883,
          50.24052188428993,
          50.2004647052795,
          50.090082,
          30.308833644180368,
          30.230128955338728,
          30.229953,
          30.3335693971477,
          30.474172,
          30.320576,
          30.339409,
          30.339409,
          30.31444961997636,
          30.3421792534424,
          30.342196,
          30.418687,
          30.482529,
          30.272952,
          30.257975,
          30.34964,
          30.248365,
          30.307542,
          30.348585,
          30.308661,
          30.500382,
          30.404074,
          30.502525943331875,
          30.386619,
          30.265691999999945,
          30.265778,
          30.3682569,
          30.31693334180295,
          30.36882979999996,
          30.31708692698362,
          30.369821,
          30.317061,
          30.20385466137691,
          30.379,
          30.256776809692383,
          30.35424,
          30.378793900000005,
          30.225255673016363,
          30.32349508636935,
          30.623638396295178,
          30.204766000000063,
          30.302280485630035,
          30.47409045092627,
          30.357439,
          30.458488999999982,
          30.458503,
          30.29695,
          30.32106,
          30.320898400000036,
          30.119965345369,
          30.3342328369137,
          30.5156745,
          30.3487704097746,
          30.35883000000001,
          30.359288,
          30.398249599999986,
          30.37741830129596,
          30.35995602607727,
          30.144090499999947,
          30.43765250338879,
          30.44679,
          30.206093788146973,
          30.26030046068172,
          30.33200740814209,
          30.2099588220901,
          30.367621999999983,
          30.3010753105896,
          30.37895172185631,
          45.21691043315923,
          45.216915,
          45.144940273819,
          45.180427,
          46.12547710738124,
          45.920139,
          45.920138207933405,
          47.39163210679544,
          46.046669,
          46.04652213185216,
          45.9749534,
          46.014303,
          43.311122,
          43.311122,
          41.904001,
          20.155715499999985,
          33.4376889875216,
          33.4891547962952,
          39.785509,
          38.124635,
          37.42633933596801,
          34.133735,
          34.09812890442561,
          35.38336185214962,
          34.09292816855577,
          34.09813180297704,
          78.643865,
          38.108833,
          32.055707,
          32.08137569823157,
          32.056806,
          32.044579735192656,
          21.894936,
          36.976651,
          36.976539900000034,
          39.75014799999997,
          39.732316999995305,
          132.8164604471242,
          41.985253464650896,
          41.925156,
          41.92309,
          41.958555,
          41.95843895793996,
          31.350862,
          37.89900728984003,
          37.89967,
          37.891128,
          37.873053,
          55.94028948047594,
          55.90175702750855,
          36.487294,
          38.0787821587219,
          38.08029759888075,
          73.43127335581937,
          73.43342189999998,
          73.365104,
          73.38403906745907,
          73.3940202752077,
          48.47039999999993,
          48.430665,
          50.802918,
          50.80152820000001,
          50.82428679999998,
          50.831584,
          50.805823,
          57.556929,
          38.899044,
          41.44458,
          41.44441293490161,
          41.439244113491895,
          41.45729474603195,
          41.457359,
          41.455103,
          41.454843,
          35.865487,
          35.865292,
          35.925263,
          35.944424,
          33.510671,
          49.39056,
          49.41459,
          49.39059899999995,
          84.9693194033746,
          84.97850358374649,
          84.94319377476427,
          84.951968,
          82.92799241193927,
          61.55187467392148,
          39.092514,
          37.622962,
          37.583293,
          37.58254799999997,
          37.617622,
          37.61907497051243,
          37.602758999983166,
          37.63712,
          37.636817,
          65.57679880918863,
          65.56304157853594,
          65.65680134781348,
          65.493796,
          65.54955867324566,
          65.549568,
          65.56149349999998,
          65.5604687632294,
          107.65997580000362,
          107.66333038656444,
          107.590727,
          107.59063000000005,
          48.287333,
          48.585944,
          48.359361,
          102.66307780260968,
          56.132767,
          56.132767,
          56.083774,
          55.9872937202454,
          55.988042,
          55.98471904232792,
          55.984599,
          56.03650187990115,
          55.94939710185236,
          55.9464342894383,
          56.0001814665629,
          135.07922101715553,
          135.0638758723975,
          135.06337253856043,
          135.13388899999995,
          69.037843,
          69.03056779999997,
          37.396628648069,
          37.976524,
          54.146223,
          47.266012,
          47.2653848148193,
          47.280948,
          47.28082310000002,
          61.400478,
          61.383251,
          61.356039,
          61.394929,
          61.35570359999997,
          61.39483539999401,
          61.4303114715028,
          37.923619,
          37.921766,
          37.92206299999998,
          42.047318,
          42.04714805529511,
          21.806316,
          113.51342573743318,
          113.47289820002402,
          113.49315444127956,
          113.492829,
          113.512036,
          113.5058811,
          113.504356,
          40.216482,
          36.88737,
          36.909305,
          37.516233,
          38.447454,
          38.430393,
          38.4433311534424,
          38.442929,
          44.300086,
          46.125445,
          63.342323,
          142.72886981349188,
          142.732934,
          66.311828,
          39.758121,
          39.869322,
          39.75813199999993,
          39.87176591602315,
          39.83808,
          39.843101
         ],
         "marker": {
          "color": [
           908.23,
           89392.15,
           338.61,
           2253.17,
           15716.85,
           8580.72,
           13797.51,
           6493.66,
           2897.4100000000003,
           4907.46,
           10663.91,
           17740.26,
           5697.82,
           18702.63,
           38519.16,
           68231.61,
           13610.77,
           2922.47,
           590.18,
           6935.03,
           4506.32,
           1257.9,
           141259.75,
           6431.9400000000005,
           63639.93,
           1574.36,
           7449.18,
           4656.58,
           16176.98,
           117.09,
           51870.13,
           3507.86,
           15866.91,
           6283.12,
           45547.22,
           92981.06,
           13404.76,
           13814.62,
           3131.28,
           4120.24,
           5847.96,
           49258.56,
           363.92,
           2191.46,
           9854.53,
           617.08,
           8711.97,
           47.47,
           11185.1,
           11550.59,
           105088.41,
           28873.329999999998,
           2286.4,
           3045.89,
           21629.42,
           10974.67,
           13083.17,
           3560.15,
           31.65,
           7868.62,
           1474.67,
           40273.77,
           60446.54,
           100438.21,
           33952.4,
           81297.7,
           51978.01,
           47889.69,
           22998.36,
           67657.57,
           24949.25,
           43667.840000000004,
           455.68,
           49682.07,
           58156.84,
           21338.51,
           44392.81,
           31.65,
           11901.75,
           44475.06,
           13243.61,
           5216.83,
           75.95,
           7123.32,
           37.97,
           3629.69,
           66237.63,
           6098.15,
           10107.64,
           1550.6100000000001,
           174.06,
           348.09000000000003,
           68574.68,
           130395.3,
           72458.75,
           19234.16,
           20933.48,
           25830.46,
           28063.1,
           13787.98,
           14911.41,
           214947.46,
           12580.75,
           11221.6,
           36510.1,
           44984.09,
           57251.97,
           1526.87,
           2697.82,
           55247.2,
           20276.71,
           33299.21,
           1406.6399999999999,
           800.62,
           197.76999999999998,
           7854.5,
           15893.98,
           2117.08,
           1898.71,
           142.41,
           593.37,
           2587.0099999999998,
           197.79,
           672.48,
           15197.9,
           4052.2,
           66008.54,
           8995.32,
           118.67,
           1693.06,
           102390.91,
           145741.84,
           16381.44,
           455.7,
           26240.36,
           145137.76,
           52147.479999999996,
           14749.91,
           27904.95,
           77951.83,
           25365.48,
           41349.91,
           37842.99,
           6230.98,
           99745.54,
           54149.5,
           30403.38,
           360.75,
           6555.46,
           9129.81,
           15071.13,
           75797.77,
           106.96000000000001,
           22820.48,
           125.8,
           16099.78,
           5859.1,
           9177.09,
           180658.36000000002,
           69.62,
           4272.12,
           27176.03,
           7768.91,
           88.61,
           1167.72,
           134151.55,
           63.29,
           310.13,
           6441.52,
           145984.5,
           141631.62,
           1109.2,
           2052.17,
           1643.98,
           2444.64,
           2762.68,
           47.47,
           49666.06,
           34608.57,
           60416.65,
           181.95999999999998,
           100933.37,
           24136.18,
           42165.6,
           1479.43,
           18167.01,
           29018.49,
           23599.43,
           3354.3900000000003,
           16523.41,
           15534.41,
           11723.21,
           28686.13,
           29597.27,
           59175.89,
           61885.03,
           4009.44,
           1818.04,
           29691.09,
           10552.16,
           176980.73,
           57753.92,
           90383.03,
           167.73,
           70997.84,
           75917.38,
           39605.31,
           221907.68,
           26761.72,
           48168.52,
           167828.35,
           182115.01,
           62464.99,
           3082.21,
           12658.16,
           8053.83,
           107786.11,
           19867.19,
           66887.87,
           179069.2,
           27985.48,
           292.72,
           2403.44,
           35140.61,
           23.73,
           13213.51,
           356.01,
           63.29,
           34542.62,
           29286.45,
           30455.61,
           15.82,
           3101.23,
           5973.04,
           2440.64,
           15791.22,
           996.84,
           196.2,
           6143.93,
           14091.67,
           10720,
           14284.96,
           2935.17,
           874.99,
           5229.4,
           6708.87,
           68964.42,
           44783.24,
           3626.59,
           332.27,
           42033.2,
           6889.15,
           6905.03,
           41585.17,
           37.97,
           2333.86,
           3848.02,
           9958.710000000001,
           46511.26,
           37632.72,
           1139.25,
           664.5699999999999,
           5387.65,
           340.19,
           3648.7400000000002,
           174114.79,
           37743.58,
           806.94,
           266663.21,
           21197.73,
           85.44,
           180854.75,
           269015.76,
           21162.91,
           996.83,
           21590.12,
           463.62,
           54087.19,
           94548.53,
           68872.57,
           7193.01,
           38368.3,
           97168.22,
           2626.57,
           169367.03,
           17158.14,
           1482.61,
           221.51999999999998,
           12781.74,
           16098.039999999999,
           1306.99,
           22028.63,
           61988.64,
           941.45,
           51755.97,
           5488.91,
           30680.32,
           341.78,
           3261.02,
           28796.34,
           92400.43,
           38916.63,
           15469.57,
           3952.46,
           12895.61,
           5490.54,
           9578.43,
           111305.33,
           1313.29,
           3216.83,
           8232.61,
           6685.1,
           4727.860000000001,
           14974.75,
           79.11,
           79.11,
           1151.9,
           1835.44,
           1455.68,
           69684.85,
           681922.84,
           579693.55,
           39663.84,
           3678.8,
           8259.54,
           32009.69,
           331207.03,
           246.82999999999998,
           159077.26,
           66562.58,
           9636.09,
           45977.89,
           406.65,
           99.69,
           89840.64,
           3829.13,
           9114.21,
           1297.45,
           86761.35,
           97358.24,
           221.51999999999998,
           399317.59,
           48552.28,
           10632.960000000001,
           94.94,
           5696.2,
           8465.19,
           92792.23,
           59006.23,
           63.29,
           47520.05,
           75957.57,
           167968.07,
           446086.32,
           305757.5,
           1110147.35,
           406103.26,
           61123.06,
           13428.79,
           164576.38999999998,
           165186.3,
           149221.44,
           653129.27,
           319413.86,
           56471.46,
           149138.65,
           1409786.29,
           623142.33,
           522.16,
           340.19,
           79493.72,
           55919.35,
           33667.7,
           81324.55,
           11075.88,
           396614.44,
           90531.51,
           387785.15,
           221355.64,
           440901.35,
           187239.47,
           39645.48,
           105262.86,
           78272.14,
           58425.35,
           233290.93,
           112756.3,
           460060.47,
           249567.97,
           90060.29,
           925.63,
           37185.17,
           63411.44,
           51499.66,
           63437.8,
           61239.27,
           51126.88,
           103119.52,
           250275.22,
           166488.85,
           632.9,
           7373.36,
           1582.28,
           33504.89,
           28299.14,
           80185.74,
           44455.88,
           140415.44,
           47633.01,
           108662.13,
           51982.09,
           490.5,
           715.1800000000001,
           297.47,
           38724.8,
           7579.14,
           7210.18,
           15047.07,
           17708.920000000002,
           34968.7,
           14532.289999999999,
           23816.43,
           60506.46,
           95205.39,
           48357.55,
           15996.83,
           5055.38,
           12059.210000000001,
           13023.07,
           39683.44,
           30128.89,
           22120.21,
           7669.7,
           6482.62,
           39781.49,
           13538.61,
           20628.93,
           30970.15,
           15814.9,
           36130.1,
           18881.45,
           966.62,
           26194.86,
           169120.67,
           84676.39,
           90119.31,
           16977.92,
           47073.61,
           110057.5,
           60697.82,
           207157.37,
           174881.39,
           275294.99,
           425241.5,
           266824.12,
           900367.05,
           148273.96,
           405058.15,
           175245.85,
           262682.08,
           12341.77,
           20735.67,
           47.47,
           124918.94,
           356.01,
           1340.21,
           195564.92,
           775.32,
           70778.23,
           183468.25,
           75514.43,
           267.40999999999997,
           199.37,
           110.75,
           41792.99,
           248953.34,
           158025.55,
           189832.13999999998,
           718.36,
           100231.66,
           72136.09,
           301084.39,
           525409.36,
           114244.02,
           556663.46,
           203754.36,
           168255.75,
           419664.47,
           48789.94,
           7840.16,
           113768.6,
           21132.81,
           66307.17,
           7405.11,
           2784.09,
           6669.39,
           368.66,
           325855.85,
           227.85000000000002,
           120577.25,
           86356.09,
           91711.37,
           37906.28,
           685.11,
           50588.49,
           15708.96,
           39.56,
           15403.36,
           85171.03,
           24300.69,
           2808.48,
           344.15,
           79.11,
           16267.4,
           8567.96,
           5465.25,
           3425.6,
           44763.59,
           26028.8,
           2460.47,
           6435.19,
           3908.24,
           38355.05,
           13305.09,
           15019.07,
           10071.18,
           17806.82,
           938.3,
           1998.4199999999998,
           7012.67,
           65507.16,
           28060.489999999998,
           223781.53,
           46958.95,
           20815.12,
           215.2,
           21082.35,
           2848.1,
           13908.19,
           178761.22,
           74488.67,
           23886.27,
           20938.52,
           1457.24,
           4357.7699999999995,
           4430.33,
           1572.8,
           704.12,
           340.2,
           181.95999999999998,
           3330.65,
           2485.7200000000003,
           895.56,
           158.22,
           25192.12,
           66634.18,
           21012.24,
           79.11,
           36764.65,
           46098.38,
           1743.68,
           1969.92,
           8468.34,
           8661.46,
           707.28,
           386.08000000000004,
           4397.1900000000005,
           1164.56,
           2242.07,
           81706.15,
           11208.789999999999,
           8561.64,
           13944.62,
           5522.1,
           73687.18000000001,
           201638.76,
           7847.97,
           9692.99,
           15632.81,
           28126.86,
           182348.34,
           140875.94,
           209387.04,
           935.11,
           3041.17,
           7166.05,
           17196.42,
           23390.37,
           5406.61,
           53832.98,
           16457.01,
           6037.87,
           31301.18,
           48510.23,
           22304.03,
           63628.45,
           37568.6,
           32605.65,
           16408.03,
           21705.32,
           41433.01,
           463.62,
           37357.25,
           17156.59,
           835.4,
           19234.1,
           188.28,
           1965.18,
           42566.17,
           24926.98,
           791.12,
           33862.4,
           29658.13,
           10772.03,
           4044.22,
           4238.92,
           65131.22,
           5346.5,
           617.08,
           134.49,
           1052.21,
           23461.72,
           44228.82,
           14272.15,
           40063.06,
           2015.81,
           22637.54,
           55666.59,
           2063.29,
           64201.38,
           23868.74,
           151882.5,
           148988.58,
           162363.77,
           469.31,
           1616.32,
           783.24,
           51518.7,
           6410.59,
           116378.3,
           7604.44,
           20475.61,
           341.77,
           5592.24,
           14216.75,
           111580.29,
           50634.8,
           5289.52,
           7503.09,
           528678.4400000001,
           466.77,
           384095.55,
           6061.69,
           2746.86,
           154416.73,
           1825.94,
           409087.89,
           8699.33,
           195272.44,
           23458.81,
           9370.26,
           39751.65,
           731.03,
           46474.81,
           39302.28,
           32490.67,
           329.11,
           104.43,
           26795.829999999998,
           30791.09,
           25327.91,
           11216.85,
           8577.55,
           13712.039999999999,
           113.92,
           13808.619999999999,
           15463.89,
           47.15,
           6455.69,
           1572.77,
           57294.96,
           33014.24,
           22553.58,
           9314.79,
           11158.13,
           14960.38,
           105481.65,
           37937.97,
           74498.26,
           2041.09,
           22337.2,
           30514.5,
           62845.76,
           386.08,
           120774.68,
           24602.77,
           126477.57,
           205.69,
           29292.97,
           60554.42,
           7740.47,
           45387.75,
           588.6,
           101046.17,
           39240.61,
           105736.61,
           14251.54,
           145693.19,
           61908.2,
           209737.37,
           20007.74,
           27333.67,
           345821.89,
           85471.41,
           93142.56,
           148968.65,
           155040.09,
           129454.43,
           220711.24,
           216950.81,
           332.28000000000003,
           67271.02,
           111613.61,
           47.47,
           29444.92,
           62356.53,
           75714.1,
           4509.46,
           23966.68,
           1235.73,
           105781.73,
           90144.38,
           47.47,
           17037.81,
           26645.41,
           16728.11,
           128148.93000000001,
           23997.43,
           35389.45,
           51482.25,
           5668.21,
           10043.890000000001,
           31273.93,
           82.28,
           28009.37,
           15882.91,
           11639.19,
           1424.03,
           122749.43,
           202132.28,
           474.68,
           233284.6,
           260487.62,
           251394.33,
           12139.25,
           26988.98,
           141690.7,
           91724.96,
           451880.52,
           205881.05,
           155130.86,
           154951.6,
           102778.85,
           48199.53,
           65335.19,
           195950.69,
           133382.3,
           325087.28,
           3250.01,
           81262.7,
           15.82,
           6102.82,
           33349,
           3419.3,
           82.28,
           25385.9,
           4278.42,
           2444.58,
           2795.84,
           71374.83,
           114184.62,
           33.23,
           23192.96,
           2775.28,
           2139.84,
           14295.86,
           93338.49,
           11507.89,
           7281.58,
           58100.26,
           8481.01,
           18561.79,
           11463.49,
           42827.23,
           6123.46,
           1273.74,
           3662.95,
           36844.71,
           12360.32,
           27341.7,
           2737.35,
           3417.67,
           1946.22,
           15743.8,
           69035.05,
           111726.01,
           947.79,
           81175.49,
           81419.5,
           79394.97,
           4925.72,
           3142.46,
           537.99,
           2250,
           30007.899999999998,
           3678.78,
           11876.66,
           32148.71,
           5410.3,
           332.27,
           8829.26,
           12705.56,
           39500.36,
           18442.95,
           106502.43,
           22255.03,
           119256.86,
           5324.33,
           806.94,
           17962.1,
           48324.22,
           1346.49,
           7110.67,
           15472.93,
           4389.28,
           51757.46,
           8954.05,
           36819.35,
           22426.98,
           174.05,
           21959.25,
           7368.76,
           18386.19,
           35589.01,
           39085.74,
           16155.18,
           97761.42,
           5830.75,
           163864.31,
           14354.27,
           202.51999999999998,
           3332.26,
           194682.35,
           66570.24,
           144245.91,
           751.62,
           30.06,
           13776.82,
           253.16,
           22950.83,
           1645.53,
           19583.85,
           23060.08,
           12034.869999999999,
           106047.16,
           17310.25,
           7713.68,
           30875.05,
           65797.08,
           89321.04,
           137909.35,
           553.79,
           61080.75,
           123162.58,
           29926.37,
           66138.01,
           19822.79,
           63.29,
           19107.41,
           13585.24,
           170005.57,
           79.11,
           753.15,
           12235.81,
           15860.58,
           6517.39,
           10458.89,
           151143.97,
           6628.11,
           166492.88999999998,
           19435.07,
           94815.61,
           54254.56,
           191845.34,
           55325.03,
           7895.49,
           11621.78,
           33822.78,
           12625,
           235182.13999999998,
           1299.04,
           2169.3,
           52556.47,
           28119.87,
           35602.4,
           51885.42,
           2208.84,
           1729.44,
           13234.11,
           7590.21,
           78252.23,
           52810.58,
           92265.04,
           99291.4,
           632.91,
           63.29,
           8868.7,
           7568.04,
           3091.79,
           9422.36,
           8528.27,
           150.32999999999998,
           17563.01,
           76843.88,
           32080.37,
           14485.71,
           30123.67,
           579.1,
           386.07,
           568.01,
           25186.48,
           59710.49,
           22911.26,
           13061.67,
           16003.04,
           72477.51,
           237.34,
           6147.2,
           27081,
           3357.61,
           10574.34,
           39208.66,
           27973.09,
           83393.69,
           16460.4,
           25095.69
          ],
          "coloraxis": "coloraxis",
          "symbol": "circle"
         },
         "mode": "markers",
         "name": "",
         "showlegend": false,
         "type": "scattergeo"
        }
       ],
       "layout": {
        "coloraxis": {
         "colorbar": {
          "title": {
           "text": "revenue"
          }
         },
         "colorscale": [
          [
           0,
           "rgb(51, 19, 23)"
          ],
          [
           0.09090909090909091,
           "rgb(79, 28, 33)"
          ],
          [
           0.18181818181818182,
           "rgb(108, 36, 36)"
          ],
          [
           0.2727272727272727,
           "rgb(135, 47, 32)"
          ],
          [
           0.36363636363636365,
           "rgb(157, 66, 25)"
          ],
          [
           0.45454545454545453,
           "rgb(174, 88, 20)"
          ],
          [
           0.5454545454545454,
           "rgb(188, 111, 19)"
          ],
          [
           0.6363636363636364,
           "rgb(199, 137, 22)"
          ],
          [
           0.7272727272727273,
           "rgb(209, 164, 32)"
          ],
          [
           0.8181818181818182,
           "rgb(217, 192, 44)"
          ],
          [
           0.9090909090909091,
           "rgb(222, 222, 59)"
          ],
          [
           1,
           "rgb(224, 253, 74)"
          ]
         ]
        },
        "geo": {
         "center": {
          "lat": 51.35632,
          "lon": 81.24545
         },
         "domain": {
          "x": [
           0,
           1
          ],
          "y": [
           0,
           1
          ]
         }
        },
        "legend": {
         "tracegroupgap": 0
        },
        "margin": {
         "t": 60
        },
        "template": {
         "data": {
          "bar": [
           {
            "error_x": {
             "color": "#2a3f5f"
            },
            "error_y": {
             "color": "#2a3f5f"
            },
            "marker": {
             "line": {
              "color": "#E5ECF6",
              "width": 0.5
             },
             "pattern": {
              "fillmode": "overlay",
              "size": 10,
              "solidity": 0.2
             }
            },
            "type": "bar"
           }
          ],
          "barpolar": [
           {
            "marker": {
             "line": {
              "color": "#E5ECF6",
              "width": 0.5
             },
             "pattern": {
              "fillmode": "overlay",
              "size": 10,
              "solidity": 0.2
             }
            },
            "type": "barpolar"
           }
          ],
          "carpet": [
           {
            "aaxis": {
             "endlinecolor": "#2a3f5f",
             "gridcolor": "white",
             "linecolor": "white",
             "minorgridcolor": "white",
             "startlinecolor": "#2a3f5f"
            },
            "baxis": {
             "endlinecolor": "#2a3f5f",
             "gridcolor": "white",
             "linecolor": "white",
             "minorgridcolor": "white",
             "startlinecolor": "#2a3f5f"
            },
            "type": "carpet"
           }
          ],
          "choropleth": [
           {
            "colorbar": {
             "outlinewidth": 0,
             "ticks": ""
            },
            "type": "choropleth"
           }
          ],
          "contour": [
           {
            "colorbar": {
             "outlinewidth": 0,
             "ticks": ""
            },
            "colorscale": [
             [
              0,
              "#0d0887"
             ],
             [
              0.1111111111111111,
              "#46039f"
             ],
             [
              0.2222222222222222,
              "#7201a8"
             ],
             [
              0.3333333333333333,
              "#9c179e"
             ],
             [
              0.4444444444444444,
              "#bd3786"
             ],
             [
              0.5555555555555556,
              "#d8576b"
             ],
             [
              0.6666666666666666,
              "#ed7953"
             ],
             [
              0.7777777777777778,
              "#fb9f3a"
             ],
             [
              0.8888888888888888,
              "#fdca26"
             ],
             [
              1,
              "#f0f921"
             ]
            ],
            "type": "contour"
           }
          ],
          "contourcarpet": [
           {
            "colorbar": {
             "outlinewidth": 0,
             "ticks": ""
            },
            "type": "contourcarpet"
           }
          ],
          "heatmap": [
           {
            "colorbar": {
             "outlinewidth": 0,
             "ticks": ""
            },
            "colorscale": [
             [
              0,
              "#0d0887"
             ],
             [
              0.1111111111111111,
              "#46039f"
             ],
             [
              0.2222222222222222,
              "#7201a8"
             ],
             [
              0.3333333333333333,
              "#9c179e"
             ],
             [
              0.4444444444444444,
              "#bd3786"
             ],
             [
              0.5555555555555556,
              "#d8576b"
             ],
             [
              0.6666666666666666,
              "#ed7953"
             ],
             [
              0.7777777777777778,
              "#fb9f3a"
             ],
             [
              0.8888888888888888,
              "#fdca26"
             ],
             [
              1,
              "#f0f921"
             ]
            ],
            "type": "heatmap"
           }
          ],
          "heatmapgl": [
           {
            "colorbar": {
             "outlinewidth": 0,
             "ticks": ""
            },
            "colorscale": [
             [
              0,
              "#0d0887"
             ],
             [
              0.1111111111111111,
              "#46039f"
             ],
             [
              0.2222222222222222,
              "#7201a8"
             ],
             [
              0.3333333333333333,
              "#9c179e"
             ],
             [
              0.4444444444444444,
              "#bd3786"
             ],
             [
              0.5555555555555556,
              "#d8576b"
             ],
             [
              0.6666666666666666,
              "#ed7953"
             ],
             [
              0.7777777777777778,
              "#fb9f3a"
             ],
             [
              0.8888888888888888,
              "#fdca26"
             ],
             [
              1,
              "#f0f921"
             ]
            ],
            "type": "heatmapgl"
           }
          ],
          "histogram": [
           {
            "marker": {
             "pattern": {
              "fillmode": "overlay",
              "size": 10,
              "solidity": 0.2
             }
            },
            "type": "histogram"
           }
          ],
          "histogram2d": [
           {
            "colorbar": {
             "outlinewidth": 0,
             "ticks": ""
            },
            "colorscale": [
             [
              0,
              "#0d0887"
             ],
             [
              0.1111111111111111,
              "#46039f"
             ],
             [
              0.2222222222222222,
              "#7201a8"
             ],
             [
              0.3333333333333333,
              "#9c179e"
             ],
             [
              0.4444444444444444,
              "#bd3786"
             ],
             [
              0.5555555555555556,
              "#d8576b"
             ],
             [
              0.6666666666666666,
              "#ed7953"
             ],
             [
              0.7777777777777778,
              "#fb9f3a"
             ],
             [
              0.8888888888888888,
              "#fdca26"
             ],
             [
              1,
              "#f0f921"
             ]
            ],
            "type": "histogram2d"
           }
          ],
          "histogram2dcontour": [
           {
            "colorbar": {
             "outlinewidth": 0,
             "ticks": ""
            },
            "colorscale": [
             [
              0,
              "#0d0887"
             ],
             [
              0.1111111111111111,
              "#46039f"
             ],
             [
              0.2222222222222222,
              "#7201a8"
             ],
             [
              0.3333333333333333,
              "#9c179e"
             ],
             [
              0.4444444444444444,
              "#bd3786"
             ],
             [
              0.5555555555555556,
              "#d8576b"
             ],
             [
              0.6666666666666666,
              "#ed7953"
             ],
             [
              0.7777777777777778,
              "#fb9f3a"
             ],
             [
              0.8888888888888888,
              "#fdca26"
             ],
             [
              1,
              "#f0f921"
             ]
            ],
            "type": "histogram2dcontour"
           }
          ],
          "mesh3d": [
           {
            "colorbar": {
             "outlinewidth": 0,
             "ticks": ""
            },
            "type": "mesh3d"
           }
          ],
          "parcoords": [
           {
            "line": {
             "colorbar": {
              "outlinewidth": 0,
              "ticks": ""
             }
            },
            "type": "parcoords"
           }
          ],
          "pie": [
           {
            "automargin": true,
            "type": "pie"
           }
          ],
          "scatter": [
           {
            "fillpattern": {
             "fillmode": "overlay",
             "size": 10,
             "solidity": 0.2
            },
            "type": "scatter"
           }
          ],
          "scatter3d": [
           {
            "line": {
             "colorbar": {
              "outlinewidth": 0,
              "ticks": ""
             }
            },
            "marker": {
             "colorbar": {
              "outlinewidth": 0,
              "ticks": ""
             }
            },
            "type": "scatter3d"
           }
          ],
          "scattercarpet": [
           {
            "marker": {
             "colorbar": {
              "outlinewidth": 0,
              "ticks": ""
             }
            },
            "type": "scattercarpet"
           }
          ],
          "scattergeo": [
           {
            "marker": {
             "colorbar": {
              "outlinewidth": 0,
              "ticks": ""
             }
            },
            "type": "scattergeo"
           }
          ],
          "scattergl": [
           {
            "marker": {
             "colorbar": {
              "outlinewidth": 0,
              "ticks": ""
             }
            },
            "type": "scattergl"
           }
          ],
          "scattermapbox": [
           {
            "marker": {
             "colorbar": {
              "outlinewidth": 0,
              "ticks": ""
             }
            },
            "type": "scattermapbox"
           }
          ],
          "scatterpolar": [
           {
            "marker": {
             "colorbar": {
              "outlinewidth": 0,
              "ticks": ""
             }
            },
            "type": "scatterpolar"
           }
          ],
          "scatterpolargl": [
           {
            "marker": {
             "colorbar": {
              "outlinewidth": 0,
              "ticks": ""
             }
            },
            "type": "scatterpolargl"
           }
          ],
          "scatterternary": [
           {
            "marker": {
             "colorbar": {
              "outlinewidth": 0,
              "ticks": ""
             }
            },
            "type": "scatterternary"
           }
          ],
          "surface": [
           {
            "colorbar": {
             "outlinewidth": 0,
             "ticks": ""
            },
            "colorscale": [
             [
              0,
              "#0d0887"
             ],
             [
              0.1111111111111111,
              "#46039f"
             ],
             [
              0.2222222222222222,
              "#7201a8"
             ],
             [
              0.3333333333333333,
              "#9c179e"
             ],
             [
              0.4444444444444444,
              "#bd3786"
             ],
             [
              0.5555555555555556,
              "#d8576b"
             ],
             [
              0.6666666666666666,
              "#ed7953"
             ],
             [
              0.7777777777777778,
              "#fb9f3a"
             ],
             [
              0.8888888888888888,
              "#fdca26"
             ],
             [
              1,
              "#f0f921"
             ]
            ],
            "type": "surface"
           }
          ],
          "table": [
           {
            "cells": {
             "fill": {
              "color": "#EBF0F8"
             },
             "line": {
              "color": "white"
             }
            },
            "header": {
             "fill": {
              "color": "#C8D4E3"
             },
             "line": {
              "color": "white"
             }
            },
            "type": "table"
           }
          ]
         },
         "layout": {
          "annotationdefaults": {
           "arrowcolor": "#2a3f5f",
           "arrowhead": 0,
           "arrowwidth": 1
          },
          "autotypenumbers": "strict",
          "coloraxis": {
           "colorbar": {
            "outlinewidth": 0,
            "ticks": ""
           }
          },
          "colorscale": {
           "diverging": [
            [
             0,
             "#8e0152"
            ],
            [
             0.1,
             "#c51b7d"
            ],
            [
             0.2,
             "#de77ae"
            ],
            [
             0.3,
             "#f1b6da"
            ],
            [
             0.4,
             "#fde0ef"
            ],
            [
             0.5,
             "#f7f7f7"
            ],
            [
             0.6,
             "#e6f5d0"
            ],
            [
             0.7,
             "#b8e186"
            ],
            [
             0.8,
             "#7fbc41"
            ],
            [
             0.9,
             "#4d9221"
            ],
            [
             1,
             "#276419"
            ]
           ],
           "sequential": [
            [
             0,
             "#0d0887"
            ],
            [
             0.1111111111111111,
             "#46039f"
            ],
            [
             0.2222222222222222,
             "#7201a8"
            ],
            [
             0.3333333333333333,
             "#9c179e"
            ],
            [
             0.4444444444444444,
             "#bd3786"
            ],
            [
             0.5555555555555556,
             "#d8576b"
            ],
            [
             0.6666666666666666,
             "#ed7953"
            ],
            [
             0.7777777777777778,
             "#fb9f3a"
            ],
            [
             0.8888888888888888,
             "#fdca26"
            ],
            [
             1,
             "#f0f921"
            ]
           ],
           "sequentialminus": [
            [
             0,
             "#0d0887"
            ],
            [
             0.1111111111111111,
             "#46039f"
            ],
            [
             0.2222222222222222,
             "#7201a8"
            ],
            [
             0.3333333333333333,
             "#9c179e"
            ],
            [
             0.4444444444444444,
             "#bd3786"
            ],
            [
             0.5555555555555556,
             "#d8576b"
            ],
            [
             0.6666666666666666,
             "#ed7953"
            ],
            [
             0.7777777777777778,
             "#fb9f3a"
            ],
            [
             0.8888888888888888,
             "#fdca26"
            ],
            [
             1,
             "#f0f921"
            ]
           ]
          },
          "colorway": [
           "#636efa",
           "#EF553B",
           "#00cc96",
           "#ab63fa",
           "#FFA15A",
           "#19d3f3",
           "#FF6692",
           "#B6E880",
           "#FF97FF",
           "#FECB52"
          ],
          "font": {
           "color": "#2a3f5f"
          },
          "geo": {
           "bgcolor": "white",
           "lakecolor": "white",
           "landcolor": "#E5ECF6",
           "showlakes": true,
           "showland": true,
           "subunitcolor": "white"
          },
          "hoverlabel": {
           "align": "left"
          },
          "hovermode": "closest",
          "mapbox": {
           "style": "light"
          },
          "paper_bgcolor": "white",
          "plot_bgcolor": "#E5ECF6",
          "polar": {
           "angularaxis": {
            "gridcolor": "white",
            "linecolor": "white",
            "ticks": ""
           },
           "bgcolor": "#E5ECF6",
           "radialaxis": {
            "gridcolor": "white",
            "linecolor": "white",
            "ticks": ""
           }
          },
          "scene": {
           "xaxis": {
            "backgroundcolor": "#E5ECF6",
            "gridcolor": "white",
            "gridwidth": 2,
            "linecolor": "white",
            "showbackground": true,
            "ticks": "",
            "zerolinecolor": "white"
           },
           "yaxis": {
            "backgroundcolor": "#E5ECF6",
            "gridcolor": "white",
            "gridwidth": 2,
            "linecolor": "white",
            "showbackground": true,
            "ticks": "",
            "zerolinecolor": "white"
           },
           "zaxis": {
            "backgroundcolor": "#E5ECF6",
            "gridcolor": "white",
            "gridwidth": 2,
            "linecolor": "white",
            "showbackground": true,
            "ticks": "",
            "zerolinecolor": "white"
           }
          },
          "shapedefaults": {
           "line": {
            "color": "#2a3f5f"
           }
          },
          "ternary": {
           "aaxis": {
            "gridcolor": "white",
            "linecolor": "white",
            "ticks": ""
           },
           "baxis": {
            "gridcolor": "white",
            "linecolor": "white",
            "ticks": ""
           },
           "bgcolor": "#E5ECF6",
           "caxis": {
            "gridcolor": "white",
            "linecolor": "white",
            "ticks": ""
           }
          },
          "title": {
           "x": 0.05
          },
          "xaxis": {
           "automargin": true,
           "gridcolor": "white",
           "linecolor": "white",
           "ticks": "",
           "title": {
            "standoff": 15
           },
           "zerolinecolor": "white",
           "zerolinewidth": 2
          },
          "yaxis": {
           "automargin": true,
           "gridcolor": "white",
           "linecolor": "white",
           "ticks": "",
           "title": {
            "standoff": 15
           },
           "zerolinecolor": "white",
           "zerolinewidth": 2
          }
         }
        }
       }
      },
      "text/html": [
       "<div>                            <div id=\"155af03c-d4cb-4194-8b7f-41063c126178\" class=\"plotly-graph-div\" style=\"height:525px; width:100%;\"></div>            <script type=\"text/javascript\">                require([\"plotly\"], function(Plotly) {                    window.PLOTLYENV=window.PLOTLYENV || {};                                    if (document.getElementById(\"155af03c-d4cb-4194-8b7f-41063c126178\")) {                    Plotly.newPlot(                        \"155af03c-d4cb-4194-8b7f-41063c126178\",                        [{\"customdata\":[[\"\\u0410\\u0431\\u0434\\u0443\\u043b\\u0438\\u043d\\u043e\"],[\"\\u0410\\u0434\\u043b\\u0435\\u0440\"],[\"\\u0410\\u043b\\u0435\\u043a\\u0441\\u0435\\u0435\\u0432\\u043a\\u0430\"],[\"\\u0410\\u043d\\u0430\\u043f\\u0430\"],[\"\\u0410\\u0440\\u0437\\u0430\\u043c\\u0430\\u0441\"],[\"\\u0410\\u0440\\u043c\\u0430\\u0432\\u0438\\u0440\"],[\"\\u0410\\u0440\\u043c\\u0430\\u0432\\u0438\\u0440\"],[\"\\u0410\\u0440\\u0445\\u0430\\u043d\\u0433\\u0435\\u043b\\u044c\\u0441\\u043a\"],[\"\\u0410\\u0440\\u0445\\u0430\\u043d\\u0433\\u0435\\u043b\\u044c\\u0441\\u043a\"],[\"\\u0410\\u0440\\u0445\\u0430\\u043d\\u0433\\u0435\\u043b\\u044c\\u0441\\u043a\"],[\"\\u0410\\u0440\\u0445\\u0430\\u043d\\u0433\\u0435\\u043b\\u044c\\u0441\\u043a\"],[\"\\u0410\\u0440\\u0445\\u0430\\u043d\\u0433\\u0435\\u043b\\u044c\\u0441\\u043a\"],[\"\\u0410\\u0440\\u0445\\u0430\\u043d\\u0433\\u0435\\u043b\\u044c\\u0441\\u043a\"],[\"\\u0410\\u0440\\u0445\\u0430\\u043d\\u0433\\u0435\\u043b\\u044c\\u0441\\u043a\"],[\"\\u0410\\u0441\\u0442\\u0440\\u0430\\u0445\\u0430\\u043d\\u044c\"],[\"\\u0410\\u0441\\u0442\\u0440\\u0430\\u0445\\u0430\\u043d\\u044c\"],[\"\\u0410\\u0441\\u0442\\u0440\\u0430\\u0445\\u0430\\u043d\\u044c\"],[\"\\u0410\\u0441\\u0442\\u0440\\u0430\\u0445\\u0430\\u043d\\u044c\"],[\"\\u0410\\u0441\\u0442\\u0440\\u0430\\u0445\\u0430\\u043d\\u044c\"],[\"\\u0410\\u0441\\u0442\\u0440\\u0430\\u0445\\u0430\\u043d\\u044c\"],[\"\\u0411\\u0430\\u043b\\u0430\\u0445\\u043d\\u0430\"],[\"\\u0411\\u0430\\u043b\\u0430\\u0448\\u0438\\u0445\\u0430\"],[\"\\u0411\\u0430\\u043b\\u0430\\u0448\\u0438\\u0445\\u0430\"],[\"\\u0411\\u0430\\u043b\\u0430\\u0448\\u043e\\u0432\"],[\"\\u0411\\u0430\\u0440\\u043d\\u0430\\u0443\\u043b\"],[\"\\u0411\\u0430\\u0440\\u043d\\u0430\\u0443\\u043b\"],[\"\\u0411\\u0430\\u0440\\u043d\\u0430\\u0443\\u043b\"],[\"\\u0411\\u0430\\u0440\\u043d\\u0430\\u0443\\u043b\"],[\"\\u0411\\u0430\\u0440\\u043d\\u0430\\u0443\\u043b\"],[\"\\u0411\\u0435\\u043b\\u0433\\u043e\\u0440\\u043e\\u0434\"],[\"\\u0411\\u0435\\u043b\\u0433\\u043e\\u0440\\u043e\\u0434\"],[\"\\u0411\\u0435\\u043b\\u0433\\u043e\\u0440\\u043e\\u0434\"],[\"\\u0411\\u0435\\u043b\\u0433\\u043e\\u0440\\u043e\\u0434\"],[\"\\u0411\\u0435\\u043b\\u0433\\u043e\\u0440\\u043e\\u0434\"],[\"\\u0411\\u0435\\u043b\\u0433\\u043e\\u0440\\u043e\\u0434\"],[\"\\u0411\\u0435\\u043b\\u0433\\u043e\\u0440\\u043e\\u0434\"],[\"\\u0411\\u0435\\u043b\\u0433\\u043e\\u0440\\u043e\\u0434\"],[\"\\u0411\\u0435\\u043b\\u0433\\u043e\\u0440\\u043e\\u0434\"],[\"\\u0411\\u0435\\u043b\\u043e\\u0440\\u0435\\u0446\\u043a\"],[\"\\u0411\\u0435\\u043b\\u043e\\u044f\\u0440\\u0441\\u043a\\u0438\\u0439\"],[\"\\u0411\\u0438\\u0439\\u0441\\u043a\"],[\"\\u0411\\u043b\\u0430\\u0433\\u043e\\u0432\\u0435\\u0449\\u0435\\u043d\\u0441\\u043a\"],[\"\\u0411\\u043b\\u0430\\u0433\\u043e\\u0432\\u0435\\u0449\\u0435\\u043d\\u0441\\u043a \\u0420\\u0411\"],[\"\\u0411\\u043e\\u0440\\u043e\\u0432\\u0438\\u0447\\u0438\"],[\"\\u0411\\u0440\\u0430\\u0442\\u0441\\u043a\"],[\"\\u0411\\u0440\\u044e\\u0445\\u043e\\u0432\\u0435\\u0446\\u043a\\u0430\\u044f\"],[\"\\u0411\\u0440\\u044f\\u043d\\u0441\\u043a\"],[\"\\u0411\\u0440\\u044f\\u043d\\u0441\\u043a\"],[\"\\u0411\\u0440\\u044f\\u043d\\u0441\\u043a\"],[\"\\u0411\\u0440\\u044f\\u043d\\u0441\\u043a\"],[\"\\u0411\\u0440\\u044f\\u043d\\u0441\\u043a\"],[\"\\u0411\\u0440\\u044f\\u043d\\u0441\\u043a\"],[\"\\u0411\\u0440\\u044f\\u043d\\u0441\\u043a\"],[\"\\u0411\\u0440\\u044f\\u043d\\u0441\\u043a\"],[\"\\u0411\\u0443\\u0433\\u0443\\u043b\\u044c\\u043c\\u0430\"],[\"\\u0411\\u0443\\u0437\\u0443\\u043b\\u0443\\u043a\"],[\"\\u0412\\u0435\\u043b\\u0438\\u043a\\u0438\\u0439 \\u041d\\u043e\\u0432\\u0433\\u043e\\u0440\\u043e\\u0434\"],[\"\\u0412\\u0435\\u043b\\u0438\\u043a\\u0438\\u0439 \\u041d\\u043e\\u0432\\u0433\\u043e\\u0440\\u043e\\u0434\"],[\"\\u0412\\u0435\\u043d\\u0435\\u0432\"],[\"\\u0412\\u0435\\u0440\\u0445\\u043d\\u044f\\u044f \\u041f\\u044b\\u0448\\u043c\\u0430\"],[\"\\u0412\\u0435\\u0440\\u0445\\u043d\\u044f\\u044f \\u041f\\u044b\\u0448\\u043c\\u0430\"],[\"\\u0412\\u043b\\u0430\\u0434\\u0438\\u0432\\u043e\\u0441\\u0442\\u043e\\u043a\"],[\"\\u0412\\u043b\\u0430\\u0434\\u0438\\u0432\\u043e\\u0441\\u0442\\u043e\\u043a\"],[\"\\u0412\\u043b\\u0430\\u0434\\u0438\\u0432\\u043e\\u0441\\u0442\\u043e\\u043a\"],[\"\\u0412\\u043b\\u0430\\u0434\\u0438\\u0432\\u043e\\u0441\\u0442\\u043e\\u043a\"],[\"\\u0412\\u043b\\u0430\\u0434\\u0438\\u0432\\u043e\\u0441\\u0442\\u043e\\u043a\"],[\"\\u0412\\u043b\\u0430\\u0434\\u0438\\u0432\\u043e\\u0441\\u0442\\u043e\\u043a\"],[\"\\u0412\\u043b\\u0430\\u0434\\u0438\\u043a\\u0430\\u0432\\u043a\\u0430\\u0437\"],[\"\\u0412\\u043b\\u0430\\u0434\\u0438\\u043c\\u0438\\u0440\"],[\"\\u0412\\u043b\\u0430\\u0434\\u0438\\u043c\\u0438\\u0440\"],[\"\\u0412\\u043b\\u0430\\u0434\\u0438\\u043c\\u0438\\u0440\"],[\"\\u0412\\u043e\\u043b\\u0433\\u043e\\u0433\\u0440\\u0430\\u0434\"],[\"\\u0412\\u043e\\u043b\\u0433\\u043e\\u0433\\u0440\\u0430\\u0434\"],[\"\\u0412\\u043e\\u043b\\u0433\\u043e\\u0433\\u0440\\u0430\\u0434\"],[\"\\u0412\\u043e\\u043b\\u0433\\u043e\\u0433\\u0440\\u0430\\u0434\"],[\"\\u0412\\u043e\\u043b\\u0433\\u043e\\u0433\\u0440\\u0430\\u0434\"],[\"\\u0412\\u043e\\u043b\\u0433\\u043e\\u0433\\u0440\\u0430\\u0434\"],[\"\\u0412\\u043e\\u043b\\u0433\\u043e\\u0433\\u0440\\u0430\\u0434\"],[\"\\u0412\\u043e\\u043b\\u0433\\u043e\\u0433\\u0440\\u0430\\u0434\"],[\"\\u0412\\u043e\\u043b\\u0433\\u043e\\u0433\\u0440\\u0430\\u0434\"],[\"\\u0412\\u043e\\u043b\\u0433\\u043e\\u0434\\u043e\\u043d\\u0441\\u043a\"],[\"\\u0412\\u043e\\u043b\\u0436\\u0441\\u043a\"],[\"\\u0412\\u043e\\u043b\\u0436\\u0441\\u043a\\u0438\\u0439\"],[\"\\u0412\\u043e\\u043b\\u043e\\u0433\\u0434\\u0430\"],[\"\\u0412\\u043e\\u043b\\u043e\\u0433\\u0434\\u0430\"],[\"\\u0412\\u043e\\u043b\\u043e\\u0433\\u0434\\u0430\"],[\"\\u0412\\u043e\\u043b\\u043e\\u0433\\u0434\\u0430\"],[\"\\u0412\\u043e\\u043b\\u043e\\u0433\\u0434\\u0430\"],[\"\\u0412\\u043e\\u043b\\u043e\\u0433\\u0434\\u0430\"],[\"\\u0412\\u043e\\u0440\\u043a\\u0443\\u0442\\u0430\"],[\"\\u0412\\u043e\\u0440\\u043a\\u0443\\u0442\\u0430\"],[\"\\u0412\\u043e\\u0440\\u043e\\u043d\\u0435\\u0436\"],[\"\\u0412\\u043e\\u0440\\u043e\\u043d\\u0435\\u0436\"],[\"\\u0412\\u043e\\u0440\\u043e\\u043d\\u0435\\u0436\"],[\"\\u0412\\u043e\\u0440\\u043e\\u043d\\u0435\\u0436\"],[\"\\u0412\\u043e\\u0440\\u043e\\u043d\\u0435\\u0436\"],[\"\\u0412\\u043e\\u0440\\u043e\\u043d\\u0435\\u0436\"],[\"\\u0412\\u043e\\u0440\\u043e\\u043d\\u0435\\u0436\"],[\"\\u0412\\u043e\\u0440\\u043e\\u043d\\u0435\\u0436\"],[\"\\u0412\\u043e\\u0440\\u043e\\u043d\\u0435\\u0436\"],[\"\\u0412\\u043e\\u0440\\u043e\\u043d\\u0435\\u0436\"],[\"\\u0412\\u043e\\u0440\\u043e\\u043d\\u0435\\u0436\"],[\"\\u0412\\u043e\\u0440\\u043e\\u043d\\u0435\\u0436\"],[\"\\u0412\\u043e\\u0440\\u043e\\u043d\\u0435\\u0436\"],[\"\\u0412\\u043e\\u0441\\u043a\\u0440\\u0435\\u0441\\u0435\\u043d\\u0441\\u043a\"],[\"\\u0412\\u0441\\u0435\\u0432\\u043e\\u043b\\u043e\\u0436\\u0441\\u043a\"],[\"\\u0412\\u044b\\u0431\\u043e\\u0440\\u0433\"],[\"\\u0412\\u044f\\u0437\\u043d\\u0438\\u043a\\u0438\"],[\"\\u0412\\u044f\\u0437\\u044c\\u043c\\u0430\"],[\"\\u0413\\u0430\\u0442\\u0447\\u0438\\u043d\\u0430\"],[\"\\u0413\\u0430\\u0442\\u0447\\u0438\\u043d\\u0430\"],[\"\\u0413\\u0435\\u043b\\u0435\\u043d\\u0434\\u0436\\u0438\\u043a\"],[\"\\u0413\\u043e\\u0440\\u043d\\u043e-\\u0410\\u043b\\u0442\\u0430\\u0439\\u0441\\u043a\"],[\"\\u0413\\u043e\\u0440\\u043d\\u043e-\\u0410\\u043b\\u0442\\u0430\\u0439\\u0441\\u043a\"],[\"\\u0413\\u043e\\u0440\\u043e\\u0434\\u0435\\u0446\"],[\"\\u0413\\u0440\\u043e\\u0437\\u043d\\u044b\\u0439\"],[\"\\u0413\\u0440\\u043e\\u0437\\u043d\\u044b\\u0439\"],[\"\\u0413\\u0443\\u0431\\u043a\\u0438\\u043d\"],[\"\\u0413\\u0443\\u0431\\u043a\\u0438\\u043d\"],[\"\\u0413\\u0443\\u0431\\u043a\\u0438\\u043d\\u0441\\u043a\\u0438\\u0439\"],[\"\\u0413\\u0443\\u0434\\u0435\\u0440\\u043c\\u0435\\u0441\"],[\"\\u0413\\u0443\\u0441\\u0435\\u0432\"],[\"\\u0414\\u0430\\u043d\\u0438\\u043b\\u043e\\u0432\"],[\"\\u0414\\u0436\\u0430\\u043d\\u043a\\u043e\\u0439\"],[\"\\u0414\\u0438\\u043c\\u0438\\u0442\\u0440\\u043e\\u0432\\u0433\\u0440\\u0430\\u0434\"],[\"\\u0414\\u0438\\u043c\\u0438\\u0442\\u0440\\u043e\\u0432\\u0433\\u0440\\u0430\\u0434\"],[\"\\u0414\\u043e\\u043b\\u0433\\u043e\\u043f\\u0440\\u0443\\u0434\\u043d\\u044b\\u0439\"],[\"\\u0415\\u0432\\u043f\\u0430\\u0442\\u043e\\u0440\\u0438\\u044f\"],[\"\\u0415\\u043a\\u0430\\u0442\\u0435\\u0440\\u0438\\u043d\\u0431\\u0443\\u0440\\u0433\"],[\"\\u0415\\u043a\\u0430\\u0442\\u0435\\u0440\\u0438\\u043d\\u0431\\u0443\\u0440\\u0433\"],[\"\\u0415\\u043a\\u0430\\u0442\\u0435\\u0440\\u0438\\u043d\\u0431\\u0443\\u0440\\u0433\"],[\"\\u0415\\u043a\\u0430\\u0442\\u0435\\u0440\\u0438\\u043d\\u0431\\u0443\\u0440\\u0433\"],[\"\\u0415\\u043a\\u0430\\u0442\\u0435\\u0440\\u0438\\u043d\\u0431\\u0443\\u0440\\u0433\"],[\"\\u0415\\u043a\\u0430\\u0442\\u0435\\u0440\\u0438\\u043d\\u0431\\u0443\\u0440\\u0433\"],[\"\\u0415\\u043a\\u0430\\u0442\\u0435\\u0440\\u0438\\u043d\\u0431\\u0443\\u0440\\u0433\"],[\"\\u0415\\u043a\\u0430\\u0442\\u0435\\u0440\\u0438\\u043d\\u0431\\u0443\\u0440\\u0433\"],[\"\\u0415\\u043a\\u0430\\u0442\\u0435\\u0440\\u0438\\u043d\\u0431\\u0443\\u0440\\u0433\"],[\"\\u0415\\u043a\\u0430\\u0442\\u0435\\u0440\\u0438\\u043d\\u0431\\u0443\\u0440\\u0433\"],[\"\\u0415\\u043a\\u0430\\u0442\\u0435\\u0440\\u0438\\u043d\\u0431\\u0443\\u0440\\u0433\"],[\"\\u0415\\u043a\\u0430\\u0442\\u0435\\u0440\\u0438\\u043d\\u0431\\u0443\\u0440\\u0433\"],[\"\\u0415\\u043a\\u0430\\u0442\\u0435\\u0440\\u0438\\u043d\\u0431\\u0443\\u0440\\u0433\"],[\"\\u0415\\u043a\\u0430\\u0442\\u0435\\u0440\\u0438\\u043d\\u0431\\u0443\\u0440\\u0433\"],[\"\\u0415\\u043a\\u0430\\u0442\\u0435\\u0440\\u0438\\u043d\\u0431\\u0443\\u0440\\u0433\"],[\"\\u0415\\u043a\\u0430\\u0442\\u0435\\u0440\\u0438\\u043d\\u0431\\u0443\\u0440\\u0433\"],[\"\\u0415\\u043a\\u0430\\u0442\\u0435\\u0440\\u0438\\u043d\\u0431\\u0443\\u0440\\u0433\"],[\"\\u0415\\u043a\\u0430\\u0442\\u0435\\u0440\\u0438\\u043d\\u0431\\u0443\\u0440\\u0433\"],[\"\\u0415\\u043a\\u0430\\u0442\\u0435\\u0440\\u0438\\u043d\\u0431\\u0443\\u0440\\u0433\"],[\"\\u0415\\u043a\\u0430\\u0442\\u0435\\u0440\\u0438\\u043d\\u0431\\u0443\\u0440\\u0433\"],[\"\\u0415\\u043a\\u0430\\u0442\\u0435\\u0440\\u0438\\u043d\\u0431\\u0443\\u0440\\u0433\"],[\"\\u0415\\u043a\\u0430\\u0442\\u0435\\u0440\\u0438\\u043d\\u0431\\u0443\\u0440\\u0433\"],[\"\\u0415\\u043a\\u0430\\u0442\\u0435\\u0440\\u0438\\u043d\\u0431\\u0443\\u0440\\u0433\"],[\"\\u0415\\u043a\\u0430\\u0442\\u0435\\u0440\\u0438\\u043d\\u0431\\u0443\\u0440\\u0433\"],[\"\\u0415\\u043a\\u0430\\u0442\\u0435\\u0440\\u0438\\u043d\\u0431\\u0443\\u0440\\u0433\"],[\"\\u0415\\u043a\\u0430\\u0442\\u0435\\u0440\\u0438\\u043d\\u0431\\u0443\\u0440\\u0433\"],[\"\\u0415\\u043a\\u0430\\u0442\\u0435\\u0440\\u0438\\u043d\\u0431\\u0443\\u0440\\u0433\"],[\"\\u0415\\u043a\\u0430\\u0442\\u0435\\u0440\\u0438\\u043d\\u0431\\u0443\\u0440\\u0433\"],[\"\\u0415\\u043a\\u0430\\u0442\\u0435\\u0440\\u0438\\u043d\\u0431\\u0443\\u0440\\u0433\"],[\"\\u0415\\u043a\\u0430\\u0442\\u0435\\u0440\\u0438\\u043d\\u0431\\u0443\\u0440\\u0433\"],[\"\\u0415\\u043a\\u0430\\u0442\\u0435\\u0440\\u0438\\u043d\\u0431\\u0443\\u0440\\u0433\"],[\"\\u0415\\u043b\\u0435\\u0446\"],[\"\\u0415\\u043b\\u0438\\u0437\\u043e\\u0432\\u043e\"],[\"\\u0415\\u0441\\u0441\\u0435\\u043d\\u0442\\u0443\\u043a\\u0438\"],[\"\\u0415\\u0441\\u0441\\u0435\\u043d\\u0442\\u0443\\u043a\\u0438\"],[\"\\u0416\\u0435\\u043b\\u0435\\u0437\\u043d\\u043e\\u0433\\u043e\\u0440\\u0441\\u043a (\\u041a\\u0443\\u0440\\u0441\\u043a\\u0430\\u044f \\u043e\\u0431\\u043b.)\"],[\"\\u0416\\u0443\\u043a\\u043e\\u0432\\u043a\\u0430 (\\u0411\\u0440\\u044f\\u043d\\u0441\\u043a\\u0430\\u044f \\u043e\\u0431\\u043b.)\"],[\"\\u0416\\u0443\\u043a\\u043e\\u0432\\u0441\\u043a\\u0438\\u0439\"],[\"\\u0417\\u0430\\u0438\\u043d\\u0441\\u043a\"],[\"\\u0417\\u0430\\u0440\\u0435\\u0447\\u043d\\u044b\\u0439\"],[\"\\u0417\\u0430\\u0440\\u0435\\u0447\\u043d\\u044b\\u0439\"],[\"\\u0417\\u0435\\u043b\\u0435\\u043d\\u043e\\u0433\\u0440\\u0430\\u0434\"],[\"\\u0417\\u0435\\u043b\\u0435\\u043d\\u043e\\u0433\\u0440\\u0430\\u0434\"],[\"\\u0417\\u0435\\u043b\\u0435\\u043d\\u043e\\u0433\\u0440\\u0430\\u0434\\u0441\\u043a\"],[\"\\u0417\\u043b\\u0430\\u0442\\u043e\\u0443\\u0441\\u0442\"],[\"\\u0417\\u043b\\u0430\\u0442\\u043e\\u0443\\u0441\\u0442\"],[\"\\u0418\\u0432\\u0430\\u043d\\u043e\\u0432\\u043e\"],[\"\\u0418\\u0432\\u0430\\u043d\\u043e\\u0432\\u043e\"],[\"\\u0418\\u0432\\u0430\\u043d\\u043e\\u0432\\u043e\"],[\"\\u0418\\u0432\\u0430\\u043d\\u043e\\u0432\\u043e\"],[\"\\u0418\\u0436\\u0435\\u0432\\u0441\\u043a\"],[\"\\u0418\\u0436\\u0435\\u0432\\u0441\\u043a\"],[\"\\u0418\\u0436\\u0435\\u0432\\u0441\\u043a\"],[\"\\u0418\\u0436\\u0435\\u0432\\u0441\\u043a\"],[\"\\u0418\\u0436\\u0435\\u0432\\u0441\\u043a\"],[\"\\u0418\\u0436\\u0435\\u0432\\u0441\\u043a\"],[\"\\u0418\\u0440\\u0431\\u0438\\u0442\"],[\"\\u0418\\u0440\\u043a\\u0443\\u0442\\u0441\\u043a\"],[\"\\u0418\\u0440\\u043a\\u0443\\u0442\\u0441\\u043a\"],[\"\\u0418\\u0440\\u043a\\u0443\\u0442\\u0441\\u043a\"],[\"\\u0418\\u0440\\u043a\\u0443\\u0442\\u0441\\u043a\"],[\"\\u0418\\u0440\\u043a\\u0443\\u0442\\u0441\\u043a\"],[\"\\u0418\\u0440\\u043a\\u0443\\u0442\\u0441\\u043a\"],[\"\\u0418\\u0440\\u043a\\u0443\\u0442\\u0441\\u043a\"],[\"\\u0418\\u0440\\u043a\\u0443\\u0442\\u0441\\u043a\"],[\"\\u0418\\u0440\\u043a\\u0443\\u0442\\u0441\\u043a\"],[\"\\u0418\\u0440\\u043a\\u0443\\u0442\\u0441\\u043a\"],[\"\\u0418\\u0440\\u043a\\u0443\\u0442\\u0441\\u043a\"],[\"\\u0418\\u0440\\u043a\\u0443\\u0442\\u0441\\u043a\"],[\"\\u0418\\u0441\\u043a\\u0438\\u0442\\u0438\\u043c\"],[\"\\u0419\\u043e\\u0448\\u043a\\u0430\\u0440-\\u041e\\u043b\\u0430\"],[\"\\u041a\\u0430\\u0437\\u0430\\u043d\\u044c\"],[\"\\u041a\\u0430\\u0437\\u0430\\u043d\\u044c\"],[\"\\u041a\\u0430\\u0437\\u0430\\u043d\\u044c\"],[\"\\u041a\\u0430\\u0437\\u0430\\u043d\\u044c\"],[\"\\u041a\\u0430\\u0437\\u0430\\u043d\\u044c\"],[\"\\u041a\\u0430\\u0437\\u0430\\u043d\\u044c\"],[\"\\u041a\\u0430\\u0437\\u0430\\u043d\\u044c\"],[\"\\u041a\\u0430\\u0437\\u0430\\u043d\\u044c\"],[\"\\u041a\\u0430\\u0437\\u0430\\u043d\\u044c\"],[\"\\u041a\\u0430\\u0437\\u0430\\u043d\\u044c\"],[\"\\u041a\\u0430\\u0437\\u0430\\u043d\\u044c\"],[\"\\u041a\\u0430\\u0437\\u0430\\u043d\\u044c\"],[\"\\u041a\\u0430\\u0437\\u0430\\u043d\\u044c\"],[\"\\u041a\\u0430\\u0437\\u0430\\u043d\\u044c\"],[\"\\u041a\\u0430\\u0437\\u0430\\u043d\\u044c\"],[\"\\u041a\\u0430\\u0437\\u0430\\u043d\\u044c\"],[\"\\u041a\\u0430\\u043b\\u0438\\u043d\\u0438\\u043d\\u0433\\u0440\\u0430\\u0434\"],[\"\\u041a\\u0430\\u043b\\u0438\\u043d\\u0438\\u043d\\u0433\\u0440\\u0430\\u0434\"],[\"\\u041a\\u0430\\u043b\\u0438\\u043d\\u0438\\u043d\\u0433\\u0440\\u0430\\u0434\"],[\"\\u041a\\u0430\\u043b\\u0438\\u043d\\u0438\\u043d\\u0433\\u0440\\u0430\\u0434\"],[\"\\u041a\\u0430\\u043b\\u0438\\u043d\\u0438\\u043d\\u0433\\u0440\\u0430\\u0434\"],[\"\\u041a\\u0430\\u043b\\u0438\\u043d\\u0438\\u043d\\u0433\\u0440\\u0430\\u0434\"],[\"\\u041a\\u0430\\u043b\\u0438\\u043d\\u0438\\u043d\\u0435\\u0446\"],[\"\\u041a\\u0430\\u043b\\u0443\\u0433\\u0430\"],[\"\\u041a\\u0430\\u043b\\u0443\\u0433\\u0430\"],[\"\\u041a\\u0430\\u043b\\u0443\\u0433\\u0430\"],[\"\\u041a\\u0430\\u043b\\u0443\\u0433\\u0430\"],[\"\\u041a\\u0430\\u043b\\u0443\\u0433\\u0430\"],[\"\\u041a\\u0430\\u043b\\u0443\\u0433\\u0430\"],[\"\\u041a\\u0430\\u043b\\u0443\\u0433\\u0430\"],[\"\\u041a\\u0430\\u043b\\u0443\\u0433\\u0430\"],[\"\\u041a\\u0430\\u043b\\u0443\\u0433\\u0430\"],[\"\\u041a\\u0430\\u043c\\u0435\\u043d\\u0441\\u043a-\\u0423\\u0440\\u0430\\u043b\\u044c\\u0441\\u043a\\u0438\\u0439\"],[\"\\u041a\\u0430\\u043c\\u0435\\u043d\\u0441\\u043a-\\u0423\\u0440\\u0430\\u043b\\u044c\\u0441\\u043a\\u0438\\u0439\"],[\"\\u041a\\u0430\\u043c\\u0435\\u043d\\u0441\\u043a-\\u0423\\u0440\\u0430\\u043b\\u044c\\u0441\\u043a\\u0438\\u0439\"],[\"\\u041a\\u0430\\u0441\\u0438\\u043c\\u043e\\u0432\"],[\"\\u041a\\u0435\\u043c\\u0435\\u0440\\u043e\\u0432\\u043e\"],[\"\\u041a\\u0435\\u043c\\u0435\\u0440\\u043e\\u0432\\u043e\"],[\"\\u041a\\u0435\\u043c\\u0435\\u0440\\u043e\\u0432\\u043e\"],[\"\\u041a\\u0435\\u043c\\u0435\\u0440\\u043e\\u0432\\u043e\"],[\"\\u041a\\u0435\\u043c\\u0435\\u0440\\u043e\\u0432\\u043e\"],[\"\\u041a\\u0435\\u043c\\u0435\\u0440\\u043e\\u0432\\u043e\"],[\"\\u041a\\u0438\\u043d\\u0433\\u0438\\u0441\\u0435\\u043f\\u043f\"],[\"\\u041a\\u0438\\u043d\\u0433\\u0438\\u0441\\u0435\\u043f\\u043f\"],[\"\\u041a\\u0438\\u043d\\u0433\\u0438\\u0441\\u0435\\u043f\\u043f\"],[\"\\u041a\\u0438\\u0440\\u0438\\u0448\\u0438\"],[\"\\u041a\\u0438\\u0440\\u0438\\u0448\\u0438\"],[\"\\u041a\\u0438\\u0440\\u043e\\u0432\"],[\"\\u041a\\u043b\\u0438\\u043d\"],[\"\\u041a\\u043b\\u0438\\u043d\\u0446\\u044b\"],[\"\\u041a\\u043e\\u0437\\u044c\\u043c\\u043e\\u0434\\u0435\\u043c\\u044c\\u044f\\u043d\\u0441\\u043a\"],[\"\\u041a\\u043e\\u043b\\u043e\\u043c\\u043d\\u0430\"],[\"\\u041a\\u043e\\u043b\\u043e\\u043c\\u043d\\u0430\"],[\"\\u041a\\u043e\\u043b\\u043e\\u043c\\u043d\\u0430\"],[\"\\u041a\\u043e\\u043b\\u043e\\u043c\\u043d\\u0430\"],[\"\\u041a\\u043e\\u043b\\u043e\\u043c\\u043d\\u0430\"],[\"\\u041a\\u043e\\u043d\\u0430\\u043a\\u043e\\u0432\\u043e\"],[\"\\u041a\\u043e\\u043f\\u0435\\u0439\\u0441\\u043a\"],[\"\\u041a\\u043e\\u0440\\u044f\\u0436\\u043c\\u0430\"],[\"\\u041a\\u043e\\u0441\\u0442\\u0440\\u043e\\u043c\\u0430\"],[\"\\u041a\\u043e\\u0441\\u0442\\u0440\\u043e\\u043c\\u0430\"],[\"\\u041a\\u043e\\u0441\\u0442\\u0440\\u043e\\u043c\\u0430\"],[\"\\u041a\\u043e\\u0441\\u0442\\u0440\\u043e\\u043c\\u0430\"],[\"\\u041a\\u043e\\u0442\\u043b\\u0430\\u0441\"],[\"\\u041a\\u043e\\u0442\\u043e\\u0432\\u0441\\u043a\"],[\"\\u041a\\u043e\\u0445\\u043c\\u0430\"],[\"\\u041a\\u0440\\u0430\\u0441\\u043d\\u043e\\u0433\\u043e\\u0440\\u0441\\u043a\"],[\"\\u041a\\u0440\\u0430\\u0441\\u043d\\u043e\\u0433\\u043e\\u0440\\u0441\\u043a\"],[\"\\u041a\\u0440\\u0430\\u0441\\u043d\\u043e\\u0434\\u0430\\u0440\"],[\"\\u041a\\u0440\\u0430\\u0441\\u043d\\u043e\\u0434\\u0430\\u0440\"],[\"\\u041a\\u0440\\u0430\\u0441\\u043d\\u043e\\u0434\\u0430\\u0440\"],[\"\\u041a\\u0440\\u0430\\u0441\\u043d\\u043e\\u0434\\u0430\\u0440\"],[\"\\u041a\\u0440\\u0430\\u0441\\u043d\\u043e\\u0434\\u0430\\u0440\"],[\"\\u041a\\u0440\\u0430\\u0441\\u043d\\u043e\\u0434\\u0430\\u0440\"],[\"\\u041a\\u0440\\u0430\\u0441\\u043d\\u043e\\u0434\\u0430\\u0440\"],[\"\\u041a\\u0440\\u0430\\u0441\\u043d\\u043e\\u0434\\u0430\\u0440\"],[\"\\u041a\\u0440\\u0430\\u0441\\u043d\\u043e\\u0434\\u0430\\u0440\"],[\"\\u041a\\u0440\\u0430\\u0441\\u043d\\u043e\\u0434\\u0430\\u0440\"],[\"\\u041a\\u0440\\u0430\\u0441\\u043d\\u043e\\u0434\\u0430\\u0440\"],[\"\\u041a\\u0440\\u0430\\u0441\\u043d\\u043e\\u0434\\u0430\\u0440\"],[\"\\u041a\\u0440\\u0430\\u0441\\u043d\\u043e\\u044f\\u0440\\u0441\\u043a\"],[\"\\u041a\\u0440\\u0430\\u0441\\u043d\\u043e\\u044f\\u0440\\u0441\\u043a\"],[\"\\u041a\\u0440\\u0430\\u0441\\u043d\\u043e\\u044f\\u0440\\u0441\\u043a\"],[\"\\u041a\\u0440\\u0430\\u0441\\u043d\\u043e\\u044f\\u0440\\u0441\\u043a\"],[\"\\u041a\\u0440\\u0430\\u0441\\u043d\\u043e\\u044f\\u0440\\u0441\\u043a\"],[\"\\u041a\\u0440\\u0430\\u0441\\u043d\\u043e\\u044f\\u0440\\u0441\\u043a\"],[\"\\u041a\\u0440\\u0430\\u0441\\u043d\\u043e\\u044f\\u0440\\u0441\\u043a\"],[\"\\u041a\\u0443\\u0437\\u043d\\u0435\\u0446\\u043a\"],[\"\\u041a\\u0443\\u043b\\u0435\\u0431\\u0430\\u043a\\u0438\"],[\"\\u041a\\u0443\\u0440\\u0433\\u0430\\u043d\"],[\"\\u041a\\u0443\\u0440\\u0433\\u0430\\u043d\"],[\"\\u041a\\u0443\\u0440\\u0433\\u0430\\u043d\\u0438\\u043d\\u0441\\u043a\"],[\"\\u041a\\u0443\\u0440\\u0441\\u043a\"],[\"\\u041a\\u0443\\u0440\\u0441\\u043a\"],[\"\\u041a\\u0443\\u0440\\u0441\\u043a\"],[\"\\u041a\\u0443\\u0440\\u0441\\u043a\"],[\"\\u041a\\u0443\\u0440\\u0441\\u043a\"],[\"\\u041a\\u0443\\u0440\\u0441\\u043a\"],[\"\\u041a\\u0443\\u0440\\u0441\\u043a\"],[\"\\u041b\\u0435\\u0441\\u043d\\u043e\\u0439\"],[\"\\u041b\\u0438\\u043f\\u0435\\u0446\\u043a\"],[\"\\u041b\\u0438\\u043f\\u0435\\u0446\\u043a\"],[\"\\u041b\\u0438\\u043f\\u0435\\u0446\\u043a\"],[\"\\u041b\\u0438\\u043f\\u0435\\u0446\\u043a\"],[\"\\u041b\\u0438\\u043f\\u0435\\u0446\\u043a\"],[\"\\u041b\\u0438\\u043f\\u0435\\u0446\\u043a\"],[\"\\u041b\\u043e\\u043c\\u043e\\u043d\\u043e\\u0441\\u043e\\u0432\"],[\"\\u041b\\u0443\\u0445\\u043e\\u0432\\u0438\\u0446\\u044b\"],[\"\\u041b\\u044e\\u0431\\u0435\\u0440\\u0446\\u044b\"],[\"\\u041b\\u044f\\u043d\\u0442\\u043e\\u0440\"],[\"\\u041c\\u0430\\u0433\\u0430\\u0434\\u0430\\u043d\"],[\"\\u041c\\u0430\\u0433\\u0430\\u0434\\u0430\\u043d\"],[\"\\u041c\\u0430\\u0433\\u0430\\u0434\\u0430\\u043d\"],[\"\\u041c\\u0430\\u0433\\u0430\\u0434\\u0430\\u043d\"],[\"\\u041c\\u0430\\u0439\\u043a\\u043e\\u043f\"],[\"\\u041c\\u0430\\u0439\\u043a\\u043e\\u043f\"],[\"\\u041c\\u0435\\u0433\\u0438\\u043e\\u043d\"],[\"\\u041c\\u0435\\u0434\\u043d\\u043e\\u0433\\u043e\\u0440\\u0441\\u043a\"],[\"\\u041c\\u0438\\u0430\\u0441\\u0441\"],[\"\\u041c\\u043e\\u0436\\u0430\\u0439\\u0441\\u043a\"],[\"\\u041c\\u043e\\u0441\\u043a\\u0432\\u0430\"],[\"\\u041c\\u043e\\u0441\\u043a\\u0432\\u0430\"],[\"\\u041c\\u043e\\u0441\\u043a\\u0432\\u0430\"],[\"\\u041c\\u043e\\u0441\\u043a\\u0432\\u0430\"],[\"\\u041c\\u043e\\u0441\\u043a\\u0432\\u0430\"],[\"\\u041c\\u043e\\u0441\\u043a\\u0432\\u0430\"],[\"\\u041c\\u043e\\u0441\\u043a\\u0432\\u0430\"],[\"\\u041c\\u043e\\u0441\\u043a\\u0432\\u0430\"],[\"\\u041c\\u043e\\u0441\\u043a\\u0432\\u0430\"],[\"\\u041c\\u043e\\u0441\\u043a\\u0432\\u0430\"],[\"\\u041c\\u043e\\u0441\\u043a\\u0432\\u0430\"],[\"\\u041c\\u043e\\u0441\\u043a\\u0432\\u0430\"],[\"\\u041c\\u043e\\u0441\\u043a\\u0432\\u0430\"],[\"\\u041c\\u043e\\u0441\\u043a\\u0432\\u0430\"],[\"\\u041c\\u043e\\u0441\\u043a\\u0432\\u0430\"],[\"\\u041c\\u043e\\u0441\\u043a\\u0432\\u0430\"],[\"\\u041c\\u043e\\u0441\\u043a\\u0432\\u0430\"],[\"\\u041c\\u043e\\u0441\\u043a\\u0432\\u0430\"],[\"\\u041c\\u043e\\u0441\\u043a\\u0432\\u0430\"],[\"\\u041c\\u043e\\u0441\\u043a\\u0432\\u0430\"],[\"\\u041c\\u043e\\u0441\\u043a\\u0432\\u0430\"],[\"\\u041c\\u043e\\u0441\\u043a\\u0432\\u0430\"],[\"\\u041c\\u043e\\u0441\\u043a\\u0432\\u0430\"],[\"\\u041c\\u043e\\u0441\\u043a\\u0432\\u0430\"],[\"\\u041c\\u043e\\u0441\\u043a\\u0432\\u0430\"],[\"\\u041c\\u043e\\u0441\\u043a\\u0432\\u0430\"],[\"\\u041c\\u043e\\u0441\\u043a\\u0432\\u0430\"],[\"\\u041c\\u043e\\u0441\\u043a\\u0432\\u0430\"],[\"\\u041c\\u043e\\u0441\\u043a\\u0432\\u0430\"],[\"\\u041c\\u043e\\u0441\\u043a\\u0432\\u0430\"],[\"\\u041c\\u043e\\u0441\\u043a\\u0432\\u0430\"],[\"\\u041c\\u043e\\u0441\\u043a\\u0432\\u0430\"],[\"\\u041c\\u043e\\u0441\\u043a\\u0432\\u0430\"],[\"\\u041c\\u043e\\u0441\\u043a\\u0432\\u0430\"],[\"\\u041c\\u043e\\u0441\\u043a\\u0432\\u0430\"],[\"\\u041c\\u043e\\u0441\\u043a\\u0432\\u0430\"],[\"\\u041c\\u043e\\u0441\\u043a\\u0432\\u0430\"],[\"\\u041c\\u043e\\u0441\\u043a\\u0432\\u0430\"],[\"\\u041c\\u043e\\u0441\\u043a\\u0432\\u0430\"],[\"\\u041c\\u043e\\u0441\\u043a\\u0432\\u0430\"],[\"\\u041c\\u043e\\u0441\\u043a\\u0432\\u0430\"],[\"\\u041c\\u043e\\u0441\\u043a\\u0432\\u0430\"],[\"\\u041c\\u043e\\u0441\\u043a\\u0432\\u0430\"],[\"\\u041c\\u043e\\u0441\\u043a\\u0432\\u0430\"],[\"\\u041c\\u043e\\u0441\\u043a\\u0432\\u0430\"],[\"\\u041c\\u043e\\u0441\\u043a\\u0432\\u0430\"],[\"\\u041c\\u043e\\u0441\\u043a\\u0432\\u0430\"],[\"\\u041c\\u043e\\u0441\\u043a\\u0432\\u0430\"],[\"\\u041c\\u043e\\u0441\\u043a\\u0432\\u0430\"],[\"\\u041c\\u043e\\u0441\\u043a\\u0432\\u0430\"],[\"\\u041c\\u043e\\u0441\\u043a\\u0432\\u0430\"],[\"\\u041c\\u043e\\u0441\\u043a\\u0432\\u0430\"],[\"\\u041c\\u043e\\u0441\\u043a\\u0432\\u0430\"],[\"\\u041c\\u043e\\u0441\\u043a\\u0432\\u0430\"],[\"\\u041c\\u043e\\u0441\\u043a\\u0432\\u0430\"],[\"\\u041c\\u043e\\u0441\\u043a\\u0432\\u0430\"],[\"\\u041c\\u043e\\u0441\\u043a\\u0432\\u0430\"],[\"\\u041c\\u043e\\u0441\\u043a\\u0432\\u0430\"],[\"\\u041c\\u043e\\u0441\\u043a\\u0432\\u0430\"],[\"\\u041c\\u043e\\u0441\\u043a\\u0432\\u0430\"],[\"\\u041c\\u043e\\u0441\\u043a\\u0432\\u0430\"],[\"\\u041c\\u043e\\u0441\\u043a\\u0432\\u0430\"],[\"\\u041c\\u043e\\u0441\\u043a\\u0432\\u0430\"],[\"\\u041c\\u043e\\u0441\\u043a\\u0432\\u0430\"],[\"\\u041c\\u043e\\u0441\\u043a\\u0432\\u0430\"],[\"\\u041c\\u043e\\u0441\\u043a\\u0432\\u0430\"],[\"\\u041c\\u043e\\u0441\\u043a\\u0432\\u0430\"],[\"\\u041c\\u043e\\u0441\\u043a\\u0432\\u0430\"],[\"\\u041c\\u043e\\u0441\\u043a\\u0432\\u0430\"],[\"\\u041c\\u043e\\u0441\\u043a\\u0432\\u0430\"],[\"\\u041c\\u043e\\u0441\\u043a\\u0432\\u0430\"],[\"\\u041c\\u043e\\u0441\\u043a\\u0432\\u0430\"],[\"\\u041c\\u043e\\u0441\\u043a\\u0432\\u0430\"],[\"\\u041c\\u043e\\u0441\\u043a\\u0432\\u0430\"],[\"\\u041c\\u043e\\u0441\\u043a\\u0432\\u0430\"],[\"\\u041c\\u043e\\u0441\\u043a\\u0432\\u0430\"],[\"\\u041c\\u043e\\u0441\\u043a\\u0432\\u0430\"],[\"\\u041c\\u043e\\u0441\\u043a\\u0432\\u0430\"],[\"\\u041c\\u043e\\u0441\\u043a\\u0432\\u0430\"],[\"\\u041c\\u043e\\u0441\\u043a\\u0432\\u0430\"],[\"\\u041c\\u043e\\u0441\\u043a\\u0432\\u0430\"],[\"\\u041c\\u043e\\u0441\\u043a\\u0432\\u0430\"],[\"\\u041c\\u043e\\u0441\\u043a\\u0432\\u0430\"],[\"\\u041c\\u043e\\u0441\\u043a\\u0432\\u0430\"],[\"\\u041c\\u043e\\u0441\\u043a\\u0432\\u0430\"],[\"\\u041c\\u043e\\u0441\\u043a\\u0432\\u0430\"],[\"\\u041c\\u043e\\u0441\\u043a\\u0432\\u0430\"],[\"\\u041c\\u043e\\u0441\\u043a\\u0432\\u0430\"],[\"\\u041c\\u043e\\u0441\\u043a\\u0432\\u0430\"],[\"\\u041c\\u043e\\u0441\\u043a\\u0432\\u0430\"],[\"\\u041c\\u043e\\u0441\\u043a\\u0432\\u0430\"],[\"\\u041c\\u043e\\u0441\\u043a\\u0432\\u0430\"],[\"\\u041c\\u043e\\u0441\\u043a\\u0432\\u0430\"],[\"\\u041c\\u043e\\u0441\\u043a\\u0432\\u0430\"],[\"\\u041c\\u043e\\u0441\\u043a\\u0432\\u0430\"],[\"\\u041c\\u043e\\u0441\\u043a\\u0432\\u0430\"],[\"\\u041c\\u043e\\u0441\\u043a\\u0432\\u0430\"],[\"\\u041c\\u043e\\u0441\\u043a\\u0432\\u0430\"],[\"\\u041c\\u043e\\u0441\\u043a\\u0432\\u0430\"],[\"\\u041c\\u043e\\u0441\\u043a\\u0432\\u0430\"],[\"\\u041c\\u043e\\u0441\\u043a\\u0432\\u0430\"],[\"\\u041c\\u043e\\u0441\\u043a\\u0432\\u0430\"],[\"\\u041c\\u043e\\u0441\\u043a\\u0432\\u0430\"],[\"\\u041c\\u043e\\u0441\\u043a\\u0432\\u0430\"],[\"\\u041c\\u043e\\u0441\\u043a\\u0432\\u0430\"],[\"\\u041c\\u043e\\u0441\\u043a\\u0432\\u0430\"],[\"\\u041c\\u043e\\u0441\\u043a\\u0432\\u0430\"],[\"\\u041c\\u043e\\u0441\\u043a\\u0432\\u0430\"],[\"\\u041c\\u043e\\u0441\\u043a\\u0432\\u0430\"],[\"\\u041c\\u043e\\u0441\\u043a\\u0432\\u0430\"],[\"\\u041c\\u043e\\u0441\\u043a\\u0432\\u0430\"],[\"\\u041c\\u043e\\u0441\\u043a\\u0432\\u0430\"],[\"\\u041c\\u043e\\u0441\\u043a\\u0432\\u0430\"],[\"\\u041c\\u043e\\u0441\\u043a\\u0432\\u0430\"],[\"\\u041c\\u043e\\u0441\\u043a\\u0432\\u0430\"],[\"\\u041c\\u043e\\u0441\\u043a\\u0432\\u0430\"],[\"\\u041c\\u043e\\u0441\\u043a\\u0432\\u0430\"],[\"\\u041c\\u043e\\u0441\\u043a\\u0432\\u0430\"],[\"\\u041c\\u043e\\u0441\\u043a\\u0432\\u0430\"],[\"\\u041c\\u043e\\u0441\\u043a\\u0432\\u0430\"],[\"\\u041c\\u043e\\u0441\\u043a\\u0432\\u0430\"],[\"\\u041c\\u043e\\u0441\\u043a\\u0432\\u0430\"],[\"\\u041c\\u043e\\u0441\\u043a\\u0432\\u0430\"],[\"\\u041c\\u043e\\u0441\\u043a\\u0432\\u0430\"],[\"\\u041c\\u043e\\u0441\\u043a\\u0432\\u0430\"],[\"\\u041c\\u043e\\u0441\\u043a\\u0432\\u0430\"],[\"\\u041c\\u043e\\u0441\\u043a\\u0432\\u0430\"],[\"\\u041c\\u043e\\u0441\\u043a\\u0432\\u0430\"],[\"\\u041c\\u043e\\u0441\\u043a\\u0432\\u0430\"],[\"\\u041c\\u043e\\u0441\\u043a\\u0432\\u0430\"],[\"\\u041c\\u043e\\u0441\\u043a\\u0432\\u0430\"],[\"\\u041c\\u043e\\u0441\\u043a\\u0432\\u0430\"],[\"\\u041c\\u043e\\u0441\\u043a\\u0432\\u0430\"],[\"\\u041c\\u043e\\u0441\\u043a\\u0432\\u0430\"],[\"\\u041c\\u043e\\u0441\\u043a\\u0432\\u0430\"],[\"\\u041c\\u043e\\u0441\\u043a\\u0432\\u0430\"],[\"\\u041c\\u043e\\u0441\\u043a\\u0432\\u0430\"],[\"\\u041c\\u043e\\u0441\\u043a\\u0432\\u0430\"],[\"\\u041c\\u043e\\u0441\\u043a\\u0432\\u0430\"],[\"\\u041c\\u043e\\u0441\\u043a\\u0432\\u0430\"],[\"\\u041c\\u043e\\u0441\\u043a\\u0432\\u0430\"],[\"\\u041c\\u043e\\u0441\\u043a\\u0432\\u0430\"],[\"\\u041c\\u043e\\u0441\\u043a\\u0432\\u0430\"],[\"\\u041c\\u043e\\u0441\\u043a\\u0432\\u0430\"],[\"\\u041c\\u043e\\u0441\\u043a\\u0432\\u0430\"],[\"\\u041c\\u043e\\u0441\\u043a\\u0432\\u0430\"],[\"\\u041c\\u043e\\u0441\\u043a\\u0432\\u0430\"],[\"\\u041c\\u043e\\u0441\\u043a\\u0432\\u0430\"],[\"\\u041c\\u043e\\u0441\\u043a\\u0432\\u0430\"],[\"\\u041c\\u043e\\u0441\\u043a\\u0432\\u0430\"],[\"\\u041c\\u043e\\u0441\\u043a\\u0432\\u0430\"],[\"\\u041c\\u043e\\u0441\\u043a\\u0432\\u0430\"],[\"\\u041c\\u043e\\u0441\\u043a\\u0432\\u0430\"],[\"\\u041c\\u043e\\u0441\\u043a\\u0432\\u0430\"],[\"\\u041c\\u043e\\u0441\\u043a\\u0432\\u0430\"],[\"\\u041c\\u043e\\u0441\\u043a\\u0432\\u0430\"],[\"\\u041c\\u043e\\u0441\\u043a\\u0432\\u0430\"],[\"\\u041c\\u043e\\u0441\\u043a\\u0432\\u0430\"],[\"\\u041c\\u043e\\u0441\\u043a\\u0432\\u0430\"],[\"\\u041c\\u043e\\u0441\\u043a\\u0432\\u0430\"],[\"\\u041c\\u043e\\u0441\\u043a\\u0432\\u0430\"],[\"\\u041c\\u043e\\u0441\\u043a\\u0432\\u0430\"],[\"\\u041c\\u043e\\u0441\\u043a\\u0432\\u0430\"],[\"\\u041c\\u043e\\u0441\\u043a\\u0432\\u0430\"],[\"\\u041c\\u043e\\u0441\\u043a\\u0432\\u0430\"],[\"\\u041c\\u043e\\u0441\\u043a\\u0432\\u0430\"],[\"\\u041c\\u043e\\u0441\\u043a\\u0432\\u0430\"],[\"\\u041c\\u043e\\u0441\\u043a\\u0432\\u0430\"],[\"\\u041c\\u043e\\u0441\\u043a\\u0432\\u0430\"],[\"\\u041c\\u043e\\u0441\\u043a\\u0432\\u0430\"],[\"\\u041c\\u043e\\u0441\\u043a\\u0432\\u0430\"],[\"\\u041c\\u043e\\u0441\\u043a\\u0432\\u0430\"],[\"\\u041c\\u043e\\u0441\\u043a\\u0432\\u0430\"],[\"\\u041c\\u043e\\u0441\\u043a\\u0432\\u0430\"],[\"\\u041c\\u0443\\u0440\\u043c\\u0430\\u043d\\u0441\\u043a\"],[\"\\u041c\\u0443\\u0440\\u043c\\u0430\\u043d\\u0441\\u043a\"],[\"\\u041c\\u0443\\u0440\\u043c\\u0430\\u043d\\u0441\\u043a\"],[\"\\u041c\\u044b\\u0441\\u043a\\u0438\"],[\"\\u041c\\u044b\\u0442\\u0438\\u0449\\u0438\"],[\"\\u041c\\u044b\\u0442\\u0438\\u0449\\u0438\"],[\"\\u041c\\u044b\\u0442\\u0438\\u0449\\u0438\"],[\"\\u041c\\u044b\\u0442\\u0438\\u0449\\u0438\"],[\"\\u041c\\u044b\\u0442\\u0438\\u0449\\u0438\"],[\"\\u041d\\u0430\\u0431\\u0435\\u0440\\u0435\\u0436\\u043d\\u044b\\u0435 \\u0427\\u0435\\u043b\\u043d\\u044b\"],[\"\\u041d\\u0430\\u0431\\u0435\\u0440\\u0435\\u0436\\u043d\\u044b\\u0435 \\u0427\\u0435\\u043b\\u043d\\u044b\"],[\"\\u041d\\u0430\\u0431\\u0435\\u0440\\u0435\\u0436\\u043d\\u044b\\u0435 \\u0427\\u0435\\u043b\\u043d\\u044b\"],[\"\\u041d\\u0430\\u0431\\u0435\\u0440\\u0435\\u0436\\u043d\\u044b\\u0435 \\u0427\\u0435\\u043b\\u043d\\u044b\"],[\"\\u041d\\u0430\\u0431\\u0435\\u0440\\u0435\\u0436\\u043d\\u044b\\u0435 \\u0427\\u0435\\u043b\\u043d\\u044b\"],[\"\\u041d\\u0430\\u0431\\u0435\\u0440\\u0435\\u0436\\u043d\\u044b\\u0435 \\u0427\\u0435\\u043b\\u043d\\u044b\"],[\"\\u041d\\u0430\\u0431\\u0435\\u0440\\u0435\\u0436\\u043d\\u044b\\u0435 \\u0427\\u0435\\u043b\\u043d\\u044b\"],[\"\\u041d\\u0430\\u043b\\u044c\\u0447\\u0438\\u043a\"],[\"\\u041d\\u0430\\u0445\\u043e\\u0434\\u043a\\u0430\"],[\"\\u041d\\u0430\\u0445\\u043e\\u0434\\u043a\\u0430\"],[\"\\u041d\\u0435\\u0432\\u0435\\u043b\\u044c\\u0441\\u043a\"],[\"\\u041d\\u0435\\u0432\\u0438\\u043d\\u043d\\u043e\\u043c\\u044b\\u0441\\u0441\\u043a\"],[\"\\u041d\\u0435\\u0444\\u0442\\u0435\\u043a\\u0430\\u043c\\u0441\\u043a\"],[\"\\u041d\\u0435\\u0444\\u0442\\u0435\\u043a\\u0430\\u043c\\u0441\\u043a\"],[\"\\u041d\\u0435\\u0444\\u0442\\u0435\\u043a\\u0430\\u043c\\u0441\\u043a\"],[\"\\u041d\\u0435\\u0444\\u0442\\u0435\\u044e\\u0433\\u0430\\u043d\\u0441\\u043a\"],[\"\\u041d\\u0438\\u0436\\u043d\\u0435\\u0432\\u0430\\u0440\\u0442\\u043e\\u0432\\u0441\\u043a\"],[\"\\u041d\\u0438\\u0436\\u043d\\u0435\\u0432\\u0430\\u0440\\u0442\\u043e\\u0432\\u0441\\u043a\"],[\"\\u041d\\u0438\\u0436\\u043d\\u0435\\u0432\\u0430\\u0440\\u0442\\u043e\\u0432\\u0441\\u043a\"],[\"\\u041d\\u0438\\u0436\\u043d\\u0435\\u0432\\u0430\\u0440\\u0442\\u043e\\u0432\\u0441\\u043a\"],[\"\\u041d\\u0438\\u0436\\u043d\\u0435\\u0432\\u0430\\u0440\\u0442\\u043e\\u0432\\u0441\\u043a\"],[\"\\u041d\\u0438\\u0436\\u043d\\u0435\\u043a\\u0430\\u043c\\u0441\\u043a\"],[\"\\u041d\\u0438\\u0436\\u043d\\u0435\\u043a\\u0430\\u043c\\u0441\\u043a\"],[\"\\u041d\\u0438\\u0436\\u043d\\u0435\\u043a\\u0430\\u043c\\u0441\\u043a\"],[\"\\u041d\\u0438\\u0436\\u043d\\u0435\\u043a\\u0430\\u043c\\u0441\\u043a\"],[\"\\u041d\\u0438\\u0436\\u043d\\u0438\\u0439 \\u041d\\u043e\\u0432\\u0433\\u043e\\u0440\\u043e\\u0434\"],[\"\\u041d\\u0438\\u0436\\u043d\\u0438\\u0439 \\u041d\\u043e\\u0432\\u0433\\u043e\\u0440\\u043e\\u0434\"],[\"\\u041d\\u0438\\u0436\\u043d\\u0438\\u0439 \\u041d\\u043e\\u0432\\u0433\\u043e\\u0440\\u043e\\u0434\"],[\"\\u041d\\u0438\\u0436\\u043d\\u0438\\u0439 \\u041d\\u043e\\u0432\\u0433\\u043e\\u0440\\u043e\\u0434\"],[\"\\u041d\\u0438\\u0436\\u043d\\u0438\\u0439 \\u041d\\u043e\\u0432\\u0433\\u043e\\u0440\\u043e\\u0434\"],[\"\\u041d\\u0438\\u0436\\u043d\\u0438\\u0439 \\u041d\\u043e\\u0432\\u0433\\u043e\\u0440\\u043e\\u0434\"],[\"\\u041d\\u0438\\u0436\\u043d\\u0438\\u0439 \\u041d\\u043e\\u0432\\u0433\\u043e\\u0440\\u043e\\u0434\"],[\"\\u041d\\u0438\\u0436\\u043d\\u0438\\u0439 \\u041d\\u043e\\u0432\\u0433\\u043e\\u0440\\u043e\\u0434\"],[\"\\u041d\\u0438\\u0436\\u043d\\u0438\\u0439 \\u041d\\u043e\\u0432\\u0433\\u043e\\u0440\\u043e\\u0434\"],[\"\\u041d\\u0438\\u0436\\u043d\\u0438\\u0439 \\u041d\\u043e\\u0432\\u0433\\u043e\\u0440\\u043e\\u0434\"],[\"\\u041d\\u0438\\u0436\\u043d\\u0438\\u0439 \\u041d\\u043e\\u0432\\u0433\\u043e\\u0440\\u043e\\u0434\"],[\"\\u041d\\u0438\\u0436\\u043d\\u0438\\u0439 \\u041d\\u043e\\u0432\\u0433\\u043e\\u0440\\u043e\\u0434\"],[\"\\u041d\\u0438\\u0436\\u043d\\u0438\\u0439 \\u041d\\u043e\\u0432\\u0433\\u043e\\u0440\\u043e\\u0434\"],[\"\\u041d\\u0438\\u0436\\u043d\\u0438\\u0439 \\u041d\\u043e\\u0432\\u0433\\u043e\\u0440\\u043e\\u0434\"],[\"\\u041d\\u0438\\u0436\\u043d\\u0438\\u0439 \\u041d\\u043e\\u0432\\u0433\\u043e\\u0440\\u043e\\u0434\"],[\"\\u041d\\u0438\\u0436\\u043d\\u0438\\u0439 \\u041d\\u043e\\u0432\\u0433\\u043e\\u0440\\u043e\\u0434\"],[\"\\u041d\\u0438\\u0436\\u043d\\u0438\\u0439 \\u041d\\u043e\\u0432\\u0433\\u043e\\u0440\\u043e\\u0434\"],[\"\\u041d\\u0438\\u0436\\u043d\\u0438\\u0439 \\u0422\\u0430\\u0433\\u0438\\u043b\"],[\"\\u041d\\u043e\\u0432\\u043e\\u0432\\u043e\\u0440\\u043e\\u043d\\u0435\\u0436\"],[\"\\u041d\\u043e\\u0432\\u043e\\u043a\\u0443\\u0437\\u043d\\u0435\\u0446\\u043a\"],[\"\\u041d\\u043e\\u0432\\u043e\\u043a\\u0443\\u0437\\u043d\\u0435\\u0446\\u043a\"],[\"\\u041d\\u043e\\u0432\\u043e\\u043a\\u0443\\u0437\\u043d\\u0435\\u0446\\u043a\"],[\"\\u041d\\u043e\\u0432\\u043e\\u043a\\u0443\\u0437\\u043d\\u0435\\u0446\\u043a\"],[\"\\u041d\\u043e\\u0432\\u043e\\u043a\\u0443\\u0437\\u043d\\u0435\\u0446\\u043a\"],[\"\\u041d\\u043e\\u0432\\u043e\\u043a\\u0443\\u0437\\u043d\\u0435\\u0446\\u043a\"],[\"\\u041d\\u043e\\u0432\\u043e\\u043a\\u0443\\u0437\\u043d\\u0435\\u0446\\u043a\"],[\"\\u041d\\u043e\\u0432\\u043e\\u043a\\u0443\\u0437\\u043d\\u0435\\u0446\\u043a\"],[\"\\u041d\\u043e\\u0432\\u043e\\u043a\\u0443\\u0437\\u043d\\u0435\\u0446\\u043a\"],[\"\\u041d\\u043e\\u0432\\u043e\\u043a\\u0443\\u0437\\u043d\\u0435\\u0446\\u043a\"],[\"\\u041d\\u043e\\u0432\\u043e\\u043c\\u043e\\u0441\\u043a\\u043e\\u0432\\u0441\\u043a\"],[\"\\u041d\\u043e\\u0432\\u043e\\u0440\\u043e\\u0441\\u0441\\u0438\\u0439\\u0441\\u043a\"],[\"\\u041d\\u043e\\u0432\\u043e\\u0440\\u043e\\u0441\\u0441\\u0438\\u0439\\u0441\\u043a\"],[\"\\u041d\\u043e\\u0432\\u043e\\u0440\\u043e\\u0441\\u0441\\u0438\\u0439\\u0441\\u043a\"],[\"\\u041d\\u043e\\u0432\\u043e\\u0440\\u043e\\u0441\\u0441\\u0438\\u0439\\u0441\\u043a\"],[\"\\u041d\\u043e\\u0432\\u043e\\u0440\\u043e\\u0441\\u0441\\u0438\\u0439\\u0441\\u043a\"],[\"\\u041d\\u043e\\u0432\\u043e\\u0441\\u0438\\u0431\\u0438\\u0440\\u0441\\u043a\"],[\"\\u041d\\u043e\\u0432\\u043e\\u0441\\u0438\\u0431\\u0438\\u0440\\u0441\\u043a\"],[\"\\u041d\\u043e\\u0432\\u043e\\u0441\\u0438\\u0431\\u0438\\u0440\\u0441\\u043a\"],[\"\\u041d\\u043e\\u0432\\u043e\\u0441\\u0438\\u0431\\u0438\\u0440\\u0441\\u043a\"],[\"\\u041d\\u043e\\u0432\\u043e\\u0441\\u0438\\u0431\\u0438\\u0440\\u0441\\u043a\"],[\"\\u041d\\u043e\\u0432\\u043e\\u0441\\u0438\\u0431\\u0438\\u0440\\u0441\\u043a\"],[\"\\u041d\\u043e\\u0432\\u043e\\u0441\\u0438\\u0431\\u0438\\u0440\\u0441\\u043a\"],[\"\\u041d\\u043e\\u0432\\u043e\\u0441\\u0438\\u0431\\u0438\\u0440\\u0441\\u043a\"],[\"\\u041d\\u043e\\u0432\\u043e\\u0441\\u0438\\u0431\\u0438\\u0440\\u0441\\u043a\"],[\"\\u041d\\u043e\\u0432\\u043e\\u0441\\u0438\\u0431\\u0438\\u0440\\u0441\\u043a\"],[\"\\u041d\\u043e\\u0432\\u043e\\u0441\\u0438\\u0431\\u0438\\u0440\\u0441\\u043a\"],[\"\\u041d\\u043e\\u0432\\u043e\\u0441\\u0438\\u0431\\u0438\\u0440\\u0441\\u043a\"],[\"\\u041d\\u043e\\u0432\\u043e\\u0441\\u0438\\u0431\\u0438\\u0440\\u0441\\u043a\"],[\"\\u041d\\u043e\\u0432\\u043e\\u0441\\u0438\\u0431\\u0438\\u0440\\u0441\\u043a\"],[\"\\u041d\\u043e\\u0432\\u043e\\u0441\\u0438\\u0431\\u0438\\u0440\\u0441\\u043a\"],[\"\\u041d\\u043e\\u0432\\u043e\\u0441\\u0438\\u0431\\u0438\\u0440\\u0441\\u043a\"],[\"\\u041d\\u043e\\u0432\\u043e\\u0441\\u0438\\u0431\\u0438\\u0440\\u0441\\u043a\"],[\"\\u041d\\u043e\\u0432\\u043e\\u0441\\u0438\\u0431\\u0438\\u0440\\u0441\\u043a\"],[\"\\u041d\\u043e\\u0432\\u043e\\u0441\\u0438\\u0431\\u0438\\u0440\\u0441\\u043a\"],[\"\\u041d\\u043e\\u0432\\u043e\\u0441\\u0438\\u0431\\u0438\\u0440\\u0441\\u043a\"],[\"\\u041d\\u043e\\u0432\\u043e\\u0441\\u0438\\u0431\\u0438\\u0440\\u0441\\u043a\"],[\"\\u041d\\u043e\\u0432\\u043e\\u0447\\u0435\\u0440\\u043a\\u0430\\u0441\\u0441\\u043a\"],[\"\\u041d\\u043e\\u0432\\u043e\\u0448\\u0430\\u0445\\u0442\\u0438\\u043d\\u0441\\u043a\"],[\"\\u041d\\u044f\\u0433\\u0430\\u043d\\u044c\"],[\"\\u041e\\u0431\\u043d\\u0438\\u043d\\u0441\\u043a\"],[\"\\u041e\\u043a\\u0442\\u044f\\u0431\\u0440\\u044c\\u0441\\u043a\\u0438\\u0439\"],[\"\\u041e\\u043c\\u0441\\u043a\"],[\"\\u041e\\u043c\\u0441\\u043a\"],[\"\\u041e\\u043c\\u0441\\u043a\"],[\"\\u041e\\u043c\\u0441\\u043a\"],[\"\\u041e\\u043c\\u0441\\u043a\"],[\"\\u041e\\u043c\\u0441\\u043a\"],[\"\\u041e\\u043c\\u0441\\u043a\"],[\"\\u041e\\u043c\\u0441\\u043a\"],[\"\\u041e\\u043c\\u0441\\u043a\"],[\"\\u041e\\u043c\\u0441\\u043a\"],[\"\\u041e\\u043c\\u0441\\u043a\"],[\"\\u041e\\u043c\\u0441\\u043a\"],[\"\\u041e\\u043c\\u0441\\u043a\"],[\"\\u041e\\u043c\\u0443\\u0442\\u043d\\u0438\\u043d\\u0441\\u043a\"],[\"\\u041e\\u0440\\u0435\\u043b\"],[\"\\u041e\\u0440\\u0435\\u043b\"],[\"\\u041e\\u0440\\u0435\\u043b\"],[\"\\u041e\\u0440\\u0435\\u043b\"],[\"\\u041e\\u0440\\u0435\\u043d\\u0431\\u0443\\u0440\\u0433\"],[\"\\u041e\\u0440\\u0435\\u043d\\u0431\\u0443\\u0440\\u0433\"],[\"\\u041e\\u0440\\u0435\\u043d\\u0431\\u0443\\u0440\\u0433\"],[\"\\u041e\\u0440\\u0435\\u043d\\u0431\\u0443\\u0440\\u0433\"],[\"\\u041e\\u0440\\u0435\\u043d\\u0431\\u0443\\u0440\\u0433\"],[\"\\u041e\\u0440\\u0435\\u043d\\u0431\\u0443\\u0440\\u0433\"],[\"\\u041e\\u0440\\u0435\\u043d\\u0431\\u0443\\u0440\\u0433\"],[\"\\u041e\\u0440\\u0435\\u043d\\u0431\\u0443\\u0440\\u0433\"],[\"\\u041e\\u0440\\u0435\\u043d\\u0431\\u0443\\u0440\\u0433\"],[\"\\u041e\\u0440\\u0435\\u043d\\u0431\\u0443\\u0440\\u0433\"],[\"\\u041e\\u0440\\u0435\\u0445\\u043e\\u0432\\u043e-\\u0417\\u0443\\u0435\\u0432\\u043e\"],[\"\\u041e\\u0440\\u0441\\u043a\"],[\"\\u041e\\u0441\\u0438\\u043d\\u043e\\u0432\\u043e\"],[\"\\u041e\\u0441\\u0442\\u0430\\u0448\\u043a\\u043e\\u0432\"],[\"\\u041e\\u0441\\u0442\\u0430\\u0448\\u043a\\u043e\\u0432\"],[\"\\u041f\\u0435\\u043d\\u0437\\u0430\"],[\"\\u041f\\u0435\\u043d\\u0437\\u0430\"],[\"\\u041f\\u0435\\u043d\\u0437\\u0430\"],[\"\\u041f\\u0435\\u043d\\u0437\\u0430\"],[\"\\u041f\\u0435\\u043d\\u0437\\u0430\"],[\"\\u041f\\u0435\\u043d\\u0437\\u0430\"],[\"\\u041f\\u0435\\u043d\\u0437\\u0430\"],[\"\\u041f\\u0435\\u0440\\u0432\\u043e\\u0443\\u0440\\u0430\\u043b\\u044c\\u0441\\u043a\"],[\"\\u041f\\u0435\\u0440\\u043c\\u044c\"],[\"\\u041f\\u0435\\u0440\\u043c\\u044c\"],[\"\\u041f\\u0435\\u0440\\u043c\\u044c\"],[\"\\u041f\\u0435\\u0440\\u043c\\u044c\"],[\"\\u041f\\u0435\\u0440\\u043c\\u044c\"],[\"\\u041f\\u0435\\u0442\\u0440\\u043e\\u0437\\u0430\\u0432\\u043e\\u0434\\u0441\\u043a\"],[\"\\u041f\\u0435\\u0442\\u0440\\u043e\\u0437\\u0430\\u0432\\u043e\\u0434\\u0441\\u043a\"],[\"\\u041f\\u0435\\u0442\\u0440\\u043e\\u0437\\u0430\\u0432\\u043e\\u0434\\u0441\\u043a\"],[\"\\u041f\\u0435\\u0442\\u0440\\u043e\\u043f\\u0430\\u0432\\u043b\\u043e\\u0432\\u0441\\u043a-\\u041a\\u0430\\u043c\\u0447\\u0430\\u0442\\u0441\\u043a\\u0438\\u0439\"],[\"\\u041f\\u0438\\u043e\\u043d\\u0435\\u0440\\u0441\\u043a\\u0438\\u0439\"],[\"\\u041f\\u043e\\u0434\\u043e\\u043b\\u044c\\u0441\\u043a\"],[\"\\u041f\\u0440\\u043e\\u043a\\u043e\\u043f\\u044c\\u0435\\u0432\\u0441\\u043a\"],[\"\\u041f\\u0441\\u043a\\u043e\\u0432\"],[\"\\u041f\\u0441\\u043a\\u043e\\u0432\"],[\"\\u041f\\u0441\\u043a\\u043e\\u0432\"],[\"\\u041f\\u0443\\u0448\\u043a\\u0438\\u043d\\u043e\"],[\"\\u041f\\u0443\\u0448\\u043a\\u0438\\u043d\\u043e\"],[\"\\u041f\\u0443\\u0448\\u043a\\u0438\\u043d\\u043e\"],[\"\\u041f\\u044f\\u0442\\u0438\\u0433\\u043e\\u0440\\u0441\\u043a\"],[\"\\u0420\\u0435\\u0432\\u0434\\u0430\"],[\"\\u0420\\u0435\\u0443\\u0442\\u043e\\u0432\"],[\"\\u0420\\u0435\\u0443\\u0442\\u043e\\u0432\"],[\"\\u0420\\u0435\\u0443\\u0442\\u043e\\u0432\"],[\"\\u0420\\u043e\\u0441\\u043b\\u0430\\u0432\\u043b\\u044c\"],[\"\\u0420\\u043e\\u0441\\u0442\\u043e\\u0432\"],[\"\\u0420\\u043e\\u0441\\u0442\\u043e\\u0432-\\u043d\\u0430-\\u0414\\u043e\\u043d\\u0443\"],[\"\\u0420\\u043e\\u0441\\u0442\\u043e\\u0432-\\u043d\\u0430-\\u0414\\u043e\\u043d\\u0443\"],[\"\\u0420\\u043e\\u0441\\u0442\\u043e\\u0432-\\u043d\\u0430-\\u0414\\u043e\\u043d\\u0443\"],[\"\\u0420\\u043e\\u0441\\u0442\\u043e\\u0432-\\u043d\\u0430-\\u0414\\u043e\\u043d\\u0443\"],[\"\\u0420\\u043e\\u0441\\u0442\\u043e\\u0432-\\u043d\\u0430-\\u0414\\u043e\\u043d\\u0443\"],[\"\\u0420\\u043e\\u0441\\u0442\\u043e\\u0432-\\u043d\\u0430-\\u0414\\u043e\\u043d\\u0443\"],[\"\\u0420\\u043e\\u0441\\u0442\\u043e\\u0432-\\u043d\\u0430-\\u0414\\u043e\\u043d\\u0443\"],[\"\\u0420\\u043e\\u0441\\u0442\\u043e\\u0432-\\u043d\\u0430-\\u0414\\u043e\\u043d\\u0443\"],[\"\\u0420\\u043e\\u0441\\u0442\\u043e\\u0432-\\u043d\\u0430-\\u0414\\u043e\\u043d\\u0443\"],[\"\\u0420\\u043e\\u0441\\u0442\\u043e\\u0432-\\u043d\\u0430-\\u0414\\u043e\\u043d\\u0443\"],[\"\\u0420\\u043e\\u0441\\u0442\\u043e\\u0432-\\u043d\\u0430-\\u0414\\u043e\\u043d\\u0443\"],[\"\\u0420\\u043e\\u0441\\u0442\\u043e\\u0432-\\u043d\\u0430-\\u0414\\u043e\\u043d\\u0443\"],[\"\\u0420\\u043e\\u0441\\u0442\\u043e\\u0432-\\u043d\\u0430-\\u0414\\u043e\\u043d\\u0443\"],[\"\\u0420\\u043e\\u0441\\u0442\\u043e\\u0432-\\u043d\\u0430-\\u0414\\u043e\\u043d\\u0443\"],[\"\\u0420\\u043e\\u0441\\u0442\\u043e\\u0432-\\u043d\\u0430-\\u0414\\u043e\\u043d\\u0443\"],[\"\\u0420\\u043e\\u0441\\u0442\\u043e\\u0432-\\u043d\\u0430-\\u0414\\u043e\\u043d\\u0443\"],[\"\\u0420\\u043e\\u0441\\u0442\\u043e\\u0432-\\u043d\\u0430-\\u0414\\u043e\\u043d\\u0443\"],[\"\\u0420\\u043e\\u0441\\u0442\\u043e\\u0432-\\u043d\\u0430-\\u0414\\u043e\\u043d\\u0443\"],[\"\\u0420\\u043e\\u0441\\u0442\\u043e\\u0432-\\u043d\\u0430-\\u0414\\u043e\\u043d\\u0443\"],[\"\\u0420\\u043e\\u0441\\u0442\\u043e\\u0432-\\u043d\\u0430-\\u0414\\u043e\\u043d\\u0443\"],[\"\\u0420\\u043e\\u0441\\u0442\\u043e\\u0432-\\u043d\\u0430-\\u0414\\u043e\\u043d\\u0443\"],[\"\\u0420\\u043e\\u0441\\u0442\\u043e\\u0432-\\u043d\\u0430-\\u0414\\u043e\\u043d\\u0443\"],[\"\\u0420\\u043e\\u0441\\u0442\\u043e\\u0432-\\u043d\\u0430-\\u0414\\u043e\\u043d\\u0443\"],[\"\\u0420\\u043e\\u0448\\u0430\\u043b\\u044c\"],[\"\\u0420\\u0443\\u0437\\u0430\"],[\"\\u0420\\u0443\\u0437\\u0430\\u0435\\u0432\\u043a\\u0430\"],[\"\\u0420\\u044b\\u0431\\u0438\\u043d\\u0441\\u043a\"],[\"\\u0420\\u044f\\u0437\\u0430\\u043d\\u044c\"],[\"\\u0420\\u044f\\u0437\\u0430\\u043d\\u044c\"],[\"\\u0420\\u044f\\u0437\\u0430\\u043d\\u044c\"],[\"\\u0420\\u044f\\u0437\\u0430\\u043d\\u044c\"],[\"\\u0420\\u044f\\u0437\\u0430\\u043d\\u044c\"],[\"\\u0420\\u044f\\u0437\\u0430\\u043d\\u044c\"],[\"\\u0420\\u044f\\u0437\\u0430\\u043d\\u044c\"],[\"\\u0420\\u044f\\u0437\\u0430\\u043d\\u044c\"],[\"\\u0421\\u0430\\u043b\\u0435\\u0445\\u0430\\u0440\\u0434\"],[\"\\u0421\\u0430\\u043c\\u0430\\u0440\\u0430\"],[\"\\u0421\\u0430\\u043c\\u0430\\u0440\\u0430\"],[\"\\u0421\\u0430\\u043c\\u0430\\u0440\\u0430\"],[\"\\u0421\\u0430\\u043c\\u0430\\u0440\\u0430\"],[\"\\u0421\\u0430\\u043c\\u0430\\u0440\\u0430\"],[\"\\u0421\\u0430\\u043c\\u0430\\u0440\\u0430\"],[\"\\u0421\\u0430\\u043c\\u0430\\u0440\\u0430\"],[\"\\u0421\\u0430\\u043c\\u0430\\u0440\\u0430\"],[\"\\u0421\\u0430\\u043c\\u0430\\u0440\\u0430\"],[\"\\u0421\\u0430\\u043c\\u0430\\u0440\\u0430\"],[\"\\u0421\\u0430\\u043c\\u0430\\u0440\\u0430\"],[\"\\u0421\\u0430\\u043d\\u043a\\u0442-\\u041f\\u0435\\u0442\\u0435\\u0440\\u0431\\u0443\\u0440\\u0433\"],[\"\\u0421\\u0430\\u043d\\u043a\\u0442-\\u041f\\u0435\\u0442\\u0435\\u0440\\u0431\\u0443\\u0440\\u0433\"],[\"\\u0421\\u0430\\u043d\\u043a\\u0442-\\u041f\\u0435\\u0442\\u0435\\u0440\\u0431\\u0443\\u0440\\u0433\"],[\"\\u0421\\u0430\\u043d\\u043a\\u0442-\\u041f\\u0435\\u0442\\u0435\\u0440\\u0431\\u0443\\u0440\\u0433\"],[\"\\u0421\\u0430\\u043d\\u043a\\u0442-\\u041f\\u0435\\u0442\\u0435\\u0440\\u0431\\u0443\\u0440\\u0433\"],[\"\\u0421\\u0430\\u043d\\u043a\\u0442-\\u041f\\u0435\\u0442\\u0435\\u0440\\u0431\\u0443\\u0440\\u0433\"],[\"\\u0421\\u0430\\u043d\\u043a\\u0442-\\u041f\\u0435\\u0442\\u0435\\u0440\\u0431\\u0443\\u0440\\u0433\"],[\"\\u0421\\u0430\\u043d\\u043a\\u0442-\\u041f\\u0435\\u0442\\u0435\\u0440\\u0431\\u0443\\u0440\\u0433\"],[\"\\u0421\\u0430\\u043d\\u043a\\u0442-\\u041f\\u0435\\u0442\\u0435\\u0440\\u0431\\u0443\\u0440\\u0433\"],[\"\\u0421\\u0430\\u043d\\u043a\\u0442-\\u041f\\u0435\\u0442\\u0435\\u0440\\u0431\\u0443\\u0440\\u0433\"],[\"\\u0421\\u0430\\u043d\\u043a\\u0442-\\u041f\\u0435\\u0442\\u0435\\u0440\\u0431\\u0443\\u0440\\u0433\"],[\"\\u0421\\u0430\\u043d\\u043a\\u0442-\\u041f\\u0435\\u0442\\u0435\\u0440\\u0431\\u0443\\u0440\\u0433\"],[\"\\u0421\\u0430\\u043d\\u043a\\u0442-\\u041f\\u0435\\u0442\\u0435\\u0440\\u0431\\u0443\\u0440\\u0433\"],[\"\\u0421\\u0430\\u043d\\u043a\\u0442-\\u041f\\u0435\\u0442\\u0435\\u0440\\u0431\\u0443\\u0440\\u0433\"],[\"\\u0421\\u0430\\u043d\\u043a\\u0442-\\u041f\\u0435\\u0442\\u0435\\u0440\\u0431\\u0443\\u0440\\u0433\"],[\"\\u0421\\u0430\\u043d\\u043a\\u0442-\\u041f\\u0435\\u0442\\u0435\\u0440\\u0431\\u0443\\u0440\\u0433\"],[\"\\u0421\\u0430\\u043d\\u043a\\u0442-\\u041f\\u0435\\u0442\\u0435\\u0440\\u0431\\u0443\\u0440\\u0433\"],[\"\\u0421\\u0430\\u043d\\u043a\\u0442-\\u041f\\u0435\\u0442\\u0435\\u0440\\u0431\\u0443\\u0440\\u0433\"],[\"\\u0421\\u0430\\u043d\\u043a\\u0442-\\u041f\\u0435\\u0442\\u0435\\u0440\\u0431\\u0443\\u0440\\u0433\"],[\"\\u0421\\u0430\\u043d\\u043a\\u0442-\\u041f\\u0435\\u0442\\u0435\\u0440\\u0431\\u0443\\u0440\\u0433\"],[\"\\u0421\\u0430\\u043d\\u043a\\u0442-\\u041f\\u0435\\u0442\\u0435\\u0440\\u0431\\u0443\\u0440\\u0433\"],[\"\\u0421\\u0430\\u043d\\u043a\\u0442-\\u041f\\u0435\\u0442\\u0435\\u0440\\u0431\\u0443\\u0440\\u0433\"],[\"\\u0421\\u0430\\u043d\\u043a\\u0442-\\u041f\\u0435\\u0442\\u0435\\u0440\\u0431\\u0443\\u0440\\u0433\"],[\"\\u0421\\u0430\\u043d\\u043a\\u0442-\\u041f\\u0435\\u0442\\u0435\\u0440\\u0431\\u0443\\u0440\\u0433\"],[\"\\u0421\\u0430\\u043d\\u043a\\u0442-\\u041f\\u0435\\u0442\\u0435\\u0440\\u0431\\u0443\\u0440\\u0433\"],[\"\\u0421\\u0430\\u043d\\u043a\\u0442-\\u041f\\u0435\\u0442\\u0435\\u0440\\u0431\\u0443\\u0440\\u0433\"],[\"\\u0421\\u0430\\u043d\\u043a\\u0442-\\u041f\\u0435\\u0442\\u0435\\u0440\\u0431\\u0443\\u0440\\u0433\"],[\"\\u0421\\u0430\\u043d\\u043a\\u0442-\\u041f\\u0435\\u0442\\u0435\\u0440\\u0431\\u0443\\u0440\\u0433\"],[\"\\u0421\\u0430\\u043d\\u043a\\u0442-\\u041f\\u0435\\u0442\\u0435\\u0440\\u0431\\u0443\\u0440\\u0433\"],[\"\\u0421\\u0430\\u043d\\u043a\\u0442-\\u041f\\u0435\\u0442\\u0435\\u0440\\u0431\\u0443\\u0440\\u0433\"],[\"\\u0421\\u0430\\u043d\\u043a\\u0442-\\u041f\\u0435\\u0442\\u0435\\u0440\\u0431\\u0443\\u0440\\u0433\"],[\"\\u0421\\u0430\\u043d\\u043a\\u0442-\\u041f\\u0435\\u0442\\u0435\\u0440\\u0431\\u0443\\u0440\\u0433\"],[\"\\u0421\\u0430\\u043d\\u043a\\u0442-\\u041f\\u0435\\u0442\\u0435\\u0440\\u0431\\u0443\\u0440\\u0433\"],[\"\\u0421\\u0430\\u043d\\u043a\\u0442-\\u041f\\u0435\\u0442\\u0435\\u0440\\u0431\\u0443\\u0440\\u0433\"],[\"\\u0421\\u0430\\u043d\\u043a\\u0442-\\u041f\\u0435\\u0442\\u0435\\u0440\\u0431\\u0443\\u0440\\u0433\"],[\"\\u0421\\u0430\\u043d\\u043a\\u0442-\\u041f\\u0435\\u0442\\u0435\\u0440\\u0431\\u0443\\u0440\\u0433\"],[\"\\u0421\\u0430\\u043d\\u043a\\u0442-\\u041f\\u0435\\u0442\\u0435\\u0440\\u0431\\u0443\\u0440\\u0433\"],[\"\\u0421\\u0430\\u043d\\u043a\\u0442-\\u041f\\u0435\\u0442\\u0435\\u0440\\u0431\\u0443\\u0440\\u0433\"],[\"\\u0421\\u0430\\u043d\\u043a\\u0442-\\u041f\\u0435\\u0442\\u0435\\u0440\\u0431\\u0443\\u0440\\u0433\"],[\"\\u0421\\u0430\\u043d\\u043a\\u0442-\\u041f\\u0435\\u0442\\u0435\\u0440\\u0431\\u0443\\u0440\\u0433\"],[\"\\u0421\\u0430\\u043d\\u043a\\u0442-\\u041f\\u0435\\u0442\\u0435\\u0440\\u0431\\u0443\\u0440\\u0433\"],[\"\\u0421\\u0430\\u043d\\u043a\\u0442-\\u041f\\u0435\\u0442\\u0435\\u0440\\u0431\\u0443\\u0440\\u0433\"],[\"\\u0421\\u0430\\u043d\\u043a\\u0442-\\u041f\\u0435\\u0442\\u0435\\u0440\\u0431\\u0443\\u0440\\u0433\"],[\"\\u0421\\u0430\\u043d\\u043a\\u0442-\\u041f\\u0435\\u0442\\u0435\\u0440\\u0431\\u0443\\u0440\\u0433\"],[\"\\u0421\\u0430\\u043d\\u043a\\u0442-\\u041f\\u0435\\u0442\\u0435\\u0440\\u0431\\u0443\\u0440\\u0433\"],[\"\\u0421\\u0430\\u043d\\u043a\\u0442-\\u041f\\u0435\\u0442\\u0435\\u0440\\u0431\\u0443\\u0440\\u0433\"],[\"\\u0421\\u0430\\u043d\\u043a\\u0442-\\u041f\\u0435\\u0442\\u0435\\u0440\\u0431\\u0443\\u0440\\u0433\"],[\"\\u0421\\u0430\\u043d\\u043a\\u0442-\\u041f\\u0435\\u0442\\u0435\\u0440\\u0431\\u0443\\u0440\\u0433\"],[\"\\u0421\\u0430\\u043d\\u043a\\u0442-\\u041f\\u0435\\u0442\\u0435\\u0440\\u0431\\u0443\\u0440\\u0433\"],[\"\\u0421\\u0430\\u043d\\u043a\\u0442-\\u041f\\u0435\\u0442\\u0435\\u0440\\u0431\\u0443\\u0440\\u0433\"],[\"\\u0421\\u0430\\u043d\\u043a\\u0442-\\u041f\\u0435\\u0442\\u0435\\u0440\\u0431\\u0443\\u0440\\u0433\"],[\"\\u0421\\u0430\\u043d\\u043a\\u0442-\\u041f\\u0435\\u0442\\u0435\\u0440\\u0431\\u0443\\u0440\\u0433\"],[\"\\u0421\\u0430\\u043d\\u043a\\u0442-\\u041f\\u0435\\u0442\\u0435\\u0440\\u0431\\u0443\\u0440\\u0433\"],[\"\\u0421\\u0430\\u043d\\u043a\\u0442-\\u041f\\u0435\\u0442\\u0435\\u0440\\u0431\\u0443\\u0440\\u0433\"],[\"\\u0421\\u0430\\u043d\\u043a\\u0442-\\u041f\\u0435\\u0442\\u0435\\u0440\\u0431\\u0443\\u0440\\u0433\"],[\"\\u0421\\u0430\\u043d\\u043a\\u0442-\\u041f\\u0435\\u0442\\u0435\\u0440\\u0431\\u0443\\u0440\\u0433\"],[\"\\u0421\\u0430\\u043d\\u043a\\u0442-\\u041f\\u0435\\u0442\\u0435\\u0440\\u0431\\u0443\\u0440\\u0433\"],[\"\\u0421\\u0430\\u043d\\u043a\\u0442-\\u041f\\u0435\\u0442\\u0435\\u0440\\u0431\\u0443\\u0440\\u0433\"],[\"\\u0421\\u0430\\u043d\\u043a\\u0442-\\u041f\\u0435\\u0442\\u0435\\u0440\\u0431\\u0443\\u0440\\u0433\"],[\"\\u0421\\u0430\\u043d\\u043a\\u0442-\\u041f\\u0435\\u0442\\u0435\\u0440\\u0431\\u0443\\u0440\\u0433\"],[\"\\u0421\\u0430\\u043d\\u043a\\u0442-\\u041f\\u0435\\u0442\\u0435\\u0440\\u0431\\u0443\\u0440\\u0433\"],[\"\\u0421\\u0430\\u043d\\u043a\\u0442-\\u041f\\u0435\\u0442\\u0435\\u0440\\u0431\\u0443\\u0440\\u0433\"],[\"\\u0421\\u0430\\u043d\\u043a\\u0442-\\u041f\\u0435\\u0442\\u0435\\u0440\\u0431\\u0443\\u0440\\u0433\"],[\"\\u0421\\u0430\\u043d\\u043a\\u0442-\\u041f\\u0435\\u0442\\u0435\\u0440\\u0431\\u0443\\u0440\\u0433\"],[\"\\u0421\\u0430\\u043d\\u043a\\u0442-\\u041f\\u0435\\u0442\\u0435\\u0440\\u0431\\u0443\\u0440\\u0433\"],[\"\\u0421\\u0430\\u043d\\u043a\\u0442-\\u041f\\u0435\\u0442\\u0435\\u0440\\u0431\\u0443\\u0440\\u0433\"],[\"\\u0421\\u0430\\u043d\\u043a\\u0442-\\u041f\\u0435\\u0442\\u0435\\u0440\\u0431\\u0443\\u0440\\u0433\"],[\"\\u0421\\u0430\\u043d\\u043a\\u0442-\\u041f\\u0435\\u0442\\u0435\\u0440\\u0431\\u0443\\u0440\\u0433\"],[\"\\u0421\\u0430\\u0440\\u0430\\u043d\\u0441\\u043a\"],[\"\\u0421\\u0430\\u0440\\u0430\\u043d\\u0441\\u043a\"],[\"\\u0421\\u0430\\u0440\\u0430\\u043d\\u0441\\u043a\"],[\"\\u0421\\u0430\\u0440\\u0430\\u043d\\u0441\\u043a\"],[\"\\u0421\\u0430\\u0440\\u0430\\u0442\\u043e\\u0432\"],[\"\\u0421\\u0430\\u0440\\u0430\\u0442\\u043e\\u0432\"],[\"\\u0421\\u0430\\u0440\\u0430\\u0442\\u043e\\u0432\"],[\"\\u0421\\u0430\\u0440\\u0430\\u0442\\u043e\\u0432\"],[\"\\u0421\\u0430\\u0440\\u0430\\u0442\\u043e\\u0432\"],[\"\\u0421\\u0430\\u0440\\u0430\\u0442\\u043e\\u0432\"],[\"\\u0421\\u0430\\u0440\\u0430\\u0442\\u043e\\u0432\"],[\"\\u0421\\u0430\\u0440\\u0430\\u0442\\u043e\\u0432\"],[\"\\u0421\\u0430\\u0440\\u043e\\u0432\"],[\"\\u0421\\u0430\\u0440\\u043e\\u0432\"],[\"\\u0421\\u0430\\u0441\\u043e\\u0432\\u043e\"],[\"\\u0421\\u0432\\u0435\\u0442\\u043b\\u043e\\u0433\\u043e\\u0440\\u0441\\u043a\"],[\"\\u0421\\u0435\\u0432\\u0430\\u0441\\u0442\\u043e\\u043f\\u043e\\u043b\\u044c\"],[\"\\u0421\\u0435\\u0432\\u0430\\u0441\\u0442\\u043e\\u043f\\u043e\\u043b\\u044c\"],[\"\\u0421\\u0435\\u0432\\u0435\\u0440\\u043e\\u0434\\u0432\\u0438\\u043d\\u0441\\u043a\"],[\"\\u0421\\u0435\\u0440\\u0433\\u0438\\u0435\\u0432 \\u041f\\u043e\\u0441\\u0430\\u0434\"],[\"\\u0421\\u0435\\u0440\\u043f\\u0443\\u0445\\u043e\\u0432\"],[\"\\u0421\\u0438\\u043c\\u0444\\u0435\\u0440\\u043e\\u043f\\u043e\\u043b\\u044c\"],[\"\\u0421\\u0438\\u043c\\u0444\\u0435\\u0440\\u043e\\u043f\\u043e\\u043b\\u044c\"],[\"\\u0421\\u0438\\u043c\\u0444\\u0435\\u0440\\u043e\\u043f\\u043e\\u043b\\u044c\"],[\"\\u0421\\u0438\\u043c\\u0444\\u0435\\u0440\\u043e\\u043f\\u043e\\u043b\\u044c\"],[\"\\u0421\\u0438\\u043c\\u0444\\u0435\\u0440\\u043e\\u043f\\u043e\\u043b\\u044c\"],[\"\\u0421\\u043b\\u0430\\u0432\\u0433\\u043e\\u0440\\u043e\\u0434\"],[\"\\u0421\\u043b\\u0430\\u0432\\u044f\\u043d\\u0441\\u043a-\\u043d\\u0430-\\u041a\\u0443\\u0431\\u0430\\u043d\\u0438\"],[\"\\u0421\\u043c\\u043e\\u043b\\u0435\\u043d\\u0441\\u043a\"],[\"\\u0421\\u043c\\u043e\\u043b\\u0435\\u043d\\u0441\\u043a\"],[\"\\u0421\\u043c\\u043e\\u043b\\u0435\\u043d\\u0441\\u043a\"],[\"\\u0421\\u043c\\u043e\\u043b\\u0435\\u043d\\u0441\\u043a\"],[\"\\u0421\\u043e\\u0432\\u0435\\u0442\\u0441\\u043a\"],[\"\\u0421\\u043e\\u043b\\u043d\\u0435\\u0447\\u043d\\u043e\\u0433\\u043e\\u0440\\u0441\\u043a\"],[\"\\u0421\\u043e\\u043b\\u043d\\u0435\\u0447\\u043d\\u043e\\u0433\\u043e\\u0440\\u0441\\u043a\"],[\"\\u0421\\u043e\\u0447\\u0438\"],[\"\\u0421\\u043e\\u0447\\u0438\"],[\"\\u0421\\u043f\\u0430\\u0441\\u0441\\u043a-\\u0414\\u0430\\u043b\\u044c\\u043d\\u0438\\u0439\"],[\"\\u0421\\u0442\\u0430\\u0432\\u0440\\u043e\\u043f\\u043e\\u043b\\u044c\"],[\"\\u0421\\u0442\\u0430\\u0432\\u0440\\u043e\\u043f\\u043e\\u043b\\u044c\"],[\"\\u0421\\u0442\\u0430\\u0432\\u0440\\u043e\\u043f\\u043e\\u043b\\u044c\"],[\"\\u0421\\u0442\\u0430\\u0432\\u0440\\u043e\\u043f\\u043e\\u043b\\u044c\"],[\"\\u0421\\u0442\\u0430\\u0432\\u0440\\u043e\\u043f\\u043e\\u043b\\u044c\"],[\"\\u0421\\u0442\\u0430\\u0440\\u0430\\u044f \\u0420\\u0443\\u0441\\u0441\\u0430\"],[\"\\u0421\\u0442\\u0430\\u0440\\u044b\\u0439 \\u041e\\u0441\\u043a\\u043e\\u043b\"],[\"\\u0421\\u0442\\u0430\\u0440\\u044b\\u0439 \\u041e\\u0441\\u043a\\u043e\\u043b\"],[\"\\u0421\\u0442\\u0430\\u0440\\u044b\\u0439 \\u041e\\u0441\\u043a\\u043e\\u043b\"],[\"\\u0421\\u0442\\u0430\\u0440\\u044b\\u0439 \\u041e\\u0441\\u043a\\u043e\\u043b\"],[\"\\u0421\\u0442\\u0435\\u0440\\u043b\\u0438\\u0442\\u0430\\u043c\\u0430\\u043a\"],[\"\\u0421\\u0442\\u0435\\u0440\\u043b\\u0438\\u0442\\u0430\\u043c\\u0430\\u043a\"],[\"\\u0421\\u0442\\u0440\\u043e\\u0438\\u0442\\u0435\\u043b\\u044c\"],[\"\\u0421\\u0442\\u0443\\u043f\\u0438\\u043d\\u043e\"],[\"\\u0421\\u0442\\u0443\\u043f\\u0438\\u043d\\u043e\"],[\"\\u0421\\u0443\\u0440\\u0433\\u0443\\u0442\"],[\"\\u0421\\u0443\\u0440\\u0433\\u0443\\u0442\"],[\"\\u0421\\u0443\\u0440\\u0433\\u0443\\u0442\"],[\"\\u0421\\u0443\\u0440\\u0433\\u0443\\u0442\"],[\"\\u0421\\u0443\\u0440\\u0433\\u0443\\u0442\"],[\"\\u0421\\u044b\\u0437\\u0440\\u0430\\u043d\\u044c\"],[\"\\u0421\\u044b\\u0437\\u0440\\u0430\\u043d\\u044c\"],[\"\\u0421\\u044b\\u043a\\u0442\\u044b\\u0432\\u043a\\u0430\\u0440\"],[\"\\u0421\\u044b\\u043a\\u0442\\u044b\\u0432\\u043a\\u0430\\u0440\"],[\"\\u0421\\u044b\\u043a\\u0442\\u044b\\u0432\\u043a\\u0430\\u0440\"],[\"\\u0421\\u044b\\u043a\\u0442\\u044b\\u0432\\u043a\\u0430\\u0440\"],[\"\\u0421\\u044b\\u043a\\u0442\\u044b\\u0432\\u043a\\u0430\\u0440\"],[\"\\u0421\\u044b\\u043a\\u0442\\u044b\\u0432\\u043a\\u0430\\u0440\"],[\"\\u0422\\u0430\\u0433\\u0430\\u043d\\u0440\\u043e\\u0433\"],[\"\\u0422\\u0430\\u043c\\u0431\\u043e\\u0432\"],[\"\\u0422\\u0430\\u043c\\u0431\\u043e\\u0432\"],[\"\\u0422\\u0430\\u043c\\u0431\\u043e\\u0432\"],[\"\\u0422\\u0430\\u043c\\u0431\\u043e\\u0432\"],[\"\\u0422\\u0430\\u043c\\u0431\\u043e\\u0432\"],[\"\\u0422\\u0430\\u043c\\u0431\\u043e\\u0432\"],[\"\\u0422\\u0430\\u043c\\u0431\\u043e\\u0432\"],[\"\\u0422\\u0432\\u0435\\u0440\\u044c\"],[\"\\u0422\\u0432\\u0435\\u0440\\u044c\"],[\"\\u0422\\u0432\\u0435\\u0440\\u044c\"],[\"\\u0422\\u0432\\u0435\\u0440\\u044c\"],[\"\\u0422\\u0438\\u0445\\u0432\\u0438\\u043d\"],[\"\\u0422\\u043e\\u043b\\u044c\\u044f\\u0442\\u0442\\u0438\"],[\"\\u0422\\u043e\\u043b\\u044c\\u044f\\u0442\\u0442\\u0438\"],[\"\\u0422\\u043e\\u043b\\u044c\\u044f\\u0442\\u0442\\u0438\"],[\"\\u0422\\u043e\\u043c\\u0441\\u043a\"],[\"\\u0422\\u043e\\u043c\\u0441\\u043a\"],[\"\\u0422\\u043e\\u043c\\u0441\\u043a\"],[\"\\u0422\\u043e\\u043c\\u0441\\u043a\"],[\"\\u0422\\u043e\\u043c\\u0441\\u043a\"],[\"\\u0422\\u0440\\u043e\\u0438\\u0446\\u043a (\\u0427\\u0435\\u043b\\u044f\\u0431\\u0438\\u043d\\u0441\\u043a)\"],[\"\\u0422\\u0443\\u0430\\u043f\\u0441\\u0435\"],[\"\\u0422\\u0443\\u043b\\u0430\"],[\"\\u0422\\u0443\\u043b\\u0430\"],[\"\\u0422\\u0443\\u043b\\u0430\"],[\"\\u0422\\u0443\\u043b\\u0430\"],[\"\\u0422\\u0443\\u043b\\u0430\"],[\"\\u0422\\u0443\\u043b\\u0430\"],[\"\\u0422\\u0443\\u043b\\u0430\"],[\"\\u0422\\u0443\\u043b\\u0430\"],[\"\\u0422\\u044e\\u043c\\u0435\\u043d\\u044c\"],[\"\\u0422\\u044e\\u043c\\u0435\\u043d\\u044c\"],[\"\\u0422\\u044e\\u043c\\u0435\\u043d\\u044c\"],[\"\\u0422\\u044e\\u043c\\u0435\\u043d\\u044c\"],[\"\\u0422\\u044e\\u043c\\u0435\\u043d\\u044c\"],[\"\\u0422\\u044e\\u043c\\u0435\\u043d\\u044c\"],[\"\\u0422\\u044e\\u043c\\u0435\\u043d\\u044c\"],[\"\\u0422\\u044e\\u043c\\u0435\\u043d\\u044c\"],[\"\\u0423\\u043b\\u0430\\u043d-\\u0423\\u0434\\u044d\"],[\"\\u0423\\u043b\\u0430\\u043d-\\u0423\\u0434\\u044d\"],[\"\\u0423\\u043b\\u0430\\u043d-\\u0423\\u0434\\u044d\"],[\"\\u0423\\u043b\\u0430\\u043d-\\u0423\\u0434\\u044d\"],[\"\\u0423\\u043b\\u044c\\u044f\\u043d\\u043e\\u0432\\u0441\\u043a\"],[\"\\u0423\\u043b\\u044c\\u044f\\u043d\\u043e\\u0432\\u0441\\u043a\"],[\"\\u0423\\u043b\\u044c\\u044f\\u043d\\u043e\\u0432\\u0441\\u043a\"],[\"\\u0423\\u0441\\u0442\\u044c-\\u0418\\u043b\\u0438\\u043c\\u0441\\u043a\"],[\"\\u0423\\u0444\\u0430\"],[\"\\u0423\\u0444\\u0430\"],[\"\\u0423\\u0444\\u0430\"],[\"\\u0423\\u0444\\u0430\"],[\"\\u0423\\u0444\\u0430\"],[\"\\u0423\\u0444\\u0430\"],[\"\\u0423\\u0444\\u0430\"],[\"\\u0423\\u0444\\u0430\"],[\"\\u0423\\u0444\\u0430\"],[\"\\u0423\\u0444\\u0430\"],[\"\\u0423\\u0444\\u0430\"],[\"\\u0425\\u0430\\u0431\\u0430\\u0440\\u043e\\u0432\\u0441\\u043a\"],[\"\\u0425\\u0430\\u0431\\u0430\\u0440\\u043e\\u0432\\u0441\\u043a\"],[\"\\u0425\\u0430\\u0431\\u0430\\u0440\\u043e\\u0432\\u0441\\u043a\"],[\"\\u0425\\u0430\\u0431\\u0430\\u0440\\u043e\\u0432\\u0441\\u043a\"],[\"\\u0425\\u0430\\u043d\\u0442\\u044b-\\u041c\\u0430\\u043d\\u0441\\u0438\\u0439\\u0441\\u043a\"],[\"\\u0425\\u0430\\u043d\\u0442\\u044b-\\u041c\\u0430\\u043d\\u0441\\u0438\\u0439\\u0441\\u043a\"],[\"\\u0425\\u0438\\u043c\\u043a\\u0438\"],[\"\\u0425\\u043e\\u0442\\u044c\\u043a\\u043e\\u0432\\u043e\"],[\"\\u0427\\u0430\\u0439\\u043a\\u043e\\u0432\\u0441\\u043a\\u0438\\u0439\"],[\"\\u0427\\u0435\\u0431\\u043e\\u043a\\u0441\\u0430\\u0440\\u044b\"],[\"\\u0427\\u0435\\u0431\\u043e\\u043a\\u0441\\u0430\\u0440\\u044b\"],[\"\\u0427\\u0435\\u0431\\u043e\\u043a\\u0441\\u0430\\u0440\\u044b\"],[\"\\u0427\\u0435\\u0431\\u043e\\u043a\\u0441\\u0430\\u0440\\u044b\"],[\"\\u0427\\u0435\\u043b\\u044f\\u0431\\u0438\\u043d\\u0441\\u043a\"],[\"\\u0427\\u0435\\u043b\\u044f\\u0431\\u0438\\u043d\\u0441\\u043a\"],[\"\\u0427\\u0435\\u043b\\u044f\\u0431\\u0438\\u043d\\u0441\\u043a\"],[\"\\u0427\\u0435\\u043b\\u044f\\u0431\\u0438\\u043d\\u0441\\u043a\"],[\"\\u0427\\u0435\\u043b\\u044f\\u0431\\u0438\\u043d\\u0441\\u043a\"],[\"\\u0427\\u0435\\u043b\\u044f\\u0431\\u0438\\u043d\\u0441\\u043a\"],[\"\\u0427\\u0435\\u043b\\u044f\\u0431\\u0438\\u043d\\u0441\\u043a\"],[\"\\u0427\\u0435\\u0440\\u0435\\u043f\\u043e\\u0432\\u0435\\u0446\"],[\"\\u0427\\u0435\\u0440\\u0435\\u043f\\u043e\\u0432\\u0435\\u0446\"],[\"\\u0427\\u0435\\u0440\\u0435\\u043f\\u043e\\u0432\\u0435\\u0446\"],[\"\\u0427\\u0435\\u0440\\u043a\\u0435\\u0441\\u0441\\u043a\"],[\"\\u0427\\u0435\\u0440\\u043a\\u0435\\u0441\\u0441\\u043a\"],[\"\\u0427\\u0435\\u0440\\u043d\\u044f\\u0445\\u043e\\u0432\\u0441\\u043a\"],[\"\\u0427\\u0438\\u0442\\u0430\"],[\"\\u0427\\u0438\\u0442\\u0430\"],[\"\\u0427\\u0438\\u0442\\u0430\"],[\"\\u0427\\u0438\\u0442\\u0430\"],[\"\\u0427\\u0438\\u0442\\u0430\"],[\"\\u0427\\u0438\\u0442\\u0430\"],[\"\\u0427\\u0438\\u0442\\u0430\"],[\"\\u0428\\u0430\\u0445\\u0442\\u044b\"],[\"\\u0428\\u0435\\u0431\\u0435\\u043a\\u0438\\u043d\\u043e\"],[\"\\u0428\\u0435\\u0431\\u0435\\u043a\\u0438\\u043d\\u043e\"],[\"\\u0429\\u0435\\u043a\\u0438\\u043d\\u043e\"],[\"\\u042d\\u043b\\u0435\\u043a\\u0442\\u0440\\u043e\\u0441\\u0442\\u0430\\u043b\\u044c\"],[\"\\u042d\\u043b\\u0435\\u043a\\u0442\\u0440\\u043e\\u0441\\u0442\\u0430\\u043b\\u044c\"],[\"\\u042d\\u043b\\u0435\\u043a\\u0442\\u0440\\u043e\\u0441\\u0442\\u0430\\u043b\\u044c\"],[\"\\u042d\\u043b\\u0435\\u043a\\u0442\\u0440\\u043e\\u0441\\u0442\\u0430\\u043b\\u044c\"],[\"\\u042d\\u043b\\u0438\\u0441\\u0442\\u0430\"],[\"\\u042d\\u043d\\u0433\\u0435\\u043b\\u044c\\u0441\"],[\"\\u042e\\u0433\\u043e\\u0440\\u0441\\u043a\"],[\"\\u042e\\u0436\\u043d\\u043e-\\u0421\\u0430\\u0445\\u0430\\u043b\\u0438\\u043d\\u0441\\u043a\"],[\"\\u042e\\u0436\\u043d\\u043e-\\u0421\\u0430\\u0445\\u0430\\u043b\\u0438\\u043d\\u0441\\u043a\"],[\"\\u042f\\u043b\\u0443\\u0442\\u043e\\u0440\\u043e\\u0432\\u0441\\u043a\"],[\"\\u042f\\u0440\\u043e\\u0441\\u043b\\u0430\\u0432\\u043b\\u044c\"],[\"\\u042f\\u0440\\u043e\\u0441\\u043b\\u0430\\u0432\\u043b\\u044c\"],[\"\\u042f\\u0440\\u043e\\u0441\\u043b\\u0430\\u0432\\u043b\\u044c\"],[\"\\u042f\\u0440\\u043e\\u0441\\u043b\\u0430\\u0432\\u043b\\u044c\"],[\"\\u042f\\u0440\\u043e\\u0441\\u043b\\u0430\\u0432\\u043b\\u044c\"],[\"\\u042f\\u0440\\u043e\\u0441\\u043b\\u0430\\u0432\\u043b\\u044c\"]],\"geo\":\"geo\",\"hovertemplate\":\"<b>%{hovertext}</b><br><br>cinema_latitude=%{lat}<br>cinema_longitude=%{lon}<br>cinema_city=%{customdata[0]}<br>revenue=%{marker.color}<extra></extra>\",\"hovertext\":[\"\\u042e\\u043d\\u043e\\u0441\\u0442\\u044c (\\u0410\\u0431\\u0434\\u0443\\u043b\\u0438\\u043d\\u043e)\",\"City Stars (\\u0410\\u0434\\u043b\\u0435\\u0440)\",\"\\u0421\\u043f\\u0443\\u0442\\u043d\\u0438\\u043a \\u0410\\u043b\\u0435\\u043a\\u0441\\u0435\\u0435\\u0432\\u043a\\u0430\",\"\\u041c\\u0438\\u0440 \\u043a\\u0438\\u043d\\u043e 3D\",\"\\u041b\\u044e\\u043c\\u0435\\u043d \\u0424\\u0438\\u043b\\u044c\\u043c  (\\u0410\\u0440\\u0437\\u0430\\u043c\\u0430\\u0441)\",\"\\u041c\\u041e\\u041d\\u0418\\u0422\\u041e\\u0420 \\u041a\\u0440\\u0430\\u0441\\u043d\\u0430\\u044f \\u041f\\u043b\\u043e\\u0449\\u0430\\u0434\\u044c (\\u0410\\u0440\\u043c\\u0430\\u0432\\u0438\\u0440)\",\"\\u041c\\u043e\\u043d\\u0438\\u0442\\u043e\\u0440 \\u043d\\u0430 \\u041a\\u0440\\u0430\\u0441\\u043d\\u043e\\u0439 \\u043f\\u043b\\u043e\\u0449\\u0430\\u0434\\u0438 (\\u0410\\u0440\\u043c\\u0430\\u0432\\u0438\\u0440)\",\"\\u041a\\u0438\\u043d\\u043e\\u0437\\u0430\\u043b\\u044b \\u0426\\u0423\\u041c\\u0430 (\\u0421\\u0435\\u0432\\u0435\\u0440\\u043e\\u0434\\u0432\\u0438\\u043d\\u0441\\u043a)\",\"\\u041c\\u0438\\u0440\\u0430\\u0436 \\u0421\\u0438\\u043d\\u0435\\u043c\\u0430 \\u0415\\u0432\\u0440\\u043e\\u043f\\u0430\\u0440\\u043a\",\"\\u041c\\u0438\\u0440\\u0430\\u0436 \\u0421\\u0438\\u043d\\u0435\\u043c\\u0430 \\u041c\\u0430\\u043a\\u0441\\u0438\",\"\\u041c\\u0438\\u0440\\u0430\\u0436 \\u0421\\u0438\\u043d\\u0435\\u043c\\u0430 \\u0422\\u0438\\u0442\\u0430\\u043d-\\u0430\\u0440\\u0435\\u043d\\u0430\",\"\\u0420\\u043e\\u0441\\u0441\\u0438\\u044f\",\"\\u0421\\u0438\\u043d\\u0435\\u043c\\u0430 \\u0421\\u0442\\u0430\\u0440 \\u0420\\u0438\\u043e\",\"\\u0421\\u0438\\u043d\\u0435\\u043c\\u0430 \\u0421\\u0442\\u0430\\u0440 \\u0420\\u0438\\u043e \\u0410\\u0440\\u0445\\u0430\\u043d\\u0433\\u0435\\u043b\\u044c\\u0441\\u043a\",\"\\u0411\\u043e\\u043b\\u044c\\u0448\\u043e\\u0435 \\u041a\\u0438\\u043d\\u043e\",\"\\u041a\\u0438\\u043d\\u043e\\u043c\\u0430\\u043a\\u0441\\u2013\\u0410\\u0441\\u0442\\u0440\\u0430\\u0445\\u0430\\u043d\\u044c\",\"\\u041a\\u0438\\u043d\\u043e\\u043e\\u0441\\u0442\\u0440\\u043e\\u0432 \\u043d\\u0430 \\u0412\\u043e\\u0440\\u043e\\u0431\\u044c\\u0435\\u0432\\u0430\",\"\\u041a\\u0438\\u043d\\u043e\\u043e\\u0441\\u0442\\u0440\\u043e\\u0432 \\u043d\\u0430 \\u041c\\u0430\\u0433\\u0438\\u0441\\u0442\\u0440\\u0430\\u043b\\u044c\\u043d\\u043e\\u0439\",\"\\u041a\\u043e\\u043d\\u0442\\u0438\\u043d\\u0435\\u043d\\u0442 \\u0421\\u0438\\u043d\\u0435\\u043c\\u0430\",\"\\u041a\\u043e\\u043d\\u0442\\u0438\\u043d\\u0435\\u043d\\u0442 \\u0421\\u0438\\u043d\\u0435\\u043c\\u0430\",\"\\u041b\\u044e\\u043c\\u0435\\u043d \\u0424\\u0438\\u043b\\u044c\\u043c (\\u0411\\u0430\\u043b\\u0430\\u0445\\u043d\\u0430)\",\"DREAM\",\"Prada 3D \\u0411\\u0430\\u043b\\u0430\\u0448\\u0438\\u0445\\u0430\",\"\\u041b\\u044e\\u043c\\u0435\\u043d \\u0424\\u0438\\u043b\\u044c\\u043c (\\u0411\\u0430\\u043b\\u0430\\u0448\\u043e\\u0432)\",\"Pioneer Cinema\",\"\\u041c\\u0430\\u0442\\u0440\\u0438\\u0446\\u0430\",\"\\u0420\\u0430\\u0434\\u0443\\u0433\\u0430\",\"\\u0424\\u043e\\u0440\\u043c\\u0443\\u043b\\u0430\",\"\\u0424\\u043e\\u0440\\u043c\\u0443\\u043b\\u0430 \",\"\\u0413\\u0420\\u0418\\u041d\\u041d\\u0424\\u0418\\u041b\\u042c\\u041c (\\u0411\\u0435\\u043b\\u0433\\u043e\\u0440\\u043e\\u0434)\",\"\\u0413\\u0440\\u0438\\u043d\\u043d\\u0444\\u0438\\u043b\\u044c\\u043c\",\"\\u041a\\u0418\\u041d\\u041e \\u0421\\u043f\\u0443\\u0442\\u043d\\u0438\\u043a\",\"\\u041f\\u043e\\u0431\\u0435\\u0434\\u0430\",\"\\u0420\\u0430\\u0434\\u0443\\u0433\\u0430\",\"\\u0420\\u0443\\u0441\\u0438\\u0447\",\"\\u0421\\u0438\\u043d\\u0435\\u043c\\u0430 \\u041f\\u0430\\u0440\\u043a \\u0421\\u0438\\u0442\\u0438 \\u041c\\u043e\\u043b\\u043b \\u0411\\u0435\\u043b\\u0433\\u043e\\u0440\\u043e\\u0434\\u0441\\u043a\\u0438\\u0439\",\"\\u0421\\u0438\\u043d\\u0435\\u043c\\u0430 \\u0421\\u0442\\u0430\\u0440 \\u0420\\u0438\\u043e\",\"\\u0421\\u0438\\u043d\\u0435\\u043c\\u0430 \\u0421\\u0442\\u0430\\u0440 \\u0420\\u0438\\u043e \\u0411\\u0435\\u043b\\u0433\\u043e\\u0440\\u043e\\u0434\",\"\\u041c\\u0435\\u0442\\u0430\\u043b\\u043b\\u0443\\u0440\\u0433 (\\u0411\\u0435\\u043b\\u043e\\u0440\\u0435\\u0446\\u043a)\",\"Cinema de Lux\",\"\\u041f\\u043b\\u0430\\u043d\\u0435\\u0442\\u0430 \\u043a\\u0438\\u043d\\u043e \\u0432 \\u0422\\u0420\\u0426 \\u0420\\u0438\\u0432\\u044c\\u0435\\u0440\\u0430\",\"\\u041f\\u0440\\u0435\\u043c\\u0438\\u0443\\u043c\",\"\\u0421\\u0430\\u043b\\u044e\\u0442 (\\u0411\\u043b\\u0430\\u0433\\u043e\\u0432\\u0435\\u0449\\u0435\\u043d\\u0441\\u043a \\u0420\\u0411)\",\"\\u041a\\u0438\\u043d\\u043e\\u041f\\u0430\\u0440\\u043a\",\"\\u0413\\u043e\\u043b\\u043b\\u0438\\u0432\\u0443\\u0434 (\\u0411\\u0440\\u0430\\u0442\\u0441\\u043a)\",\"\\u041c\\u043e\\u0441\\u043a\\u0432\\u0430 (\\u0411\\u0440\\u044e\\u0445\\u043e\\u0432\\u0435\\u0446\\u043a\\u0430\\u044f)\",\"\\u041a\\u0438\\u043d\\u043e-\\u0440\\u0430\\u0437\\u0432\\u043b\\u0435\\u043a\\u0430\\u0442\\u0435\\u043b\\u044c\\u043d\\u044b\\u0439 \\u043a\\u043e\\u043c\\u043f\\u043b\\u0435\\u043a\\u0441 \\u041f\\u0430\\u043d\\u043e\\u0440\\u0430\\u043c\\u0430\",\"\\u041c\\u0443\\u043d\\u0438\\u0446\\u0438\\u043f\\u0430\\u043b\\u044c\\u043d\\u043e\\u0435 \\u0431\\u044e\\u0434\\u0436\\u0435\\u0442\\u043d\\u043e\\u0435 \\u0443\\u0447\\u0440\\u0435\\u0436\\u0434\\u0435\\u043d\\u0438\\u0435 \\u043a\\u0443\\u043b\\u044c\\u0442\\u0443\\u0440\\u044b \\u041c\\u0435\\u0436\\u043f\\u043e\\u0441\\u0435\\u043b\\u0435\\u043d\\u0447\\u0435\\u0441\\u043a\\u0438\\u0439 \\u0414\\u043e\\u043c \\u043a\\u0443\\u043b\\u044c\\u0442\\u0443\\u0440\\u044b\",\"\\u041f\\u0430\\u043d\\u043e\\u0440\\u0430\\u043c\\u0430 \\u0410\\u044d\\u0440\\u043e\\u043f\\u0430\\u0440\\u043a\",\"\\u041f\\u0430\\u043d\\u043e\\u0440\\u0430\\u043c\\u0430 \\u0411\\u0443\\u043c\",\"\\u041f\\u0430\\u043d\\u043e\\u0440\\u0430\\u043c\\u0430 \\u0432 \\u0422\\u0420\\u0426 \\u0410\\u044d\\u0440\\u043e \\u041f\\u0430\\u0440\\u043a\",\"\\u0420\\u0430\\u0439 \\u041f\\u0430\\u0440\\u043a\",\"\\u0421\\u0430\\u043b\\u044e\\u0442\",\"\\u0421\\u0430\\u043b\\u044e\\u0442\",\"\\u041c\\u0430\\u0434\\u0430\\u0433\\u0430\\u0441\\u043a\\u0430\\u0440\",\"Cinema 5 \\u0411\\u0443\\u0437\\u0443\\u043b\\u0443\\u043a\",\"\\u041c\\u0438\\u0440\\u0430\\u0436 \\u0421\\u0438\\u043d\\u0435\\u043c\\u0430 \\u041c\\u0430\\u0440\\u043c\\u0435\\u043b\\u0430\\u0434\",\"\\u0420\\u043e\\u0441\\u0441\\u0438\\u044f\",\"\\u041c\\u0423\\u041a \\u041c\\u041a\\u0414\\u0426\",\"\\u041a\\u0438\\u043d\\u043e\\u0433\\u0440\\u0430\\u0434\",\"\\u041a\\u0438\\u043d\\u043e\\u0433\\u0440\\u0430\\u0434 Mix\",\"\\u0418\\u043b\\u043b\\u044e\\u0437\\u0438\\u043e\\u043d\",\"\\u0418\\u043b\\u043b\\u044e\\u0437\\u0438\\u043e\\u043d \\u041f\\u0430\\u0440\\u043a \\u0427\\u0435\\u0440\\u0435\\u043c\\u0443\\u0448\\u043a\\u0438\",\"\\u041a\\u0438\\u043d\\u043e\\u043c\\u0430\\u043a\\u0441 \\u0421\\u0430\\u043f\\u0444\\u0438\\u0440\",\"\\u041a\\u0438\\u043d\\u043e\\u043c\\u0430\\u043a\\u0441-\\u0421\\u0430\\u043f\\u0444\\u0438\\u0440\",\"\\u041e\\u043a\\u0435\\u0430\\u043d\",\"\\u0423\\u0441\\u0441\\u0443\\u0440\\u0438\",\"\\u0410\\u043b\\u0430\\u043d\\u0438\\u044f \\u0421\\u0438\\u043d\\u0435\\u043c\\u0430\",\"\\u041a\\u0438\\u043d\\u043e\\u043c\\u0430\\u043a\\u0441-\\u0411\\u0443\\u0440\\u0435\\u0432\\u0435\\u0441\\u0442\\u043d\\u0438\\u043a\",\"\\u041a\\u0438\\u043d\\u043e\\u043c\\u0430\\u043a\\u0441\\u2013\\u0411\\u0443\\u0440\\u0435\\u0432\\u0435\\u0441\\u0442\\u043d\\u0438\\u043a\",\"\\u0421\\u0438\\u043d\\u0435\\u043c\\u0430 \\u041f\\u0430\\u0440\\u043a \\u041a\\u043e\\u0432\\u0440\\u043e\\u0432 \\u041c\\u043e\\u043b\\u043b\",\"5 \\u0437\\u0432\\u0435\\u0437\\u0434 \\u0412\\u043e\\u043b\\u0433\\u043e\\u0433\\u0440\\u0430\\u0434\",\"Cinema 5 \\u0412\\u043e\\u043b\\u0433\\u043e\\u0433\\u0440\\u0430\\u0434\",\"Cinema 5 \\u0412\\u043e\\u043b\\u0433\\u043e\\u0433\\u0440\\u0430\\u0434\",\"Mori Cinema (\\u0412\\u043e\\u043b\\u0433\\u043e\\u0433\\u0440\\u0430\\u0434)\",\"\\u041a\\u0438\\u043d\\u043e\\u043c\\u0430\\u043a\\u0441\",\"\\u041a\\u0438\\u043d\\u043e\\u043c\\u0430\\u043a\\u0441 (\\u0412\\u043e\\u043b\\u0436\\u0441\\u043a\\u0438\\u0439)\",\"\\u041c\\u043e\\u0440\\u0438 \\u0421\\u0438\\u043d\\u0435\\u043c\\u0430 \\u0412\\u043e\\u043b\\u0433\\u043e\\u0433\\u0440\\u0430\\u0434\",\"\\u041f\\u0438\\u0440\\u0430\\u043c\\u0438\\u0434\\u0430\",\"\\u0421\\u0438\\u043d\\u0435\\u043c\\u0430 \\u041f\\u0430\\u0440\\u043a \\u0415\\u0432\\u0440\\u043e\\u043f\\u0430 \\u0421\\u0438\\u0442\\u0438 \\u041c\\u043e\\u043b\\u043b \",\"\\u041a\\u0438\\u043d\\u043e\\u0442\\u0435\\u0430\\u0442\\u0440 \\u0422\\u0420\\u0426 (\\u0412\\u043e\\u043b\\u0433\\u043e\\u0434\\u043e\\u043d\\u0441\\u043a)\",\"\\u0421\\u0438\\u043d\\u0435\\u043c\\u0430 \\u042d\\u043b\",\"\\u041a\\u0438\\u043d\\u043e\\u043c\\u0430\\u043a\\u0441-\\u0412\\u043e\\u043b\\u0436\\u0441\\u043a\\u0438\\u0439\",\"\\u041b\\u0435\\u043d\\u043a\\u043e\\u043c\",\"\\u041c\\u043e\\u0440\\u0438 \\u0421\\u0438\\u043d\\u0435\\u043c\\u0430 \\u0427\\u0435\\u0440\\u0435\\u043f\\u043e\\u0432\\u0435\\u0446\",\"\\u0421\\u0430\\u043b\\u044e\\u0442\",\"\\u0421\\u0438\\u043d\\u0435\\u043c\\u0430 \\u041f\\u0430\\u0440\\u043a \\u041c\\u0430\\u0440\\u043c\\u0435\\u043b\\u0430\\u0434\",\"\\u0421\\u0438\\u043d\\u0435\\u043c\\u0430 \\u0421\\u0442\\u0430\\u0440 \\u0420\\u0438\\u043e\",\"\\u0421\\u0438\\u043d\\u0435\\u043c\\u0430 \\u0421\\u0442\\u0430\\u0440 \\u0420\\u0438\\u043e \\u0412\\u043e\\u043b\\u043e\\u0433\\u0434\\u0430\",\"\\u041a\\u0430\\u0441\\u043a\\u0430\\u0434\",\"\\u041a\\u0430\\u0441\\u043a\\u0430\\u0434 (\\u0412\\u043e\\u0440\\u043a\\u0443\\u0442\\u0430)\",\"Star & Mlad. \\u0413\\u0440\\u0430\\u0434\",\"Star&Mlad. \\u0413\\u0420\\u0410\\u0414\",\"Star&Mlad. \\u041c\\u043e\\u0441\\u043a\\u043e\\u0432\\u0441\\u043a\\u0438\\u0439 \\u043f\\u0440\\u043e\\u0441\\u043f\\u0435\\u043a\\u0442\",\"\\u041a\\u0418\\u041d\\u041e \\u041e\\u041a\\u041a\\u041e \\u0422\\u0420\\u041a \\u0410\\u0440\\u0435\\u043d\\u0430\",\"\\u041b\\u0435\\u0432\\u044b\\u0439 \\u0431\\u0435\\u0440\\u0435\\u0433\",\"\\u041b\\u0435\\u0432\\u044b\\u0439 \\u0431\\u0435\\u0440\\u0435\\u0433\",\"\\u041c\\u0430\\u043a\\u0441\\u0438\\u041c\\u0438\\u0440\",\"\\u041c\\u0430\\u043a\\u0441\\u0438\\u043c\\u0438\\u0440\",\"\\u041f\\u0440\\u043e\\u043b\\u0435\\u0442\\u0430\\u0440\\u0438\\u0439\",\"\\u041f\\u0440\\u043e\\u043b\\u0435\\u0442\\u0430\\u0440\\u0438\\u0439\",\"\\u0421\\u0438\\u043d\\u0435\\u043c\\u0430 \\u041f\\u0430\\u0440\\u043a \\u0426\\u0435\\u043d\\u0442\\u0440 \\u0413\\u0430\\u043b\\u0435\\u0440\\u0435\\u0438 \\u0427\\u0438\\u0436\\u043e\\u0432\\u0430\",\"\\u042e\\u043d\\u043e\\u0441\\u0442\\u044c\",\"\\u042e\\u043d\\u043e\\u0441\\u0442\\u044c\",\"Silver Cinema\",\"\\u041a\\u0438\\u043d\\u043e\\u043f\\u043e\\u043b\\u0438\\u0441 \\u2014 \\u042e\\u0431\\u0438\\u043b\\u0435\\u0439\\u043d\\u044b\\u0439\",\"\\u041a\\u0438\\u043d\\u043e\\u043f\\u043e\\u043b\\u0438\\u0441 \\u0421\\u0435\\u0432\\u0435\\u0440\",\"\\u0414\\u043e\\u0431\\u0440\\u043e-\\u0434\\u0430\\u0440 (\\u0412\\u044f\\u0437\\u043d\\u0438\\u043a\\u0438)\",\"\\u041c\\u043e\\u0441\\u043a\\u043e\\u0432\\u0441\\u043a\\u0438\\u0439\",\"\\u041a\\u0438\\u043d\\u043e\\u043f\\u043e\\u043b\\u0438\\u0441 \\u041a\\u0443\\u0431\\u0443\\u0441\",\"\\u0421\\u043a\\u0430\\u0439 \\u0421\\u0438\\u043d\\u0435\\u043c\\u0430\",\"\\u0420\\u0430\\u0434\\u0443\\u0433\\u0430 (\\u0413\\u0435\\u043b\\u0435\\u043d\\u0434\\u0436\\u0438\\u043a)\",\"\\u041f\\u043b\\u0430\\u043d\\u0435\\u0442\\u0430 \\u043a\\u0438\\u043d\\u043e\",\"\\u041f\\u043b\\u0430\\u043d\\u0435\\u0442\\u0430 \\u043a\\u0438\\u043d\\u043e\",\"\\u0421\\u0435\\u0432\\u0435\\u0440\\u043d\\u044b\\u0439 (\\u0413\\u043e\\u0440\\u043e\\u0434\\u0435\\u0446)\",\"\\u041a\\u0438\\u043d\\u043e\\u0441\\u0442\\u0430\\u0440\",\"\\u0427\\u0435\\u0440\\u043d\\u0430\\u044f \\u0416\\u0435\\u043c\\u0447\\u0443\\u0436\\u0438\\u043d\\u0430\",\"\\u0420\\u043e\\u0441\\u0441\\u0438\\u044f\",\"\\u0421\\u043f\\u0443\\u0442\\u043d\\u0438\\u043a \\u0413\\u0443\\u0431\\u043a\\u0438\\u043d\",\"\\u041e\\u043b\\u0438\\u043c\\u043f\",\"\\u041a\\u0438\\u043d\\u043e\\u0441\\u0442\\u0430\\u0440 (\\u0413\\u0443\\u0434\\u0435\\u0440\\u043c\\u0435\\u0441)\",\"\\u041b\\u044e\\u043c\\u0435\\u043d \\u0424\\u0438\\u043b\\u044c\\u043c (\\u0413\\u0443\\u0441\\u0435\\u0432)\",\"\\u041c\\u0430\\u043a\\u0430\\u0440\\u044b\\u0447\",\"\\u0422\\u0435\\u0440\\u043c\\u0438\\u043d\\u0430\\u043b (\\u0414\\u0436\\u0430\\u043d\\u043a\\u043e\\u0439)\",\"\\u041f\\u0440\\u0430\\u0433\\u0430 Cinema\",\"\\u041f\\u0440\\u0430\\u0433\\u0430 Cinema \\u0410\\u0440\\u0441\\u0435\\u043d\\u0430\\u043b\",\"\\u0413\\u0430\\u043b\\u0430\\u043a\\u0441\",\"\\u0420\\u0430\\u043a\\u0435\\u0442\\u0430 (\\u0415\\u0432\\u043f\\u0430\\u0442\\u043e\\u0440\\u0438\\u044f)\",\"Prada 3D \\u0410\\u043a\\u0430\\u0434\\u0435\\u043c\\u0438\\u0447\\u0435\\u0441\\u043a\\u0438\\u0439\",\"\\u0410\\u0432\\u0442\\u043e\\u041a\\u0410\\u0420\\u041e \\u043f\\u043e\\u0434 \\u0437\\u0432\\u0435\\u0437\\u0434\\u0430\\u043c\\u0438: \\u041c\\u0415\\u0413\\u0410 \\u0415\\u043a\\u0430\\u0442\\u0435\\u0440\\u0438\\u043d\\u0431\\u0443\\u0440\\u0433\",\"\\u0413\\u0440\\u0438\\u043d\\u0432\\u0438\\u0447 \\u0421\\u0438\\u043d\\u0435\\u043c\\u0430\",\"\\u0413\\u0440\\u0438\\u043d\\u0432\\u0438\\u0447 \\u0421\\u0438\\u043d\\u0435\\u043c\\u0430\",\"\\u0414\\u043e\\u043c \\u041a\\u0438\\u043d\\u043e\",\"\\u0414\\u043e\\u043c \\u043a\\u0438\\u043d\\u043e\",\"\\u0415\\u043b\\u044c\\u0446\\u0438\\u043d-\\u0446\\u0435\\u043d\\u0442\\u0440\",\"\\u041a\\u0430\\u0440\\u043e 10 \\u0420\\u0430\\u0434\\u0443\\u0433\\u0430 \\u041f\\u0430\\u0440\\u043a\",\"\\u041a\\u0438\\u043d\\u043e\\u0434\\u043e\\u043c\",\"\\u041a\\u0438\\u043d\\u043e\\u043a\\u043e\\u043d\\u0446\\u0435\\u0440\\u0442\\u043d\\u044b\\u0439 \\u0442\\u0435\\u0430\\u0442\\u0440 \\u041a\\u043e\\u0441\\u043c\\u043e\\u0441\",\"\\u041a\\u0438\\u043d\\u043e\\u043c\\u0430\\u043a\\u0441 3D-\\u041c\\u0435\\u0433\\u0430\\u043f\\u043e\\u043b\\u0438\\u0441\",\"\\u041a\\u0438\\u043d\\u043e\\u043c\\u0430\\u043a\\u0441 3D\\u2013\\u041c\\u0435\\u0433\\u0430\\u043f\\u043e\\u043b\\u0438\\u0441\",\"\\u041a\\u0438\\u043d\\u043e\\u043f\\u043b\\u0435\\u043a\\u0441 \\u0432 \\u0422\\u0426 \\u041a\\u0430\\u0440\\u043d\\u0430\\u0432\\u0430\\u043b\",\"\\u041a\\u0438\\u043d\\u043e\\u0446\\u0435\\u043d\\u0442\\u0440 Prada 3D \\u0410\\u043a\\u0430\\u0434\\u0435\\u043c\\u0438\\u0447\\u0435\\u0441\\u043a\\u0438\\u0439\",\"\\u041a\\u0438\\u043d\\u043e\\u0446\\u0435\\u043d\\u0442\\u0440 \\u041a\\u043e\\u043d\\u0442\\u0438\\u043d\\u0435\\u043d\\u0442 \\u0441\\u0438\\u043d\\u0435\\u043c\\u0430 \\u041a\\u043e\\u043c\\u0441\\u043e\\u041c\\u043e\\u043b\\u043b\",\"\\u041a\\u043e\\u043d\\u0442\\u0438\\u043d\\u0435\\u043d\\u0442 \\u0421\\u0438\\u043d\\u0435\\u043c\\u0430\",\"\\u041f\\u0430\\u0441\\u0441\\u0430\\u0436 \\u0421\\u0438\\u043d\\u0435\\u043c\\u0430\",\"\\u041f\\u0430\\u0441\\u0441\\u0430\\u0436 \\u0421\\u0438\\u043d\\u0435\\u043c\\u0430\",\"\\u041f\\u0440\\u0435\\u043c\\u044c\\u0435\\u0440 \\u0417\\u0430\\u043b \\u0413\\u0440\\u0430\\u043d\\u0430\\u0442\",\"\\u041f\\u0440\\u0435\\u043c\\u044c\\u0435\\u0440 \\u0417\\u0430\\u043b \\u0417\\u0430\\u0440\\u044f\",\"\\u041f\\u0440\\u0435\\u043c\\u044c\\u0435\\u0440 \\u0417\\u0430\\u043b \\u0417\\u0430\\u0440\\u044f\",\"\\u041f\\u0440\\u0435\\u043c\\u044c\\u0435\\u0440 \\u0417\\u0430\\u043b \\u0417\\u043d\\u0430\\u043c\\u044f\",\"\\u041f\\u0440\\u0435\\u043c\\u044c\\u0435\\u0440 \\u0417\\u0430\\u043b \\u041e\\u043c\\u0435\\u0433\\u0430\",\"\\u041f\\u0440\\u0435\\u043c\\u044c\\u0435\\u0440 \\u0417\\u0430\\u043b \\u041f\\u0430\\u0440\\u043a \\u0425\\u0430\\u0443\\u0441\",\"\\u041f\\u0440\\u0435\\u043c\\u044c\\u0435\\u0440 \\u0417\\u0430\\u043b \\u041f\\u0430\\u0440\\u043a \\u0425\\u0430\\u0443\\u0441\",\"\\u041f\\u0440\\u0435\\u043c\\u044c\\u0435\\u0440 \\u0417\\u0430\\u043b \\u0424\\u0430\\u043d \\u0424\\u0430\\u043d\",\"\\u041f\\u0440\\u0435\\u043c\\u044c\\u0435\\u0440 \\u0417\\u0430\\u043b \\u0424\\u0430\\u043d \\u0424\\u0430\\u043d\",\"\\u041f\\u0440\\u0435\\u043c\\u044c\\u0435\\u0440 \\u0417\\u0430\\u043b \\u042e\\u0433\\u043e-\\u0417\\u0430\\u043f\\u0430\\u0434\\u043d\\u044b\\u0439\",\"\\u0421\\u0430\\u043b\\u044e\\u0442\",\"\\u0421\\u0430\\u043b\\u044e\\u0442\",\"\\u0421\\u0438\\u043d\\u0435\\u043c\\u0430 \\u041f\\u0430\\u0440\\u043a \\u0410\\u043b\\u0430\\u0442\\u044b\\u0440\\u044c\",\"\\u041f\\u0440\\u043e\\u0436\\u0435\\u043a\\u0442\\u043e\\u0440\",\"\\u0414\\u0440\\u0443\\u0436\\u0431\\u0430\",\"\\u0414\\u0440\\u0443\\u0436\\u0431\\u0430\",\"\\u0418\\u0441\\u043a\\u0440\\u0430\",\"\\u0420\\u0443\\u0441\\u044c (\\u0416\\u0435\\u043b\\u0435\\u0437\\u043d\\u043e\\u0433\\u043e\\u0440\\u0441\\u043a)\",\"\\u041a\\u0438\\u043d\\u043e\\u0437\\u0430\\u043b \\u041c\\u0411\\u0423\\u041a \\u0416\\u0443\\u043a\\u043e\\u0432\\u0441\\u043a\\u0438\\u0439 \\u0440\\u0430\\u0439\\u043e\\u043d\\u043d\\u044b\\u0439 \\u0414\\u043e\\u043c \\u043a\\u0443\\u043b\\u044c\\u0442\\u0443\\u0440\\u044b\",\"Prada 3D \\u0416\\u0443\\u043a\\u043e\\u0432\\u0441\\u043a\\u0438\\u0439\",\"\\u041c\\u0443\\u043d\\u0438\\u0446\\u0438\\u043f\\u0430\\u043b\\u044c\\u043d\\u043e\\u0435 \\u0431\\u044e\\u0434\\u0436\\u0435\\u0442\\u043d\\u043e\\u0435 \\u043a\\u0438\\u043d\\u043e\\u0443\\u0447\\u0440\\u0435\\u0436\\u0434\\u0435\\u043d\\u0438\\u0435 \\u041a\\u043e\\u0441\\u043c\\u043e\\u0441\",\"\\u041b\\u044e\\u043c\\u0435\\u043d \\u0417\\u0430\\u0440\\u0435\\u0447\\u043d\\u044b\\u0439\",\"\\u041b\\u044e\\u043c\\u0435\\u043d \\u0424\\u0438\\u043b\\u044c\\u043c (\\u0417\\u0430\\u0440\\u0435\\u0447\\u043d\\u044b\\u0439)\",\"\\u041a\\u0430\\u0440\\u043e 5 \\u0418\\u0440\\u0438\\u0434\\u0438\\u0443\\u043c\",\"\\u0421\\u0438\\u043d\\u0435\\u043c\\u0430 \\u041f\\u0430\\u0440\\u043a \\u0417\\u0435\\u043b\\u0435\\u043d\\u043e\\u043f\\u0430\\u0440\\u043a\",\"\\u041a\\u0443\\u0440\\u043e\\u0440\\u0442\\u043d\\u044b\\u0439\",\"\\u041a\\u043e\\u0441\\u043c\\u043e\\u0441\",\"\\u0421\\u043e\\u043b\\u044f\\u0440\\u0438\\u0441\",\"\\u0415\\u0432\\u0440\\u043e\\u043f\\u0430 Cinema\",\"\\u0415\\u0432\\u0440\\u043e\\u043f\\u0430 Cinema\",\"\\u041c\\u0430\\u0439 (\\u041a\\u043e\\u0445\\u043c\\u0430)\",\"\\u0424\\u043e\\u0440\\u043c\\u0443\\u043b\\u0430 \\u0410113\",\"\\u0410\\u043b\\u043c\\u0430\\u0437 \\u0421\\u0438\\u043d\\u0435\\u043c\\u0430 \\u0420\\u043e\\u043b\\u0438\\u043a\\u0441\",\"\\u0418\\u043c\\u043f\\u0435\\u0440\\u0438\\u044f \\u0433\\u0440\\u0435\\u0437 \\u0421\\u0438\\u0433\\u043c\\u0430\",\"\\u041a\\u0438\\u043d\\u043e\\u043c\\u0430\\u043a\\u0441\",\"\\u041a\\u0438\\u043d\\u043e\\u043c\\u0430\\u043a\\u0441-\\u0418\\u0436\\u0435\\u0432\\u0441\\u043a\",\"\\u0420\\u043e\\u0441\\u0441\\u0438\\u044f\",\"\\u0421\\u0438\\u043d\\u0435\\u043c\\u0430 \\u041f\\u0430\\u0440\\u043a \\u041f\\u0435\\u0442\\u0440\\u043e\\u0432\\u0441\\u043a\\u0438\\u0439\",\"\\u0413\\u043b\\u043e\\u0431\\u0430\\u043b \\u0421\\u0438\\u043d\\u0435\\u043c\\u0430 \\u0418\\u0440\\u0431\\u0438\\u0442\",\"New Cinema\",\"New Cinema\",\"\\u0411\\u0430\\u0440\\u0433\\u0443\\u0437\\u0438\\u043d\",\"\\u0414\\u043e\\u043d \\u041e\\u0442\\u0435\\u043b\\u043b\\u043e\",\"\\u0417\\u0432\\u0435\\u0437\\u0434\\u043d\\u044b\\u0439\",\"\\u041a\\u0430\\u0440\\u0430\\u043c\\u0435\\u043b\\u044c\",\"\\u041a\\u0438\\u043d\\u043e Jam\",\"\\u041a\\u0438\\u043d\\u043e\\u043a\\u0432\\u0430\\u0440\\u0442\\u0430\\u043b\",\"\\u041a\\u0438\\u043d\\u043e\\u043c\\u0430\\u043a\\u0441-\\u0421\\u0438\\u043b\\u044c\\u0432\\u0435\\u0440 \\u041c\\u043e\\u043b\\u043b\",\"\\u041a\\u0438\\u043d\\u043e\\u043c\\u0430\\u043a\\u0441\\u2013\\u0421\\u0438\\u043b\\u044c\\u0432\\u0435\\u0440\",\"\\u041a\\u0438\\u043d\\u043e\\u043c\\u043e\\u043b\\u043b\",\"\\u0420\\u043e\\u0434\\u0438\\u043d\\u0430 (\\u0410\\u043d\\u0433\\u0430\\u0440\\u0441\\u043a)\",\"\\u0414\\u041a \\u0420\\u043e\\u0441\\u0441\\u0438\\u044f\",\"\\u0421\\u0438\\u043d\\u0435\\u043c\\u0430 \\u042d\\u043b\",\"Cinema 5\",\"Cinema 5 \\u041f\\u0430\\u0440\\u043a \\u0425\\u0430\\u0443\\u0441\",\"\\u0410\\u043b\\u043c\\u0430\\u0437 \\u0421\\u0438\\u043d\\u0435\\u043c\\u0430 XL\",\"\\u0410\\u043b\\u043c\\u0430\\u0437 \\u0421\\u0438\\u043d\\u0435\\u043c\\u0430 \\u0413\\u0440\\u0430\\u043d\\u0434\",\"\\u0410\\u043b\\u043c\\u0430\\u0437 \\u0421\\u0438\\u043d\\u0435\\u043c\\u0430 \\u041f\\u043e\\u0440\\u0442\",\"\\u0410\\u043b\\u043c\\u0430\\u0437 \\u0421\\u0438\\u043d\\u0435\\u043c\\u0430 \\u041f\\u043e\\u0440\\u0442\",\"\\u0410\\u043b\\u043c\\u0430\\u0437 \\u0421\\u0438\\u043d\\u0435\\u043c\\u0430 \\u0420\\u043e\\u0434\\u0438\\u043d\\u0430\",\"\\u0410\\u043b\\u043c\\u0430\\u0437 \\u0421\\u0438\\u043d\\u0435\\u043c\\u0430 \\u0421\\u0443\\u0432\\u0430\\u0440\",\"\\u041a\\u0430\\u0440\\u043e 6 \\u041a\\u043e\\u043b\\u044c\\u0446\\u043e\",\"\\u041a\\u0438\\u043d\\u043e\\u043c\\u0430\\u043a\\u0441-Club\",\"\\u041a\\u0438\\u043d\\u043e\\u043c\\u0430\\u043a\\u0441-\\u0422\\u0430\\u043d\\u0434\\u0435\\u043c\",\"\\u041a\\u0438\\u043d\\u043e\\u043c\\u0430\\u043a\\u0441\\u2013Club\",\"\\u041a\\u0438\\u043d\\u043e\\u043c\\u0430\\u043a\\u0441\\u2013\\u0422\\u0430\\u043d\\u0434\\u0435\\u043c\",\"\\u041a\\u043e\\u0440\\u0441\\u0442\\u043e\\u043d\",\"\\u041b\\u0435\\u043d\\u0438\\u043d\\u0430\",\"\\u041c\\u0438\\u0440\",\"\\u0417\\u0430\\u0440\\u044f\",\"\\u041a\\u0430\\u0440\\u043e 7 \\u041a\\u0430\\u043b\\u0438\\u043d\\u0438\\u043d\\u0433\\u0440\\u0430\\u0434 \\u041f\\u043b\\u0430\\u0437\\u0430\",\"\\u041a\\u0438\\u043d\\u043e\\u043b\\u0435\\u043d\\u0434\",\"\\u041a\\u0438\\u043d\\u043e\\u0441\\u0444\\u0435\\u0440\\u0430 \",\"\\u0421\\u0438\\u043d\\u0435\\u043c\\u0430 \\u041f\\u0430\\u0440\\u043a \\u0415\\u0432\\u0440\\u043e\\u043f\\u0430\",\"\\u042d\\u043f\\u0438\\u0446\\u0435\\u043d\\u0442\\u0440\",\"\\u041c\\u0410\\u0423\\u041a \\u0414\\u041a\\u0438\\u0421 \\u0422\\u0430\\u043c\\u0430\\u043d\\u044c\",\"\\u0410\\u0440\\u043b\\u0435\\u043a\\u0438\\u043d\\u043e\",\"\\u0410\\u0440\\u043b\\u0435\\u043a\\u0438\\u043d\\u043e\",\"\\u0418\\u043d\\u043d\\u043e\\u0432\\u0430\\u0446\\u0438\\u043e\\u043d\\u043d\\u044b\\u0439 \\u043a\\u0443\\u043b\\u044c\\u0442\\u0443\\u0440\\u043d\\u044b\\u0439 \\u0446\\u0435\\u043d\\u0442\\u0440\",\"\\u0418\\u043d\\u043d\\u043e\\u0432\\u0430\\u0446\\u0438\\u043e\\u043d\\u043d\\u044b\\u0439 \\u043a\\u0443\\u043b\\u044c\\u0442\\u0443\\u0440\\u043d\\u044b\\u0439 \\u0446\\u0435\\u043d\\u0442\\u0440\",\"\\u041a\\u0438\\u043d\\u043e\\u0437\\u0430\\u043b \\u0414\\u041a \\u0438\\u043c. \\u0413\\u043e\\u0433\\u0438\\u0431\\u0435\\u0440\\u0438\\u0434\\u0437\\u0435 (\\u041b\\u044e\\u0434\\u0438\\u043d\\u043e\\u0432\\u043e)\",\"\\u0421\\u0438\\u043d\\u0435\\u043c\\u0430 \\u0421\\u0442\\u0430\\u0440 XXI \\u0432\\u0435\\u043a\",\"\\u0421\\u0438\\u043d\\u0435\\u043c\\u0430 \\u0421\\u0442\\u0430\\u0440 \\u041a\\u0430\\u043b\\u0443\\u0433\\u0430 XXI \\u0432\\u0435\\u043a\",\"\\u0421\\u0438\\u043d\\u0435\\u043c\\u0430 \\u0421\\u0442\\u0430\\u0440 \\u0420\\u0438\\u043e\",\"\\u0421\\u0438\\u043d\\u0435\\u043c\\u0430 \\u0421\\u0442\\u0430\\u0440 \\u0420\\u0438\\u043e \\u041a\\u0430\\u043b\\u0443\\u0433\\u0430\",\"\\u041a\\u0438\\u043d\\u043eFox\",\"\\u041a\\u0438\\u043d\\u043eFox \\u043d\\u0430 \\u0443\\u043b. \\u041b\\u0435\\u043d\\u0438\\u043d\\u0430\",\"\\u041a\\u0438\\u043d\\u043eFox \\u043d\\u0430 \\u0443\\u043b. \\u0421\\u0443\\u0432\\u043e\\u0440\\u043e\\u0432\\u0430\",\"\\u041c\\u0430\\u0440\\u0441\",\"\\u0413\\u0440\\u0438\\u043d\\u0432\\u0438\\u0447\",\"\\u041a\\u0438\\u043d\\u043e\\u0446\\u0435\\u043d\\u0442\\u0440 \\u0420\\u0438\\u043e \\u0421\\u0438\\u043d\\u0435\\u043c\\u0430\",\"\\u041f\\u043b\\u0430\\u043d\\u0435\\u0442\\u0430 \\u043a\\u0438\\u043d\\u043e \\u041f\\u0440\\u043e\\u043c\\u0435\\u043d\\u0430\\u0434-3\",\"\\u041f\\u043b\\u0430\\u043d\\u0435\\u0442\\u0430 \\u043a\\u0438\\u043d\\u043e \\u0432 \\u0422\\u0420\\u041a \\u041f\\u0440\\u043e\\u043c\\u0435\\u043d\\u0430\\u0434-2\",\"\\u041f\\u043b\\u0430\\u043d\\u0435\\u0442\\u0430 \\u043a\\u0438\\u043d\\u043e \\u0432 \\u0422\\u0420\\u041a \\u041f\\u0440\\u043e\\u043c\\u0435\\u043d\\u0430\\u0434-3\",\"\\u0420\\u0438\\u043e \\u0421\\u0438\\u043d\\u0435\\u043c\\u0430\",\"\\u041a\\u0438\\u043d\\u043e\\u043f\\u043e\\u043b\\u0438\\u0441 \\u041a\\u0438\\u043d\\u0433\\u0438\\u0441\\u0435\\u043f\\u043f\",\"\\u041a\\u0438\\u043d\\u043e\\u043f\\u043e\\u043b\\u0438\\u0441 \\u041a\\u0443\\u0431\\u0443\\u0441 (\\u041a\\u0438\\u043d\\u0433\\u0438\\u0441\\u0435\\u043f\\u043f)\",\"\\u041b\\u044e\\u043c\\u0435\\u043d \\u0424\\u0438\\u043b\\u044c\\u043c (\\u041a\\u0438\\u043d\\u0433\\u0438\\u0441\\u0435\\u043f\\u043f)\",\"\\u041e\\u043b\\u0438\\u043c\\u043f\",\"\\u041e\\u043b\\u0438\\u043c\\u043f (\\u041a\\u0438\\u0440\\u0438\\u0448\\u0438)\",\"\\u041a\\u0438\\u043d\\u043e\\u043c\\u0430\\u043a\\u0441\",\"Silver Cinema\",\"\\u041a\\u0438\\u043d\\u043e\\u043f\\u0430\\u0440\\u043a (\\u041a\\u043b\\u0438\\u043d\\u0446\\u044b)\",\"\\u0421\\u0438\\u043d\\u0435\\u043c\\u0430 \\u042d\\u043b \\u041a\\u043e\\u0437\\u044c\\u043c\\u043e\\u0434\\u0435\\u043c\\u044c\\u044f\\u043d\\u0441\\u043a\",\"Silver Cinema\",\"\\u0413\\u043e\\u0440\\u0438\\u0437\\u043e\\u043d\\u0442\",\"\\u0413\\u043e\\u0440\\u0438\\u0437\\u043e\\u043d\\u0442 (\\u041a\\u043e\\u043b\\u043e\\u043c\\u043d\\u0430)\",\"\\u0421\\u0438\\u043d\\u0435\\u043c\\u0430 \\u0421\\u0442\\u0430\\u0440 \\u0420\\u0438\\u043e (\\u041a\\u043e\\u043b\\u043e\\u043c\\u043d\\u0430)\",\"\\u0421\\u0438\\u043d\\u0435\\u043c\\u0430 \\u0421\\u0442\\u0430\\u0440 \\u0420\\u0438\\u043e \\u041a\\u043e\\u043b\\u043e\\u043c\\u043d\\u0430\",\"\\u0413\\u043b\\u043e\\u0431\\u0430\\u043b \\u0421\\u0438\\u043d\\u0435\\u043c\\u0430 \\u041a\\u043e\\u043d\\u0430\\u043a\\u043e\\u0432\\u043e\",\"American Cinema\",\"Cinema V (\\u041a\\u043e\\u0440\\u044f\\u0436\\u043c\\u0430)\",\"5 \\u0437\\u0432\\u0435\\u0437\\u0434 \\u041a\\u043e\\u0441\\u0442\\u0440\\u043e\\u043c\\u0430\",\"\\u0421\\u0438\\u043d\\u0435\\u043c\\u0430 \\u0421\\u0442\\u0430\\u0440 \\u041a\\u043e\\u0441\\u0442\\u0440\\u043e\\u043c\\u0430\",\"\\u0426\\u0435\\u043d\\u0442\\u0440\\u0430\\u043b\\u044c\\u043d\\u044b\\u0439\",\"\\u0426\\u0435\\u043d\\u0442\\u0440\\u0430\\u043b\\u044c\\u043d\\u044b\\u0439 \\u041a\\u043e\\u0441\\u0442\\u0440\\u043e\\u043c\\u0441\\u043a\\u043e\\u0433\\u043e \\u043e\\u0431\\u043b\\u0430\\u0441\\u0442\\u043d\\u043e\\u0433\\u043e \\u0414\\u043e\\u043c\\u0430 \\u043d\\u0430\\u0440\\u043e\\u0434\\u043d\\u043e\\u0433\\u043e \\u0442\\u0432\\u043e\\u0440\\u0447\\u0435\\u0441\\u0442\\u0432\\u0430\",\"\\u0420\\u0443\\u0431\\u043b\\u0438\\u043e\\u043d \\u0421\\u0438\\u043d\\u0435\\u043c\\u0430 \\u0422\\u0420\\u0426 \\u0421\\u0442\\u043e\\u043b\\u0438\\u0446\\u0430\",\"\\u0414\\u0432\\u043e\\u0440\\u0435\\u0446 \\u041a\\u0443\\u043b\\u044c\\u0442\\u0443\\u0440\\u044b\",\"\\u041c\\u0430\\u0439\",\"Mori Cinema (\\u041a\\u0440\\u0430\\u0441\\u043d\\u043e\\u0433\\u043e\\u0440\\u0441\\u043a)\",\"\\u041a\\u0438\\u043d\\u043e\\u043c\\u0430\\u043a\\u0441-\\u0420\\u0438\\u0433\\u0430 \\u041c\\u043e\\u043b\\u043b\",\"\\u0411\\u0435\\u043b\\u0430\\u044f \\u0440\\u0435\\u043a\\u0430 (\\u0411\\u0435\\u043b\\u043e\\u0440\\u0435\\u0447\\u0435\\u043d\\u0441\\u043a)\",\"\\u041a\\u0438\\u043d\\u043e\\u043c\\u0430\\u043a\\u0441 (\\u041a\\u0440\\u0430\\u0441\\u043d\\u043e\\u0434\\u0430\\u0440)\",\"\\u041c\\u041e\\u041d\\u0418\\u0422\\u041e\\u0420 \\u0411\\u043e\\u043b\\u0433\\u0430\\u0440\\u0438\\u044f (\\u041a\\u0440\\u0430\\u0441\\u043d\\u043e\\u0434\\u0430\\u0440)\",\"\\u041c\\u041e\\u041d\\u0418\\u0422\\u041e\\u0420 \\u0415\\u0432\\u0440\\u043e\\u043f\\u0430 (\\u041a\\u0440\\u0430\\u0441\\u043d\\u043e\\u0434\\u0430\\u0440)\",\"\\u041c\\u041e\\u041d\\u0418\\u0422\\u041e\\u0420 \\u041a\\u0440\\u0430\\u0441\\u043d\\u0430\\u044f \\u041f\\u043b\\u043e\\u0449\\u0430\\u0434\\u044c (\\u041a\\u0440\\u0430\\u0441\\u043d\\u043e\\u0434\\u0430\\u0440)\",\"\\u041c\\u041e\\u041d\\u0418\\u0422\\u041e\\u0420 \\u0421\\u0411\\u0421 (\\u041a\\u0440\\u0430\\u0441\\u043d\\u043e\\u0434\\u0430\\u0440)\",\"\\u041c\\u041e\\u041d\\u0418\\u0422\\u041e\\u0420 \\u0421\\u0438\\u0442\\u0438 de Luxe (\\u041a\\u0440\\u0430\\u0441\\u043d\\u043e\\u0434\\u0430\\u0440)\",\"\\u041c\\u043e\\u043d\\u0438\\u0442\\u043e\\u0440 \\u0411\\u043e\\u043b\\u0433\\u0430\\u0440\\u0438\\u044f\",\"\\u041c\\u043e\\u043d\\u0438\\u0442\\u043e\\u0440 \\u0415\\u0432\\u0440\\u043e\\u043f\\u0430\",\"\\u041c\\u043e\\u043d\\u0438\\u0442\\u043e\\u0440 \\u0421\\u0411\\u0421\",\"\\u041c\\u043e\\u043d\\u0438\\u0442\\u043e\\u0440 \\u043d\\u0430 \\u041a\\u0440\\u0430\\u0441\\u043d\\u043e\\u0439 \\u043f\\u043b\\u043e\\u0449\\u0430\\u0434\\u0438 (\\u0410\\u043d\\u0430\\u043f\\u0430)\",\"\\u0424\\u043e\\u0440\\u043c\\u0443\\u043b\\u0430 \\u041a\\u0438\\u043d\\u043e OZ\",\"Mori Cinema (\\u041a\\u0440\\u0430\\u0441\\u043d\\u043e\\u044f\\u0440\\u0441\\u043a)\",\"\\u0414\\u043e\\u043c \\u043a\\u0438\\u043d\\u043e\",\"\\u041a\\u0438\\u043d\\u043e\\u043c\\u0430\\u043a\\u0441-\\u041f\\u043b\\u0430\\u043d\\u0435\\u0442\\u0430\",\"\\u041a\\u0438\\u043d\\u043e\\u043c\\u0430\\u043a\\u0441\\u2013\\u041f\\u043b\\u0430\\u043d\\u0435\\u0442\\u0430\",\"\\u041c\\u0435\\u0447\\u0442\\u0430\",\"\\u0421\\u0438\\u043d\\u0435\\u043c\\u0430 \\u041f\\u0430\\u0440\\u043a \\u0413\\u0430\\u043b\\u0435\\u0440\\u0435\\u044f \\u0415\\u043d\\u0438\\u0441\\u0435\\u0439\",\"\\u042d\\u043f\\u0438\\u0446\\u0435\\u043d\\u0442\\u0440\",\"\\u0413\\u043b\\u043e\\u0431\\u0430\\u043b-\\u043a\\u0438\\u043d\\u043e (\\u041a\\u0443\\u0437\\u043d\\u0435\\u0446\\u043a)\",\"\\u041a\\u0438\\u043d\\u043e\\u043a\\u0430\\u0444\\u0435 (\\u041a\\u0443\\u043b\\u0435\\u0431\\u0430\\u043a\\u0438)\",\"Pushka\",\"Pushka\",\"\\u041f\\u043e\\u0431\\u0435\\u0434\\u0430 (\\u041a\\u0443\\u0440\\u0433\\u0430\\u043d\\u0438\\u043d\\u0441\\u043a)\",\"5 \\u0437\\u0432\\u0435\\u0437\\u0434 \\u041a\\u0443\\u0440\\u0441\\u043a\",\"Cinema 5\",\"Cinema 5 \\u041a\\u0443\\u0440\\u0441\\u043a\",\"\\u0413\\u0420\\u0418\\u041d\\u041d\\u0424\\u0418\\u041b\\u042c\\u041c (\\u041a\\u0443\\u0440\\u0441\\u043a)\",\"\\u041b\\u044e\\u043a\\u0441\\u043e\\u0440 \\u0415\\u0432\\u0440\\u043e\\u043f\\u0430\",\"\\u041b\\u044e\\u043a\\u0441\\u043e\\u0440 \\u041a\\u0443\\u0440\\u0441\\u043a\",\"\\u0420\\u043e\\u0434\\u0438\\u043d\\u0430\",\"\\u0420\\u0435\\u0442\\u0440\\u043e\",\"\\u041a\\u0438\\u043d\\u043e\\u043c\\u0430\\u043a\\u0441-\\u0420\\u0438\\u0432\\u044c\\u0435\\u0440\\u0430 \\u041b\\u0438\\u043f\\u0435\\u0446\\u043a\",\"\\u041a\\u0438\\u043d\\u043e\\u043c\\u0430\\u043a\\u0441\\u2013\\u0420\\u0438\\u0432\\u044c\\u0435\\u0440\\u0430\",\"\\u041c\\u0430\\u043b\\u0438\\u0431\\u0443\",\"\\u041c\\u0430\\u043b\\u0438\\u043d\\u0430-\\u0412\\u043e\\u0434\\u043e\\u043f\\u044c\\u044f\\u043d\\u043e\\u0432\\u0430\",\"\\u041c\\u0430\\u043b\\u0438\\u043d\\u0430-\\u041c\\u043e\\u0441\\u043a\\u0432\\u0430\",\"\\u0424\\u043b\\u0438\\u043d\\u0442\",\"\\u041a\\u0438\\u043d\\u043e\\u043f\\u0430\\u0440\\u043a\",\"Silver Cinema\",\"\\u0412\\u0438\\u043a\\u0438 \\u0421\\u0438\\u043d\\u0435\\u043c\\u0430 (\\u041b\\u044e\\u0431\\u0435\\u0440\\u0446\\u044b)\",\"\\u0413\\u043b\\u043e\\u0431\\u0430\\u043b \\u0421\\u0438\\u043d\\u0435\\u043c\\u0430 \\u041b\\u044f\\u043d\\u0442\\u043e\\u0440\",\"\\u0413\\u043e\\u0440\\u043d\\u044f\\u043a\",\"\\u041d\\u0430\\u0433\\u0430\\u0435\\u0432\\u0441\\u043a\\u0438\\u0439\",\"\\u0420\\u0430\\u0434\\u0443\\u0433\\u0430 \\u043a\\u0438\\u043d\\u043e\",\"\\u0420\\u0430\\u0434\\u0443\\u0433\\u0430 \\u043a\\u0438\\u043d\\u043e\",\"Joy Land\",\"Joy Land (\\u041c\\u0430\\u0439\\u043a\\u043e\\u043f)\",\"\\u041a\\u0414\\u041a \\u041a\\u0430\\u043b\\u0435\\u0439\\u0434\\u043e\\u0441\\u043a\\u043e\\u043f\",\"\\u0423\\u0440\\u0430\\u043b (\\u041c\\u0435\\u0434\\u043d\\u043e\\u0433\\u043e\\u0440\\u0441\\u043a)\",\"\\u0413\\u0430\\u0432\\u0430\\u0439\\u0438\",\"\\u0421\\u043f\\u0435\\u043a\\u0442\\u0440 3D\",\"5 \\u0437\\u0432\\u0435\\u0437\\u0434 (\\u0429\\u0435\\u043b\\u043a\\u043e\\u0432\\u043e)\",\"5 \\u0437\\u0432\\u0435\\u0437\\u0434 \\u043d\\u0430 \\u041d\\u043e\\u0432\\u043e\\u043a\\u0443\\u0437\\u043d\\u0435\\u0446\\u043a\\u043e\\u0439\",\"5 \\u0437\\u0432\\u0435\\u0437\\u0434 \\u043d\\u0430 \\u041f\\u0430\\u0432\\u0435\\u043b\\u0435\\u0446\\u043a\\u043e\\u0439\",\"Gagarin Cinema (\\u0418\\u0432\\u0430\\u043d\\u0442\\u0435\\u0435\\u0432\\u043a\\u0430)\",\"Garage Screen\",\"Garage Screen\",\"Magic Cinema\",\"Mori Cinema \\u041a\\u0443\\u043d\\u0446\\u0435\\u0432\\u043e\",\"Prada 3D (\\u0411\\u0430\\u043b\\u0430\\u0448\\u0438\\u0445\\u0430)\",\"Pushka\",\"Pushka Mitino\",\"Pushka \\u0411\\u0430\\u0431\\u0443\\u0448\\u043a\\u0438\\u043d\\u0441\\u043a\\u0430\\u044f\",\"Pushka \\u0411\\u0440\\u0430\\u0442\\u0435\\u0435\\u0432\\u043e\",\"Pushka \\u041c\\u0438\\u0442\\u0438\\u043d\\u043e\",\"Pushka \\u0432 \\u0422\\u0420\\u041a \\u041a\\u043b\\u044e\\u0447\\u0435\\u0432\\u043e\\u0439\",\"Silver Cinema\",\"\\u0410\\u0432\\u0442\\u043e\\u041a\\u0410\\u0420\\u041e \\u043f\\u043e\\u0434 \\u0437\\u0432\\u0435\\u0437\\u0434\\u0430\\u043c\\u0438: \\u0427\\u0435\\u0440\\u0451\\u043c\\u0443\\u0448\\u043a\\u0438\",\"\\u0410\\u0432\\u0442\\u043e\\u043a\\u0438\\u043d\\u043e \\u00ab\\u041b\\u0435\\u043d\\u0438\\u043d\\u0441\\u043a\\u0438\\u0439\\u00bb\",\"\\u0410\\u0432\\u0442\\u043e\\u043a\\u0438\\u043d\\u043e\\u0442\\u0435\\u0430\\u0442\\u0440 \\u0421\\u0438\\u043d\\u0435\\u043c\\u0430 \\u041f\\u0430\\u0440\\u043a \\u0417\\u0435\\u043b\\u0435\\u043d\\u043e\\u043f\\u0430\\u0440\\u043a (\\u0417\\u0435\\u043b\\u0435\\u043d\\u043e\\u0433\\u0440\\u0430\\u0434)\",\"\\u0410\\u043b\\u043c\\u0430\\u0437 \\u0421\\u0438\\u043d\\u0435\\u043c\\u0430 \\u0410\\u0437\\u043e\\u0432\\u0441\\u043a\\u0438\\u0439\",\"\\u0410\\u043b\\u043c\\u0430\\u0437 \\u0421\\u0438\\u043d\\u0435\\u043c\\u0430 \\u0410\\u043b\\u0442\\u0443\\u0444\\u044c\\u0435\\u0432\\u0441\\u043a\\u0438\\u0439\",\"\\u0410\\u043b\\u043c\\u0430\\u0437 \\u0421\\u0438\\u043d\\u0435\\u043c\\u0430 \\u0410\\u043b\\u0442\\u0443\\u0444\\u044c\\u0435\\u0432\\u0441\\u043a\\u0438\\u0439\",\"\\u0411\\u0430\\u043b\\u0442\\u0438\\u043a\\u0430\",\"\\u0411\\u043e\\u043b\\u044c\\u0448\\u043e\\u0439 \\u043f\\u043b\\u0430\\u043d\\u0435\\u0442\\u0430\\u0440\\u0438\\u0439 \\u041c\\u043e\\u0441\\u043a\\u0432\\u044b\",\"\\u0411\\u0443\\u043b\\u044c\\u0432\\u0430\\u0440\",\"\\u0411\\u0443\\u043b\\u044c\\u0432\\u0430\\u0440\",\"\\u0412\\u0440\\u0435\\u043c\\u0435\\u043d\\u0430 \\u0433\\u043e\\u0434\\u0430\",\"\\u0412\\u0440\\u0435\\u043c\\u0435\\u043d\\u0430 \\u0433\\u043e\\u0434\\u0430\",\"\\u0413\\u0423\\u041c \\u041a\\u0438\\u043d\\u043e\\u0437\\u0430\\u043b\",\"\\u0413\\u0430\\u043b\\u0435\\u0440\\u0435\\u044f \\u041a\\u0438\\u043d\\u043e\",\"\\u0413\\u043b\\u043e\\u0431\\u0430\\u043b \\u0421\\u0438\\u043d\\u0435\\u043c\\u0430 XL \",\"\\u0417\\u0438\\u0433 \\u0417\\u0430\\u0433\",\"\\u0418\\u043b\\u043b\\u044e\\u0437\\u0438\\u043e\\u043d\",\"\\u041a\\u0410\\u0420\\u041e 9 \\u0412\\u0435\\u0433\\u0430\\u0441 \\u041a\\u0430\\u0448\\u0438\\u0440\\u0441\\u043a\\u0438\\u0439\",\"\\u041a\\u0418\\u041d\\u041e \\u041e\\u041a\\u041a\\u041e \\u0410\\u0444\\u0438\\u043c\\u043e\\u043b\\u043b \\u0421\\u0438\\u0442\\u0438\",\"\\u041a\\u0430\\u0440\\u043e 10 \\u0429\\u0443\\u043a\\u0430\",\"\\u041a\\u0430\\u0440\\u043e 11 \\u041e\\u043a\\u0442\\u044f\\u0431\\u0440\\u044c\",\"\\u041a\\u0430\\u0440\\u043e 13 \\u041a\\u0443\\u043d\\u0446\\u0435\\u0432\\u043e\",\"\\u041a\\u0430\\u0440\\u043e 3 \\u0410\\u043b\\u0442\\u0443\\u0444\\u044c\\u0435\\u0432\\u043e\",\"\\u041a\\u0430\\u0440\\u043e 4 \\u0410\\u043d\\u0433\\u0430\\u0440\\u0430\",\"\\u041a\\u0430\\u0440\\u043e 4 \\u043d\\u0430 \\u0428\\u0435\\u0440\\u0435\\u043c\\u0435\\u0442\\u044c\\u0435\\u0432\\u0441\\u043a\\u043e\\u0439\",\"\\u041a\\u0430\\u0440\\u043e 6 \\u0421\\u0435\\u0432\\u0430\\u0441\\u0442\\u043e\\u043f\\u043e\\u043b\\u044c\\u0441\\u043a\\u0438\\u0439\",\"\\u041a\\u0430\\u0440\\u043e 6 \\u0422\\u0435\\u043f\\u043b\\u044b\\u0439 \\u0421\\u0442\\u0430\\u043d\",\"\\u041a\\u0430\\u0440\\u043e 7 \\u0410\\u0442\\u0440\\u0438\\u0443\\u043c\",\"\\u041a\\u0430\\u0440\\u043e 8 \\u041a\\u0430\\u043f\\u0438\\u0442\\u043e\\u043b\\u0438\\u0439 \\u0412\\u0435\\u0440\\u043d\\u0430\\u0434\\u0441\\u043a\\u043e\\u0433\\u043e\",\"\\u041a\\u0430\\u0440\\u043e 8 \\u0421\\u0430\\u043b\\u0430\\u0440\\u0438\\u0441\",\"\\u041a\\u0430\\u0440\\u043e 8 \\u042e\\u0436\\u043d\\u043e\\u0435 \\u0411\\u0443\\u0442\\u043e\\u0432\\u043e\",\"\\u041a\\u0430\\u0440\\u043e Sky 17 \\u0410\\u0432\\u0438\\u0430\\u043f\\u0430\\u0440\\u043a\",\"\\u041a\\u0430\\u0440\\u043e Vegas 22\",\"\\u041a\\u0438\\u043d\\u043e \\u041e\\u043a\\u043a\\u043e \\u0429\\u0435\\u043b\\u043a\\u043e\\u0432\\u0441\\u043a\\u0438\\u0439\",\"\\u041a\\u0438\\u043d\\u043e\\u0437\\u0430\\u043b \\u0413\\u0423\\u041c\\u0430\",\"\\u041a\\u0438\\u043d\\u043e\\u0437\\u0430\\u043b \\u0414\\u043e\\u043c\\u0436\\u0443\\u0440\",\"\\u041a\\u0438\\u043d\\u043e\\u043a\\u0432\\u0430\\u0440\\u0442\\u0430\\u043b \\u0432 \\u042f\\u0441\\u0435\\u043d\\u0435\\u0432\\u043e\",\"\\u041a\\u0438\\u043d\\u043e\\u043a\\u0432\\u0430\\u0440\\u0442\\u0430\\u043b \\u043d\\u0430 \\u0412\\u0430\\u0440\\u0448\\u0430\\u0432\\u043a\\u0435\",\"\\u041a\\u0438\\u043d\\u043e\\u043c\\u0430\\u043a\\u0441 \\u0420\\u0438\\u0433\\u0430-\\u043c\\u043e\\u043b\\u043b\",\"\\u041a\\u0438\\u043d\\u043e\\u043c\\u0430\\u043a\\u0441-XL\",\"\\u041a\\u0438\\u043d\\u043e\\u043c\\u0430\\u043a\\u0441-\\u0412\\u043e\\u0434\\u043d\\u044b\\u0439\",\"\\u041a\\u0438\\u043d\\u043e\\u043c\\u0430\\u043a\\u0441-\\u0416\\u0443\\u043b\\u0435\\u0431\\u0438\\u043d\\u043e\",\"\\u041a\\u0438\\u043d\\u043e\\u043c\\u0430\\u043a\\u0441-\\u041c\\u043e\\u0437\\u0430\\u0438\\u043a\\u0430\",\"\\u041a\\u0438\\u043d\\u043e\\u043c\\u0430\\u043a\\u0441-\\u041c\\u043e\\u0437\\u0430\\u0438\\u043a\\u0430\",\"\\u041a\\u0438\\u043d\\u043e\\u043c\\u0430\\u043a\\u0441-\\u041f\\u0440\\u0430\\u0436\\u0441\\u043a\\u0430\\u044f\",\"\\u041a\\u0438\\u043d\\u043e\\u043c\\u0430\\u043a\\u0441-\\u041f\\u0440\\u0430\\u0436\\u0441\\u043a\\u0430\\u044f\",\"\\u041a\\u0438\\u043d\\u043e\\u043c\\u0430\\u043a\\u0441-\\u0421\\u043e\\u043b\\u044f\\u0440\\u0438\\u0441\",\"\\u041a\\u0438\\u043d\\u043e\\u043c\\u0430\\u043a\\u0441-\\u0422\\u0438\\u0442\\u0430\\u043d\",\"\\u041a\\u0438\\u043d\\u043e\\u043c\\u0430\\u043a\\u0441\\u2013XL\",\"\\u041a\\u0438\\u043d\\u043e\\u043c\\u0430\\u043a\\u0441\\u2013\\u0412\\u043e\\u0434\\u043d\\u044b\\u0439\",\"\\u041a\\u0438\\u043d\\u043e\\u043c\\u0430\\u043a\\u0441\\u2013\\u0416\\u0443\\u043b\\u0435\\u0431\\u0438\\u043d\\u043e\",\"\\u041a\\u0438\\u043d\\u043e\\u043c\\u0430\\u043a\\u0441\\u2013\\u0421\\u043e\\u043b\\u044f\\u0440\\u0438\\u0441\",\"\\u041a\\u0438\\u043d\\u043e\\u043c\\u0430\\u043a\\u0441\\u2013\\u0422\\u0438\\u0442\\u0430\\u043d\",\"\\u041a\\u0438\\u043d\\u043e\\u0441\\u0444\\u0435\\u0440\\u0430 IMAX\",\"\\u041a\\u0438\\u043d\\u043e\\u0441\\u0444\\u0435\\u0440\\u0430 IMAX\",\"\\u041a\\u0438\\u043d\\u043e\\u0446\\u0435\\u043d\\u0442\\u0440 \\u00ab\\u0414\\u043e\\u043c\\u0436\\u0443\\u0440\\u00bb\",\"\\u041a\\u043e\\u0441\\u043c\\u0438\\u043a \\u0410\\u043d\\u043d\\u0438\\u043d\\u043e\",\"\\u041a\\u043e\\u0441\\u043c\\u0438\\u043a \\u0410\\u043d\\u043d\\u0438\\u043d\\u043e\",\"\\u041a\\u043e\\u0441\\u043c\\u0438\\u043a \\u041a\\u0430\\u043f\\u0438\\u0442\\u043e\\u043b\\u0438\\u0439\",\"\\u041a\\u043e\\u0441\\u043c\\u0438\\u043a \\u0421\\u0447\\u0430\\u0441\\u0442\\u043b\\u0438\\u0432\\u0430\\u044f \\u0441\\u0435\\u043c\\u044c\\u044f (\\u0421\\u0435\\u0440\\u0433\\u0438\\u0435\\u0432 \\u041f\\u043e\\u0441\\u0430\\u0434)\",\"\\u041a\\u043e\\u0441\\u043c\\u0438\\u043a \\u042f\\u0441\\u0435\\u043d\\u0435\\u0432\\u043e\",\"\\u041a\\u043e\\u0441\\u043c\\u0438\\u043a \\u042f\\u0441\\u0435\\u043d\\u0435\\u0432\\u043e\",\"\\u041a\\u0440\\u043e\\u043d\\u0432\\u0435\\u0440\\u043a \\u0421\\u0438\\u043d\\u0435\\u043c\\u0430 \\u0412\\u044d\\u0439\\u043f\\u0430\\u0440\\u043a\",\"\\u041a\\u0440\\u043e\\u043d\\u0432\\u0435\\u0440\\u043a \\u0421\\u0438\\u043d\\u0435\\u043c\\u0430 \\u041e\\u0431\\u043b\\u0430\\u043a\\u0430\",\"\\u041a\\u0440\\u043e\\u043d\\u0432\\u0435\\u0440\\u043a \\u0421\\u0438\\u043d\\u0435\\u043c\\u0430 \\u0421\\u0435\\u043c\\u0435\\u043d\\u043e\\u0432\\u0441\\u043a\\u0438\\u0439\",\"\\u041b\\u0435\\u043a\\u0442\\u043e\\u0440\\u0438\\u0439 \\u041c\\u0443\\u0437\\u0435\\u044f \\u0413\\u0430\\u0440\\u0430\\u0436\",\"\\u041b\\u0435\\u0442\\u043d\\u0438\\u0439 \\u041a\\u0410\\u0420\\u041e \\u042d\\u0440\\u043c\\u0438\\u0442\\u0430\\u0436\",\"\\u041b\\u0435\\u0442\\u043d\\u0438\\u0439 \\u041a\\u0410\\u0420\\u041e \\u043f\\u0430\\u0440\\u043a \\u0421\\u0430\\u0434\\u043e\\u0432\\u043d\\u0438\\u043a\\u0438\",\"\\u041b\\u043e\\u0440\\u0434\",\"\\u041b\\u043e\\u0440\\u0434\",\"\\u041b\\u044e\\u043a\\u0441\\u043e\\u0440 \\u0412\\u0435\\u0441\\u043d\\u0430\",\"\\u041b\\u044e\\u043a\\u0441\\u043e\\u0440 \\u0412\\u0435\\u0441\\u043d\\u0430\",\"\\u041b\\u044e\\u043a\\u0441\\u043e\\u0440 \\u0413\\u0443\\u0434\\u0437\\u043e\\u043d\",\"\\u041c\\u0438\\u0440\\u0430\\u0436 \\u0421\\u0438\\u043d\\u0435\\u043c\\u0430 Mari\",\"\\u041c\\u0438\\u0440\\u0430\\u0436 \\u0421\\u0438\\u043d\\u0435\\u043c\\u0430 \\u0415\\u0432\\u0440\\u043e\\u043f\\u043e\\u043b\\u0438\\u0441\",\"\\u041c\\u0438\\u0440\\u0430\\u0436 \\u0421\\u0438\\u043d\\u0435\\u043c\\u0430 \\u041e\\u0442\\u0440\\u0430\\u0434\\u043d\\u043e\\u0435\",\"\\u041c\\u043e\\u043b\\u043e\\u0434\\u0435\\u0436\\u043d\\u044b\\u0439 \\u0446\\u0435\\u043d\\u0442\\u0440 (\\u0418\\u0441\\u0442\\u0440\\u0430)\",\"\\u041c\\u043e\\u0440\\u0438 \\u0421\\u0438\\u043d\\u0435\\u043c\\u0430 \\u041a\\u0443\\u043d\\u0446\\u0435\\u0432\\u043e\",\"\\u041c\\u043e\\u0440\\u0438 \\u0421\\u0438\\u043d\\u0435\\u043c\\u0430 \\u041c\\u044b\\u0442\\u0438\\u0449\\u0438\",\"\\u041c\\u043e\\u0441\\u043a\\u0438\\u043d\\u043e \\u0411\\u0435\\u0440\\u0435\\u0437\\u043a\\u0430\",\"\\u041c\\u043e\\u0441\\u043a\\u0438\\u043d\\u043e \\u0411\\u0435\\u0440\\u0435\\u0437\\u043a\\u0430\",\"\\u041c\\u043e\\u0441\\u043a\\u0438\\u043d\\u043e \\u0412\\u044b\\u043c\\u043f\\u0435\\u043b\",\"\\u041c\\u043e\\u0441\\u043a\\u0438\\u043d\\u043e \\u0412\\u044b\\u043c\\u043f\\u0435\\u043b\",\"\\u041c\\u043e\\u0441\\u043a\\u0438\\u043d\\u043e \\u0417\\u0432\\u0435\\u0437\\u0434\\u0430\",\"\\u041c\\u043e\\u0441\\u043a\\u0438\\u043d\\u043e \\u0417\\u0432\\u0435\\u0437\\u0434\\u0430\",\"\\u041c\\u043e\\u0441\\u043a\\u0438\\u043d\\u043e \\u0418\\u0441\\u043a\\u0440\\u0430\",\"\\u041c\\u043e\\u0441\\u043a\\u0438\\u043d\\u043e \\u0418\\u0441\\u043a\\u0440\\u0430\",\"\\u041c\\u043e\\u0441\\u043a\\u0438\\u043d\\u043e \\u041a\\u043e\\u0441\\u043c\\u043e\\u0441\",\"\\u041c\\u043e\\u0441\\u043a\\u0438\\u043d\\u043e \\u041a\\u043e\\u0441\\u043c\\u043e\\u0441\",\"\\u041c\\u043e\\u0441\\u043a\\u0438\\u043d\\u043e \\u041c\\u043e\\u043b\\u043e\\u0434\\u0435\\u0436\\u043d\\u044b\\u0439\",\"\\u041c\\u043e\\u0441\\u043a\\u0438\\u043d\\u043e \\u041c\\u0443\\u0437\\u0435\\u043e\\u043d\",\"\\u041c\\u043e\\u0441\\u043a\\u0438\\u043d\\u043e \\u041c\\u0443\\u0437\\u0435\\u043e\\u043d\",\"\\u041c\\u043e\\u0441\\u043a\\u0438\\u043d\\u043e \\u041f\\u043e\\u043b\\u0435\\u0442\",\"\\u041c\\u043e\\u0441\\u043a\\u0438\\u043d\\u043e \\u041f\\u043e\\u043b\\u0435\\u0442\",\"\\u041c\\u043e\\u0441\\u043a\\u0438\\u043d\\u043e \\u0421\\u0430\\u043b\\u044e\\u0442\",\"\\u041c\\u043e\\u0441\\u043a\\u0438\\u043d\\u043e \\u0421\\u0430\\u043b\\u044e\\u0442\",\"\\u041c\\u043e\\u0441\\u043a\\u0438\\u043d\\u043e \\u0421\\u0430\\u0442\\u0443\\u0440\\u043d\",\"\\u041c\\u043e\\u0441\\u043a\\u0438\\u043d\\u043e \\u0421\\u0430\\u0442\\u0443\\u0440\\u043d\",\"\\u041c\\u043e\\u0441\\u043a\\u0438\\u043d\\u043e \\u0421\\u043f\\u0443\\u0442\\u043d\\u0438\\u043a\",\"\\u041c\\u043e\\u0441\\u043a\\u0438\\u043d\\u043e \\u0421\\u043f\\u0443\\u0442\\u043d\\u0438\\u043a\",\"\\u041c\\u043e\\u0441\\u043a\\u0438\\u043d\\u043e \\u0422\\u0443\\u043b\\u0430\",\"\\u041c\\u043e\\u0441\\u043a\\u0438\\u043d\\u043e \\u0422\\u0443\\u043b\\u0430\",\"\\u041c\\u043e\\u0441\\u043a\\u0438\\u043d\\u043e \\u0424\\u0430\\u043a\\u0435\\u043b\",\"\\u041c\\u043e\\u0441\\u043a\\u0438\\u043d\\u043e \\u0424\\u0430\\u043a\\u0435\\u043b\",\"\\u041c\\u043e\\u0441\\u043a\\u0438\\u043d\\u043e \\u042e\\u043d\\u043e\\u0441\\u0442\\u044c\",\"\\u041c\\u043e\\u0441\\u043a\\u0438\\u043d\\u043e \\u042e\\u043d\\u043e\\u0441\\u0442\\u044c\",\"\\u041e\\u0431\\u043b\\u0430\\u043a\\u0430 (\\u041f\\u0443\\u0448\\u043a\\u0438\\u043d\\u043e)\",\"\\u041e\\u043b\\u0438\\u043c\\u043f\\u0438\\u043a \\u0421\\u0438\\u043d\\u0435\\u043c\\u0430\",\"\\u041e\\u0442\\u0440\\u0430\\u0434\\u0430\",\"\\u041f\\u0438\\u043e\\u043d\\u0435\\u0440\",\"\\u041f\\u0438\\u043e\\u043d\\u0435\\u0440\",\"\\u041f\\u043e\\u0431\\u0435\\u0434\\u0430\",\"\\u041f\\u043e\\u043a\\u043b\\u043e\\u043d\\u043a\\u0430\",\"\\u0420\\u043e\\u0434\\u0438\\u043d\\u0430\",\"\\u0420\\u043e\\u0434\\u0438\\u043d\\u0430\",\"\\u0421\\u0438\\u043d\\u0435\\u043c\\u0430 \\u041f\\u0430\\u0440\\u043a \\u0411\\u0443\\u0442\\u043e\\u0432\\u043e \\u041c\\u043e\\u043b\\u043b\",\"\\u0421\\u0438\\u043d\\u0435\\u043c\\u0430 \\u041f\\u0430\\u0440\\u043a \\u0413\\u043b\\u043e\\u0431\\u0430\\u043b \\u0421\\u0438\\u0442\\u0438 \\u043d\\u0430 \\u042e\\u0436\\u043d\\u043e\\u0439\",\"\\u0421\\u0438\\u043d\\u0435\\u043c\\u0430 \\u041f\\u0430\\u0440\\u043a \\u0415\\u0432\\u0440\\u043e\\u043f\\u0435\\u0439\\u0441\\u043a\\u0438\\u0439\",\"\\u0421\\u0438\\u043d\\u0435\\u043c\\u0430 \\u041f\\u0430\\u0440\\u043a \\u041c\\u0435\\u0433\\u0430 \\u0411\\u0435\\u043b\\u0430\\u044f \\u0414\\u0430\\u0447\\u0430\",\"\\u0421\\u0438\\u043d\\u0435\\u043c\\u0430 \\u041f\\u0430\\u0440\\u043a \\u041c\\u0435\\u0433\\u0430 \\u0422\\u0435\\u043f\\u043b\\u044b\\u0439 \\u0421\\u0442\\u0430\\u043d\",\"\\u0421\\u0438\\u043d\\u0435\\u043c\\u0430 \\u041f\\u0430\\u0440\\u043a \\u041c\\u0435\\u0442\\u0440\\u043e\\u043f\\u043e\\u043b\\u0438\\u0441 \\u043d\\u0430 \\u0412\\u043e\\u0439\\u043a\\u043e\\u0432\\u0441\\u043a\\u043e\\u0439\",\"\\u0421\\u0438\\u043d\\u0435\\u043c\\u0430 \\u041f\\u0430\\u0440\\u043a \\u041f\\u044f\\u0442\\u0430\\u044f \\u0410\\u0432\\u0435\\u043d\\u044e \\u043d\\u0430 \\u041e\\u043a\\u0442\\u044f\\u0431\\u0440\\u044c\\u0441\\u043a\\u043e\\u043c \\u041f\\u043e\\u043b\\u0435\",\"\\u0421\\u0438\\u043d\\u0435\\u043c\\u0430 \\u041f\\u0430\\u0440\\u043a \\u0420\\u0438\\u0432\\u044c\\u0435\\u0440\\u0430 \\u043d\\u0430 \\u0410\\u0432\\u0442\\u043e\\u0437\\u0430\\u0432\\u043e\\u0434\\u0441\\u043a\\u043e\\u0439\",\"\\u0421\\u0438\\u043d\\u0435\\u043c\\u0430 \\u041f\\u0430\\u0440\\u043a \\u0424\\u0438\\u043b\\u0438\\u043e\\u043d \\u043d\\u0430 \\u0411\\u0430\\u0433\\u0440\\u0430\\u0442\\u0438\\u043e\\u043d\\u043e\\u0432\\u0441\\u043a\\u043e\\u0439\",\"\\u0421\\u0438\\u043d\\u0435\\u043c\\u0430 \\u041f\\u0430\\u0440\\u043a \\u043d\\u0430 \\u041a\\u0430\\u043b\\u0443\\u0436\\u0441\\u043a\\u043e\\u0439\",\"\\u0421\\u0438\\u043d\\u0435\\u043c\\u0430 \\u0421\\u0438\\u0442\\u0438 (\\u041d\\u043e\\u0433\\u0438\\u043d\\u0441\\u043a)\",\"\\u0421\\u0438\\u043d\\u0435\\u043c\\u0430 \\u0421\\u0442\\u0430\\u0440 Kvartal\",\"\\u0421\\u0438\\u043d\\u0435\\u043c\\u0430 \\u0421\\u0442\\u0430\\u0440 \\u0414\\u043c\\u0438\\u0442\\u0440\\u043e\\u0432\\u043a\\u0430\",\"\\u0421\\u0438\\u043d\\u0435\\u043c\\u0430 \\u0421\\u0442\\u0430\\u0440 \\u0414\\u043c\\u0438\\u0442\\u0440\\u043e\\u0432\\u043a\\u0430\",\"\\u0421\\u0438\\u043d\\u0435\\u043c\\u0430 \\u0421\\u0442\\u0430\\u0440 \\u0415\\u0432\\u0440\\u043e\\u043f\\u0430\\u0440\\u043a\",\"\\u0421\\u0438\\u043d\\u0435\\u043c\\u0430 \\u0421\\u0442\\u0430\\u0440 \\u0415\\u0440\\u0435\\u0432\\u0430\\u043d \\u041f\\u043b\\u0430\\u0437\\u0430\",\"\\u0421\\u0438\\u043d\\u0435\\u043c\\u0430 \\u0421\\u0442\\u0430\\u0440 \\u041c\\u0430\\u0440\\u044c\\u0438\\u043d\\u0430 \\u0420\\u043e\\u0449\\u0430\",\"\\u0421\\u0438\\u043d\\u0435\\u043c\\u0430 \\u0421\\u0442\\u0430\\u0440 \\u041c\\u0430\\u0440\\u044c\\u0438\\u043d\\u0430 \\u0420\\u043e\\u0449\\u0430\",\"\\u0421\\u0438\\u043d\\u0435\\u043c\\u0430 \\u0421\\u0442\\u0430\\u0440 \\u041c\\u043e\\u0441\\u043a\\u0432\\u0430 \\u0420\\u0443\\u043c\\u044f\\u043d\\u0446\\u0435\\u0432\\u043e\",\"\\u0421\\u0438\\u043d\\u0435\\u043c\\u0430 \\u0421\\u0442\\u0430\\u0440 \\u041c\\u043e\\u0441\\u043a\\u0432\\u0430 \\u042e\\u0433\\u043e-\\u0417\\u0430\\u043f\\u0430\\u0434\\u043d\\u0430\\u044f\",\"\\u0421\\u0438\\u043d\\u0435\\u043c\\u0430 \\u0421\\u0442\\u0430\\u0440 \\u041f\\u0440\\u0438\\u043d\\u0446 \\u041f\\u043b\\u0430\\u0437\\u0430\",\"\\u0421\\u0438\\u043d\\u0435\\u043c\\u0430 \\u0421\\u0442\\u0430\\u0440 \\u041f\\u0440\\u0438\\u043d\\u0446 \\u041f\\u043b\\u0430\\u0437\\u0430\",\"\\u0421\\u0438\\u043d\\u0435\\u043c\\u0430 \\u0421\\u0442\\u0430\\u0440 \\u0420\\u0438\\u043e \\u043d\\u0430 \\u0410\\u043a\\u0430\\u0434\\u0435\\u043c\\u0438\\u0447\\u0435\\u0441\\u043a\\u043e\\u0439\",\"\\u0421\\u0438\\u043d\\u0435\\u043c\\u0430 \\u0421\\u0442\\u0430\\u0440 \\u042e\\u0433\\u043e-\\u0417\\u0430\\u043f\\u0430\\u0434\\u043d\\u0430\\u044f\",\"\\u0421\\u0438\\u043d\\u0435\\u043c\\u0430 \\u0421\\u0442\\u0430\\u0440 \\u0432 \\u041c\\u0422\\u041a \\u0415\\u0432\\u0440\\u043e\\u041f\\u0430\\u0440\\u043a\",\"\\u0421\\u0438\\u043d\\u0435\\u043c\\u0430 \\u0421\\u0442\\u0430\\u0440 \\u0432 \\u0422\\u0420\\u0426 \\u0415\\u0440\\u0435\\u0432\\u0430\\u043d \\u041f\\u043b\\u0430\\u0437\\u0430\",\"\\u0421\\u0438\\u043d\\u0435\\u043c\\u0430 \\u0421\\u0442\\u0430\\u0440 \\u043d\\u0430 \\u0410\\u043a\\u0430\\u0434\\u0435\\u043c\\u0438\\u0447\\u0435\\u0441\\u043a\\u043e\\u0439\",\"\\u0421\\u0438\\u043d\\u0435\\u043c\\u0430 \\u0421\\u0442\\u0430\\u0440 \\u043d\\u0430 \\u041b\\u0435\\u043d\\u0438\\u043d\\u0441\\u043a\\u043e\\u043c\",\"\\u0421\\u0438\\u043d\\u0435\\u043c\\u0430 \\u0421\\u0442\\u0430\\u0440 \\u043d\\u0430 \\u041b\\u0435\\u043d\\u0438\\u043d\\u0441\\u043a\\u043e\\u043c\",\"\\u0424\\u043e\\u0440\\u043c\\u0443\\u043b\\u0430 \\u041a\\u0438\\u043d\\u043e \\u0413\\u043e\\u0440\\u0438\\u0437\\u043e\\u043d\\u0442\",\"\\u0424\\u043e\\u0440\\u043c\\u0443\\u043b\\u0430 \\u041a\\u0438\\u043d\\u043e \\u041b\\u0430\\u0434\\u043e\\u0433\\u0430\",\"\\u0424\\u043e\\u0440\\u043c\\u0443\\u043b\\u0430 \\u041a\\u0438\\u043d\\u043e \\u041b\\u0435\\u0444\\u043e\\u0440\\u0442\\u043e\\u0432\\u043e\",\"\\u0424\\u043e\\u0440\\u043c\\u0443\\u043b\\u0430 \\u041a\\u0438\\u043d\\u043e \\u0426\\u0414\\u041c\",\"\\u0424\\u043e\\u0440\\u043c\\u0443\\u043b\\u0430 \\u041a\\u0438\\u043d\\u043e \\u0427\\u0435\\u0440\\u0442\\u0430\\u043d\\u043e\\u0432\\u043e\",\"\\u0424\\u043e\\u0440\\u043c\\u0443\\u043b\\u0430 \\u041a\\u0438\\u043d\\u043e \\u043d\\u0430 \\u041a\\u0443\\u0442\\u0443\\u0437\\u043e\\u0432\\u0441\\u043a\\u043e\\u043c\",\"\\u0424\\u043e\\u0440\\u043c\\u0443\\u043b\\u0430 \\u041a\\u0438\\u043d\\u043e \\u043d\\u0430 \\u041c\\u0438\\u0447\\u0443\\u0440\\u0438\\u043d\\u0441\\u043a\\u043e\\u043c\",\"\\u0424\\u043e\\u0440\\u043c\\u0443\\u043b\\u0430 \\u041a\\u0438\\u043d\\u043e \\u043d\\u0430 \\u041c\\u043e\\u0436\\u0430\\u0439\\u043a\\u0435\",\"\\u0424\\u043e\\u0440\\u043c\\u0443\\u043b\\u0430 \\u041a\\u0438\\u043d\\u043e \\u043d\\u0430 \\u041f\\u043e\\u043b\\u0435\\u0436\\u0430\\u0435\\u0432\\u0441\\u043a\\u043e\\u0439\",\"\\u0426\\u0435\\u043d\\u0442\\u0440 \\u0434\\u043e\\u043a\\u0443\\u043c\\u0435\\u043d\\u0442\\u0430\\u043b\\u044c\\u043d\\u043e\\u0433\\u043e \\u043a\\u0438\\u043d\\u043e\",\"\\u0426\\u0435\\u043d\\u0442\\u0440 \\u0434\\u043e\\u043a\\u0443\\u043c\\u0435\\u043d\\u0442\\u0430\\u043b\\u044c\\u043d\\u043e\\u0433\\u043e \\u043a\\u0438\\u043d\\u043e\",\"\\u0426\\u0435\\u043d\\u0442\\u0440\\u0424\\u0438\\u043b\\u044c\\u043c \\u043d\\u0430 \\u0429\\u0435\\u043b\\u043a\\u043e\\u0432\\u0441\\u043a\\u043e\\u0439\",\"\\u0427\\u0430\\u0441 \\u041a\\u0438\\u043d\\u043e (\\u0411\\u0438\\u0431\\u0438\\u0440\\u0435\\u0432\\u043e)\",\"\\u0427\\u0430\\u0441 \\u041a\\u0438\\u043d\\u043e (\\u0421\\u0432\\u0438\\u0431\\u043b\\u043e\\u0432\\u043e)\",\"\\u041a\\u0440\\u043e\\u043d\\u0432\\u0435\\u0440\\u043a \\u0421\\u0438\\u043d\\u0435\\u043c\\u0430 \\u0424\\u043e\\u0440\\u0443\\u043c\",\"\\u041c\\u0438\\u0440\\u0430\\u0436 \\u0421\\u0438\\u043d\\u0435\\u043c\\u0430 \\u0421\\u0435\\u0432\\u0435\\u0440\\u043d\\u043e\\u0435 \\u041d\\u0430\\u0433\\u043e\\u0440\\u043d\\u043e\\u0435\",\"\\u041f\\u043b\\u0430\\u043d\\u0435\\u0442\\u0430 51 (\\u0421\\u0435\\u0432\\u0435\\u0440\\u043e\\u043c\\u043e\\u0440\\u0441\\u043a)\",\"\\u0417\\u0432\\u0435\\u0437\\u0434\\u0430\",\"Mori Cinema (\\u041c\\u044b\\u0442\\u0438\\u0449\\u0438)\",\"\\u0410\\u043b\\u043c\\u0430\\u0437 \\u0421\\u0438\\u043d\\u0435\\u043c\\u0430 \\u041c\\u044b\\u0442\\u0438\\u0449\\u0438\",\"\\u0410\\u043b\\u043c\\u0430\\u0437 \\u0421\\u0438\\u043d\\u0435\\u043c\\u0430 \\u041c\\u044b\\u0442\\u0438\\u0449\\u0438\",\"\\u0410\\u043b\\u043c\\u0430\\u0437 \\u0421\\u0438\\u043d\\u0435\\u043c\\u0430 \\u041f\\u0435\\u0440\\u043b\\u043e\\u0432\\u043a\\u0430\",\"\\u0413\\u043b\\u043e\\u0431\\u0430\\u043b \\u0421\\u0438\\u043d\\u0435\\u043c\\u0430 \\u041c\\u044b\\u0442\\u0438\\u0449\\u0438 XL\",\"Cinema 5 \\u041d\\u0430\\u0431\\u0435\\u0440\\u0435\\u0436\\u043d\\u044b\\u0435 \\u0427\\u0435\\u043b\\u043d\\u044b\",\"Cinema 5 \\u041d\\u0430\\u0431\\u0435\\u0440\\u0435\\u0436\\u043d\\u044b\\u0435 \\u0427\\u0435\\u043b\\u043d\\u044b\",\"Madagascar HOT\",\"\\u0418\\u043b\\u043b\\u044e\\u0437\\u0438\\u0443\\u043c\",\"\\u041a\\u0438\\u043d\\u043e\\u043a\\u043e\\u043c\\u043f\\u043b\\u0435\\u043a\\u0441 \\u0418\\u043b\\u043b\\u044e\\u0437\\u0438\\u0443\\u043c\",\"\\u041c\\u0430\\u0434\\u0430\\u0433\\u0430\\u0441\\u043a\\u0430\\u0440\",\"\\u0421\\u0438\\u043d\\u0435\\u043c\\u0430 \\u041f\\u0430\\u0440\\u043a \\u0422\\u043e\\u0440\\u0433\\u043e\\u0432\\u044b\\u0439 \\u041a\\u0432\\u0430\\u0440\\u0442\\u0430\\u043b\",\"\\u0414\\u0435\\u044f\",\"\\u0411\\u0443\\u0440\\u0435\\u0432\\u0435\\u0441\\u0442\\u043d\\u0438\\u043a (\\u041d\\u0430\\u0445\\u043e\\u0434\\u043a\\u0430)\",\"\\u041a\\u0430\\u0441\\u043a\\u0430\\u0434 (\\u041d\\u0430\\u0445\\u043e\\u0434\\u043a\\u0430)\",\"\\u041c\\u0411\\u0423\\u041a \\u0420\\u0414\\u041a \\u0438\\u043c. \\u0413. \\u0418. \\u041d\\u0435\\u0432\\u0435\\u043b\\u044c\\u0441\\u043a\\u043e\\u0433\\u043e\",\"\\u041c\\u0438\\u0440 (\\u041d\\u0435\\u0432\\u0438\\u043d\\u043d\\u043e\\u043c\\u044b\\u0441\\u0441\\u043a)\",\"Park Cinema (\\u041d\\u0435\\u0444\\u0442\\u0435\\u043a\\u0430\\u043c\\u0441\\u043a)\",\"\\u041a\\u0420\\u041a \\u0410\\u0440\\u0441\\u0435\\u043d\\u0430\\u043b\",\"\\u041f\\u0430\\u0440\\u043a\\u0421\\u0438\\u043d\\u0435\\u043c\\u0430\",\"\\u042e\\u0433\\u0430\\u043d (\\u041d\\u0435\\u0444\\u0442\\u0435\\u044e\\u0433\\u0430\\u043d\\u0441\\u043a)\",\"Galaxy Star\",\"Stars Cinema\",\"\\u041c\\u0438\\u0440\",\"\\u041d\\u0430\\u0434\\u0435\\u0436\\u0434\\u0430\",\"\\u042e\\u0433\\u0440\\u0430 Cinema\",\"Cinema 5 \\u041d\\u0438\\u0436\\u043d\\u0435\\u043a\\u0430\\u043c\\u0441\\u043a\",\"Sun City\",\"\\u0414\\u0436\\u0430\\u043b\\u0438\\u043b\\u044c\",\"\\u0421\\u0438\\u043d\\u0435\\u043c\\u0430 5\",\"\\u0410\\u0440\\u043b\\u0435\\u043a\\u0438\\u043d\\u043e\",\"\\u0410\\u0440\\u043b\\u0435\\u043a\\u0438\\u043d\\u043e\",\"\\u0418\\u043c\\u043f\\u0435\\u0440\\u0438\\u044f \\u0433\\u0440\\u0435\\u0437 \\u0412\\u043e\\u0441\\u0442\\u043e\\u0440\\u0433 (\\u041a\\u0441\\u0442\\u043e\\u0432\\u043e)\",\"\\u0418\\u043c\\u043f\\u0435\\u0440\\u0438\\u044f \\u0433\\u0440\\u0435\\u0437 \\u0418\\u043d\\u0434\\u0438\\u0433\\u043e\",\"\\u0418\\u043c\\u043f\\u0435\\u0440\\u0438\\u044f \\u0433\\u0440\\u0435\\u0437 \\u041c\\u0438\\u0440\",\"\\u0418\\u043c\\u043f\\u0435\\u0440\\u0438\\u044f \\u0433\\u0440\\u0435\\u0437 \\u041d\\u0435\\u0431\\u043e\",\"\\u0418\\u043c\\u043f\\u0435\\u0440\\u0438\\u044f \\u0433\\u0440\\u0435\\u0437 \\u0421\\u043e\\u0440\\u043c\\u043e\\u0432\\u0441\\u043a\\u0438\\u0439\",\"\\u0418\\u043c\\u043f\\u0435\\u0440\\u0438\\u044f \\u0433\\u0440\\u0435\\u0437 \\u042d\\u043b\\u0435\\u043a\\u0442\\u0440\\u043e\\u043d\",\"\\u041b\\u044e\\u043c\\u0435\\u043d \\u0410\\u0440\\u0437\\u0430\\u043c\\u0430\\u0441\",\"\\u041e\\u0440\\u043b\\u0435\\u043d\\u043e\\u043a\",\"\\u0420\\u043e\\u043c\\u0430\\u043d\\u043e\\u0432 \\u0421\\u0438\\u043d\\u0435\\u043c\\u0430\",\"\\u0420\\u043e\\u0441\\u0441\\u0438\\u044f\",\"\\u0421\\u0438\\u043d\\u0435\\u043c\\u0430 \\u041f\\u0430\\u0440\\u043a \\u0421\\u0435\\u0434\\u044c\\u043c\\u043e\\u0435 \\u043d\\u0435\\u0431\\u043e\",\"\\u0421\\u0438\\u043d\\u0435\\u043c\\u0430 \\u041f\\u0430\\u0440\\u043a \\u0424\\u0430\\u043d\\u0442\\u0430\\u0441\\u0442\\u0438\\u043a\\u0430\",\"\\u0421\\u0438\\u043d\\u0435\\u043c\\u0430 \\u0420\\u0438\\u043e\",\"\\u0421\\u0438\\u043d\\u0435\\u043c\\u0430 \\u0420\\u0438\\u043e\",\"\\u0421\\u043f\\u0430\\u0440\\u0442\\u0430\\u043a (\\u041f\\u0430\\u0432\\u043b\\u043e\\u0432\\u043e)\",\"\\u0420\\u043e\\u0434\\u0438\\u043d\\u0430\",\"\\u0423\\u0440\\u0430\\u043d (\\u041d\\u043e\\u0432\\u043e\\u0432\\u043e\\u0440\\u043e\\u043d\\u0435\\u0436)\",\"\\u041a\\u0438\\u043d\\u043e \\u0438\\u043c. \\u041a\\u0438\\u043d\\u043e\",\"\\u041a\\u0438\\u043d\\u043e \\u0438\\u043c. \\u041a\\u0438\\u043d\\u043e\",\"\\u041e\\u043a\\u0442\\u044f\\u0431\\u0440\\u044c\",\"\\u041e\\u043a\\u0442\\u044f\\u0431\\u0440\\u044c\",\"\\u041f\\u043b\\u0430\\u043d\\u0435\\u0442\\u0430 \\u041a\\u0438\\u043d\\u043e \\u0413\\u043b\\u043e\\u0431\\u0443\\u0441\",\"\\u041f\\u043b\\u0430\\u043d\\u0435\\u0442\\u0430 \\u041a\\u0438\\u043d\\u043e \\u041f\\u0430\\u0440\\u0443\\u0441\",\"\\u041f\\u043b\\u0430\\u043d\\u0435\\u0442\\u0430 \\u041a\\u0438\\u043d\\u043e \\u041f\\u043e\\u043b\\u0435\\u0442\",\"\\u041f\\u043b\\u0430\\u043d\\u0435\\u0442\\u0430 \\u043a\\u0438\\u043d\\u043e \\u041f\\u0430\\u0440\\u0443\\u0441\",\"\\u041f\\u043b\\u0430\\u043d\\u0435\\u0442\\u0430 \\u043a\\u0438\\u043d\\u043e \\u0421\\u0438\\u0442\\u0438-\\u043c\\u043e\\u043b\\u043b\",\"\\u0424\\u043e\\u0440\\u043c\\u0443\\u043b\\u0430 \\u041a\\u0438\\u043d\\u043e IMAX\",\"\\u0418\\u043b\\u043b\\u0438\\u0437\\u0438\\u0443\\u043c\",\"\\u0414\\u0435\\u0442\\u0441\\u043a\\u043e-\\u044e\\u043d\\u043e\\u0448\\u0435\\u0441\\u043a\\u0438\\u0439 \\u041d\\u0435\\u043f\\u0442\\u0443\\u043d\",\"\\u041c\\u041e\\u041d\\u0418\\u0422\\u041e\\u0420 Goodzone (\\u041d\\u043e\\u0432\\u043e\\u0440\\u043e\\u0441\\u0441\\u0438\\u0439\\u0441\\u043a)\",\"\\u041c\\u041e\\u041d\\u0418\\u0422\\u041e\\u0420 \\u041a\\u0440\\u0430\\u0441\\u043d\\u0430\\u044f \\u041f\\u043b\\u043e\\u0449\\u0430\\u0434\\u044c (\\u041d\\u043e\\u0432\\u043e\\u0440\\u043e\\u0441\\u0441\\u0438\\u0439\\u0441\\u043a)\",\"\\u041c\\u043e\\u043d\\u0438\\u0442\\u043e\\u0440 Goodzone\",\"\\u041d\\u0435\\u043f\\u0442\\u0443\\u043d\",\"Cinema Public\",\"Cinema Public\",\"\\u0410\\u0432\\u0440\\u043e\\u0440\\u0430\",\"\\u0410\\u0432\\u0440\\u043e\\u0440\\u0430\",\"\\u0413\\u043e\\u043b\\u0434\\u0435\\u043d \\u0421\\u0438\\u043d\\u0435\\u043c\\u0430\",\"\\u0413\\u043e\\u0440\\u0438\\u0437\\u043e\\u043d\\u0442\",\"\\u0413\\u043e\\u0440\\u0438\\u0437\\u043e\\u043d\\u0442\",\"\\u041a\\u0438\\u043d\\u043e\\u0421\\u0438\\u0442\\u0438 \\u041d\\u043e\\u0432\\u043e\\u0441\\u0438\\u0431\\u0438\\u0440\\u0441\\u043a\",\"\\u041a\\u0438\\u043d\\u043e\\u0430\\u0442\\u043b\\u0430\\u0441\",\"\\u041a\\u0438\\u043d\\u043e\\u0430\\u0442\\u043b\\u0430\\u0441\",\"\\u041a\\u0438\\u043d\\u043e\\u0441\\u0438\\u0442\\u0438 \\u041d\\u043e\\u0432\\u043e\\u0441\\u0438\\u0431\\u0438\\u0440\\u0441\\u043a\",\"\\u041e\\u0440\\u0438\\u043e\\u043d (\\u0411\\u0435\\u0440\\u0434\\u0441\\u043a)\",\"\\u041f\\u043e\\u0431\\u0435\\u0434\\u0430\",\"\\u041f\\u043e\\u0431\\u0435\\u0434\\u0430\",\"\\u0420\\u0430\\u0441\\u0441\\u0432\\u0435\\u0442\",\"\\u0421\\u0435\\u0434\\u044c\\u043c\\u043e\\u0435 \\u043d\\u0435\\u0431\\u043e\",\"\\u0421\\u0435\\u0434\\u044c\\u043c\\u043e\\u0435 \\u043d\\u0435\\u0431\\u043e\",\"\\u0421\\u0438\\u043d\\u0435\\u043c\\u0430 \\u041f\\u0430\\u0440\\u043a \\u041a\\u043e\\u043d\\u0442\\u0438\\u043d\\u0435\\u043d\\u0442\",\"\\u0421\\u0438\\u043d\\u0435\\u043c\\u0430 \\u041f\\u0430\\u0440\\u043a \\u0420\\u043e\\u0439\\u044f\\u043b \\u041f\\u0430\\u0440\\u043a\",\"\\u0421\\u0438\\u043d\\u0435\\u043c\\u0430 \\u041f\\u0430\\u0440\\u043a \\u0421\\u0430\\u043d \\u0421\\u0438\\u0442\\u0438\",\"\\u0424\\u043e\\u0440\\u043c\\u0443\\u043b\\u0430 \\u041a\\u0438\\u043d\\u043e \\u0410\\u0443\\u0440\\u0430\",\"\\u041f\\u0430\\u0442\\u044d (\\u041d\\u043e\\u0432\\u043e\\u0447\\u0435\\u0440\\u043a\\u0430\\u0441\\u0441\\u043a)\",\"\\u041a\\u0430\\u043b\\u0435\\u0439\\u0434\\u043e\\u0441\\u043a\\u043e\\u043f\",\"Cinema de Lux\",\"\\u041a\\u0438\\u043d\\u043e\\u043f\\u043b\\u0435\\u043a\\u0441 \\u0421\\u0438\\u043d\\u0435\\u043c\\u0430 \\u0414\\u0435 \\u041b\\u044e\\u043a\\u0441\",\"Verba Cinema (\\u041e\\u043a\\u0442\\u044f\\u0431\\u0440\\u044c\\u0441\\u043a\\u0438\\u0439)\",\"\\u0410\\u0442\\u043c\\u043e\\u0441\\u0444\\u0435\\u0440\\u0430\",\"\\u0412\\u0430\\u0432\\u0438\\u043b\\u043e\\u043d\",\"\\u0414\\u041a \\u0420\\u0443\\u0431\\u0438\\u043d\",\"\\u041a\\u0438\\u043d\\u043e\\u0446\\u0435\\u043d\\u0442\\u0440 \\u0412\\u0430\\u0432\\u0438\\u043b\\u043e\\u043d\",\"\\u041a\\u0438\\u043d\\u043e\\u0446\\u0435\\u043d\\u0442\\u0440 \\u0413\\u0430\\u043b\\u0430\\u043a\\u0442\\u0438\\u043a\\u0430\",\"\\u041a\\u0438\\u043d\\u043e\\u0446\\u0435\\u043d\\u0442\\u0440 \\u041a\\u043e\\u043d\\u0442\\u0438\\u043d\\u0435\\u043d\\u0442\",\"\\u041a\\u0440\\u0438\\u0441\\u0442\\u0430\\u043b\\u043b\",\"\\u041a\\u0443\\u043b\\u044c\\u0442\\u0443\\u0440\\u043d\\u044b\\u0439 \\u0446\\u0435\\u043d\\u0442\\u0440 \\u0410\\u0442\\u0440\\u0438\\u0443\\u043c-\\u041a\\u0438\\u043d\\u043e\",\"\\u041c\\u0430\\u044f\\u043a\\u043e\\u0432\\u0441\\u043a\\u0438\\u0439\",\"\\u041f\\u0435\\u0440\\u0432\\u043e\\u043c\\u0430\\u0439\\u0441\\u043a\\u0438\\u0439\",\"\\u041f\\u0435\\u0440\\u0432\\u043e\\u043c\\u0430\\u0439\\u0441\\u043a\\u0438\\u0439\",\"\\u0421\\u043b\\u0430\\u0432\\u0430\",\"\\u0421\\u043b\\u0430\\u0432\\u0430\",\"\\u0424\\u0440\\u0435\\u0433\\u0430\\u0442\",\"\\u0413\\u0440\\u0438\\u043d\\u043d\\u0444\\u0438\\u043b\\u044c\\u043c\",\"\\u0421\\u0438\\u043d\\u0435\\u043c\\u0430 \\u0421\\u0442\\u0430\\u0440 \\u0420\\u0438\\u043e \\u041e\\u0440\\u0435\\u043b\",\"\\u0421\\u043e\\u0432\\u0440\\u0435\\u043c\\u0435\\u043d\\u043d\\u0438\\u043a\",\"\\u0426\\u0423\\u041c-\\u043a\\u0438\\u043d\\u043e\",\"Cinema 5 (\\u0411\\u0443\\u0437\\u0443\\u043b\\u0443\\u043a)\",\"Cinema 5 \\u0413\\u0443\\u043b\\u043b\\u0438\\u0432\\u0435\\u0440\",\"Cinema 5 \\u0421\\u0435\\u0432\\u0435\\u0440\",\"Cinema 5 \\u0432 \\u0422\\u0420\\u041a \\u0413\\u0443\\u043b\\u043b\\u0438\\u0432\\u0435\\u0440\",\"Cinema 5 \\u0432 \\u0422\\u0420\\u0426 \\u0421\\u0435\\u0432\\u0435\\u0440\",\"\\u0410\\u043b\\u043c\\u0430\\u0437 \\u0421\\u0438\\u043d\\u0435\\u043c\\u0430 \\u041a\\u0438\\u043d\\u043e\\u0444\\u0440\\u044d\\u0448\",\"\\u041a\\u043e\\u0441\\u043c\\u043e\\u0441\",\"\\u041c\\u0438\\u0440 (\\u041e\\u0440\\u0441\\u043a)\",\"\\u0420\\u043e\\u0434\\u0438\\u043d\\u0430\",\"\\u0421\\u043e\\u043a\\u043e\\u043b\",\"\\u041a\\u043e\\u0441\\u043c\\u0438\\u043a \\u041a\\u0430\\u043f\\u0438\\u0442\\u043e\\u043b\\u0438\\u0439 \\u041e\\u0440\\u0435\\u0445\\u043e\\u0432\\u043e-\\u0417\\u0443\\u0435\\u0432\\u043e\",\"\\u041e\\u0440\\u0441\\u043a\",\"\\u041a\\u0438\\u043d\\u043e\\u0433\\u0440\\u0430\\u0434\",\"Global Cinema (\\u041e\\u0441\\u0442\\u0430\\u0448\\u043a\\u043e\\u0432)\",\"\\u0413\\u043b\\u043e\\u0431\\u0430\\u043b \\u0421\\u0438\\u043d\\u0435\\u043c\\u0430 \\u041e\\u0441\\u0442\\u0430\\u0448\\u043a\\u043e\\u0432\",\"Zoom Cinema\",\"Zoom Cinema\",\"\\u0411\\u0435\\u0440\\u043b\\u0438\\u043d \\u0421\\u0438\\u043d\\u0435\\u043c\\u0430\",\"\\u0412\\u044b\\u0441\\u0448\\u0430\\u044f \\u043b\\u0438\\u0433\\u0430\",\"\\u0413\\u0443\\u043b\\u043b\\u0438\\u0432\\u0435\\u0440\",\"\\u041a\\u0418\\u041d\\u041e \\u0421\\u0443\\u0432\\u043e\\u0440\\u043e\\u0432\\u0441\\u043a\\u0438\\u0439\",\"\\u0421\\u043e\\u0432\\u0440\\u0435\\u043c\\u0435\\u043d\\u043d\\u0438\\u043a\",\"\\u041a\\u0438\\u043d\\u043e\\u0437\\u0430\\u043b-\\u0418\\u041a\\u0426\",\"\\u041a\\u0438\\u043d\\u043e\\u043c\\u0430\\u043a\\u0441\",\"\\u041a\\u0438\\u043d\\u043e\\u043c\\u0430\\u043a\\u0441-\\u041f\\u0435\\u0440\\u043c\\u044c\",\"\\u0421\\u0438\\u043d\\u0435\\u043c\\u0430 \\u041f\\u0430\\u0440\\u043a \\u041a\\u043e\\u043b\\u0438\\u0437\\u0435\\u0439\",\"\\u0421\\u0438\\u043d\\u0435\\u043c\\u0430 \\u041f\\u0430\\u0440\\u043a \\u041a\\u0440\\u0438\\u0441\\u0442\\u0430\\u043b\\u043b\",\"\\u0421\\u0438\\u043d\\u0435\\u043c\\u0430 \\u041f\\u0430\\u0440\\u043a \\u0421\\u0435\\u043c\\u044c\\u044f.\",\"\\u041c\\u0438\\u0440\\u0430\\u0436 \\u0421\\u0438\\u043d\\u0435\\u043c\\u0430 \\u041b\\u043e\\u0442\\u043e\\u0441\",\"\\u041c\\u0438\\u0440\\u0430\\u0436 \\u0421\\u0438\\u043d\\u0435\\u043c\\u0430 \\u041c\\u0430\\u043a\\u0441\\u0438\",\"\\u041c\\u0438\\u0440\\u0430\\u0436 \\u0421\\u0438\\u043d\\u0435\\u043c\\u0430 \\u0422\\u0435\\u0442\\u0440\\u0438\\u0441\",\"\\u041b\\u0438\\u043c\\u043e\\u043d\\u0430\\u0434\",\"\\u041a\\u0438\\u043d\\u043e\\u043a\\u043e\\u043d\\u0446\\u0435\\u0440\\u0442\\u043d\\u044b\\u0439 \\u0437\\u0430\\u043b \\u041c\\u0430\\u044f\\u043a\",\"\\u041a\\u0430\\u0440\\u043e 4 \\u041f\\u043e\\u0434\\u043e\\u043b\\u044c\\u0441\\u043a\",\"\\u041f\\u043b\\u0430\\u043d\\u0435\\u0442\\u0430 \\u041a\\u0438\\u043d\\u043e \\u0427\\u0430\\u0439\\u043a\\u0430\",\"Silver Cinema\",\"Silver Cinema Fjord\",\"\\u041c\\u0438\\u0440\\u0430\\u0436 \\u0421\\u0438\\u043d\\u0435\\u043c\\u0430 \\u0410\\u043a\\u0432\\u0430\\u043f\\u043e\\u043b\\u0438\\u0441\",\"\\u041a\\u0438\\u043d\\u043e\\u043c\\u0430\\u043a\\u0441-\\u0420\\u0435\\u043b\\u0430\\u043a\\u0441\",\"\\u041a\\u0438\\u043d\\u043e\\u043c\\u0430\\u043a\\u0441\\u2013\\u0420\\u0435\\u043b\\u0430\\u043a\\u0441 (\\u041f\\u0443\\u0448\\u043a\\u0438\\u043d\\u043e)\",\"\\u041e\\u0431\\u043b\\u0430\\u043a\\u0430 (\\u041f\\u0443\\u0448\\u043a\\u0438\\u043d\\u043e)\",\"\\u0413\\u0430\\u043b\\u0435\\u0440\\u0435\\u044f \\u0421\\u0438\\u043d\\u0435\\u043c\\u0430\",\"\\u041a\\u0440\\u0438\\u0441\\u0442\\u0430\\u043b\\u043b \\u0421\\u0438\\u043d\\u0435\\u043c\\u0430\",\"\\u041a\\u0430\\u0440\\u043e 10 \\u0420\\u0435\\u0443\\u0442\\u043e\\u0432\",\"\\u0421\\u0438\\u043d\\u0435\\u043c\\u0430 \\u0421\\u0442\\u0430\\u0440 (\\u0420\\u0435\\u0443\\u0442\\u043e\\u0432)\",\"\\u0421\\u0438\\u043d\\u0435\\u043c\\u0430 \\u0421\\u0442\\u0430\\u0440 \\u0432 \\u0420\\u0435\\u0443\\u0442\\u043e\\u0432\\u0435\",\"\\u0424\\u0430\\u0431\\u0440\\u0438\\u043a\\u0430\",\"\\u041a\\u0438\\u043d\\u043e\\u043c\\u0438\\u0440\",\"\\u0411\\u043e\\u043b\\u044c\\u0448\\u043e\\u0439\",\"\\u0413\\u043e\\u0440\\u0438\\u0437\\u043e\\u043d\\u0442 Cinema & Emotion\",\"\\u0413\\u043e\\u0440\\u0438\\u0437\\u043e\\u043d\\u0442 Cinema & Emotion\",\"\\u0418\\u043b\\u043b\\u044e\\u0437\\u0438\\u043e\\u043d (\\u0411\\u0430\\u0442\\u0430\\u0439\\u0441\\u043a)\",\"\\u041a\\u0438\\u043d\\u043e\\u043c\\u0430\\u043a\\u0441 IMAX\",\"\\u041a\\u0438\\u043d\\u043e\\u043c\\u0430\\u043a\\u0441-IMAX\",\"\\u041a\\u0438\\u043d\\u043e\\u043c\\u0430\\u043a\\u0441-\\u041f\\u043b\\u0430\\u0437\\u0430\",\"\\u041a\\u0438\\u043d\\u043e\\u043c\\u0430\\u043a\\u0441\\u2013\\u041f\\u043b\\u0430\\u0437\\u0430\",\"\\u041a\\u0438\\u043d\\u043e\\u043f\\u043e\\u043b\\u0438\\u0441 \\u041e\\u0440\\u0431\\u0438\\u0442\\u0430\",\"\\u041a\\u0438\\u043d\\u043e\\u043f\\u043e\\u043b\\u0438\\u0441 \\u041f\\u0430\\u0440\\u043a\",\"\\u041a\\u0438\\u043d\\u043e\\u043f\\u043e\\u043b\\u0438\\u0441 \\u041f\\u0430\\u0440\\u043a\",\"\\u041a\\u0438\\u043d\\u043e\\u043f\\u043e\\u043b\\u0438\\u0441 \\u2014 \\u041e\\u0440\\u0431\\u0438\\u0442\\u0430\",\"\\u041a\\u0438\\u043d\\u043e\\u0446\\u0435\\u043d\\u0442\\u0440 \\u0411\\u043e\\u043b\\u044c\\u0448\\u043e\\u0439\",\"\\u041c\\u043e\\u043d\\u0438\\u0442\\u043e\\u0440 \\u041c\\u0430\\u043a\\u0441\\u0438\\u043c\\u0443\\u043c (\\u0428\\u0430\\u0445\\u0442\\u044b)\",\"\\u0421\\u0438\\u043d\\u0435\\u043c\\u0430 \\u0421\\u0442\\u0430\\u0440 \\u0420\\u0438\\u043e\",\"\\u0421\\u0438\\u043d\\u0435\\u043c\\u0430 \\u0421\\u0442\\u0430\\u0440 \\u0420\\u0438\\u043e \\u0420\\u043e\\u0441\\u0442\\u043e\\u0432-\\u043d\\u0430-\\u0414\\u043e\\u043d\\u0443\",\"\\u0424\\u0435\\u043d\\u0438\\u043a\\u0441\",\"\\u0424\\u0435\\u043d\\u0438\\u043a\\u0441\",\"\\u0427\\u0430\\u0440\\u043b\\u0438 \\u0412\\u0430\\u0432\\u0438\\u043b\\u043e\\u043d\",\"\\u0427\\u0430\\u0440\\u043b\\u0438 \\u0412\\u0430\\u0432\\u0438\\u043b\\u043e\\u043d\",\"\\u0427\\u0430\\u0440\\u043b\\u0438 \\u041c\\u0430\\u0440\\u043c\\u0435\\u043b\\u0430\\u0434 (\\u0422\\u0430\\u0433\\u0430\\u043d\\u0440\\u043e\\u0433)\",\"\\u0427\\u0430\\u0440\\u043b\\u0438 \\u0421\\u043e\\u043a\\u043e\\u043b\",\"\\u0427\\u0430\\u0440\\u043b\\u0438 \\u0421\\u043e\\u043a\\u043e\\u043b\",\"\\u0420\\u043e\\u0448\\u0430\\u043b\\u044c\",\"\\u041e\\u043a\\u0442\\u044f\\u0431\\u0440\\u044c (\\u0420\\u0443\\u0437\\u0430)\",\"\\u0418\\u0441\\u043a\\u0440\\u0430\",\"\\u041a\\u0438\\u043d\\u043e\\u043a\\u043e\\u043c\\u043f\\u043b\\u0435\\u043a\\u0441 CinemaV\",\"5 \\u0437\\u0432\\u0435\\u0437\\u0434 \\u0420\\u044f\\u0437\\u0430\\u043d\\u044c\",\"\\u041a\\u0438\\u043d\\u043e\\u043b\\u044e\\u043a\\u0441 \\u0411\\u0430\\u0440\\u0441\",\"\\u041a\\u0438\\u043d\\u043e\\u043b\\u044e\\u043a\\u0441 \\u041c\\u0430\\u043b\\u0438\\u043d\\u0430\",\"\\u041a\\u0438\\u043d\\u043e\\u043b\\u044e\\u043a\\u0441 \\u0422\\u0426 \\u041c\\u0430\\u043b\\u0438\\u043d\\u0430\",\"\\u041a\\u0438\\u043d\\u043e\\u043c\\u0430\\u043a\\u0441 IMAX\",\"\\u041a\\u0438\\u043d\\u043e\\u043c\\u0430\\u043a\\u0441 IMAX\",\"\\u041b\\u044e\\u043a\\u0441\\u043e\\u0440 \\u041a\\u0440\\u0443\\u0438\\u0437\",\"\\u0424\\u043e\\u0440\\u043c\\u0443\\u043b\\u0430 \\u041a\\u0438\\u043d\\u043e \\u0412\\u0438\\u043a\\u0442\\u043e\\u0440\\u0438\\u044f \\u041f\\u043b\\u0430\\u0437\\u0430\",\"\\u041e\\u0426\\u041d\\u041a\",\"#\\u0451\\u043a\\u0438\\u043d\\u043e\",\"5 \\u0437\\u0432\\u0435\\u0437\\u0434 \\u0421\\u0430\\u043c\\u0430\\u0440\\u0430\",\"Ambar Cinema\",\"Zoom Cinema\",\"Zoom Cinema\",\"\\u041a\\u0430\\u0440\\u043e 8 \\u041c\\u043e\\u0441\\u043a\\u043e\\u0432\\u0441\\u043a\\u0438\\u0439\",\"\\u041a\\u0438\\u043d\\u043e\\u043c\\u0430\\u043a\\u0441\",\"\\u041a\\u0438\\u043d\\u043e\\u043c\\u0430\\u043a\\u0441-\\u0421\\u0430\\u043c\\u0430\\u0440\\u0430\",\"\\u0421\\u0430\\u043c\\u0430\\u0440\\u0430\",\"\\u0421\\u0438\\u043d\\u0435\\u043c\\u0430 \\u041f\\u0430\\u0440\\u043a \\u041f\\u0430\\u0440\\u043a-\\u0445\\u0430\\u0443\\u0441\",\"\\u0425\\u0443\\u0434\\u043e\\u0436\\u0435\\u0441\\u0442\\u0432\\u0435\\u043d\\u043d\\u044b\\u0439\",\"Angleterre Cinema Lounge\",\"Cinema 5 \\u0428\\u043a\\u0438\\u043f\\u0435\\u0440\\u0441\\u043a\\u0438\\u0439 \\u043c\\u043e\\u043b\\u043b\",\"Cinema 5 \\u0432 \\u0422\\u0420\\u041a \\u0428\\u043a\\u0438\\u043f\\u0435\\u0440\\u0441\\u043a\\u0438\\u0439 \\u041c\\u043e\\u043b\\u043b\",\"Cinema Grand Palace\",\"Mori Cinema (\\u0421\\u0430\\u043d\\u043a\\u0442-\\u041f\\u0435\\u0442\\u0435\\u0440\\u0431\\u0443\\u0440\\u0433)\",\"SkyFilm\",\"\\u0410\\u0432\\u0440\\u043e\\u0440\\u0430 \\u0411\\u043e\\u043b\\u044c\\u0448\\u043e\\u0439 \\u0417\\u0430\\u043b\",\"\\u0410\\u0432\\u0440\\u043e\\u0440\\u0430 \\u041c\\u0430\\u043b\\u044b\\u0439 \\u0417\\u0430\\u043b\",\"\\u0412\\u0435\\u043b\\u0438\\u043a\\u0430\\u043d \\u041f\\u0430\\u0440\\u043a\",\"\\u0414\\u043e\\u043c \\u043a\\u0438\\u043d\\u043e\",\"\\u0414\\u043e\\u043c \\u043a\\u0438\\u043d\\u043e\",\"\\u041a\\u0430\\u0440\\u043e 11 \\u041e\\u0445\\u0442\\u0430\",\"\\u041a\\u0430\\u0440\\u043e 5 \\u041d\\u0435\\u0432\\u0441\\u043a\\u0438\\u0439-2\",\"\\u041a\\u0430\\u0440\\u043e 5 \\u043d\\u0430 \\u0411\\u0430\\u0439\\u043a\\u043e\\u043d\\u0443\\u0440\\u0441\\u043a\\u043e\\u0439\",\"\\u041a\\u0430\\u0440\\u043e 7 \\u0410\\u0442\\u043c\\u043e\\u0441\\u0444\\u0435\\u0440\\u0430\",\"\\u041a\\u0430\\u0440\\u043e 7 \\u041b\\u0438\\u0433\\u043e\\u0432\\u044a\",\"\\u041a\\u0430\\u0440\\u043e 7 \\u043d\\u0430 \\u0421\\u0442\\u0430\\u0447\\u0435\\u043a\",\"\\u041a\\u0430\\u0440\\u043e 9 \\u0412\\u0430\\u0440\\u0448\\u0430\\u0432\\u0441\\u043a\\u0438\\u0439 \\u044d\\u043a\\u0441\\u043f\\u0440\\u0435\\u0441\\u0441\",\"\\u041a\\u0430\\u0440\\u043e 9 \\u041a\\u043e\\u043d\\u0442\\u0438\\u043d\\u0435\\u043d\\u0442 \\u043d\\u0430 \\u0417\\u0432\\u0435\\u0437\\u0434\\u043d\\u043e\\u0439\",\"\\u041a\\u0438\\u043d\\u043e&\\u0422\\u0435\\u0430\\u0442\\u0440 \\u0432 \\u0410\\u043d\\u0433\\u043b\\u0435\\u0442\\u0435\\u0440\\u0435\",\"\\u041a\\u0438\\u043d\\u043e\\u0433\\u0440\\u0430\\u0434 (\\u0422\\u0420\\u041a \\u041f\\u043e\\u0440\\u0442 \\u041d\\u0430\\u0445\\u043e\\u0434\\u043a\\u0430)\",\"\\u041a\\u0438\\u043d\\u043e\\u0433\\u0440\\u0430\\u0434 (\\u0422\\u0420\\u041a \\u042e\\u0436\\u043d\\u044b\\u0439 \\u043f\\u043e\\u043b\\u044e\\u0441)\",\"\\u041a\\u0438\\u043d\\u043e\\u0433\\u0440\\u0430\\u0434 \\u041f\\u043e\\u0440\\u0442 \\u041d\\u0430\\u0445\\u043e\\u0434\\u043a\\u0430\",\"\\u041a\\u0438\\u043d\\u043e\\u043b\\u043e\\u0444\\u0442 \\u041c\\u043e\\u0441\\u043a\\u0432\\u0430\",\"\\u041a\\u0438\\u043d\\u043e\\u043f\\u043e\\u043b\\u0438\\u0441 \\u0420\\u0443\\u043c\\u0431\\u0430\",\"\\u041a\\u0438\\u043d\\u043e\\u043f\\u043e\\u043b\\u0438\\u0441 \\u2014 \\u0420\\u0443\\u043c\\u0431\\u0430\",\"\\u041b\\u0435\\u043d\\u0438\\u043d\\u0433\\u0440\\u0430\\u0434 \\u0426\\u0435\\u043d\\u0442\\u0440\",\"\\u041b\\u0435\\u043d\\u0444\\u0438\\u043b\\u044c\\u043c\",\"\\u041b\\u044e\\u043a\\u0441\\u043e\\u0440 \\u041a\\u043e\\u043d\\u0442\\u0438\\u043d\\u0435\\u043d\\u0442\",\"\\u041b\\u044e\\u043a\\u0441\\u043e\\u0440 \\u041b\\u0435\\u0442\\u043e\",\"\\u041b\\u044e\\u043a\\u0441\\u043e\\u0440 \\u0432 \\u0422\\u0420\\u041a \\u041a\\u043e\\u043d\\u0442\\u0438\\u043d\\u0435\\u043d\\u0442\",\"\\u041b\\u044e\\u043a\\u0441\\u043e\\u0440 \\u0432 \\u0422\\u0420\\u041a \\u041b\\u0435\\u0442\\u043e\",\"\\u041c\\u0438\\u0440\\u0430\\u0436 \\u0421\\u0438\\u043d\\u0435\\u043c\\u0430 \\u0410\\u0442\\u043b\\u0430\\u043d\\u0442\\u0438\\u043a \\u0421\\u0438\\u0442\\u0438\",\"\\u041c\\u0438\\u0440\\u0430\\u0436 \\u0421\\u0438\\u043d\\u0435\\u043c\\u0430 \\u0411\\u0430\\u043b\\u043a\\u0430\\u043d\\u0438\\u044f Nova\",\"\\u041c\\u0438\\u0440\\u0430\\u0436 \\u0421\\u0438\\u043d\\u0435\\u043c\\u0430 \\u0413\\u0443\\u043b\\u043b\\u0438\\u0432\\u0435\\u0440\",\"\\u041c\\u0438\\u0440\\u0430\\u0436 \\u0421\\u0438\\u043d\\u0435\\u043c\\u0430 \\u0415\\u0432\\u0440\\u043e\\u043f\\u043e\\u043b\\u0438\\u0441\",\"\\u041c\\u0438\\u0440\\u0430\\u0436 \\u0421\\u0438\\u043d\\u0435\\u043c\\u0430 \\u041c\\u0435\\u0436\\u0434\\u0443\\u043d\\u0430\\u0440\\u043e\\u0434\\u043d\\u044b\\u0439\",\"\\u041c\\u0438\\u0440\\u0430\\u0436 \\u0421\\u0438\\u043d\\u0435\\u043c\\u0430 \\u041c\\u043e\\u043d\\u043f\\u0430\\u043d\\u0441\\u044c\\u0435\",\"\\u041c\\u0438\\u0440\\u0430\\u0436 \\u0421\\u0438\\u043d\\u0435\\u043c\\u0430 \\u041e\\u0437\\u0435\\u0440\\u043a\\u0438\",\"\\u041c\\u0438\\u0440\\u0430\\u0436 \\u0421\\u0438\\u043d\\u0435\\u043c\\u0430 \\u041e\\u043a\\u0430 (\\u041a\\u043e\\u043b\\u043f\\u0438\\u043d\\u043e)\",\"\\u041c\\u0438\\u0440\\u0430\\u0436 \\u0421\\u0438\\u043d\\u0435\\u043c\\u0430 \\u0432 \\u0423\\u043b\\u044c\\u044f\\u043d\\u043a\\u0435\",\"\\u041c\\u0438\\u0440\\u0430\\u0436 \\u0421\\u0438\\u043d\\u0435\\u043c\\u0430 \\u043d\\u0430 \\u0411\\u043e\\u043b\\u044c\\u0448\\u043e\\u043c\",\"\\u041c\\u043e\\u0440\\u0438 \\u0421\\u0438\\u043d\\u0435\\u043c\\u0430 \\u0421\\u0430\\u043d\\u043a\\u0442-\\u041f\\u0435\\u0442\\u0435\\u0440\\u0431\\u0443\\u0440\\u0433\",\"\\u041d\\u0435\\u0432\\u0430\",\"\\u041d\\u0435\\u0432\\u0441\\u043a\\u0438\\u0439 Cinema\",\"\\u041d\\u0435\\u0432\\u0441\\u043a\\u0438\\u0439 Cinema\",\"\\u041e\\u0442\\u043a\\u0440\\u044b\\u0442\\u0430\\u044f \\u043a\\u0438\\u043d\\u043e\\u0441\\u0442\\u0443\\u0434\\u0438\\u044f \\u041b\\u0435\\u043d\\u0434\\u043e\\u043a\",\"\\u041f\\u0438\\u043a\",\"\\u041f\\u0438\\u043a\",\"\\u041f\\u043e\\u0431\\u0435\\u0434\\u0430 (\\u0413\\u0430\\u0442\\u0447\\u0438\\u043d\\u0430)\",\"\\u0421\\u0438\\u043d\\u0435\\u043c\\u0430 \\u041f\\u0430\\u0440\\u043a \\u0413\\u0440\\u0430\\u043d\\u0434 \\u041a\\u0430\\u043d\\u044c\\u043e\\u043d\",\"\\u0421\\u0438\\u043d\\u0435\\u043c\\u0430 \\u041f\\u0430\\u0440\\u043a \\u041c\\u0435\\u0433\\u0430 \\u0414\\u044b\\u0431\\u0435\\u043d\\u043a\\u043e\",\"\\u0421\\u0438\\u043d\\u0435\\u043c\\u0430 \\u041f\\u0430\\u0440\\u043a \\u0420\\u0430\\u0434\\u0443\\u0433\\u0430 \\u043d\\u0430 \\u041f\\u0430\\u0440\\u043a\\u0435 \\u041f\\u043e\\u0431\\u0435\\u0434\\u044b\",\"\\u0421\\u0438\\u043d\\u0435\\u043c\\u0430 \\u0421\\u0442\\u0430\\u0440 \\u0420\\u0438\\u043e\",\"\\u0421\\u0438\\u043d\\u0435\\u043c\\u0430 \\u0421\\u0442\\u0430\\u0440 \\u0420\\u0438\\u043e \\u0421\\u0430\\u043d\\u043a\\u0442-\\u041f\\u0435\\u0442\\u0435\\u0440\\u0431\\u0443\\u0440\\u0433\",\"\\u0424\\u043e\\u0440\\u043c\\u0443\\u043b\\u0430 \\u041a\\u0438\\u043d\\u043e \\u0410\\u043a\\u0430\\u0434\\u0435\\u043c \\u041f\\u0430\\u0440\\u043a\",\"\\u0424\\u043e\\u0440\\u043c\\u0443\\u043b\\u0430 \\u041a\\u0438\\u043d\\u043e \\u0411\\u0430\\u043b\\u043a\\u0430\\u043d\\u0441\\u043a\\u0438\\u0439\",\"\\u0424\\u043e\\u0440\\u043c\\u0443\\u043b\\u0430 \\u041a\\u0438\\u043d\\u043e \\u0413\\u0430\\u043b\\u0435\\u0440\\u0435\\u044f\",\"\\u0424\\u043e\\u0440\\u043c\\u0443\\u043b\\u0430 \\u041a\\u0438\\u043d\\u043e \\u0416\\u0435\\u043c\\u0447\\u0443\\u0436\\u0438\\u043d\\u0430\",\"\\u0424\\u043e\\u0440\\u043c\\u0443\\u043b\\u0430 \\u041a\\u0438\\u043d\\u043e \\u0417\\u0430\\u043d\\u0435\\u0432\\u0441\\u043a\\u0438\\u0439 \\u041a\\u0430\\u0441\\u043a\\u0430\\u0434\",\"\\u0424\\u043e\\u0440\\u043c\\u0443\\u043b\\u0430 \\u041a\\u0438\\u043d\\u043e \\u041b\\u043e\\u043d\\u0434\\u043e\\u043d \\u041c\\u043e\\u043b\\u043b\",\"\\u0424\\u043e\\u0440\\u043c\\u0443\\u043b\\u0430 \\u041a\\u0438\\u043d\\u043e \\u041c\\u0435\\u0440\\u043a\\u0443\\u0440\\u0438\\u0439\",\"\\u0424\\u043e\\u0440\\u043c\\u0443\\u043b\\u0430 \\u041a\\u0438\\u043d\\u043e \\u041d\\u0435\\u043e\",\"\\u0424\\u043e\\u0440\\u043c\\u0443\\u043b\\u0430 \\u041a\\u0438\\u043d\\u043e \\u041d\\u043e\\u0440\\u0434\",\"\\u0424\\u043e\\u0440\\u043c\\u0443\\u043b\\u0430 \\u041a\\u0438\\u043d\\u043e \\u041f\\u0438\\u0442\\u0435\\u0440\\u043b\\u044d\\u043d\\u0434\",\"\\u0424\\u043e\\u0440\\u043c\\u0443\\u043b\\u0430 \\u041a\\u0438\\u043d\\u043e \\u0420\\u043e\\u0434\\u0435\\u043e \\u0414\\u0440\\u0430\\u0439\\u0432\",\"\\u0424\\u043e\\u0440\\u043c\\u0443\\u043b\\u0430 \\u041a\\u0438\\u043d\\u043e \\u0421\\u0438\\u0442\\u0438 \\u041c\\u043e\\u043b\\u043b\",\"\\u0427\\u0430\\u0439\\u043a\\u0430\",\"\\u041c\\u0430\\u0434\\u0430\\u0433\\u0430\\u0441\\u043a\\u0430\\u0440\",\"\\u041c\\u0430\\u0434\\u0430\\u0433\\u0430\\u0441\\u043a\\u0430\\u0440 \\u0421\\u0430\\u0440\\u0430\\u043d\\u0441\\u043a\",\"\\u0420\\u043e\\u0441\\u0441\\u0438\\u044f\",\"\\u0421\\u0438\\u043d\\u0435\\u043c\\u0430 \\u0421\\u0442\\u0430\\u0440 \\u0420\\u0438\\u043e \\u0421\\u0430\\u0440\\u0430\\u043d\\u0441\\u043a\",\"Cinema 5 (\\u042d\\u043d\\u0433\\u0435\\u043b\\u044c\\u0441)\",\"Cinema 5 \\u0421\\u0430\\u0440\\u0430\\u0442\\u043e\\u0432\",\"Cinema 5 \\u0421\\u0430\\u0440\\u0430\\u0442\\u043e\\u0432\",\"\\u0410\\u0442\\u0440\\u0438\\u0443\\u043c (\\u0412\\u043e\\u043b\\u044c\\u0441\\u043a)\",\"\\u0414\\u043e\\u043c \\u041a\\u0438\\u043d\\u043e\",\"\\u0414\\u043e\\u043c \\u043a\\u0438\\u043d\\u043e\",\"\\u0421\\u0438\\u043d\\u0435\\u043c\\u0430 \\u041f\\u0430\\u0440\\u043a \\u0422\\u0430\\u0443-\\u0433\\u0430\\u043b\\u0435\\u0440\\u0435\\u044f\",\"\\u0421\\u0438\\u043d\\u0435\\u043c\\u0430 \\u041f\\u0430\\u0440\\u043a \\u0422\\u0440\\u0438\\u0443\\u043c\\u0444 \\u041c\\u043e\\u043b\\u043b\",\"\\u041b\\u044e\\u043c\\u0435\\u043d \\u0421\\u0430\\u0440\\u043e\\u0432\",\"\\u041b\\u044e\\u043c\\u0435\\u043d \\u0424\\u0438\\u043b\\u044c\\u043c (\\u0421\\u0430\\u0440\\u043e\\u0432)\",\"\\u0413\\u0435\\u0440\\u043c\\u0435\\u0441\",\"\\u041a\\u0438\\u043d\\u043e\\u043b\\u0435\\u043d\\u0434-\\u041c\\u0430\\u0440\\u0438\\u043e\",\"\\u0410\\u043f\\u0435\\u043b\\u044c\\u0441\\u0438\\u043d\",\"\\u041c\\u0443\\u0441\\u0441\\u043e\\u043d\",\"\\u041a\\u0438\\u043d\\u043e\\u0437\\u0430\\u043b\\u044b \\u0426\\u0423\\u041c\\u0430\",\"\\u041a\\u043e\\u0441\\u043c\\u0438\\u043a \\u0421\\u0435\\u0440\\u0433\\u0438\\u0435\\u0432 \\u041f\\u043e\\u0441\\u0430\\u0434\",\"\\u041a\\u043e\\u0440\\u0441\\u0442\\u043e\\u043d (\\u0421\\u0435\\u0440\\u043f\\u0443\\u0445\\u043e\\u0432)\",\"Kino Box\",\"\\u041a\\u0438\\u043d\\u043e\\u0442\\u0435\\u0430\\u0442\\u0440 \\u0438\\u043c. \\u0428\\u0435\\u0432\\u0447\\u0435\\u043d\\u043a\\u043e\",\"\\u041a\\u0440\\u044b\\u043c (\\u0424\\u0435\\u043e\\u0434\\u043e\\u0441\\u0438\\u044f)\",\"\\u041b\\u044e\\u043c\\u0435\\u043d \\u0421\\u0438\\u043c\\u0444\\u0435\\u0440\\u043e\\u043f\\u043e\\u043b\\u044c\",\"\\u0421\\u043f\\u0430\\u0440\\u0442\\u0430\\u043a\",\"\\u041f\\u0440\\u0435\\u043c\\u044c\\u0435\\u0440\\u0430\",\"Galaxy, \\u041f\\u0430\\u0440\\u043a-\\u041e\\u0442\\u0435\\u043b\\u044c \\u0423\\u044e\\u0442\",\"Silver Cinema\",\"\\u041c\\u0438\\u0440\\u0430\\u0436 \\u0421\\u0438\\u043d\\u0435\\u043c\\u0430 \\u041c\\u0430\\u043a\\u0441\\u0438\",\"\\u0421\\u043c\\u0435\\u043d\\u0430\",\"\\u0421\\u043e\\u0432\\u0440\\u0435\\u043c\\u0435\\u043d\\u043d\\u0438\\u043a\",\"\\u041b\\u044e\\u043c\\u0435\\u043d \\u0424\\u0438\\u043b\\u044c\\u043c (\\u0421\\u043e\\u0432\\u0435\\u0442\\u0441\\u043a)\",\"\\u041a\\u0438\\u043d\\u043e\\u0446\\u0435\\u043d\\u0442\\u0440 \\u0421\\u0435\\u043d\\u0435\\u0436\",\"\\u0421\\u0435\\u043d\\u0435\\u0436 (\\u0421\\u043e\\u043b\\u043d\\u0435\\u0447\\u043d\\u043e\\u0433\\u043e\\u0440\\u0441\\u043a)\",\"City Stars \\u041e\\u043b\\u0438\\u043c\\u043f\",\"\\u041a\\u0438\\u043d\\u043e \\u041c\\u043e\\u0440\\u0435 \\u041c\\u043e\\u043b\\u043b\",\"\\u0410\\u0432\\u0440\\u043e\\u0440\\u0430 (\\u0421\\u043f\\u0430\\u0441\\u0441\\u043a-\\u0414\\u0430\\u043b\\u044c\\u043d\\u0438\\u0439)\",\"\\u0421\\u0430\\u043b\\u044e\\u0442 \\u0426\\u0435\\u043d\\u0442\\u0440\",\"\\u0421\\u0430\\u043b\\u044e\\u0442 \\u042e\\u0433\",\"\\u0421\\u0438\\u043d\\u0435\\u043c\\u0430 \\u041f\\u0430\\u0440\\u043a \\u041a\\u043e\\u0441\\u043c\\u043e\\u0441\",\"\\u042d\\u0442\\u0430\\u0436\\u0438\",\"\\u042d\\u0442\\u0430\\u0436\\u0438\",\"\\u041a\\u0438\\u043d\\u043e\\u0446\\u0435\\u043d\\u0442\\u0440\",\"Cinema 5 (\\u0421\\u0442\\u0430\\u0440\\u044b\\u0439 \\u041e\\u0441\\u043a\\u043e\\u043b)\",\"Cinema 5 \\u0421\\u0442\\u0430\\u0440\\u044b\\u0439 \\u041e\\u0441\\u043a\\u043e\\u043b\",\"\\u0411\\u044b\\u043b\\u044c\",\"\\u0427\\u0430\\u0440\\u043b\\u0438 \\u0411\\u043e\\u0448\\u0435\",\"\\u041a\\u0438\\u043d\\u043e\\u043f\\u043e\\u0440\\u0442 (\\u0421\\u0442\\u0435\\u0440\\u043b\\u0438\\u0442\\u0430\\u043c\\u0430\\u043a)\",\"\\u041c\\u0438\\u0440\\u0430\\u0436 \\u0421\\u0438\\u043d\\u0435\\u043c\\u0430 \\u0410\\u0440\\u0431\\u0430\\u0442 (\\u0421\\u0442\\u0435\\u0440\\u043b\\u0438\\u0442\\u0430\\u043c\\u0430\\u043a)\",\"\\u042e\\u043d\\u043e\\u0441\\u0442\\u044c\",\"Sky\",\"\\u042e\\u043d\\u043e\\u0441\\u0442\\u044c (\\u0421\\u0442\\u0443\\u043f\\u0438\\u043d\\u043e)\",\"\\u0412\\u0435\\u0440\\u0448\\u0438\\u043d\\u0430\",\"\\u0413\\u0430\\u043b\\u0430\\u043a\\u0442\\u0438\\u043a\\u0430\",\"\\u041a\\u0430\\u0440\\u043e 8 \\u0410\\u0443\\u0440\\u0430\",\"\\u041c\\u0438\\u0440\",\"\\u0421\\u0438\\u043d\\u0435\\u043c\\u0430 \\u041f\\u0430\\u0440\\u043a \\u0421\\u0443\\u0440\\u0433\\u0443\\u0442 \\u0421\\u0438\\u0442\\u0438-\\u043c\\u043e\\u043b\\u043b\",\"\\u041a\\u0438\\u043d\\u043e\\u043a\\u043e\\u043c\\u043f\\u043b\\u0435\\u043a\\u0441 \\u0423\\u043b\\u0438\\u0446\\u0430 (\\u0421\\u044b\\u0437\\u0440\\u0430\\u043d\\u044c)\",\"\\u041a\\u0438\\u043d\\u043e\\u043f\\u043b\\u0435\\u043a\\u0441\",\"Mori Cinema (\\u0421\\u044b\\u043a\\u0442\\u044b\\u0432\\u043a\\u0430\\u0440)\",\"\\u041a\\u0440\\u043e\\u043d\\u0432\\u0435\\u0440\\u043a \\u0421\\u0438\\u043d\\u0435\\u043c\\u0430 \\u041c\\u0430\\u043a\\u0441\\u0438\",\"\\u0420\\u0430\\u0434\\u0443\\u0433\\u0430\",\"\\u0420\\u0443\\u0431\\u041b\\u0438\\u043e\\u043d\\u00a0\\u0421\\u0438\\u043d\\u0435\\u043c\\u0430\\u00a0\\u0420\\u0443\\u0431\\u043b\\u0438\\u043a\\u042a\",\"\\u0420\\u0443\\u0431\\u043b\\u0438\\u043e\\u043d\\u0421\\u0438\\u043d\\u0435\\u043c\\u0430 \\u0432 \\u0422\\u0420\\u0426 \\u041f\\u0430\\u0440\\u043c\\u0430\",\"\\u0422\\u043e\\u043c\\u043b\\u0443\\u043d (\\u0423\\u0441\\u0438\\u043d\\u0441\\u043a)\",\"\\u0427\\u0430\\u0440\\u043b\\u0438 \\u041c\\u0430\\u0440\\u043c\\u0435\\u043b\\u0430\\u0434\",\"\\u041a\\u0438\\u043d\\u043e\\u043c\\u0430\\u043a\\u0441-\\u0410\\u043a\\u0432\\u0430\\u0440\\u0435\\u043b\\u044c\",\"\\u041a\\u0438\\u043d\\u043e\\u043c\\u0430\\u043a\\u0441\\u2013\\u0410\\u043a\\u0432\\u0430\\u0440\\u0435\\u043b\\u044c+\",\"\\u041c\\u043e\\u043d \\u0421\\u0438\\u043d\\u0435\\u043c\\u0430\",\"\\u0421\\u0438\\u043d\\u0435\\u043c\\u0430 \\u0421\\u0442\\u0430\\u0440 \\u0420\\u0438\\u043e\",\"\\u0421\\u0438\\u043d\\u0435\\u043c\\u0430 \\u0421\\u0442\\u0430\\u0440 \\u0420\\u0438\\u043e \\u0422\\u0430\\u043c\\u0431\\u043e\\u0432\",\"\\u0421\\u0442\\u0443\\u0434\\u0435\\u043d\\u0435\\u0446 \\u0421\\u0438\\u043d\\u0435\\u043c\\u0430\",\"\\u0421\\u0442\\u0443\\u0434\\u0435\\u043d\\u0435\\u0446 \\u0421\\u0438\\u043d\\u0435\\u043c\\u0430\",\"Silver Cinema\",\"Silver Cinema\",\"\\u041a\\u0438\\u043d\\u043e\\u043a\\u043e\\u043d\\u0446\\u0435\\u0440\\u0442\\u043d\\u044b\\u0439 \\u0437\\u0430\\u043b \\u041f\\u0430\\u043d\\u043e\\u0440\\u0430\\u043c\\u0430\",\"\\u0421\\u0438\\u043d\\u0435\\u043c\\u0430 \\u0421\\u0442\\u0430\\u0440 \\u0422\\u0432\\u0435\\u0440\\u044c\",\"\\u041a\\u0438\\u043d\\u043e \",\"Mori Cinema (\\u0422\\u043e\\u043b\\u044c\\u044f\\u0442\\u0442\\u0438)\",\"\\u041a\\u043e\\u0441\\u043c\\u043e\\u0441 \",\"\\u041c\\u043e\\u0440\\u0438 \\u0421\\u0438\\u043d\\u0435\\u043c\\u0430 \\u0422\\u043e\\u043b\\u044c\\u044f\\u0442\\u0442\\u0438\",\"F\\u0430\\u043a\\u0435\\u043b\",\"Goodwin\",\"Kinopolis\",\"\\u041a\\u0438\\u043d\\u043e\\u043c\\u0430\\u043a\\u0441\",\"\\u041a\\u0438\\u043d\\u043e\\u043c\\u0430\\u043d\\u0438\\u044f (\\u041a\\u043e\\u043b\\u043f\\u0430\\u0448\\u0435\\u0432\\u043e)\",\"\\u041f\\u0440\\u0435\\u043c\\u044c\\u0435\\u0440 \\u0417\\u0430\\u043b \\u0421\\u0430\\u043d \\u0421\\u0438\\u0442\\u0438 (\\u0422\\u0440\\u043e\\u0438\\u0446\\u043a)\",\"\\u041c\\u041e\\u041d\\u0418\\u0422\\u041e\\u0420 \\u041a\\u0440\\u0430\\u0441\\u043d\\u0430\\u044f \\u041f\\u043b\\u043e\\u0449\\u0430\\u0434\\u044c (\\u0422\\u0443\\u0430\\u043f\\u0441\\u0435)\",\"\\u0410\\u0432\\u0442\\u043e\\u043a\\u0438\\u043d\\u043e\\u0442\\u0435\\u0430\\u0442\\u0440 \\u00ab\\u0414\\u041a\\u0416-\\u043a\\u0438\\u043d\\u043e\\u00bb\",\"\\u0410\\u043b\\u043c\\u0430\\u0437 \\u0421\\u0438\\u043d\\u0435\\u043c\\u0430 \\u0422\\u0443\\u043b\\u0430\",\"\\u0414\\u041a\\u0416-\\u043a\\u0438\\u043d\\u043e\",\"\\u041a\\u0438\\u043d\\u043e\\u0421\\u0438\\u0442\\u0438 \\u0422\\u0443\\u043b\\u0430\",\"\\u041a\\u0438\\u043d\\u043e\\u0441\\u0438\\u0442\\u0438 \\u0422\\u0443\\u043b\\u0430\",\"\\u041e\\u043a\\u0442\\u044f\\u0431\\u0440\\u044c\",\"\\u0421\\u0438\\u043d\\u0435\\u043c\\u0430 \\u041f\\u0430\\u0440\\u043a \\u041c\\u0430\\u043a\\u0441\\u0438\",\"\\u0421\\u0438\\u043d\\u0435\\u043c\\u0430 \\u0421\\u0442\\u0430\\u0440 \\u0420\\u0438\\u043e \\u0422\\u0443\\u043b\\u0430\",\"\\u0410\\u0437\\u0431\\u0443\\u043a\\u0430 \\u043a\\u0438\\u043d\\u043e \\u0421\\u043e\\u043b\\u043d\\u0435\\u0447\\u043d\\u044b\\u0439\",\"\\u0410\\u0437\\u0431\\u0443\\u043a\\u0430 \\u043a\\u0438\\u043d\\u043e \\u0424\\u0430\\u0432\\u043e\\u0440\\u0438\\u0442\",\"\\u0410\\u0442\\u043c\\u043e\\u0441 \\u0421\\u0438\\u043d\\u0435\\u043c\\u0430\",\"\\u041a\\u0430\\u0440\\u043e 6 \\u041a\\u043e\\u043b\\u0443\\u043c\\u0431\",\"\\u041a\\u0438\\u043d\\u043e\\u043c\\u0430\\u043a\\u0441\",\"\\u041a\\u0438\\u043d\\u043e\\u043c\\u0430\\u043a\\u0441-\\u0422\\u044e\\u043c\\u0435\\u043d\\u044c\",\"\\u041f\\u0440\\u0435\\u043c\\u044c\\u0435\\u0440\",\"\\u0421\\u0438\\u043d\\u0435\\u043c\\u0430 \\u041f\\u0430\\u0440\\u043a \\u0413\\u0443\\u0434\\u0432\\u0438\\u043d\",\"Capital Cinema\",\"People's Cinema IMAX\",\"\\u0415\\u0432\\u0440\\u043e\\u0437\\u043e\\u043d\\u0430\",\"\\u0415\\u0432\\u0440\\u043e\\u0437\\u043e\\u043d\\u0430\",\"\\u041b\\u0443\\u043d\\u0430\",\"\\u0420\\u0443\\u0441\\u043b\\u0430\\u043d\",\"\\u0421\\u0438\\u043d\\u0435\\u043c\\u0430 \\u041f\\u0430\\u0440\\u043a \\u0410\\u043a\\u0432\\u0430\\u043c\\u043e\\u043b\\u043b\",\"\\u0414\\u041a \\u0438\\u043c. \\u041d\\u0430\\u0439\\u043c\\u0443\\u0448\\u0438\\u043d\\u0430 (\\u0423\\u0441\\u0442\\u044c-\\u0418\\u043b\\u0438\\u043c\\u0441\\u043a)\",\"Cinema 5\",\"Cinema 5 \\u0410\\u043a\\u0432\\u0430\\u0440\\u0438\\u043d\",\"Cinema 5 \\u0423\\u0444\\u0430\",\"Silver Cinema\",\"Silver Cinema\",\"Ultra Cinema\",\"\\u041a\\u0438\\u043d\\u043e\\u043a\\u043e\\u043c\\u043f\\u043b\\u0435\\u043a\\u0441 Ultra Cinema\",\"\\u041a\\u0438\\u043d\\u043e\\u043c\\u0430\\u043a\\u0441\",\"\\u0420\\u043e\\u0434\\u0438\\u043d\\u0430\",\"\\u0421\\u0438\\u043d\\u0435\\u043c\\u0430 \\u041f\\u0430\\u0440\\u043a \\u0413\\u0430\\u043b\\u0435\\u0440\\u0435\\u044f \\u0410\\u0440\\u0442\",\"\\u0421\\u0438\\u043d\\u0435\\u043c\\u0430 \\u041f\\u0430\\u0440\\u043a \\u0421\\u0435\\u043c\\u044c\\u044f\",\"Cinema 9 IMAX\",\"\\u0413\\u0438\\u0433\\u0430\\u043d\\u0442\",\"\\u0413\\u043e\\u043b\\u043b\\u0438\\u0432\\u0443\\u0434\",\"\\u041e\\u0441\\u043a\\u0430\\u0440\",\"Kinostar\",\"\\u041b\\u0430\\u043d\\u0433\\u0430\\u043b\",\"\\u0421\\u0438\\u043d\\u0435\\u043c\\u0430 \\u041f\\u0430\\u0440\\u043a \\u041c\\u0415\\u0413\\u0410 \\u0425\\u0438\\u043c\\u043a\\u0438\",\"\\u041c\\u0411\\u0423\\u041a \\u0426\\u0435\\u043d\\u0442\\u0440 \\u0415\\u043b\\u0438\\u0437\\u0430\\u0432\\u0435\\u0442\\u044b \\u041c\\u0430\\u043c\\u043e\\u043d\\u0442\\u043e\\u0432\\u043e\\u0439\",\"\\u041a\\u0438\\u043d\\u043e\\u0446\\u0435\\u043d\\u0442\\u0440 \\u041a\\u0430\\u043c\\u0430\",\"Cinema 5\",\"Cinema 5 \\u041c\\u0422\\u0412\",\"\\u0422\\u0440\\u0438 \\u043f\\u0438\\u043d\\u0433\\u0432\\u0438\\u043d\\u0430\",\"\\u0422\\u0440\\u0438 \\u043f\\u0438\\u043d\\u0433\\u0432\\u0438\\u043d\\u0430\",\"\\u0417\\u043d\\u0430\\u043c\\u044f\",\"\\u0418\\u043c\\u043f\\u0443\\u043b\\u044c\\u0441\",\"\\u041a\\u0438\\u043d\\u043e\\u043c\\u0430\\u043a\\u0441-\\u0420\\u043e\\u0434\\u043d\\u0438\\u043a\",\"\\u041a\\u0438\\u043d\\u043e\\u043c\\u0430\\u043a\\u0441-\\u0423\\u0440\\u0430\\u043b\",\"\\u041a\\u0438\\u043d\\u043e\\u043c\\u0430\\u043a\\u0441\\u2013\\u0420\\u043e\\u0434\\u043d\\u0438\\u043a\",\"\\u041a\\u0438\\u043d\\u043e\\u043c\\u0430\\u043a\\u0441\\u2013\\u0423\\u0440\\u0430\\u043b\",\"\\u0421\\u0438\\u043d\\u0435\\u043c\\u0430 \\u041f\\u0430\\u0440\\u043a \\u0413\\u043e\\u0440\\u043a\\u0438\",\"Mori Cinema (\\u0427\\u0435\\u0440\\u0435\\u043f\\u043e\\u0432\\u0435\\u0446)\",\"\\u0414\\u043e\\u043c \\u043c\\u0443\\u0437\\u044b\\u043a\\u0438 \\u0438 \\u043a\\u0438\\u043d\\u043e \\u041a\\u043e\\u043c\\u0441\\u043e\\u043c\\u043e\\u043b\\u0435\\u0446\",\"\\u041a\\u043e\\u043c\\u0441\\u043e\\u043c\\u043e\\u043b\\u0435\\u0446 (\\u0427\\u0435\\u0440\\u0435\\u043f\\u043e\\u0432\\u0435\\u0446)\",\"\\u0427\\u0430\\u0440\\u043b\\u0438 \\u0420\\u043e\\u0441\\u0441\\u0438\\u044f\",\"\\u0427\\u0430\\u0440\\u043b\\u0438 \\u0420\\u043e\\u0441\\u0441\\u0438\\u044f\",\"\\u041b\\u044e\\u043c\\u0435\\u043d \\u0424\\u0438\\u043b\\u044c\\u043c (\\u0427\\u0435\\u0440\\u043d\\u044f\\u0445\\u043e\\u0432\\u0441\\u043a)\",\"\\u0411\\u0440\\u0438\\u0433\\u0430\\u043d\\u0442\\u0438\\u043d\\u0430\",\"\\u041a\\u043e\\u043c\\u0435\\u0442\\u0430\",\"\\u041b\\u0438\\u043a\\u0435\\u0440\\u043a\\u0430 \\u0421\\u0438\\u043d\\u0435\\u043c\\u0430\",\"\\u041b\\u0438\\u043a\\u0435\\u0440\\u043a\\u0430 \\u0421\\u0438\\u043d\\u0435\\u043c\\u0430\",\"\\u0420\\u043e\\u0441\\u0441\\u0438\\u044f\",\"\\u0423\\u0434\\u043e\\u043a\\u0430\\u043d\",\"\\u0426\\u0435\\u043d\\u0442\\u0430\\u0432\\u0440\",\"\\u041c\\u041e\\u041d\\u0418\\u0422\\u041e\\u0420 \\u041c\\u0430\\u043a\\u0441\\u0438\\u043c\\u0443\\u043c (\\u0428\\u0430\\u0445\\u0442\\u044b)\",\"\\u041a\\u043e\\u0441\\u043c\\u043e\\u0441\",\"\\u0421\\u043f\\u0443\\u0442\\u043d\\u0438\\u043a \\u0428\\u0435\\u0431\\u0435\\u043a\\u0438\\u043d\\u043e\",\"\\u0412 \\u0429\\u0435\\u043a\\u0438\\u043d\\u043e\",\"\\u0412\\u0438\\u043a\\u0438 \\u0421\\u0438\\u043d\\u0435\\u043c\\u0430 (\\u042d\\u043b\\u0435\\u043a\\u0442\\u0440\\u043e\\u0441\\u0442\\u0430\\u043b\\u044c)\",\"\\u0413\\u0430\\u043b\\u0435\\u0440\\u0435\\u044f \\u043a\\u0438\\u043d\\u043e\",\"\\u0421\\u043e\\u0432\\u0440\\u0435\\u043c\\u0435\\u043d\\u043d\\u0438\\u043a\",\"\\u0421\\u043e\\u0432\\u0440\\u0435\\u043c\\u0435\\u043d\\u043d\\u0438\\u043a\",\"\\u041e\\u043a\\u0442\\u044f\\u0431\\u0440\\u044c\",\"Cinema 5\",\"\\u0421\\u0438\\u043d\\u0435\\u043c\\u0430 \\u0414\\u0435 \\u041b\\u044e\\u043a\\u0441 (\\u042e\\u0433\\u043e\\u0440\\u0441\\u043a)\",\"\\u041a\\u043e\\u043c\\u0441\\u043e\\u043c\\u043e\\u043b\\u0435\\u0446\",\"\\u041e\\u043a\\u0442\\u044f\\u0431\\u0440\\u044c\",\"\\u041f\\u0440\\u0435\\u043c\\u044c\\u0435\\u0440\\u0430\",\"\\u041a\\u0438\\u043d\\u043e\\u043c\\u0430\\u043a\\u0441-\\u0410\\u043b\\u044c\\u0442\\u0430\\u0438\\u0440\",\"\\u041a\\u0438\\u043d\\u043e\\u043c\\u0430\\u043a\\u0441-\\u0410\\u0443\\u0440\\u0430\",\"\\u041a\\u0438\\u043d\\u043e\\u043c\\u0430\\u043a\\u0441\\u2013\\u0410\\u043b\\u044c\\u0442\\u0430\\u0438\\u0440\",\"\\u041a\\u0438\\u043d\\u043e\\u043c\\u0430\\u043a\\u0441\\u2013\\u0410\\u0443\\u0440\\u0430\",\"\\u0421\\u0438\\u043d\\u0435\\u043c\\u0430 \\u0421\\u0442\\u0430\\u0440 (\\u0422\\u0443\\u0442\\u0430\\u0435\\u0432\\u0441\\u043a\\u043e\\u0435)\",\"\\u0421\\u0438\\u043d\\u0435\\u043c\\u0430 \\u0421\\u0442\\u0430\\u0440 \\u0428\\u043e\\u043a\\u043e\\u043b\\u0430\\u0434\"],\"lat\":[53.690401674604914,43.427552,50.629368,44.898968,55.394897,44.982139,44.983259407610205,64.55038465535344,64.5324156,64.52431710213688,64.5419321,64.5596729394627,64.558618,64.558618,46.338313,46.35967097860274,46.330977,46.413024,46.37430342531229,46.374413,56.491561,55.790661,55.79766,51.548647,53.36226060441032,53.36897698986835,51.5332209,53.3975536,53.335214,50.632777,50.63286274924337,50.573218,50.598719,50.615954,50.57443733483095,50.5524051919696,50.6420901,50.642078,53.96822978775947,63.721567,52.536834,50.280435,55.0270916,58.384685,56.30434125646747,45.8053328,53.307905,52.37916,53.2755354,53.3079592,53.275467,53.2400572,53.270383,53.27038411205265,54.530844,52.788492,58.53150554211609,58.524354886825,54.349296,56.9791639718074,56.97259,43.162267,43.100369,43.1027245315351,43.102622,43.116437,43.115832,43.033599,56.11905,56.119229238381934,56.3649940393162,48.69695347781085,48.748983,48.74917067646652,48.743892,48.69778097641402,48.77185187994527,48.744126124261925,48.704325,48.7257222739197,47.5139074,55.863485,48.771798,59.2176,59.09391179205568,59.220819,59.1970426719488,59.202972234838256,59.202815,67.501853,67.501853,51.7888161,51.788555,51.717747,51.710867,51.633206,51.633460042393466,51.697198,51.697302,51.664936,51.66503383384162,51.66593651418,51.670339,51.670364326931,55.321748,60.019837,60.707348,56.2483206,55.187121,59.582031,59.563533,44.55936786682783,51.958285,51.95832129999999,56.672952,43.308934,43.317297,51.281109,51.277841,64.429958,43.339791,54.589764,58.187849,45.71111374351818,54.215988,54.238199,55.931223,45.18994644421324,56.7933331818829,56.823631,56.828678,56.82903099033377,56.837435,56.837046588695415,56.844964,56.818261,56.792163,56.845377,56.806966,56.8069089,56.852729,56.793449,56.829374,56.82946270935844,56.8363993338852,56.83649,56.797272,56.88698772366666,56.88718,56.891757,56.899699,56.863244,56.86350770000001,56.816341,56.816418,56.803801,56.83823599999999,56.838236,56.8323239146968,52.615956,53.184611,44.048575,44.050476,52.338196,53.528175,55.604565,55.286409,53.19633392532358,53.196385,55.982618,55.9986809879617,54.960902,55.148719,55.124657,56.982754653751925,56.983736,56.942834,57.005529,56.874778,56.85756538658492,56.87680645400033,56.875973,56.85186834004455,56.871944364994,57.661693,52.2758454,52.276271,52.26673418637365,52.28205470917973,52.280287779959686,52.279213,52.26514056613739,52.2731886494951,52.265608,52.26574775723108,52.26779133504152,52.511660003645375,54.619286,56.641832,55.829578,55.82952662964525,55.825153,55.778498,55.8153372158467,55.815946,55.79178843599846,55.74441,55.7867,55.768293,55.821176,55.76944245945875,55.82124883676215,55.79385660000003,55.85391,55.788096,54.720595,54.714061,54.68141021549926,54.737639,54.718657,54.72166320714468,55.566705,54.53144985803596,54.53145,54.515492,54.515607,53.86577493826624,54.51618008272685,54.516184,54.51556416372517,54.515136,56.390788,56.415903,56.390739,54.938643,55.32857771494807,55.402292,55.343641454448544,55.343907,55.343526,55.4019601,59.369678,59.369668,59.387811,59.444631,59.444464228157024,58.599179745798914,56.333973,52.746763850870906,56.33547,55.084126,55.09269,55.09270550780705,55.08418628157534,55.084003,56.718493,55.113365,61.314364,57.74436906732569,57.742625,57.765174714632224,57.765187,61.236826,52.586787,56.942794,55.818981,55.799219,44.77691,45.0394950853986,45.017632,45.063024,45.1018,45.033406,45.001278,45.017034,45.06281542188959,45.03453509431012,44.87953975427223,45.0105989854218,56.037212,56.0119732,56.050851,56.0506909,55.9949404,56.009325,55.99132451370314,53.12116100000347,55.42519,55.4321359951596,55.432214,44.883381,51.73791379739188,51.74895,51.74891988470426,51.761661,51.74145522563213,51.741679,51.66987718232969,58.634768,52.592357,52.59236183204479,52.611325,52.591285,52.61749945406906,52.62612587458378,59.903088,54.966065,55.685929,61.620697,59.563438,59.55946553858419,59.556923,59.55696717774335,44.6149655,44.614993,61.031282,51.40117040999907,55.046522,55.504308,55.921257,55.74456719660905,55.7330384054911,55.97519732351029,55.72728573240573,55.727775,55.995632006046606,55.738591,55.79780599999999,55.875804,55.846113,55.87579740383949,55.6399594,55.84627392055067,55.639959,55.714648,55.68347,55.70634,55.998678,55.649884,55.852797,55.8529850301203,55.850661,55.761473,55.574790548031466,55.574814,55.731713,55.73181031026812,55.754722,55.813093,55.891698,55.889881,55.74795848025167,55.585281,55.7492601878281,55.809469,55.753338,55.719828,55.888542,55.651379,55.803484,55.687051,55.61991,55.757214,55.692467,55.623788,55.548599,55.790232,55.820606,55.81100700000019,55.754697098266014,55.753966,55.607489,55.653644,55.799492657870736,55.863858,55.839474,55.686098,55.710639,55.710687,55.611079,55.612146,55.659796,55.621404,55.86369830000277,55.84025099999999,55.6857669,55.65964338228474,55.6211864,55.880975,55.881176,55.75394300000039,55.582986,55.5830121280226,56.339816,56.303856,55.6066124133516,55.606856,55.85883344761388,55.612025999997655,55.7827070829488,55.727775,55.770796,55.663314,55.697463,55.697490726724055,55.91311067705894,55.913178,55.66584,55.64983600776148,55.846051,55.8632268609835,55.908452,55.73860551177134,55.9199092952377,55.749841,55.749862,55.8618488,55.861969,55.75979075291515,55.759957,55.81446,55.814477,55.818714,55.818756,55.710923,55.737226,55.737252,55.8460347915779,55.846052,55.682813,55.682829,55.852025,55.852027,55.7643799930778,55.764408,55.6858620512187,55.685927,55.751817,55.751843,55.795361,55.7953679084301,56.01164545080232,55.737569,55.87606599999435,55.744977,55.7451258529324,55.734497121927646,55.730973,55.781607,55.78162421676892,55.5244942,55.6226598024446,55.7446,55.6542748798214,55.606482441909,55.8232147685953,55.799847586129,55.705072,55.743996,55.65596684085,55.85275087112515,55.707294,55.909290781419024,55.909895,55.7663236608865,55.70876155381475,55.795433,55.79578699283469,55.629965,55.663019,55.618062,55.61854815801913,55.68979848459416,55.6634943872094,55.766212,55.708658,55.689564,55.66354,55.66367143248922,55.7282789,55.8867579907734,55.74738484542116,55.7601567,55.63714362850061,55.72789839669912,55.67796891373151,55.7058041577479,55.7775434837405,55.73631217631481,55.73648,55.811776,55.898644,55.856335,68.92127599999999,68.91417799432988,69.066955,53.710441,55.919972,55.916026839807365,55.916603,55.892042,55.891698,55.745173889934485,55.74524,55.751827,55.74192238726212,55.741977,55.75174981775038,55.7247580427722,43.50248010647266,42.825346,42.77351553197356,46.672644,44.63800332309536,56.0879978,56.086878,56.088157,61.09081059328204,60.939525,60.94398671625257,60.9361432132645,60.9510679455172,60.94051000801957,55.620512,55.655605,55.637257,55.620526,56.29619816717371,56.296299,56.14618366354899,56.2902682,56.241198167468085,56.3091188,56.34751101967848,56.2744743,55.39436486959211,56.318696,56.32254019999891,56.286198,56.3380909672388,56.3079349241295,56.317942,56.31796530597819,55.96538200972587,57.908027,51.308133047730905,53.760128,53.760266165380926,53.762996187454895,53.763007,53.760214,53.892697,53.780831,53.8928313,53.75869848060472,53.780361555345294,54.007448,44.715154,44.685284,44.725392,44.6853177,44.70091180791289,55.043933,55.0439634,54.991182,54.991233,55.104311,55.04239488516063,55.042409,55.0392,55.107041,55.10705365558204,55.03858591648163,54.75677064910644,55.02896699999999,55.029054,54.935035596535386,55.060616,55.06062941051066,54.966407,55.0556016761838,54.9804050336873,55.02874863876471,47.411443,47.756024,62.14833,55.117332,54.48383409931043,54.995963,54.9805116,54.949434,54.981054,54.948947,54.977251,55.028379,54.983675,54.991821,55.044155,55.0441675,54.99339649162869,54.99358,58.669611,52.921737656242726,53.016575,52.94003,52.967420845888505,52.7885738899445,51.81097850089778,51.83333796510188,51.81129,51.834056,51.845977,51.770479,51.238695,53.626768879,51.7946702532692,55.804602,51.22436,55.872718,57.155904,57.155904,53.220248,53.22053000000474,53.22113421174143,53.18965342663708,53.1176693,53.202492,53.19477017080442,56.915942,57.97643951755028,57.977312,58.0103259988329,57.9997919988306,58.0072468077479,61.77544772761669,61.79127339999999,61.7762469400226,53.0718208571808,54.95338,55.420132,53.872518,57.806611,57.80620399999879,57.82346923683073,56.017004,56.01749162281007,56.011701,44.035445,56.806035,55.752183,55.7638557,55.764406,53.942884,57.193962,47.23145854355268,47.25978233628889,47.260324,47.13689097371083,47.20370392288254,47.203997,47.208707,47.208703,47.29439549999999,47.28942298448664,47.289428,47.294305,47.231251,47.70694404917725,47.24750539999999,47.247532,47.23047850000455,47.230505,47.28042,47.281250113783216,47.217627,47.210476,47.210632,55.662819,55.7029214,54.071859,58.057203,54.65069378479757,54.63185600000001,54.63019616770441,54.630159,54.63419,54.634422826927135,54.6328415,54.6302849524325,66.52900767405998,53.20309389397457,53.22052335251229,53.14034286289714,53.25816067118589,53.25822,53.275919,53.191178,53.191265,53.24794618639501,53.23345999018245,53.18886,59.933941244326775,59.93841523707752,59.938473,59.936072196702185,59.946078,59.805824,59.934452,59.934452,59.955895437630886,59.936258900000034,59.936304,59.940416,59.90844,60.002412,60.007979,59.914488,59.858688,59.907182,59.832425,59.933746,59.830843,59.863328,59.83134399531582,59.924311,59.879881,59.879886,59.945841,59.95818482354186,59.88357509999999,59.8197860432194,59.883218,59.819693,59.98638640297627,59.82749999670526,59.99014947333476,59.987536,59.87014029999999,60.02233519751792,60.03917213174139,59.7388041,59.834165,59.959519507635854,59.9461541,59.93175,59.880811,59.880861,59.924064,59.926305,59.92634519999999,59.56496117406775,60.0580871652568,59.89301,59.869875904474,59.87713699999999,59.876944,60.0126633,59.83069453846585,59.92755481871647,59.84928189999999,59.93299570606581,59.912895,59.990889975171285,59.93199763632183,60.05250276915092,59.9813054,60.03373509999999,60.0049454035678,59.845067788668445,54.18558625255022,54.185631,54.1736240051832,54.182118,51.48788699108948,51.494286,51.494380606005336,52.03960601527811,51.532108,51.53221215867211,51.5753303,51.5422649933967,54.940344,54.940344,54.353984,54.94450228030494,44.58459132990777,44.5890289739937,64.550532,56.339816,54.91750070906081,44.980769,44.949857359573,45.028303321235136,44.93769967444794,44.950876121173,52.999727,45.259763,54.79429,54.76899781935876,54.778497,54.77249376494687,55.075622,56.184718,56.18485099999999,43.60540899999999,43.60595999999501,44.59794596877615,45.05025079585721,45.01992,44.997445,45.039706,45.03970909915273,57.992871,51.31756113070239,51.317427,51.309356,51.309219,53.62827038702244,53.622380471036735,50.787023,54.8982725489887,54.89107267562842,61.25665362354764,61.25403,61.277479,61.25483808188513,61.2547086439669,53.153563,53.128289,61.690334,61.69848990000001,61.67331050000001,61.662277,61.662081,65.986738,47.217405,52.728219,52.72822677613732,52.760795288456144,52.72418551028363,52.724124,52.729433,52.729512,56.8536419956899,56.85372,56.855634,56.846711,59.6418699991453,53.54179,53.510155,53.541857,56.462355278847,56.488315111455705,56.51410959787125,56.501523,58.31799043500783,54.08326002381887,44.100951,54.202498,54.155815,54.191281,54.192098,54.19183117969801,54.19777900000432,54.193544,54.199476,57.11875619383633,57.12332240650713,57.17544248716328,57.135043,57.11741876062473,57.117237,57.1336215,57.1489170047585,51.83437049999751,51.81203186851769,51.825581,51.82577,54.278834,54.369862,54.307077,57.98909437812097,54.778492,54.778492,54.822007,54.7412282042783,54.741768,54.71699020346859,54.717324,54.75770782065252,54.72805602275522,54.7293237413855,54.7496648504845,48.461925885551466,48.47700031137461,48.46884550817899,48.476645,60.965873,61.0055029,55.9106932139238,56.253798,56.776384,56.102067,56.10196826408092,56.107584,56.107734,55.161461,55.24249,55.170998,55.157372,55.1713134,55.15755169999849,55.1633884707768,59.094156,59.128008,59.128018,44.224208,44.22421710965111,54.635845,52.03045208115083,52.03421759999512,52.04009987523429,52.040411,52.045767,52.030753,52.027409,47.706913,50.412253,50.395594,54.001574,55.784597,55.812908,55.777591623549,55.777927,46.304568,51.487884,61.315783,46.96465713519403,46.957922,56.6543461,57.69782,57.626766,57.697846,57.627228023314586,57.670278,57.576755],\"legendgroup\":\"\",\"lon\":[53.650893620048464,39.926596,38.695991,37.325503,43.839725,41.097973,41.09681188590275,39.78554430490385,40.52848940000001,40.6026751866209,40.53506809999999,39.7956240177155,40.559537,40.559537,48.023172,48.055449182803386,48.048279,47.98493,48.05060585628598,48.050379,43.614313,37.886447,37.939124,43.215173,83.76405959008412,83.69122199999993,81.204706,83.9299774,83.6840095,36.570936,36.571097090213016,36.538543,36.586306,36.583585,36.58209683073278,36.5688730336516,36.57188539999993,36.572086,58.40898929240928,66.671954,85.218794,127.510357,55.9752539,33.92449,101.75965384722394,39.00189369999998,34.301873,32.195835,34.3159267,34.3019961,34.315904,34.34686680000004,34.406832,34.40680427124323,52.802721,52.263705,31.242905373664826,31.26279613693714,38.268391,60.5683331790286,60.576068,131.911624,131.903334,131.91743198531265,131.917501,131.878127,131.886733,44.642721,40.365826,40.36632309814763,41.3034117221832,44.50167241719669,44.496736,44.49669082243338,44.519383,44.49982945767215,44.79979375015182,44.51935040748765,44.50969599999996,44.5412760079922,42.185735199999954,48.3679,44.79976,39.89225,37.92345634373112,39.896275,39.8593389153442,39.81282453491144,39.81259,64.061845,64.061845,39.20539869999993,39.204687,39.177533,39.159638,39.230383,39.23057155090817,39.272664,39.273149800000056,39.204573,39.20450732889572,39.1916165650343,39.204913,39.20483634722132,38.673102,30.646628,28.77356,42.1495128,34.340006,30.148045,30.093059,38.079483735582016,85.959304,85.9594323,43.450657,45.701032,45.718014,37.538098,37.499965,76.492615,46.100301,22.214511,40.176434,34.389033375160125,49.625982,49.563753,37.494164,33.36665868759155,60.51929884841002,60.505406,60.600198,60.59902828570557,60.622088,60.62210622870339,60.589785000000006,60.53701,60.645957,60.604605,60.612099,60.61236269999995,60.549759,60.519644,60.672699,60.67211743503435,60.59572284100784,60.595741,60.581847,60.6151846522871,60.615072,60.592811,60.613213,60.631081,60.630819900000006,60.585913,60.585801,60.566168,60.61032709999995,60.610261,60.5824630561192,38.503329,158.390056,42.857122,42.895716,35.349722,33.728909,38.082064,52.003741,45.15948953677059,45.159549,37.17571,37.2589516639709,20.479127,59.673036,59.699906,40.98188791789971,40.982887,41.066304,40.985302,53.27714,53.21137410186134,53.204510217242046,53.209197,53.20496686758168,53.2932805160503,63.083849,104.30510090000008,104.306253,104.31010729199602,104.28536968220897,104.31180059265978,104.30254609999996,104.22315101719664,104.29085933737622,104.226761,104.22664048092132,104.28905278443358,103.86258618746284,83.287499,47.833142,49.118586,49.11799334603268,49.152417,49.129186,49.1273422883605,49.127023,49.11227912037418,49.192818,49.123832,49.217227,49.093351,49.21700146809393,49.09339145767217,49.14930424418026,49.086795,49.147312,20.482981,20.505141,20.48254404166414,20.485334,20.498988,20.50907334166413,36.9946,36.27171875459464,36.271707,36.228858,36.228884,34.44766538376348,36.24683300000004,36.246757,36.25217543677525,36.252108,61.942132,61.912303,61.929371,41.393429,86.12453620343103,86.117758,86.09539462563885,86.181413,86.094785,86.11753759999999,28.613067,28.613004,28.64025,32.042385,32.0387077331543,49.64752616745909,36.734088,32.23763220022738,46.552962,38.804948,38.766634,38.76653141349175,38.800541173541205,38.800242,36.76782,61.610839,47.17244,41.01345794973759,40.918766,40.93446998445711,40.934449,46.641913,41.497028,41.066444,37.347114,37.273402,39.86654499999997,38.9742868245077,39.036285,38.91838,38.98366,39.050201,38.961988,39.03655421593862,38.918395737434366,39.05251378453886,37.33875831452326,39.121925,92.935181,92.8648402,92.904357,92.9035569,92.97275539999998,92.888962,92.89545541104508,46.547499999994216,42.51834,65.318985,65.319109,40.592891,36.19228200859834,36.191721,36.19166754655237,36.184283,36.14601561904908,36.14574,36.08137578650815,59.783538,39.504331,39.50433946562134,39.574256,39.544009,39.55685994603277,39.64288940638608,29.768237,39.027631,37.876377,72.169401,150.803033,150.79187468775126,150.82468,150.82455687969286,40.10679219999997,40.106815,76.121512,57.5872722558197,60.110318,36.029953,37.99176030000001,37.62992663117871,37.637394994526176,37.90684611314202,37.60247525877492,37.601591,37.53694104943543,37.411005,37.93847800000003,37.665542,37.358211,37.66548408661652,37.7583009,37.358160144562135,37.758204,37.883572,37.550266,37.596246,37.25807689999999,37.596263,37.585774,37.5856299698636,37.444295,37.58374,37.58001208305359,37.580066,37.487353,37.487754821777344,37.621389,38.430482,37.748619,37.537676,37.64495862158651,37.722897,37.5399999682618,37.464571,37.587615,37.378191,37.588474,37.612389,37.618767,37.603918,37.509873,37.658941,37.527663,37.422027,37.542392,37.530826,37.388137,37.80090099999688,37.621521400000006,37.601627,37.532367,37.620698,37.273697867736814,37.545752,37.493276,37.85378,37.674466,37.6751,37.606815,37.606918,37.749704,37.713953,37.54592979999563,37.49128199999996,37.854277000000025,37.74961602960343,37.71377150000001,37.450368,37.450124,37.60158699999624,37.59524,37.5953712042298,38.124635,38.133214,37.53624485136743,37.536292,37.39507957136891,37.73258489998853,37.72038772209021,37.601591,37.609272,37.65602,37.500207,37.50029079574836,37.58443188115223,37.585763,37.627885,37.77007254337764,37.661055,37.60212927187979,36.86108009999998,37.41065654237116,37.7084542380982,37.802562,37.802572000000055,37.6765311,37.676825,37.65707114341777,37.656901,37.57113490000006,37.571157,37.63678099999993,37.636753,37.731341,37.609844,37.60957,37.4429064095288,37.44284,37.5713,37.571329,37.647645,37.647636000000034,37.705563411033495,37.705591,37.718590289384,37.718601,37.715999,37.71612200000004,37.495424,37.4954219162737,37.84754594104447,37.716596,37.3320360000107,37.549866,37.5499906428528,37.67086862698363,37.504834,37.717951,37.71788245767209,37.51751360000003,37.6060147583769,37.566102,37.8448880017114,37.4898321926866,37.4976663887774,37.4830365479264,37.639383,37.508179,37.5414486229698,38.44493108998813,37.456828,37.540605150787314,37.540001,37.38083208465582,37.62206527116393,37.617141,37.61686033558203,37.423851,37.480993,37.507526,37.50704511719664,37.60269286640937,37.48149100859837,37.380875,37.622141,37.602507,37.510919,37.51138249206542,37.58448680000004,37.65942913128288,37.70707635581971,37.62461189999999,37.59914796857231,37.4764491815348,37.46705064418029,37.38887436511232,37.52310639259031,37.594152981091725,37.593102,37.830817,37.629193,37.653345,33.115774999999985,33.09538047354124,33.419547,87.8013,37.708527,37.75694396162408,37.759058,37.727941,37.748619,52.37961340244669,52.379659,52.40942,52.41407450942848,52.414054,52.40958103128639,52.381209661262,43.620990566220485,132.89326,133.05602779629524,141.856762,41.93958378769685,54.23689880000006,54.245777,54.236917,72.61001453372955,76.59823789999996,76.63441480480799,76.60414231419395,76.61383507907408,76.54623235586826,51.790345,51.82468,51.817992,51.790441,44.04197040098893,44.042485,44.1783829552254,44.07333140000003,43.85952734173361,43.98731459999999,43.87130394797509,43.97884099999999,43.83986329844265,43.996031000000016,44.00598410000271,43.931013,43.9549043477535,44.073509484626,43.925443,43.92534815769409,43.06602774603266,59.973917,39.213096847943234,87.14885,87.14869864404841,87.11973631779097,87.119457,87.145925,87.114331,87.288209,87.11442590000001,87.13811863126591,87.12633493809813,38.284302,37.784769,37.78146,37.762824,37.78130090000002,37.78743056076735,82.953488,82.9533593,82.908154,82.90830000000005,82.960692,82.98625758340904,82.985873,82.960778,82.938558,82.93843036745909,82.9610034920654,83.10325500389786,82.915077,82.914752,82.9138145170798,82.914114,82.91420997420505,82.85295099999996,82.9118659799384,82.8978863065527,82.93664433396475,40.101711,39.933912,65.43514,36.593277,53.50532238157996,73.251055,73.37148769999999,73.412407,73.371511,73.388559,73.324218,73.284829,73.389308,73.363884,73.315562,73.31557629999998,73.35612672154207,73.356474,52.190133,36.01082487323015,36.16028,36.0456461,36.07486977546307,52.26359030227002,55.09168344603268,55.12893323267974,55.091413,55.129756,55.12026,55.092329,58.471548,52.4220329,55.12910862004719,38.974316,58.49438989999999,48.88239,33.098597,33.098597,44.951206,44.951669999983096,44.88832105496215,45.016014810309,46.5880106,44.997797,45.00941700010412,59.931365,56.18685567414968,56.189571,56.236224,56.248272,56.2609114947183,34.30680758881931,34.36429181349183,34.3704558447746,158.58735421237657,20.226521,37.547755,86.636769,28.259638,28.259032000015168,28.289850218167885,37.885284,37.88541875883891,37.847469,43.065061,59.935971,37.887611,37.84487969999998,37.844883,32.837322,39.443991,39.72590593439327,39.71990617777101,39.718927,39.74357520000001,39.722206011912135,39.723735,39.631112,39.63149899999996,39.7049901711639,39.7135109106639,39.713513,39.704943,39.726143,40.21639475317636,39.71113509999998,39.710983,39.610650999983136,39.610682,39.718135,39.71776744047543,38.8988531,39.672429,39.67236290000005,39.861678,36.204480500000045,44.947142,38.766024,39.63559075706144,39.69820909999999,39.73986311904241,39.739734,39.689186,39.688758483467154,39.77316859999996,39.7105303042297,66.62507698714398,50.156383346105486,50.26290868097931,50.17385041613079,50.236381699510616,50.235816,50.271936,50.18892299999993,50.18883,50.24052188428993,50.2004647052795,50.090082,30.308833644180368,30.230128955338728,30.229953,30.3335693971477,30.474172,30.320576,30.339409,30.339409,30.31444961997636,30.3421792534424,30.342196,30.418687,30.482529,30.272952,30.257975,30.34964,30.248365,30.307542,30.348585,30.308661,30.500382,30.404074,30.502525943331875,30.386619,30.265691999999945,30.265778,30.3682569,30.31693334180295,30.36882979999996,30.31708692698362,30.369821,30.317061,30.20385466137691,30.379,30.256776809692383,30.35424,30.378793900000005,30.225255673016363,30.32349508636935,30.623638396295178,30.204766000000063,30.302280485630035,30.47409045092627,30.357439,30.458488999999982,30.458503,30.29695,30.32106,30.320898400000036,30.119965345369,30.3342328369137,30.5156745,30.3487704097746,30.35883000000001,30.359288,30.398249599999986,30.37741830129596,30.35995602607727,30.144090499999947,30.43765250338879,30.44679,30.206093788146973,30.26030046068172,30.33200740814209,30.2099588220901,30.367621999999983,30.3010753105896,30.37895172185631,45.21691043315923,45.216915,45.144940273819,45.180427,46.12547710738124,45.920139,45.920138207933405,47.39163210679544,46.046669,46.04652213185216,45.9749534,46.014303,43.311122,43.311122,41.904001,20.155715499999985,33.4376889875216,33.4891547962952,39.785509,38.124635,37.42633933596801,34.133735,34.09812890442561,35.38336185214962,34.09292816855577,34.09813180297704,78.643865,38.108833,32.055707,32.08137569823157,32.056806,32.044579735192656,21.894936,36.976651,36.976539900000034,39.75014799999997,39.732316999995305,132.8164604471242,41.985253464650896,41.925156,41.92309,41.958555,41.95843895793996,31.350862,37.89900728984003,37.89967,37.891128,37.873053,55.94028948047594,55.90175702750855,36.487294,38.0787821587219,38.08029759888075,73.43127335581937,73.43342189999998,73.365104,73.38403906745907,73.3940202752077,48.47039999999993,48.430665,50.802918,50.80152820000001,50.82428679999998,50.831584,50.805823,57.556929,38.899044,41.44458,41.44441293490161,41.439244113491895,41.45729474603195,41.457359,41.455103,41.454843,35.865487,35.865292,35.925263,35.944424,33.510671,49.39056,49.41459,49.39059899999995,84.9693194033746,84.97850358374649,84.94319377476427,84.951968,82.92799241193927,61.55187467392148,39.092514,37.622962,37.583293,37.58254799999997,37.617622,37.61907497051243,37.602758999983166,37.63712,37.636817,65.57679880918863,65.56304157853594,65.65680134781348,65.493796,65.54955867324566,65.549568,65.56149349999998,65.5604687632294,107.65997580000362,107.66333038656444,107.590727,107.59063000000005,48.287333,48.585944,48.359361,102.66307780260968,56.132767,56.132767,56.083774,55.9872937202454,55.988042,55.98471904232792,55.984599,56.03650187990115,55.94939710185236,55.9464342894383,56.0001814665629,135.07922101715553,135.0638758723975,135.06337253856043,135.13388899999995,69.037843,69.03056779999997,37.396628648069,37.976524,54.146223,47.266012,47.2653848148193,47.280948,47.28082310000002,61.400478,61.383251,61.356039,61.394929,61.35570359999997,61.39483539999401,61.4303114715028,37.923619,37.921766,37.92206299999998,42.047318,42.04714805529511,21.806316,113.51342573743318,113.47289820002402,113.49315444127956,113.492829,113.512036,113.5058811,113.504356,40.216482,36.88737,36.909305,37.516233,38.447454,38.430393,38.4433311534424,38.442929,44.300086,46.125445,63.342323,142.72886981349188,142.732934,66.311828,39.758121,39.869322,39.75813199999993,39.87176591602315,39.83808,39.843101],\"marker\":{\"color\":[908.23,89392.15,338.61,2253.17,15716.85,8580.72,13797.51,6493.66,2897.4100000000003,4907.46,10663.91,17740.26,5697.82,18702.63,38519.16,68231.61,13610.77,2922.47,590.18,6935.03,4506.32,1257.9,141259.75,6431.9400000000005,63639.93,1574.36,7449.18,4656.58,16176.98,117.09,51870.13,3507.86,15866.91,6283.12,45547.22,92981.06,13404.76,13814.62,3131.28,4120.24,5847.96,49258.56,363.92,2191.46,9854.53,617.08,8711.97,47.47,11185.1,11550.59,105088.41,28873.329999999998,2286.4,3045.89,21629.42,10974.67,13083.17,3560.15,31.65,7868.62,1474.67,40273.77,60446.54,100438.21,33952.4,81297.7,51978.01,47889.69,22998.36,67657.57,24949.25,43667.840000000004,455.68,49682.07,58156.84,21338.51,44392.81,31.65,11901.75,44475.06,13243.61,5216.83,75.95,7123.32,37.97,3629.69,66237.63,6098.15,10107.64,1550.6100000000001,174.06,348.09000000000003,68574.68,130395.3,72458.75,19234.16,20933.48,25830.46,28063.1,13787.98,14911.41,214947.46,12580.75,11221.6,36510.1,44984.09,57251.97,1526.87,2697.82,55247.2,20276.71,33299.21,1406.6399999999999,800.62,197.76999999999998,7854.5,15893.98,2117.08,1898.71,142.41,593.37,2587.0099999999998,197.79,672.48,15197.9,4052.2,66008.54,8995.32,118.67,1693.06,102390.91,145741.84,16381.44,455.7,26240.36,145137.76,52147.479999999996,14749.91,27904.95,77951.83,25365.48,41349.91,37842.99,6230.98,99745.54,54149.5,30403.38,360.75,6555.46,9129.81,15071.13,75797.77,106.96000000000001,22820.48,125.8,16099.78,5859.1,9177.09,180658.36000000002,69.62,4272.12,27176.03,7768.91,88.61,1167.72,134151.55,63.29,310.13,6441.52,145984.5,141631.62,1109.2,2052.17,1643.98,2444.64,2762.68,47.47,49666.06,34608.57,60416.65,181.95999999999998,100933.37,24136.18,42165.6,1479.43,18167.01,29018.49,23599.43,3354.3900000000003,16523.41,15534.41,11723.21,28686.13,29597.27,59175.89,61885.03,4009.44,1818.04,29691.09,10552.16,176980.73,57753.92,90383.03,167.73,70997.84,75917.38,39605.31,221907.68,26761.72,48168.52,167828.35,182115.01,62464.99,3082.21,12658.16,8053.83,107786.11,19867.19,66887.87,179069.2,27985.48,292.72,2403.44,35140.61,23.73,13213.51,356.01,63.29,34542.62,29286.45,30455.61,15.82,3101.23,5973.04,2440.64,15791.22,996.84,196.2,6143.93,14091.67,10720.0,14284.96,2935.17,874.99,5229.4,6708.87,68964.42,44783.24,3626.59,332.27,42033.2,6889.15,6905.03,41585.17,37.97,2333.86,3848.02,9958.710000000001,46511.26,37632.72,1139.25,664.5699999999999,5387.65,340.19,3648.7400000000002,174114.79,37743.58,806.94,266663.21,21197.73,85.44,180854.75,269015.76,21162.91,996.83,21590.12,463.62,54087.19,94548.53,68872.57,7193.01,38368.3,97168.22,2626.57,169367.03,17158.14,1482.61,221.51999999999998,12781.74,16098.039999999999,1306.99,22028.63,61988.64,941.45,51755.97,5488.91,30680.32,341.78,3261.02,28796.34,92400.43,38916.63,15469.57,3952.46,12895.61,5490.54,9578.43,111305.33,1313.29,3216.83,8232.61,6685.1,4727.860000000001,14974.75,79.11,79.11,1151.9,1835.44,1455.68,69684.85,681922.84,579693.55,39663.84,3678.8,8259.54,32009.69,331207.03,246.82999999999998,159077.26,66562.58,9636.09,45977.89,406.65,99.69,89840.64,3829.13,9114.21,1297.45,86761.35,97358.24,221.51999999999998,399317.59,48552.28,10632.960000000001,94.94,5696.2,8465.19,92792.23,59006.23,63.29,47520.05,75957.57,167968.07,446086.32,305757.5,1110147.35,406103.26,61123.06,13428.79,164576.38999999998,165186.3,149221.44,653129.27,319413.86,56471.46,149138.65,1409786.29,623142.33,522.16,340.19,79493.72,55919.35,33667.7,81324.55,11075.88,396614.44,90531.51,387785.15,221355.64,440901.35,187239.47,39645.48,105262.86,78272.14,58425.35,233290.93,112756.3,460060.47,249567.97,90060.29,925.63,37185.17,63411.44,51499.66,63437.8,61239.27,51126.88,103119.52,250275.22,166488.85,632.9,7373.36,1582.28,33504.89,28299.14,80185.74,44455.88,140415.44,47633.01,108662.13,51982.09,490.5,715.1800000000001,297.47,38724.8,7579.14,7210.18,15047.07,17708.920000000002,34968.7,14532.289999999999,23816.43,60506.46,95205.39,48357.55,15996.83,5055.38,12059.210000000001,13023.07,39683.44,30128.89,22120.21,7669.7,6482.62,39781.49,13538.61,20628.93,30970.15,15814.9,36130.1,18881.45,966.62,26194.86,169120.67,84676.39,90119.31,16977.92,47073.61,110057.5,60697.82,207157.37,174881.39,275294.99,425241.5,266824.12,900367.05,148273.96,405058.15,175245.85,262682.08,12341.77,20735.67,47.47,124918.94,356.01,1340.21,195564.92,775.32,70778.23,183468.25,75514.43,267.40999999999997,199.37,110.75,41792.99,248953.34,158025.55,189832.13999999998,718.36,100231.66,72136.09,301084.39,525409.36,114244.02,556663.46,203754.36,168255.75,419664.47,48789.94,7840.16,113768.6,21132.81,66307.17,7405.11,2784.09,6669.39,368.66,325855.85,227.85000000000002,120577.25,86356.09,91711.37,37906.28,685.11,50588.49,15708.96,39.56,15403.36,85171.03,24300.69,2808.48,344.15,79.11,16267.4,8567.96,5465.25,3425.6,44763.59,26028.8,2460.47,6435.19,3908.24,38355.05,13305.09,15019.07,10071.18,17806.82,938.3,1998.4199999999998,7012.67,65507.16,28060.489999999998,223781.53,46958.95,20815.12,215.2,21082.35,2848.1,13908.19,178761.22,74488.67,23886.27,20938.52,1457.24,4357.7699999999995,4430.33,1572.8,704.12,340.2,181.95999999999998,3330.65,2485.7200000000003,895.56,158.22,25192.12,66634.18,21012.24,79.11,36764.65,46098.38,1743.68,1969.92,8468.34,8661.46,707.28,386.08000000000004,4397.1900000000005,1164.56,2242.07,81706.15,11208.789999999999,8561.64,13944.62,5522.1,73687.18000000001,201638.76,7847.97,9692.99,15632.81,28126.86,182348.34,140875.94,209387.04,935.11,3041.17,7166.05,17196.42,23390.37,5406.61,53832.98,16457.01,6037.87,31301.18,48510.23,22304.03,63628.45,37568.6,32605.65,16408.03,21705.32,41433.01,463.62,37357.25,17156.59,835.4,19234.1,188.28,1965.18,42566.17,24926.98,791.12,33862.4,29658.13,10772.03,4044.22,4238.92,65131.22,5346.5,617.08,134.49,1052.21,23461.72,44228.82,14272.15,40063.06,2015.81,22637.54,55666.59,2063.29,64201.38,23868.74,151882.5,148988.58,162363.77,469.31,1616.32,783.24,51518.7,6410.59,116378.3,7604.44,20475.61,341.77,5592.24,14216.75,111580.29,50634.8,5289.52,7503.09,528678.4400000001,466.77,384095.55,6061.69,2746.86,154416.73,1825.94,409087.89,8699.33,195272.44,23458.81,9370.26,39751.65,731.03,46474.81,39302.28,32490.67,329.11,104.43,26795.829999999998,30791.09,25327.91,11216.85,8577.55,13712.039999999999,113.92,13808.619999999999,15463.89,47.15,6455.69,1572.77,57294.96,33014.24,22553.58,9314.79,11158.13,14960.38,105481.65,37937.97,74498.26,2041.09,22337.2,30514.5,62845.76,386.08,120774.68,24602.77,126477.57,205.69,29292.97,60554.42,7740.47,45387.75,588.6,101046.17,39240.61,105736.61,14251.54,145693.19,61908.2,209737.37,20007.74,27333.67,345821.89,85471.41,93142.56,148968.65,155040.09,129454.43,220711.24,216950.81,332.28000000000003,67271.02,111613.61,47.47,29444.92,62356.53,75714.1,4509.46,23966.68,1235.73,105781.73,90144.38,47.47,17037.81,26645.41,16728.11,128148.93000000001,23997.43,35389.45,51482.25,5668.21,10043.890000000001,31273.93,82.28,28009.37,15882.91,11639.19,1424.03,122749.43,202132.28,474.68,233284.6,260487.62,251394.33,12139.25,26988.98,141690.7,91724.96,451880.52,205881.05,155130.86,154951.6,102778.85,48199.53,65335.19,195950.69,133382.3,325087.28,3250.01,81262.7,15.82,6102.82,33349.0,3419.3,82.28,25385.9,4278.42,2444.58,2795.84,71374.83,114184.62,33.23,23192.96,2775.28,2139.84,14295.86,93338.49,11507.89,7281.58,58100.26,8481.01,18561.79,11463.49,42827.23,6123.46,1273.74,3662.95,36844.71,12360.32,27341.7,2737.35,3417.67,1946.22,15743.8,69035.05,111726.01,947.79,81175.49,81419.5,79394.97,4925.72,3142.46,537.99,2250.0,30007.899999999998,3678.78,11876.66,32148.71,5410.3,332.27,8829.26,12705.56,39500.36,18442.95,106502.43,22255.03,119256.86,5324.33,806.94,17962.1,48324.22,1346.49,7110.67,15472.93,4389.28,51757.46,8954.05,36819.35,22426.98,174.05,21959.25,7368.76,18386.19,35589.01,39085.74,16155.18,97761.42,5830.75,163864.31,14354.27,202.51999999999998,3332.26,194682.35,66570.24,144245.91,751.62,30.06,13776.82,253.16,22950.83,1645.53,19583.85,23060.08,12034.869999999999,106047.16,17310.25,7713.68,30875.05,65797.08,89321.04,137909.35,553.79,61080.75,123162.58,29926.37,66138.01,19822.79,63.29,19107.41,13585.24,170005.57,79.11,753.15,12235.81,15860.58,6517.39,10458.89,151143.97,6628.11,166492.88999999998,19435.07,94815.61,54254.56,191845.34,55325.03,7895.49,11621.78,33822.78,12625.0,235182.13999999998,1299.04,2169.3,52556.47,28119.87,35602.4,51885.42,2208.84,1729.44,13234.11,7590.21,78252.23,52810.58,92265.04,99291.4,632.91,63.29,8868.7,7568.04,3091.79,9422.36,8528.27,150.32999999999998,17563.01,76843.88,32080.37,14485.71,30123.67,579.1,386.07,568.01,25186.48,59710.49,22911.26,13061.67,16003.04,72477.51,237.34,6147.2,27081.0,3357.61,10574.34,39208.66,27973.09,83393.69,16460.4,25095.69],\"coloraxis\":\"coloraxis\",\"symbol\":\"circle\"},\"mode\":\"markers\",\"name\":\"\",\"showlegend\":false,\"type\":\"scattergeo\"}],                        {\"template\":{\"data\":{\"histogram2dcontour\":[{\"type\":\"histogram2dcontour\",\"colorbar\":{\"outlinewidth\":0,\"ticks\":\"\"},\"colorscale\":[[0.0,\"#0d0887\"],[0.1111111111111111,\"#46039f\"],[0.2222222222222222,\"#7201a8\"],[0.3333333333333333,\"#9c179e\"],[0.4444444444444444,\"#bd3786\"],[0.5555555555555556,\"#d8576b\"],[0.6666666666666666,\"#ed7953\"],[0.7777777777777778,\"#fb9f3a\"],[0.8888888888888888,\"#fdca26\"],[1.0,\"#f0f921\"]]}],\"choropleth\":[{\"type\":\"choropleth\",\"colorbar\":{\"outlinewidth\":0,\"ticks\":\"\"}}],\"histogram2d\":[{\"type\":\"histogram2d\",\"colorbar\":{\"outlinewidth\":0,\"ticks\":\"\"},\"colorscale\":[[0.0,\"#0d0887\"],[0.1111111111111111,\"#46039f\"],[0.2222222222222222,\"#7201a8\"],[0.3333333333333333,\"#9c179e\"],[0.4444444444444444,\"#bd3786\"],[0.5555555555555556,\"#d8576b\"],[0.6666666666666666,\"#ed7953\"],[0.7777777777777778,\"#fb9f3a\"],[0.8888888888888888,\"#fdca26\"],[1.0,\"#f0f921\"]]}],\"heatmap\":[{\"type\":\"heatmap\",\"colorbar\":{\"outlinewidth\":0,\"ticks\":\"\"},\"colorscale\":[[0.0,\"#0d0887\"],[0.1111111111111111,\"#46039f\"],[0.2222222222222222,\"#7201a8\"],[0.3333333333333333,\"#9c179e\"],[0.4444444444444444,\"#bd3786\"],[0.5555555555555556,\"#d8576b\"],[0.6666666666666666,\"#ed7953\"],[0.7777777777777778,\"#fb9f3a\"],[0.8888888888888888,\"#fdca26\"],[1.0,\"#f0f921\"]]}],\"heatmapgl\":[{\"type\":\"heatmapgl\",\"colorbar\":{\"outlinewidth\":0,\"ticks\":\"\"},\"colorscale\":[[0.0,\"#0d0887\"],[0.1111111111111111,\"#46039f\"],[0.2222222222222222,\"#7201a8\"],[0.3333333333333333,\"#9c179e\"],[0.4444444444444444,\"#bd3786\"],[0.5555555555555556,\"#d8576b\"],[0.6666666666666666,\"#ed7953\"],[0.7777777777777778,\"#fb9f3a\"],[0.8888888888888888,\"#fdca26\"],[1.0,\"#f0f921\"]]}],\"contourcarpet\":[{\"type\":\"contourcarpet\",\"colorbar\":{\"outlinewidth\":0,\"ticks\":\"\"}}],\"contour\":[{\"type\":\"contour\",\"colorbar\":{\"outlinewidth\":0,\"ticks\":\"\"},\"colorscale\":[[0.0,\"#0d0887\"],[0.1111111111111111,\"#46039f\"],[0.2222222222222222,\"#7201a8\"],[0.3333333333333333,\"#9c179e\"],[0.4444444444444444,\"#bd3786\"],[0.5555555555555556,\"#d8576b\"],[0.6666666666666666,\"#ed7953\"],[0.7777777777777778,\"#fb9f3a\"],[0.8888888888888888,\"#fdca26\"],[1.0,\"#f0f921\"]]}],\"surface\":[{\"type\":\"surface\",\"colorbar\":{\"outlinewidth\":0,\"ticks\":\"\"},\"colorscale\":[[0.0,\"#0d0887\"],[0.1111111111111111,\"#46039f\"],[0.2222222222222222,\"#7201a8\"],[0.3333333333333333,\"#9c179e\"],[0.4444444444444444,\"#bd3786\"],[0.5555555555555556,\"#d8576b\"],[0.6666666666666666,\"#ed7953\"],[0.7777777777777778,\"#fb9f3a\"],[0.8888888888888888,\"#fdca26\"],[1.0,\"#f0f921\"]]}],\"mesh3d\":[{\"type\":\"mesh3d\",\"colorbar\":{\"outlinewidth\":0,\"ticks\":\"\"}}],\"scatter\":[{\"fillpattern\":{\"fillmode\":\"overlay\",\"size\":10,\"solidity\":0.2},\"type\":\"scatter\"}],\"parcoords\":[{\"type\":\"parcoords\",\"line\":{\"colorbar\":{\"outlinewidth\":0,\"ticks\":\"\"}}}],\"scatterpolargl\":[{\"type\":\"scatterpolargl\",\"marker\":{\"colorbar\":{\"outlinewidth\":0,\"ticks\":\"\"}}}],\"bar\":[{\"error_x\":{\"color\":\"#2a3f5f\"},\"error_y\":{\"color\":\"#2a3f5f\"},\"marker\":{\"line\":{\"color\":\"#E5ECF6\",\"width\":0.5},\"pattern\":{\"fillmode\":\"overlay\",\"size\":10,\"solidity\":0.2}},\"type\":\"bar\"}],\"scattergeo\":[{\"type\":\"scattergeo\",\"marker\":{\"colorbar\":{\"outlinewidth\":0,\"ticks\":\"\"}}}],\"scatterpolar\":[{\"type\":\"scatterpolar\",\"marker\":{\"colorbar\":{\"outlinewidth\":0,\"ticks\":\"\"}}}],\"histogram\":[{\"marker\":{\"pattern\":{\"fillmode\":\"overlay\",\"size\":10,\"solidity\":0.2}},\"type\":\"histogram\"}],\"scattergl\":[{\"type\":\"scattergl\",\"marker\":{\"colorbar\":{\"outlinewidth\":0,\"ticks\":\"\"}}}],\"scatter3d\":[{\"type\":\"scatter3d\",\"line\":{\"colorbar\":{\"outlinewidth\":0,\"ticks\":\"\"}},\"marker\":{\"colorbar\":{\"outlinewidth\":0,\"ticks\":\"\"}}}],\"scattermapbox\":[{\"type\":\"scattermapbox\",\"marker\":{\"colorbar\":{\"outlinewidth\":0,\"ticks\":\"\"}}}],\"scatterternary\":[{\"type\":\"scatterternary\",\"marker\":{\"colorbar\":{\"outlinewidth\":0,\"ticks\":\"\"}}}],\"scattercarpet\":[{\"type\":\"scattercarpet\",\"marker\":{\"colorbar\":{\"outlinewidth\":0,\"ticks\":\"\"}}}],\"carpet\":[{\"aaxis\":{\"endlinecolor\":\"#2a3f5f\",\"gridcolor\":\"white\",\"linecolor\":\"white\",\"minorgridcolor\":\"white\",\"startlinecolor\":\"#2a3f5f\"},\"baxis\":{\"endlinecolor\":\"#2a3f5f\",\"gridcolor\":\"white\",\"linecolor\":\"white\",\"minorgridcolor\":\"white\",\"startlinecolor\":\"#2a3f5f\"},\"type\":\"carpet\"}],\"table\":[{\"cells\":{\"fill\":{\"color\":\"#EBF0F8\"},\"line\":{\"color\":\"white\"}},\"header\":{\"fill\":{\"color\":\"#C8D4E3\"},\"line\":{\"color\":\"white\"}},\"type\":\"table\"}],\"barpolar\":[{\"marker\":{\"line\":{\"color\":\"#E5ECF6\",\"width\":0.5},\"pattern\":{\"fillmode\":\"overlay\",\"size\":10,\"solidity\":0.2}},\"type\":\"barpolar\"}],\"pie\":[{\"automargin\":true,\"type\":\"pie\"}]},\"layout\":{\"autotypenumbers\":\"strict\",\"colorway\":[\"#636efa\",\"#EF553B\",\"#00cc96\",\"#ab63fa\",\"#FFA15A\",\"#19d3f3\",\"#FF6692\",\"#B6E880\",\"#FF97FF\",\"#FECB52\"],\"font\":{\"color\":\"#2a3f5f\"},\"hovermode\":\"closest\",\"hoverlabel\":{\"align\":\"left\"},\"paper_bgcolor\":\"white\",\"plot_bgcolor\":\"#E5ECF6\",\"polar\":{\"bgcolor\":\"#E5ECF6\",\"angularaxis\":{\"gridcolor\":\"white\",\"linecolor\":\"white\",\"ticks\":\"\"},\"radialaxis\":{\"gridcolor\":\"white\",\"linecolor\":\"white\",\"ticks\":\"\"}},\"ternary\":{\"bgcolor\":\"#E5ECF6\",\"aaxis\":{\"gridcolor\":\"white\",\"linecolor\":\"white\",\"ticks\":\"\"},\"baxis\":{\"gridcolor\":\"white\",\"linecolor\":\"white\",\"ticks\":\"\"},\"caxis\":{\"gridcolor\":\"white\",\"linecolor\":\"white\",\"ticks\":\"\"}},\"coloraxis\":{\"colorbar\":{\"outlinewidth\":0,\"ticks\":\"\"}},\"colorscale\":{\"sequential\":[[0.0,\"#0d0887\"],[0.1111111111111111,\"#46039f\"],[0.2222222222222222,\"#7201a8\"],[0.3333333333333333,\"#9c179e\"],[0.4444444444444444,\"#bd3786\"],[0.5555555555555556,\"#d8576b\"],[0.6666666666666666,\"#ed7953\"],[0.7777777777777778,\"#fb9f3a\"],[0.8888888888888888,\"#fdca26\"],[1.0,\"#f0f921\"]],\"sequentialminus\":[[0.0,\"#0d0887\"],[0.1111111111111111,\"#46039f\"],[0.2222222222222222,\"#7201a8\"],[0.3333333333333333,\"#9c179e\"],[0.4444444444444444,\"#bd3786\"],[0.5555555555555556,\"#d8576b\"],[0.6666666666666666,\"#ed7953\"],[0.7777777777777778,\"#fb9f3a\"],[0.8888888888888888,\"#fdca26\"],[1.0,\"#f0f921\"]],\"diverging\":[[0,\"#8e0152\"],[0.1,\"#c51b7d\"],[0.2,\"#de77ae\"],[0.3,\"#f1b6da\"],[0.4,\"#fde0ef\"],[0.5,\"#f7f7f7\"],[0.6,\"#e6f5d0\"],[0.7,\"#b8e186\"],[0.8,\"#7fbc41\"],[0.9,\"#4d9221\"],[1,\"#276419\"]]},\"xaxis\":{\"gridcolor\":\"white\",\"linecolor\":\"white\",\"ticks\":\"\",\"title\":{\"standoff\":15},\"zerolinecolor\":\"white\",\"automargin\":true,\"zerolinewidth\":2},\"yaxis\":{\"gridcolor\":\"white\",\"linecolor\":\"white\",\"ticks\":\"\",\"title\":{\"standoff\":15},\"zerolinecolor\":\"white\",\"automargin\":true,\"zerolinewidth\":2},\"scene\":{\"xaxis\":{\"backgroundcolor\":\"#E5ECF6\",\"gridcolor\":\"white\",\"linecolor\":\"white\",\"showbackground\":true,\"ticks\":\"\",\"zerolinecolor\":\"white\",\"gridwidth\":2},\"yaxis\":{\"backgroundcolor\":\"#E5ECF6\",\"gridcolor\":\"white\",\"linecolor\":\"white\",\"showbackground\":true,\"ticks\":\"\",\"zerolinecolor\":\"white\",\"gridwidth\":2},\"zaxis\":{\"backgroundcolor\":\"#E5ECF6\",\"gridcolor\":\"white\",\"linecolor\":\"white\",\"showbackground\":true,\"ticks\":\"\",\"zerolinecolor\":\"white\",\"gridwidth\":2}},\"shapedefaults\":{\"line\":{\"color\":\"#2a3f5f\"}},\"annotationdefaults\":{\"arrowcolor\":\"#2a3f5f\",\"arrowhead\":0,\"arrowwidth\":1},\"geo\":{\"bgcolor\":\"white\",\"landcolor\":\"#E5ECF6\",\"subunitcolor\":\"white\",\"showland\":true,\"showlakes\":true,\"lakecolor\":\"white\"},\"title\":{\"x\":0.05},\"mapbox\":{\"style\":\"light\"}}},\"geo\":{\"domain\":{\"x\":[0.0,1.0],\"y\":[0.0,1.0]},\"center\":{\"lat\":51.35632,\"lon\":81.24545}},\"coloraxis\":{\"colorbar\":{\"title\":{\"text\":\"revenue\"}},\"colorscale\":[[0.0,\"rgb(51, 19, 23)\"],[0.09090909090909091,\"rgb(79, 28, 33)\"],[0.18181818181818182,\"rgb(108, 36, 36)\"],[0.2727272727272727,\"rgb(135, 47, 32)\"],[0.36363636363636365,\"rgb(157, 66, 25)\"],[0.45454545454545453,\"rgb(174, 88, 20)\"],[0.5454545454545454,\"rgb(188, 111, 19)\"],[0.6363636363636364,\"rgb(199, 137, 22)\"],[0.7272727272727273,\"rgb(209, 164, 32)\"],[0.8181818181818182,\"rgb(217, 192, 44)\"],[0.9090909090909091,\"rgb(222, 222, 59)\"],[1.0,\"rgb(224, 253, 74)\"]]},\"legend\":{\"tracegroupgap\":0},\"margin\":{\"t\":60}},                        {\"responsive\": true}                    ).then(function(){\n",
       "                            \n",
       "var gd = document.getElementById('155af03c-d4cb-4194-8b7f-41063c126178');\n",
       "var x = new MutationObserver(function (mutations, observer) {{\n",
       "        var display = window.getComputedStyle(gd).display;\n",
       "        if (!display || display === 'none') {{\n",
       "            console.log([gd, 'removed!']);\n",
       "            Plotly.purge(gd);\n",
       "            observer.disconnect();\n",
       "        }}\n",
       "}});\n",
       "\n",
       "// Listen for the removal of the full notebook cells\n",
       "var notebookContainer = gd.closest('#notebook-container');\n",
       "if (notebookContainer) {{\n",
       "    x.observe(notebookContainer, {childList: true});\n",
       "}}\n",
       "\n",
       "// Listen for the clearing of the current output cell\n",
       "var outputEl = gd.closest('.output');\n",
       "if (outputEl) {{\n",
       "    x.observe(outputEl, {childList: true});\n",
       "}}\n",
       "\n",
       "                        })                };                });            </script>        </div>"
      ]
     },
     "metadata": {},
     "output_type": "display_data"
    }
   ],
   "source": [
    "# зона покрытия, выручка по цветам\n",
    "\n",
    "fig = px.scatter_geo(pivot_by_cinema, lat='cinema_latitude', lon='cinema_longitude',\n",
    "                     size_max=3, hover_name='cinema_name', color='revenue',\n",
    "                    color_continuous_scale='solar',\n",
    "                    hover_data='cinema_city', center={'lat': 51.35632, 'lon': 81.24545})\n",
    "fig.show()"
   ]
  },
  {
   "cell_type": "code",
   "execution_count": null,
   "id": "394cdae7",
   "metadata": {},
   "outputs": [],
   "source": []
  },
  {
   "cell_type": "code",
   "execution_count": null,
   "id": "faecb184",
   "metadata": {},
   "outputs": [],
   "source": []
  },
  {
   "cell_type": "code",
   "execution_count": null,
   "id": "ccc67ac9",
   "metadata": {},
   "outputs": [],
   "source": []
  },
  {
   "cell_type": "code",
   "execution_count": 485,
   "id": "416b2fad",
   "metadata": {},
   "outputs": [
    {
     "data": {
      "text/html": [
       "<div>\n",
       "<style scoped>\n",
       "    .dataframe tbody tr th:only-of-type {\n",
       "        vertical-align: middle;\n",
       "    }\n",
       "\n",
       "    .dataframe tbody tr th {\n",
       "        vertical-align: top;\n",
       "    }\n",
       "\n",
       "    .dataframe thead th {\n",
       "        text-align: right;\n",
       "    }\n",
       "</style>\n",
       "<table border=\"1\" class=\"dataframe\">\n",
       "  <thead>\n",
       "    <tr style=\"text-align: right;\">\n",
       "      <th></th>\n",
       "      <th>order_id</th>\n",
       "      <th>creation_date</th>\n",
       "      <th>session_date</th>\n",
       "      <th>movie_id</th>\n",
       "      <th>movie_name</th>\n",
       "      <th>movie_duration</th>\n",
       "      <th>movie_age_restriction</th>\n",
       "      <th>movie_rating</th>\n",
       "      <th>genre_is_triller</th>\n",
       "      <th>genre_is_military</th>\n",
       "      <th>genre_is_action</th>\n",
       "      <th>genre_is_biographical</th>\n",
       "      <th>genre_is_fairy_tale</th>\n",
       "      <th>genre_is_science</th>\n",
       "      <th>genre_is_fantasy</th>\n",
       "      <th>genre_is_historical</th>\n",
       "      <th>genre_is_drama</th>\n",
       "      <th>genre_is_animation</th>\n",
       "      <th>genre_is_cartoon</th>\n",
       "      <th>genre_is_documentary</th>\n",
       "      <th>genre_is_adventure</th>\n",
       "      <th>genre_is_fiction</th>\n",
       "      <th>genre_is_childish</th>\n",
       "      <th>genre_is_horror</th>\n",
       "      <th>genre_is_humor</th>\n",
       "      <th>genre_is_western</th>\n",
       "      <th>genre_is_noir</th>\n",
       "      <th>genre_is_detective</th>\n",
       "      <th>genre_is_biography</th>\n",
       "      <th>genre_is_criminal</th>\n",
       "      <th>genre_is_tragicomedy</th>\n",
       "      <th>genre_is_biopic</th>\n",
       "      <th>genre_is_mystic</th>\n",
       "      <th>genre_is_family</th>\n",
       "      <th>genre_is_comedy</th>\n",
       "      <th>genre_is_arthouse</th>\n",
       "      <th>number_of_tickets</th>\n",
       "      <th>places</th>\n",
       "      <th>sales_in_cu</th>\n",
       "      <th>ticket_price_in_cu</th>\n",
       "      <th>cinema_name</th>\n",
       "      <th>cinema_address</th>\n",
       "      <th>cinema_latitude</th>\n",
       "      <th>cinema_longitude</th>\n",
       "      <th>cinema_city</th>\n",
       "      <th>client_id</th>\n",
       "      <th>place_row_0</th>\n",
       "      <th>place_seat_0</th>\n",
       "      <th>place_row_1</th>\n",
       "      <th>place_seat_1</th>\n",
       "      <th>place_row_2</th>\n",
       "      <th>place_seat_2</th>\n",
       "      <th>place_row_3</th>\n",
       "      <th>place_seat_3</th>\n",
       "      <th>place_row_4</th>\n",
       "      <th>place_seat_4</th>\n",
       "      <th>place_row_5</th>\n",
       "      <th>place_seat_5</th>\n",
       "      <th>creation_month</th>\n",
       "    </tr>\n",
       "  </thead>\n",
       "  <tbody>\n",
       "    <tr>\n",
       "      <th>0</th>\n",
       "      <td>2441412</td>\n",
       "      <td>2020-03-07</td>\n",
       "      <td>2020-03-07</td>\n",
       "      <td>32452</td>\n",
       "      <td>Маленькие женщины</td>\n",
       "      <td>135</td>\n",
       "      <td>12+</td>\n",
       "      <td>7.7</td>\n",
       "      <td>0</td>\n",
       "      <td>0</td>\n",
       "      <td>0</td>\n",
       "      <td>0</td>\n",
       "      <td>0</td>\n",
       "      <td>0</td>\n",
       "      <td>0</td>\n",
       "      <td>0</td>\n",
       "      <td>1</td>\n",
       "      <td>0</td>\n",
       "      <td>0</td>\n",
       "      <td>0</td>\n",
       "      <td>0</td>\n",
       "      <td>0</td>\n",
       "      <td>0</td>\n",
       "      <td>0</td>\n",
       "      <td>0</td>\n",
       "      <td>0</td>\n",
       "      <td>0</td>\n",
       "      <td>0</td>\n",
       "      <td>0</td>\n",
       "      <td>0</td>\n",
       "      <td>0</td>\n",
       "      <td>0</td>\n",
       "      <td>0</td>\n",
       "      <td>1</td>\n",
       "      <td>0</td>\n",
       "      <td>0</td>\n",
       "      <td>2</td>\n",
       "      <td>5, 6, 5, 5</td>\n",
       "      <td>63.29</td>\n",
       "      <td>31.65</td>\n",
       "      <td>Каро 10 Щука</td>\n",
       "      <td>ул. Щукинская, д. 42</td>\n",
       "      <td>55.809469</td>\n",
       "      <td>37.464571</td>\n",
       "      <td>Москва</td>\n",
       "      <td>12419121665619114461</td>\n",
       "      <td>5</td>\n",
       "      <td>6</td>\n",
       "      <td>5</td>\n",
       "      <td>5</td>\n",
       "      <td>0</td>\n",
       "      <td>0</td>\n",
       "      <td>0</td>\n",
       "      <td>0</td>\n",
       "      <td>0</td>\n",
       "      <td>0</td>\n",
       "      <td>0</td>\n",
       "      <td>0</td>\n",
       "      <td>2020-03-07</td>\n",
       "    </tr>\n",
       "    <tr>\n",
       "      <th>1</th>\n",
       "      <td>2169133</td>\n",
       "      <td>2020-02-03</td>\n",
       "      <td>2020-02-04</td>\n",
       "      <td>32452</td>\n",
       "      <td>Маленькие женщины</td>\n",
       "      <td>135</td>\n",
       "      <td>12+</td>\n",
       "      <td>7.7</td>\n",
       "      <td>0</td>\n",
       "      <td>0</td>\n",
       "      <td>0</td>\n",
       "      <td>0</td>\n",
       "      <td>0</td>\n",
       "      <td>0</td>\n",
       "      <td>0</td>\n",
       "      <td>0</td>\n",
       "      <td>1</td>\n",
       "      <td>0</td>\n",
       "      <td>0</td>\n",
       "      <td>0</td>\n",
       "      <td>0</td>\n",
       "      <td>0</td>\n",
       "      <td>0</td>\n",
       "      <td>0</td>\n",
       "      <td>0</td>\n",
       "      <td>0</td>\n",
       "      <td>0</td>\n",
       "      <td>0</td>\n",
       "      <td>0</td>\n",
       "      <td>0</td>\n",
       "      <td>0</td>\n",
       "      <td>0</td>\n",
       "      <td>0</td>\n",
       "      <td>1</td>\n",
       "      <td>0</td>\n",
       "      <td>0</td>\n",
       "      <td>4</td>\n",
       "      <td>15, 31, 15, 32, 15, 33, 15, 34</td>\n",
       "      <td>189.87</td>\n",
       "      <td>47.47</td>\n",
       "      <td>Каро 11 Октябрь</td>\n",
       "      <td>ул. Новый Арбат, д. 24</td>\n",
       "      <td>55.753338</td>\n",
       "      <td>37.587615</td>\n",
       "      <td>Москва</td>\n",
       "      <td>8470824369879098013</td>\n",
       "      <td>15</td>\n",
       "      <td>31</td>\n",
       "      <td>15</td>\n",
       "      <td>32</td>\n",
       "      <td>15</td>\n",
       "      <td>33</td>\n",
       "      <td>15</td>\n",
       "      <td>34</td>\n",
       "      <td>0</td>\n",
       "      <td>0</td>\n",
       "      <td>0</td>\n",
       "      <td>0</td>\n",
       "      <td>2020-02-03</td>\n",
       "    </tr>\n",
       "  </tbody>\n",
       "</table>\n",
       "</div>"
      ],
      "text/plain": [
       "   order_id creation_date session_date  movie_id         movie_name  \\\n",
       "0   2441412    2020-03-07   2020-03-07     32452  Маленькие женщины   \n",
       "1   2169133    2020-02-03   2020-02-04     32452  Маленькие женщины   \n",
       "\n",
       "  movie_duration movie_age_restriction  movie_rating  genre_is_triller  \\\n",
       "0            135                   12+           7.7                 0   \n",
       "1            135                   12+           7.7                 0   \n",
       "\n",
       "   genre_is_military  genre_is_action  genre_is_biographical  \\\n",
       "0                  0                0                      0   \n",
       "1                  0                0                      0   \n",
       "\n",
       "   genre_is_fairy_tale  genre_is_science  genre_is_fantasy  \\\n",
       "0                    0                 0                 0   \n",
       "1                    0                 0                 0   \n",
       "\n",
       "   genre_is_historical  genre_is_drama  genre_is_animation  genre_is_cartoon  \\\n",
       "0                    0               1                   0                 0   \n",
       "1                    0               1                   0                 0   \n",
       "\n",
       "   genre_is_documentary  genre_is_adventure  genre_is_fiction  \\\n",
       "0                     0                   0                 0   \n",
       "1                     0                   0                 0   \n",
       "\n",
       "   genre_is_childish  genre_is_horror  genre_is_humor  genre_is_western  \\\n",
       "0                  0                0               0                 0   \n",
       "1                  0                0               0                 0   \n",
       "\n",
       "   genre_is_noir  genre_is_detective  genre_is_biography  genre_is_criminal  \\\n",
       "0              0                   0                   0                  0   \n",
       "1              0                   0                   0                  0   \n",
       "\n",
       "   genre_is_tragicomedy  genre_is_biopic  genre_is_mystic  genre_is_family  \\\n",
       "0                     0                0                0                1   \n",
       "1                     0                0                0                1   \n",
       "\n",
       "   genre_is_comedy  genre_is_arthouse  number_of_tickets  \\\n",
       "0                0                  0                  2   \n",
       "1                0                  0                  4   \n",
       "\n",
       "                           places  sales_in_cu  ticket_price_in_cu  \\\n",
       "0                      5, 6, 5, 5        63.29               31.65   \n",
       "1  15, 31, 15, 32, 15, 33, 15, 34       189.87               47.47   \n",
       "\n",
       "       cinema_name          cinema_address  cinema_latitude  cinema_longitude  \\\n",
       "0     Каро 10 Щука    ул. Щукинская, д. 42        55.809469         37.464571   \n",
       "1  Каро 11 Октябрь  ул. Новый Арбат, д. 24        55.753338         37.587615   \n",
       "\n",
       "  cinema_city             client_id  place_row_0  place_seat_0  place_row_1  \\\n",
       "0      Москва  12419121665619114461            5             6            5   \n",
       "1      Москва   8470824369879098013           15            31           15   \n",
       "\n",
       "   place_seat_1  place_row_2  place_seat_2  place_row_3  place_seat_3  \\\n",
       "0             5            0             0            0             0   \n",
       "1            32           15            33           15            34   \n",
       "\n",
       "   place_row_4  place_seat_4  place_row_5  place_seat_5 creation_month  \n",
       "0            0             0            0             0     2020-03-07  \n",
       "1            0             0            0             0     2020-02-03  "
      ]
     },
     "execution_count": 485,
     "metadata": {},
     "output_type": "execute_result"
    }
   ],
   "source": [
    "df2.head(2)"
   ]
  },
  {
   "cell_type": "code",
   "execution_count": null,
   "id": "b5eef505",
   "metadata": {},
   "outputs": [],
   "source": []
  },
  {
   "cell_type": "code",
   "execution_count": null,
   "id": "89b45f8f",
   "metadata": {},
   "outputs": [],
   "source": []
  },
  {
   "cell_type": "code",
   "execution_count": null,
   "id": "398d8d2f",
   "metadata": {},
   "outputs": [],
   "source": []
  },
  {
   "cell_type": "code",
   "execution_count": null,
   "id": "94def618",
   "metadata": {},
   "outputs": [],
   "source": []
  },
  {
   "cell_type": "code",
   "execution_count": null,
   "id": "653e969e",
   "metadata": {},
   "outputs": [],
   "source": []
  }
 ],
 "metadata": {
  "kernelspec": {
   "display_name": "Python 3 (ipykernel)",
   "language": "python",
   "name": "python3"
  },
  "language_info": {
   "codemirror_mode": {
    "name": "ipython",
    "version": 3
   },
   "file_extension": ".py",
   "mimetype": "text/x-python",
   "name": "python",
   "nbconvert_exporter": "python",
   "pygments_lexer": "ipython3",
   "version": "3.11.2"
  }
 },
 "nbformat": 4,
 "nbformat_minor": 5
}
